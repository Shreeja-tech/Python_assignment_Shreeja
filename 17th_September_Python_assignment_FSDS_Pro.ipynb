{
 "cells": [
  {
   "cell_type": "code",
   "execution_count": 1,
   "id": "d0436053-a7e5-4850-8e85-397c24b33367",
   "metadata": {},
   "outputs": [
    {
     "name": "stdout",
     "output_type": "stream",
     "text": [
      "1\n",
      "2\n",
      "3\n",
      "4\n",
      "5\n",
      "6\n",
      "7\n",
      "8\n",
      "9\n",
      "10\n"
     ]
    }
   ],
   "source": [
    "## Write a program to print numbers from 1 to 10 using for loop\n",
    "\n",
    "for i in range(1,11):\n",
    "    print(i,end='\\n')\n",
    "    "
   ]
  },
  {
   "cell_type": "markdown",
   "id": "f2acba0f-b619-4f6a-b14b-06e626aa07f0",
   "metadata": {},
   "source": [
    "2) Explain the difference between a For loop and While loop.\n",
    "\n",
    "Ans: For loop - In a for loop we can specify initials with a specific interval. The for loop checks if these mentioned three conditions a true and then only executes .\n",
    "  \n",
    "  for i in range(5):  # Initializes i to 0, iterates while i < 5, and increments i by 1 in each iteration.\n",
    "    print(i)\n",
    "   \n",
    "   While loop - It checks only one condition mentioned in bracket and then only executes\n",
    "   \n",
    "   i = 0\n",
    "while i < 5:  # Continues as long as i is less than 5.\n",
    "    print(i)\n",
    "    i += 1"
   ]
  },
  {
   "cell_type": "code",
   "execution_count": 2,
   "id": "449e0159-14dc-4160-96a3-0dc10c0ae8d1",
   "metadata": {},
   "outputs": [
    {
     "name": "stdout",
     "output_type": "stream",
     "text": [
      "The sum of numbers form 1 to 100:  5050\n"
     ]
    }
   ],
   "source": [
    "## Write a python program to compute the sum of numbers from 1 to 100 using a for loop\n",
    "\n",
    "sum_num = 0\n",
    "\n",
    "for i in range(1,101):\n",
    "    sum_num +=i\n",
    "    \n",
    "    \n",
    "print(\"The sum of numbers form 1 to 100: \",sum_num)"
   ]
  },
  {
   "cell_type": "code",
   "execution_count": 3,
   "id": "dfc09d0a-46ea-416d-8718-2e8252232871",
   "metadata": {},
   "outputs": [
    {
     "name": "stdout",
     "output_type": "stream",
     "text": [
      "1\n",
      "2\n",
      "3\n",
      "4\n",
      "5\n"
     ]
    }
   ],
   "source": [
    "#4) How do you iterate through a list using a for loop in Python? \n",
    "\n",
    "\n",
    "#\n",
    "#Ans : For example :\n",
    "\n",
    "\n",
    "my_list = [1, 2, 3, 4, 5]\n",
    "\n",
    "for item in my_list:\n",
    "    # Code to be executed for each item in the list\n",
    "    print(item)\n",
    "    \n",
    "## Here item is the iterator of the for loop which parses each element of the list\n",
    "##one by one until it reaches the last index of the list . Each time the iterator item parses an element,\n",
    "## the below method is executed until the condition holds true that is  till the last element of thhe my_list.\n",
    "\n",
    "\n",
    "\n"
   ]
  },
  {
   "cell_type": "code",
   "execution_count": 4,
   "id": "2a09aa80-6653-4925-8ac0-1f15e6769ed1",
   "metadata": {},
   "outputs": [
    {
     "name": "stdout",
     "output_type": "stream",
     "text": [
      "The product of the numbers in the list:  42172275856128\n"
     ]
    }
   ],
   "source": [
    "##5) Write a Python program to find the product of all elements in a list using a for loop.\n",
    "\n",
    "num_list = [34,23,29,12,34,88,47,29,38]\n",
    "\n",
    "product = 1\n",
    "\n",
    "for i in num_list:\n",
    "    product = product *i\n",
    "\n",
    "print(\"The product of the numbers in the list: \",product)"
   ]
  },
  {
   "cell_type": "code",
   "execution_count": 5,
   "id": "1ff834d8-fc9f-44d1-a753-a1e2c4353429",
   "metadata": {},
   "outputs": [
    {
     "name": "stdout",
     "output_type": "stream",
     "text": [
      "The even number list are:  [2, 4, 6, 8, 10, 12, 14, 16, 18, 20]\n"
     ]
    }
   ],
   "source": [
    "## 6) Create a Python program that prints all even numbers from 1 to 20 using a for loop. \n",
    "\n",
    "even = [ i for i in range(1,21) if i%2 ==0]\n",
    "\n",
    "print(\"The even number list are: \",even)"
   ]
  },
  {
   "cell_type": "code",
   "execution_count": 7,
   "id": "61366eec-19da-4f14-807f-8fe5784c01c5",
   "metadata": {},
   "outputs": [
    {
     "name": "stdin",
     "output_type": "stream",
     "text": [
      "Enter a number to find its factorial:  4\n"
     ]
    },
    {
     "name": "stdout",
     "output_type": "stream",
     "text": [
      "The factorial of the number is:  24\n"
     ]
    }
   ],
   "source": [
    "# 7) Write a Python program that calculates the factorial of a number using a for loop. \n",
    "\n",
    "n = int(input(\"Enter a number to find its factorial: \"))\n",
    "\n",
    "fact = 1\n",
    "\n",
    "for i in range(1,n+1):\n",
    "    fact = fact*i\n",
    "    \n",
    "print(\"The factorial of the number is: \",fact)"
   ]
  },
  {
   "cell_type": "code",
   "execution_count": 8,
   "id": "ca8c9ad8-6e12-4a08-b8ac-ec4915b77d85",
   "metadata": {},
   "outputs": [
    {
     "name": "stdout",
     "output_type": "stream",
     "text": [
      "H\n",
      "e\n",
      "l\n",
      "l\n",
      "o\n",
      ",\n",
      " \n",
      "W\n",
      "o\n",
      "r\n",
      "l\n",
      "d\n",
      "!\n"
     ]
    }
   ],
   "source": [
    "## 8) How can you iterate through the characters of a string using a for loop in Python?\n",
    "\n",
    "## Ans: For example:\n",
    "\n",
    "my_string = \"Hello, World!\"\n",
    "\n",
    "for char in my_string:\n",
    "    # Code to be executed for each character in the string\n",
    "    print(char)\n",
    "    \n",
    "## 1)char is a variable that takes on the value of each character in the string one by one as the loop iterates.\n",
    "## 2) The indented block of code under the for loop is executed for each character in the string. \n",
    "##In this case, it simply prints each character to the console.\n"
   ]
  },
  {
   "cell_type": "code",
   "execution_count": 9,
   "id": "5d846c21-a9a5-42a2-9c2d-58ad35583c00",
   "metadata": {},
   "outputs": [
    {
     "name": "stdout",
     "output_type": "stream",
     "text": [
      "The maximum number of the list:  88\n"
     ]
    }
   ],
   "source": [
    "## 9) Write a Python program to find the largest number in a list using a for loop. \n",
    "\n",
    "num_list = [34,23,29,12,34,88,47,29,38]\n",
    "\n",
    "max_num = 0\n",
    "\n",
    "for i in num_list:\n",
    "    if i>max_num:\n",
    "        max_num = i\n",
    "    elif max_num>i:\n",
    "        continue\n",
    "\n",
    "print(\"The maximum number of the list: \",max_num)\n"
   ]
  },
  {
   "cell_type": "code",
   "execution_count": 12,
   "id": "81621eaf-c50d-4ebe-8d52-342d62a33dc7",
   "metadata": {},
   "outputs": [
    {
     "name": "stdin",
     "output_type": "stream",
     "text": [
      "Enter the number of items for Fibonacci:  13\n"
     ]
    },
    {
     "name": "stdout",
     "output_type": "stream",
     "text": [
      "0, 1, 1, 2, 3, 5, 8, 13, 21, 34, 55, 89, 144, 233, 377, 610\n"
     ]
    }
   ],
   "source": [
    "## 10) Create a Python program that prints the Fibonacci sequence up to a specified limit using a for loop. \n",
    "\n",
    "n = int(input(\"Enter the number of items for Fibonacci: \"))\n",
    "\n",
    "fibo = [0,1]\n",
    "\n",
    "sum_of_fibo = 0\n",
    "for i in range(n+1):\n",
    "    sum_of_fibo = fibo[len(fibo)-1] + fibo[len(fibo)-2]\n",
    "    fibo.append(sum_of_fibo)\n",
    "    \n",
    "\n",
    "print(', '.join(str(i) for i in fibo))\n"
   ]
  },
  {
   "cell_type": "code",
   "execution_count": 14,
   "id": "afee0560-3f49-4f75-a34c-e49a18a32769",
   "metadata": {},
   "outputs": [
    {
     "name": "stdin",
     "output_type": "stream",
     "text": [
      "Enter a string:  dknwndndkr3oojrjrflfofjefef\n"
     ]
    },
    {
     "name": "stdout",
     "output_type": "stream",
     "text": [
      "The number of vowels in the string are:  5\n"
     ]
    }
   ],
   "source": [
    "## 11) Write a Python program to count the number of vowels in a given string using a for loop. \n",
    "\n",
    "string = input(\"Enter a string: \")\n",
    "\n",
    "count = 0\n",
    "for v in string:\n",
    "    if v in 'aeiouAEIOU':\n",
    "        count +=1\n",
    "        \n",
    "print(\"The number of vowels in the string are: \",count)"
   ]
  },
  {
   "cell_type": "code",
   "execution_count": 15,
   "id": "3c38931a-11d0-4428-8be3-182e49d199be",
   "metadata": {},
   "outputs": [
    {
     "name": "stdin",
     "output_type": "stream",
     "text": [
      "Enter a number to generate multiplication table:  8\n"
     ]
    },
    {
     "name": "stdout",
     "output_type": "stream",
     "text": [
      "8*1= 8\n",
      "8*2= 16\n",
      "8*3= 24\n",
      "8*4= 32\n",
      "8*5= 40\n",
      "8*6= 48\n",
      "8*7= 56\n",
      "8*8= 64\n",
      "8*9= 72\n",
      "8*10= 80\n"
     ]
    }
   ],
   "source": [
    "## 12)Create a Python program that generates a multiplication table for a given number using a for loop. \n",
    "\n",
    "n = int(input(\"Enter a number to generate multiplication table: \"))\n",
    "\n",
    "for i in range(1,11):\n",
    "    print(str(n) +'*'+str(i)+'= '+str(n*i))                        \n",
    "    "
   ]
  },
  {
   "cell_type": "code",
   "execution_count": 17,
   "id": "0edf73e7-ef95-43c4-ab94-487ecedc341b",
   "metadata": {},
   "outputs": [
    {
     "name": "stdout",
     "output_type": "stream",
     "text": [
      "[38, 29, 47, 88, 34, 12, 29, 23, 34, 38]\n"
     ]
    }
   ],
   "source": [
    "## 13)Write a Python program to reverse a list using a for loop. \n",
    "\n",
    "list_input = [34,23,29,12,34,88,47,29,38]\n",
    "\n",
    "new_list = [list_input[len(list_input)-1-i] for i in range(len(list_input)+1)]\n",
    "\n",
    "print(new_list)"
   ]
  },
  {
   "cell_type": "code",
   "execution_count": 19,
   "id": "b4efa9a6-2192-4776-8f67-6dbd4e901684",
   "metadata": {},
   "outputs": [
    {
     "name": "stdout",
     "output_type": "stream",
     "text": [
      "5 "
     ]
    }
   ],
   "source": [
    "# 14)Write a Python program to find the common elements between two lists using a for loop. \n",
    "\n",
    "list1 = [1, 2, 3, 4, 5] \n",
    "list2 = [5, 6, 7, 8, 9]\n",
    "\n",
    "for i in list1:\n",
    "    if i in list2:\n",
    "        print(i,end=' ')"
   ]
  },
  {
   "cell_type": "code",
   "execution_count": 20,
   "id": "4a2fec30-e6d7-4ff0-b837-6458ab101528",
   "metadata": {},
   "outputs": [
    {
     "name": "stdout",
     "output_type": "stream",
     "text": [
      "color -> blue\n",
      "fruit -> apple\n",
      "pet -> dog\n"
     ]
    }
   ],
   "source": [
    "# 15) Explain how to use a for loop to iterate through the keys and values of a dictionary in Python. \n",
    "\n",
    "## Ans: We can iterate over through the key value pairs in the dictionary by using the .item() method\n",
    "#        in the for loop over the dictionary\n",
    "#      \n",
    "\n",
    "likes = {\"color\": \"blue\", \"fruit\": \"apple\", \"pet\": \"dog\"}\n",
    "\n",
    "for key, value in likes.items():\n",
    "      print(key, \"->\", value)\n",
    "   \n",
    " ## Here key is the iterator for the key items in the likes dictionary and value is the iterator for the value items\n",
    " # for the dictionary. For each key its corresponding value is iterated over in the likes.\n",
    "        \n"
   ]
  },
  {
   "cell_type": "code",
   "execution_count": 5,
   "id": "799e716a-d312-4a01-ae46-53ef6a276c47",
   "metadata": {},
   "outputs": [
    {
     "name": "stdin",
     "output_type": "stream",
     "text": [
      "Enter no.1:  60\n",
      "Enter no.2:  48\n"
     ]
    },
    {
     "name": "stdout",
     "output_type": "stream",
     "text": [
      "GCD:  12\n"
     ]
    }
   ],
   "source": [
    "## 16) Write a Python program to find the GCD (Greatest Common Divisor) of two numbers using a for loop. \n",
    "\n",
    "n1 = int(input(\"Enter no.1: \"))\n",
    "n2 = int(input(\"Enter no.2: \"))\n",
    "\n",
    "GCD = 0\n",
    "\n",
    "for i in range(1,(n1+n2)//2):\n",
    "    if n1%i ==0 and n2%i ==0:\n",
    "        GCD=i\n",
    "        \n",
    "print(\"GCD: \",GCD)"
   ]
  },
  {
   "cell_type": "code",
   "execution_count": 6,
   "id": "424617c3-8f1b-4c57-ad4e-f15d47ea32fd",
   "metadata": {},
   "outputs": [
    {
     "name": "stdout",
     "output_type": "stream",
     "text": [
      "The list without duplicates is:  [34, 23, 29, 12, 88, 47, 38]\n"
     ]
    }
   ],
   "source": [
    "## 17) Create a program to remove duplicates from a list\n",
    "\n",
    "give_list = [34,23,29,12,34,88,47,29,38]\n",
    "\n",
    "sorted_list = []\n",
    "\n",
    "for i in give_list:\n",
    "    if i not in sorted_list:\n",
    "        sorted_list.append(i)\n",
    "\n",
    "print(\"The list without duplicates is: \",sorted_list)"
   ]
  },
  {
   "cell_type": "code",
   "execution_count": 7,
   "id": "60008b47-42ce-488b-9582-5c18edabf160",
   "metadata": {},
   "outputs": [
    {
     "name": "stdin",
     "output_type": "stream",
     "text": [
      "Enter a sentence:  yfyhfhf ggugug ugutgug ugutgug uituiy\n"
     ]
    },
    {
     "name": "stdout",
     "output_type": "stream",
     "text": [
      "The number of words in the list:  5\n"
     ]
    }
   ],
   "source": [
    "## 19) Create a Python program that counts the number of words in a sentence using a for loop. \n",
    "\n",
    "sentence = input(\"Enter a sentence: \")\n",
    "\n",
    "list_sentence = list(sentence.split(' '))\n",
    "\n",
    "print(\"The number of words in the list: \",len(list_sentence))"
   ]
  },
  {
   "cell_type": "code",
   "execution_count": 9,
   "id": "40318be3-fa79-43a9-93bb-31f30f0b9f2c",
   "metadata": {},
   "outputs": [
    {
     "name": "stdout",
     "output_type": "stream",
     "text": [
      "The sum of the odd numbers from 1-50:  624\n"
     ]
    }
   ],
   "source": [
    "# 20) Write a Python program to find the sum of all odd numbers from 1 to 50 using a for loop. \n",
    "\n",
    "odd_sum = 0\n",
    "\n",
    "for i in range(2,51):\n",
    "    if i%2 !=0:\n",
    "        odd_sum +=i\n",
    "        \n",
    "print(\"The sum of the odd numbers from 1-50: \",odd_sum)\n"
   ]
  },
  {
   "cell_type": "code",
   "execution_count": 10,
   "id": "0e6b522e-0350-4bdc-b02f-2527cdee05ac",
   "metadata": {},
   "outputs": [
    {
     "name": "stdin",
     "output_type": "stream",
     "text": [
      "Enter year to be checked:  2020\n"
     ]
    },
    {
     "name": "stdout",
     "output_type": "stream",
     "text": [
      "2020 is a leap year.\n"
     ]
    }
   ],
   "source": [
    "# 21)Write a Python program that checks if a given year is a leap year using a for loop. \n",
    "\n",
    "year=int(input(\"Enter year to be checked: \"))\n",
    "\n",
    "def is_leap_year(year):\n",
    "    if (year % 4 == 0 and year % 100 != 0) or (year % 400 == 0):\n",
    "        return True\n",
    "    else:\n",
    "        return False\n",
    "\n",
    "if is_leap_year(year):\n",
    "    print(f\"{year} is a leap year.\")\n",
    "else:\n",
    "    print(f\"{year} is not a leap year.\")\n",
    "\n",
    "    \n",
    "    \n"
   ]
  },
  {
   "cell_type": "code",
   "execution_count": 3,
   "id": "a1ef020a-1c32-4aac-8cee-19836e8b7107",
   "metadata": {},
   "outputs": [
    {
     "name": "stdin",
     "output_type": "stream",
     "text": [
      "Enter a number:  6\n"
     ]
    },
    {
     "name": "stdout",
     "output_type": "stream",
     "text": [
      "The square root of the number is:  2.449489742783178\n"
     ]
    }
   ],
   "source": [
    "## 22) Create a Python program that calculates the square root of a number using a for loop. \n",
    "\n",
    "num = int(input(\"Enter a number: \"))\n",
    "\n",
    "if (num>0):\n",
    "    root = num**0.5\n",
    "\n",
    "print(\"The square root of the number is: \",root)"
   ]
  },
  {
   "cell_type": "code",
   "execution_count": 6,
   "id": "26baa3c5-6e09-4818-9540-9d336d0f057a",
   "metadata": {},
   "outputs": [
    {
     "name": "stdin",
     "output_type": "stream",
     "text": [
      "Enter number1:  12\n",
      "Enter number2:  14\n"
     ]
    },
    {
     "name": "stdout",
     "output_type": "stream",
     "text": [
      "The LCM of 12 and 14:  84\n"
     ]
    }
   ],
   "source": [
    "## Write a Python program to find the LCM (Least Common Multiple) of two numbers using a for loop. \n",
    "\n",
    "num1 = int(input(\"Enter number1: \"))\n",
    "num2 = int(input(\"Enter number2: \"))\n",
    "\n",
    "multiple1 = [i*num1 for i in range(2,11)]\n",
    "multiple2 = [i*num2 for i in range(2,11)]\n",
    "\n",
    "lcm = 0\n",
    "for j in multiple1:\n",
    "    for k in multiple2:\n",
    "        if j==k:\n",
    "            lcm = j\n",
    "            break\n",
    "        \n",
    "print(f\"The LCM of {num1} and {num2}: \",lcm) "
   ]
  },
  {
   "cell_type": "markdown",
   "id": "899661ec-7b2f-48cb-8429-3267ba9e6d8b",
   "metadata": {},
   "source": [
    "# If -Else\n"
   ]
  },
  {
   "cell_type": "code",
   "execution_count": 7,
   "id": "610c5bf9-94b2-4c7c-85a9-8d8116a23c51",
   "metadata": {},
   "outputs": [
    {
     "name": "stdin",
     "output_type": "stream",
     "text": [
      "Enter a number positive or negative:  -886\n"
     ]
    },
    {
     "name": "stdout",
     "output_type": "stream",
     "text": [
      "-886 is negative\n"
     ]
    }
   ],
   "source": [
    "# 1) Write a Python program to check if a number is positive, negative, or zero using an if-else statement. \n",
    "\n",
    "num = int(input(\"Enter a number positive or negative: \"))\n",
    "\n",
    "if num<0:\n",
    "    print(f\"{num} is negative\")\n",
    "elif num ==0:\n",
    "    print(\"The number is zero\")\n",
    "else:\n",
    "    print(f\"{num} is positive\")"
   ]
  },
  {
   "cell_type": "code",
   "execution_count": 8,
   "id": "4f58afef-8d17-40b3-81f6-304dfc6c7705",
   "metadata": {},
   "outputs": [
    {
     "name": "stdin",
     "output_type": "stream",
     "text": [
      "Enter a number 444444444444444\n"
     ]
    },
    {
     "name": "stdout",
     "output_type": "stream",
     "text": [
      "444444444444444 is even\n"
     ]
    }
   ],
   "source": [
    "# 2) Create a Python program that checks if a given number is even or odd using an if-else statement.\n",
    "\n",
    "num = int(input(\"Enter a number\"))\n",
    "\n",
    "if num>0:\n",
    "    if num%2 == 0:\n",
    "        print(f\"{num} is even\")\n",
    "    else:\n",
    "        print(f\"{num} is odd\")\n",
    "else:\n",
    "    print(f\"{num} is a negative number\")\n",
    "\n"
   ]
  },
  {
   "cell_type": "code",
   "execution_count": 10,
   "id": "4fba62ef-ebee-4397-96d5-eb16d122a907",
   "metadata": {},
   "outputs": [
    {
     "name": "stdin",
     "output_type": "stream",
     "text": [
      "Enter your age:  67\n"
     ]
    },
    {
     "name": "stdout",
     "output_type": "stream",
     "text": [
      "You are a senior citizen\n"
     ]
    }
   ],
   "source": [
    "# 3) How can you use nested if-else statements in Python, and provide an example? \n",
    "\n",
    "## Ans: Nested if else checks a condition if it is true or not and only if the condition is true,\n",
    "## it checks another condition against it \n",
    "\n",
    "# For example :\n",
    "# Identification of child, adult and senior citizen\n",
    "\n",
    "age = int(input(\"Enter your age: \"))\n",
    "\n",
    "# Nested if-else statements to determine eligibility\n",
    "if age >= 18:\n",
    "    if age>= 60:\n",
    "        print(\"You are a senior citizen\")\n",
    "    else:\n",
    "        print(\"You're an adult\")\n",
    "else:\n",
    "    print(\"You're a child.\")\n"
   ]
  },
  {
   "cell_type": "code",
   "execution_count": 1,
   "id": "22cd669b-2275-44b5-80a9-9537ef0024a6",
   "metadata": {},
   "outputs": [
    {
     "name": "stdin",
     "output_type": "stream",
     "text": [
      "Enter number1:  3\n",
      "Enter number2:  5\n",
      "Enter number3:  8\n"
     ]
    },
    {
     "name": "stdout",
     "output_type": "stream",
     "text": [
      "The max of three numbers is:  8\n"
     ]
    }
   ],
   "source": [
    "#4) Write a Python program to determine the largest of three numbers using if-else. \n",
    "\n",
    "num1 = int(input(\"Enter number1: \"))\n",
    "num2 = int(input(\"Enter number2: \"))\n",
    "num3 = int(input(\"Enter number3: \"))\n",
    "\n",
    "max_num = 0\n",
    "\n",
    "if num1>num2:\n",
    "    if num1>num3:\n",
    "        max_num = num1\n",
    "    elif num3>num1:\n",
    "        max_num = num3\n",
    "elif num2>num1:\n",
    "    if num2>num3:\n",
    "        max_num=num2\n",
    "    else:\n",
    "        max_num = num3\n",
    "\n",
    "print(\"The max of three numbers is: \",max_num)\n",
    "    "
   ]
  },
  {
   "cell_type": "code",
   "execution_count": 2,
   "id": "887ffc4a-22e1-4f47-b600-0247c54a961b",
   "metadata": {},
   "outputs": [
    {
     "name": "stdin",
     "output_type": "stream",
     "text": [
      "Enter a number +ve/-ve:  -37\n"
     ]
    },
    {
     "name": "stdout",
     "output_type": "stream",
     "text": [
      "The absolute value of the number is:  37.0\n"
     ]
    }
   ],
   "source": [
    "# 5) Write a Python program that calculates the absolute value of a number using if-else. \n",
    "\n",
    "num = int(input(\"Enter a number +ve/-ve: \"))\n",
    "\n",
    "abs_value = ((num**2)**0.5)\n",
    "\n",
    "print(\"The absolute value of the number is: \",abs_value)"
   ]
  },
  {
   "cell_type": "code",
   "execution_count": 3,
   "id": "15aaf107-2709-44af-8a0b-d7f84dec172d",
   "metadata": {},
   "outputs": [
    {
     "name": "stdin",
     "output_type": "stream",
     "text": [
      "Enter an alphabet:  j\n"
     ]
    },
    {
     "name": "stdout",
     "output_type": "stream",
     "text": [
      "j is a consonant\n"
     ]
    }
   ],
   "source": [
    "# 6)Create a Python program that checks if a given character is a vowel or consonant using if-else. \n",
    "\n",
    "char = input(\"Enter an alphabet: \")\n",
    "\n",
    "vowel = 'aeiouAEIOU'\n",
    "\n",
    "if char in vowel:\n",
    "    print(f'{char} is a vowel')\n",
    "else:\n",
    "    print(f'{char} is a consonant')\n",
    "    \n",
    "    "
   ]
  },
  {
   "cell_type": "code",
   "execution_count": 5,
   "id": "c5be361e-3cb5-4d3d-af41-2b11d39d8282",
   "metadata": {},
   "outputs": [
    {
     "name": "stdin",
     "output_type": "stream",
     "text": [
      "Enter your age:  8\n"
     ]
    },
    {
     "name": "stdout",
     "output_type": "stream",
     "text": [
      "You're not eligible to vote\n"
     ]
    }
   ],
   "source": [
    "# 7)Write a Python program to determine if a user is eligible to vote based on their age using if-else. \n",
    "\n",
    "age = int(input(\"Enter your age: \"))\n",
    "\n",
    "if age>0:\n",
    "    if age>=18:\n",
    "         print(\"You're eligible to vote\")\n",
    "    else:\n",
    "        print(\"You're not eligible to vote\")\n",
    "else:\n",
    "    print(\"Invalid age\")\n",
    "    \n"
   ]
  },
  {
   "cell_type": "code",
   "execution_count": 11,
   "id": "879d4ef4-864d-4abe-a388-468d283d3685",
   "metadata": {},
   "outputs": [
    {
     "name": "stdin",
     "output_type": "stream",
     "text": [
      "Enter the amount of the product:  600\n",
      "Enter the discount percentage:  20\n"
     ]
    },
    {
     "name": "stdout",
     "output_type": "stream",
     "text": [
      "The amount after discount:  480.0\n"
     ]
    }
   ],
   "source": [
    "#8) Create a Python program that calculates the discount amount based on the purchase amount using if-else. \n",
    "\n",
    "amount = int(input(\"Enter the amount of the product: \"))\n",
    "\n",
    "\n",
    "if amount>=500:\n",
    "        discount = int(input(\"Enter the discount percentage: \"))\n",
    "        discount_amount = amount*(discount/100)\n",
    "        purchase_amount = amount - discount_amount\n",
    "        print(\"The amount after discount: \",purchase_amount)\n",
    "        \n",
    "else:\n",
    "    print(\"Sorry :( Discount not applicable.. Purchase something above 500\")\n",
    "\n",
    "\n",
    "\n",
    "\n"
   ]
  },
  {
   "cell_type": "code",
   "execution_count": 13,
   "id": "ee06fa2c-243f-4e6d-a1c7-02202ffacd30",
   "metadata": {},
   "outputs": [
    {
     "name": "stdin",
     "output_type": "stream",
     "text": [
      "Enter starting value:  30\n",
      "Enter ending value:  100\n",
      "Enter a number:  3\n"
     ]
    },
    {
     "name": "stdout",
     "output_type": "stream",
     "text": [
      "3 is not in range\n"
     ]
    }
   ],
   "source": [
    "#9) Write a Python program to check if a number is within a specified range using if-else. \n",
    "\n",
    "start = int(input(\"Enter starting value: \"))\n",
    "end = int(input(\"Enter ending value: \"))\n",
    "\n",
    "num = int(input(\"Enter a number: \"))\n",
    "\n",
    "if num in range(start,end):\n",
    "    print(f'{num} in range')\n",
    "else:\n",
    "    print(f'{num} is not in range')\n",
    "    \n",
    "    "
   ]
  },
  {
   "cell_type": "code",
   "execution_count": 15,
   "id": "0cbd0b2d-c80f-4138-af91-5295732b7e64",
   "metadata": {},
   "outputs": [
    {
     "name": "stdin",
     "output_type": "stream",
     "text": [
      "Enter the score of a subject:  55\n"
     ]
    },
    {
     "name": "stdout",
     "output_type": "stream",
     "text": [
      "C grade\n"
     ]
    }
   ],
   "source": [
    "#10) Create a Python program that determines the grade of a student based on their score using if-else. \n",
    "\n",
    "score = int(input(\"Enter the score of a subject: \"))\n",
    "\n",
    "if score>=90:\n",
    "    print('O grade')\n",
    "elif score>=80:\n",
    "    print('E grade')\n",
    "elif score>=70:\n",
    "    print('A grade')\n",
    "elif score>=60:\n",
    "    print('B grade')\n",
    "elif score>=50:\n",
    "    print('C grade')\n",
    "else:\n",
    "    print('Failed')\n",
    "    \n",
    "\n"
   ]
  },
  {
   "cell_type": "code",
   "execution_count": 16,
   "id": "8b81fe28-f9a5-4cbd-8bcc-cb7c7852f1ba",
   "metadata": {},
   "outputs": [
    {
     "name": "stdin",
     "output_type": "stream",
     "text": [
      "Enter a string:  \n"
     ]
    },
    {
     "name": "stdout",
     "output_type": "stream",
     "text": [
      "The string is empty\n"
     ]
    }
   ],
   "source": [
    "#11) Write a Python program to check if a string is empty or not using if-else. \n",
    "\n",
    "string = input(\"Enter a string: \")\n",
    "\n",
    "if string  == '':\n",
    "    print(\"The string is empty\")\n",
    "else:\n",
    "    print(\"The string is not empty\")"
   ]
  },
  {
   "cell_type": "code",
   "execution_count": 17,
   "id": "844f0e1b-e772-4126-9988-80ac5b3f9fae",
   "metadata": {},
   "outputs": [
    {
     "name": "stdin",
     "output_type": "stream",
     "text": [
      "Enter the length of the first side:  5\n",
      "Enter the length of the second side:  5\n",
      "Enter the length of the third side:  5\n"
     ]
    },
    {
     "name": "stdout",
     "output_type": "stream",
     "text": [
      "This is a Equilateral triangle.\n"
     ]
    }
   ],
   "source": [
    "#12) Create a Python program that identifies the type of a triangle (e.g., equilateral, isosceles, or scalene) based on input values using if-else. \n",
    "\n",
    "\n",
    "side1 = int(input(\"Enter the length of the first side: \"))\n",
    "side2 = int(input(\"Enter the length of the second side: \"))\n",
    "side3 = int(input(\"Enter the length of the third side: \"))\n",
    "\n",
    "if side1 == side2 == side3:\n",
    "    triangle_type = \"Equilateral\"\n",
    "elif side1 == side2 or side1 == side3 or side2 == side3:\n",
    "    triangle_type = \"Isosceles\"\n",
    "else:\n",
    "    triangle_type = \"Scalene\"\n",
    "\n",
    "print(f\"This is a {triangle_type} triangle.\")\n"
   ]
  },
  {
   "cell_type": "code",
   "execution_count": 18,
   "id": "eb2d6349-b9eb-4de1-8fa7-dd051b61c5d3",
   "metadata": {},
   "outputs": [
    {
     "name": "stdin",
     "output_type": "stream",
     "text": [
      "Enter a number (1-7) representing the day of the week:  6\n"
     ]
    },
    {
     "name": "stdout",
     "output_type": "stream",
     "text": [
      "The day corresponding to 6 is Friday.\n"
     ]
    }
   ],
   "source": [
    "#13) Write a Python program to determine the day of the week based on a user-provided number using if-else. \n",
    "\n",
    "day_number = int(input(\"Enter a number (1-7) representing the day of the week: \"))\n",
    "\n",
    "if day_number == 1:\n",
    "    day_name = \"Sunday\"\n",
    "elif day_number == 2:\n",
    "    day_name = \"Monday\"\n",
    "elif day_number == 3:\n",
    "    day_name = \"Tuesday\"\n",
    "elif day_number == 4:\n",
    "    day_name = \"Wednesday\"\n",
    "elif day_number == 5:\n",
    "    day_name = \"Thursday\"\n",
    "elif day_number == 6:\n",
    "    day_name = \"Friday\"\n",
    "elif day_number == 7:\n",
    "    day_name = \"Saturday\"\n",
    "else:\n",
    "    day_name = \"Invalid input (Please enter a number from 1 to 7)\"\n",
    "\n",
    "print(f\"The day corresponding to {day_number} is {day_name}.\")\n"
   ]
  },
  {
   "cell_type": "code",
   "execution_count": 21,
   "id": "5f4d5167-2061-465c-9943-bdb9e2a094f1",
   "metadata": {},
   "outputs": [
    {
     "name": "stdin",
     "output_type": "stream",
     "text": [
      "Enter the year:  2012\n"
     ]
    },
    {
     "name": "stdout",
     "output_type": "stream",
     "text": [
      "2012 is leap year\n"
     ]
    }
   ],
   "source": [
    "#14) Create a Python program that checks if a given year is a leap year using both if-else and a function. \n",
    "\n",
    "year = int(input(\"Enter the year: \"))\n",
    "\n",
    "if (year%4==0 and year%100!=0) or year%400==0:\n",
    "    print(f'{year} is leap year')\n",
    "elif year%4 !=0 and year%100==0:\n",
    "    print(f'{year} is centenary')\n",
    "else:\n",
    "    print(f'{year} is neither leap nor centenary')"
   ]
  },
  {
   "cell_type": "raw",
   "id": "d7c95780-6973-467c-a25d-967550f2abdb",
   "metadata": {},
   "source": [
    "# 15) How do you use the \"assert\" statement in Python to add debugging checks within if-else blocks? \n",
    "\n",
    "Ans: \n",
    "In Python, the assert statement is used to add debugging checks within your code to verify that a certain condition is True. If the condition is False, the assert statement raises an AssertionError exception, which can be used for debugging and error detection during development.\n",
    "\n",
    "Syntax:\n",
    "\n",
    "if condition1==True:\n",
    "    assert condition2,\"Statement to print if condition 2 is false\"\n",
    "    print(\"Condition1 and condition2 both are true\")\n",
    "else:\n",
    " print(\"Condition1 is False\")\n"
   ]
  },
  {
   "cell_type": "code",
   "execution_count": 22,
   "id": "35987913-ba68-4985-bff9-52799fab1dba",
   "metadata": {},
   "outputs": [
    {
     "name": "stdin",
     "output_type": "stream",
     "text": [
      "Enter the age of the person:  30\n"
     ]
    },
    {
     "name": "stdout",
     "output_type": "stream",
     "text": [
      "The person is not senior citizen\n"
     ]
    }
   ],
   "source": [
    "#16) Create a Python program that determines the eligibility of a person for a senior citizen discount based on age using if-else. \n",
    "\n",
    "age = int(input(\"Enter the age of the person: \"))\n",
    "\n",
    "if age>= 60:\n",
    "    print(\"The person is eligible for senior citizen discount\")\n",
    "else:\n",
    "    print(\"The person is not senior citizen\")"
   ]
  },
  {
   "cell_type": "code",
   "execution_count": 23,
   "id": "56c53f5f-aca5-4316-bb5f-7854e178b919",
   "metadata": {},
   "outputs": [
    {
     "name": "stdin",
     "output_type": "stream",
     "text": [
      "Enter a character upper/lower:  e\n"
     ]
    },
    {
     "name": "stdout",
     "output_type": "stream",
     "text": [
      "Lowercase\n"
     ]
    }
   ],
   "source": [
    "#17) Write a Python program to categorize a given character as uppercase, lowercase, or neither using if-else. \n",
    "\n",
    "char = input('Enter a character upper/lower: ')\n",
    "\n",
    "if char.isupper():\n",
    "    print(\"Uppercase\")\n",
    "else:\n",
    "    print(\"Lowercase\")\n",
    "\n",
    "    "
   ]
  },
  {
   "cell_type": "code",
   "execution_count": 25,
   "id": "b38cec12-eaaf-496e-9c00-1bd3d644c83b",
   "metadata": {},
   "outputs": [
    {
     "name": "stdin",
     "output_type": "stream",
     "text": [
      "Enter coefficient a:  7\n",
      "Enter coefficient b:  5\n",
      "Enter coefficient c:  9\n"
     ]
    },
    {
     "name": "stdout",
     "output_type": "stream",
     "text": [
      "The roots are complex: -0.35714285714285715 + 1.076179940951383i and -0.35714285714285715 - 1.076179940951383i\n"
     ]
    }
   ],
   "source": [
    "#18) Write a Python program to determine the roots of a quadratic equation using if-else. \n",
    "\n",
    "\n",
    "a = float(input(\"Enter coefficient a: \"))\n",
    "b = float(input(\"Enter coefficient b: \"))\n",
    "c = float(input(\"Enter coefficient c: \"))\n",
    "\n",
    "\n",
    "discriminant = b ** 2 - 4 * a * c\n",
    "\n",
    "if discriminant > 0:\n",
    "    root1 = (-b + (discriminant ** 0.5)) / (2 * a)\n",
    "    root2 = (-b - (discriminant ** 0.5)) / (2 * a)\n",
    "    print(f\"The roots are : {root1} and {root2}\")\n",
    "elif discriminant == 0:\n",
    "    root = -b / (2 * a)\n",
    "    print(f\"There is one real and repeated root: {root}\")\n",
    "else:\n",
    "    real_part = -b / (2 * a)\n",
    "    imaginary_part = (abs(discriminant) ** 0.5) / (2 * a)\n",
    "    print(f\"The roots are complex: {real_part} + {imaginary_part}i and {real_part} - {imaginary_part}i\")\n"
   ]
  },
  {
   "cell_type": "code",
   "execution_count": 27,
   "id": "b32dd2e7-d57a-4c65-bbfb-d89f7f3c4240",
   "metadata": {},
   "outputs": [
    {
     "name": "stdin",
     "output_type": "stream",
     "text": [
      "Enter a year:  2020\n"
     ]
    },
    {
     "name": "stdout",
     "output_type": "stream",
     "text": [
      "2020 is not a century year.\n"
     ]
    }
   ],
   "source": [
    "#19) Create a Python program that checks if a given year is a century year or not using if-else. \n",
    "\n",
    "year = int(input(\"Enter a year: \"))\n",
    "\n",
    "if year % 100 == 0:\n",
    "    print(f\"{year} is a century year.\")\n",
    "else:\n",
    "    print(f\"{year} is not a century year.\")\n"
   ]
  },
  {
   "cell_type": "code",
   "execution_count": 6,
   "id": "b0093c82-0b3f-42d6-b16e-eb8c23737f02",
   "metadata": {},
   "outputs": [
    {
     "name": "stdin",
     "output_type": "stream",
     "text": [
      "Enter a number 25\n"
     ]
    },
    {
     "name": "stdout",
     "output_type": "stream",
     "text": [
      "25 is a perfect square\n"
     ]
    }
   ],
   "source": [
    "#20) Write a Python program to determine if a given number is a perfect square using if-else. \n",
    "\n",
    "num = int(input(\"Enter a number\"))\n",
    "\n",
    "root = num**0.5\n",
    "\n",
    "if round(root)>root:\n",
    "    print(f\"{num} is not a perfect square\")\n",
    "elif round(root)<root:\n",
    "    print(f\"{num} is not a perfect square\")\n",
    "elif num<=0:\n",
    "    print(\"Please enter a positiove integer >0\")\n",
    "elif round(root)==root:\n",
    "    print(f\"{num} is a perfect square\")\n",
    "    \n"
   ]
  },
  {
   "cell_type": "raw",
   "id": "f8826aac-b105-447d-aeff-673f36d9389f",
   "metadata": {},
   "source": [
    "# 21) Explain the purpose of the \"continue\" and \"break\" statements within if-else loops. \n",
    "\n",
    "Ans: The continue and break statements are control flow statements which modifies the flow of execution \n",
    "     of the loop according to a condition.\n",
    "     \n",
    "     Continue :The \"continue\" statement is used to skip the current iteration of a loop and move to the next                      iteration without executing the remaining code inside the loop for the current iteration.\n",
    "     \n",
    "     Break :The \"break\" statement is used to exit the current loop prematurely, regardless of whether the loop's               condition is still met based on the other condition or without condition present inside the loop.\n",
    "     \n",
    "     "
   ]
  },
  {
   "cell_type": "code",
   "execution_count": 7,
   "id": "6474bb79-2d46-4b75-8d71-11b865cf06e0",
   "metadata": {},
   "outputs": [
    {
     "name": "stdout",
     "output_type": "stream",
     "text": [
      "1\n",
      "2\n",
      "3\n"
     ]
    }
   ],
   "source": [
    "#Example for break\n",
    "for i in range(1, 6):\n",
    "    if i == 4:\n",
    "        break  # Exit the loop when i is 4\n",
    "    print(i)\n"
   ]
  },
  {
   "cell_type": "code",
   "execution_count": 8,
   "id": "3dff3d1a-0c3c-445a-ab57-772af67c5e2c",
   "metadata": {},
   "outputs": [
    {
     "name": "stdout",
     "output_type": "stream",
     "text": [
      "1\n",
      "2\n",
      "4\n",
      "5\n"
     ]
    }
   ],
   "source": [
    "#Example for continue\n",
    "\n",
    "for i in range(1, 6):\n",
    "    if i == 3:\n",
    "        continue  # Skip iteration when i is 3\n",
    "    print(i)\n"
   ]
  },
  {
   "cell_type": "code",
   "execution_count": 13,
   "id": "ef67688f-f675-47c8-b146-84e83bf7d6d7",
   "metadata": {},
   "outputs": [
    {
     "name": "stdin",
     "output_type": "stream",
     "text": [
      "Enter the height of the person (in meters):  4\n",
      "Enter the weight of the person (in kgs):  55\n"
     ]
    },
    {
     "name": "stdout",
     "output_type": "stream",
     "text": [
      "You're Underweight\n"
     ]
    }
   ],
   "source": [
    "#22) Create a Python program that calculates the BMI (Body Mass Index) of a person based on their weight and height using if-else. \n",
    "\n",
    "height = int(input(\"Enter the height of the person (in meters): \"))\n",
    "weight = int(input(\"Enter the weight of the person (in kgs): \"))\n",
    "\n",
    "BMI = weight//(height**2)\n",
    "\n",
    "if BMI < 18.5:\n",
    "    print(\"You're Underweight\")\n",
    "elif 18.5 <= BMI < 24.9:\n",
    "    print(\"You've Normal Weight\")\n",
    "elif 25.0 <=BMI < 29.9:\n",
    "    print(\"You're Overweight\")\n",
    "else:\n",
    "    print(\"You're Obese\")"
   ]
  },
  {
   "cell_type": "raw",
   "id": "c434f25f-d633-49a4-bd81-e637ecdbd937",
   "metadata": {},
   "source": [
    "# 23) How can you use the \"filter()\" function with if-else statements to filter elements from a list? \n",
    "\n",
    "Ans: The filter function in Pyhton is used to apply a function for each element in a list , which returns the element if the condition in the function holds true .\n",
    "\n",
    "Syntax: filter(function, list)\n",
    "\n"
   ]
  },
  {
   "cell_type": "code",
   "execution_count": 18,
   "id": "cc78841d-76a4-4135-95a8-8fd5212f784d",
   "metadata": {},
   "outputs": [
    {
     "name": "stdout",
     "output_type": "stream",
     "text": [
      "e\n",
      "e\n"
     ]
    }
   ],
   "source": [
    "# function that filters vowels\n",
    "\n",
    "def fun(variable):\n",
    "        letters = ['a', 'e', 'i', 'o', 'u']\n",
    "        if (variable in letters):\n",
    "            return True\n",
    "        else:\n",
    "            return False\n",
    "new_list = ['g', 'e', 'e', 'j', 'k', 's', 'p', 'r']\n",
    "filtered = filter(fun,new_list)\n",
    "\n",
    "for i in filtered:\n",
    "    print(i)"
   ]
  },
  {
   "cell_type": "code",
   "execution_count": 24,
   "id": "b6908bdf-f45a-4e37-bc5e-db9ed233c92c",
   "metadata": {},
   "outputs": [
    {
     "name": "stdin",
     "output_type": "stream",
     "text": [
      "Enter a number:  5\n"
     ]
    },
    {
     "name": "stdout",
     "output_type": "stream",
     "text": [
      "5 is a prime number.\n"
     ]
    }
   ],
   "source": [
    "# 24) Write a Python program to determine if a given number is prime or not using if-else. \n",
    "\n",
    "# Input a number from the user\n",
    "num = int(input(\"Enter a number: \"))\n",
    "\n",
    "# Check if the number is greater than 1\n",
    "if num > 1:\n",
    "    # Check for factors from 2 to the square root of the number\n",
    "    for i in range(2, int(num**0.5) + 1):\n",
    "        if num % i == 0:\n",
    "            print(f\"{num} is not a prime number.\")\n",
    "            break\n",
    "    else:\n",
    "        print(f\"{num} is a prime number.\")\n",
    "else:\n",
    "    print(f\"{num} is not a prime number.\")\n"
   ]
  },
  {
   "cell_type": "markdown",
   "id": "7235c62b-ac8a-4d32-b302-04f08b35d9d8",
   "metadata": {},
   "source": [
    "# Map"
   ]
  },
  {
   "cell_type": "raw",
   "id": "199467a7-76dc-45db-9a16-9b8f8a3051ae",
   "metadata": {},
   "source": [
    "1) Explain the purpose of the `map()` function in Python and provide an example of how it can be used to apply a function to each element of an iterable. \n",
    "\n",
    "Ans. map() function is used to apply a particular function to each iterable values of a data type.\n",
    "\n"
   ]
  },
  {
   "cell_type": "code",
   "execution_count": 2,
   "id": "6fff30e3-4030-42d7-b538-4472819af383",
   "metadata": {},
   "outputs": [
    {
     "name": "stdout",
     "output_type": "stream",
     "text": [
      "[2, 4, 6, 8, 10]\n"
     ]
    }
   ],
   "source": [
    "#Example\n",
    "\n",
    "def double(x):\n",
    "    return x * 2\n",
    "numbers = [1, 2, 3, 4, 5]\n",
    "\n",
    "doubled_numbers = list(map(double,numbers)) \n",
    "# creates a list by applying double function to each iterable element of list numbers by mapping\n",
    "print(doubled_numbers)"
   ]
  },
  {
   "cell_type": "code",
   "execution_count": 1,
   "id": "78d2ed17-a9c0-48b0-b00a-bd7ccbd93c8d",
   "metadata": {},
   "outputs": [
    {
     "name": "stdout",
     "output_type": "stream",
     "text": [
      "[81, 9, 49, 36, 484, 5929, 3136, 2304, 64]\n"
     ]
    }
   ],
   "source": [
    "#2) Write a Python program that uses the `map()` function to square each element of a list of numbers.\n",
    "l = [9,3,7,6,22,77,56,48,8]\n",
    "\n",
    "new_l = list(map(lambda x:x**2,l))\n",
    "print(new_l)"
   ]
  },
  {
   "cell_type": "raw",
   "id": "33b92c93-07ef-4934-ba8d-937f6d9538e8",
   "metadata": {},
   "source": [
    "#3) How does the `map()` function differ from a list comprehension in Python, and when would you choose one over the other? \n",
    "\n",
    "Ans: List comprehension is used to create a list within a specific range using a for loop , with or without giving a condition for the for loop.\n",
    "\n",
    "     Map() function is used to apply a functional condition to each value of an iterable data type, be it tuple, string or function and creates a corresponding data type after applying the functional condition.\n",
    "     \n",
    "     Map() involves defining and calling a separate function most of the times making the code less readable.\n",
    "     List comprehension uses a more compact way in making a list with a given condition.\n",
    "     \n",
    "     Use of Map():\n",
    "     1)When one wants to apply the same function to multiple iterables.\n",
    "     2) One wants to work with a functional programming style.\n",
    "     \n",
    "     Use List Comprehension When:\n",
    "\n",
    "        1) One wants a more readable and concise way to create a new list from an existing one.\n",
    "        2) One wants to filter elements based on conditions.\n",
    "\n",
    "     "
   ]
  },
  {
   "cell_type": "code",
   "execution_count": 2,
   "id": "89bb7431-b660-4d9f-b1fb-e62660af9be1",
   "metadata": {},
   "outputs": [
    {
     "name": "stdout",
     "output_type": "stream",
     "text": [
      "The names in upper case:  ['SAMANTHA', 'ISABELLE', 'RUBY', 'JASMINE', 'DOROTHY']\n"
     ]
    }
   ],
   "source": [
    "#4) Create a Python program that uses the `map()` function to convert a list of names to uppercase. \n",
    "\n",
    "l_names = ['samantha','isabelle','ruby','jasmine','dorothy']\n",
    "\n",
    "u_names =list(map(lambda name: name.upper(),l_names))\n",
    "\n",
    "print(\"The names in upper case: \",u_names)"
   ]
  },
  {
   "cell_type": "code",
   "execution_count": 3,
   "id": "19630837-7772-4e4e-81ac-c23155aa41ef",
   "metadata": {},
   "outputs": [
    {
     "name": "stdout",
     "output_type": "stream",
     "text": [
      "Length of each string in the list:  [8, 8, 4, 7, 7]\n"
     ]
    }
   ],
   "source": [
    "#5) Write a Python program that uses the `map()` function to calculate the length of each word in a list of strings. \n",
    "l_names = ['samantha','isabelle','ruby','jasmine','dorothy']\n",
    "\n",
    "names_length = list(map(lambda s:len(s),l_names))\n",
    "\n",
    "print('Length of each string in the list: ',names_length)"
   ]
  },
  {
   "cell_type": "code",
   "execution_count": 4,
   "id": "ff9dbd53-9793-466a-b8c6-48903f65294e",
   "metadata": {},
   "outputs": [
    {
     "name": "stdout",
     "output_type": "stream",
     "text": [
      "The addition of corresponding elements of two lists:  [11, 22, 33, 44]\n"
     ]
    }
   ],
   "source": [
    "#6) How can you use the `map()` function to apply a custom function to elements of multiple lists simultaneously in Python? \n",
    "\n",
    "# defining a function for addition of two elements\n",
    "def add_elements(x, y):\n",
    "    return x + y\n",
    "\n",
    "list1 = [1, 2, 3, 4]\n",
    "list2 = [10, 20, 30, 40]\n",
    "\n",
    "# Using the map() function to apply the custom function to both lists\n",
    "result = map(add_elements, list1, list2)\n",
    "\n",
    "result_list = list(result)\n",
    "\n",
    "print(\"The addition of corresponding elements of two lists: \",result_list)"
   ]
  },
  {
   "cell_type": "code",
   "execution_count": 5,
   "id": "b283bc37-d0fa-44d5-9383-e47d71f3c6f7",
   "metadata": {},
   "outputs": [
    {
     "name": "stdout",
     "output_type": "stream",
     "text": [
      "The temperatures in Farenheit from Clesius:  [113.0, 93.2, 131.0, 132.8, 73.4, 77.0, 55.4, 53.6]\n"
     ]
    }
   ],
   "source": [
    "#7) Create a Python program that uses `map()` to convert a list of temperatures from Celsius to Fahrenheit.\n",
    "\n",
    "temp_C = [45,34,55,56,23,25,13,12]\n",
    "\n",
    "temp_F = list(map(lambda c:round((9*(c/5)) +32,2),temp_C))\n",
    "\n",
    "print(\"The temperatures in Farenheit from Clesius: \",temp_F)"
   ]
  },
  {
   "cell_type": "code",
   "execution_count": 6,
   "id": "97ddf179-9ace-46ac-8562-c0836834707c",
   "metadata": {},
   "outputs": [
    {
     "name": "stdout",
     "output_type": "stream",
     "text": [
      "The rounded numbers to it's corresponding integer:  [113, 93, 131, 133, 73, 77, 55, 54]\n"
     ]
    }
   ],
   "source": [
    "#8) Write a Python program that uses the `map()` function to round each element of a list of floating-point numbers to the nearest integer.\n",
    "\n",
    "float_l = [113.0, 93.2, 131.0, 132.8, 73.4, 77.0, 55.4, 53.6]\n",
    "\n",
    "int_l = list(map(lambda x : int(round(x,0)),float_l))\n",
    "\n",
    "print(\"The rounded numbers to it's corresponding integer: \",int_l)\n"
   ]
  },
  {
   "cell_type": "markdown",
   "id": "1ea87ee0-9fb6-4ab5-9c6b-90b32ec561e9",
   "metadata": {},
   "source": [
    "# Reduce"
   ]
  },
  {
   "cell_type": "raw",
   "id": "d5badc0c-2532-4377-b0c3-eb7a91d206e5",
   "metadata": {},
   "source": [
    "#1) What is the `reduce()` function in Python, and what module should you import to use it? Provide an example of its basic usage.\n",
    "\n",
    "The reduce() function in Python is a built-in function used for aggregating elements of an iterable by applying a specified function of two or more arguments cumulatively to the items in the iterable to reduce the iterable to a specific value defined by the function. It's part of the functools module, so you need to import this module to use reduce().\n",
    "\n",
    "\n",
    "Syntax:\n",
    "from functools import reduce\n",
    "\n"
   ]
  },
  {
   "cell_type": "code",
   "execution_count": 7,
   "id": "3e7492a5-55c3-4fac-b247-f8ade63e11aa",
   "metadata": {},
   "outputs": [
    {
     "name": "stdout",
     "output_type": "stream",
     "text": [
      "8\n"
     ]
    }
   ],
   "source": [
    "#Example\n",
    "\n",
    "#getting the minimum element from a list\n",
    "\n",
    "from functools import reduce\n",
    "\n",
    "l = [93,75,8,28,47,90,3747,18]\n",
    "\n",
    "l_min = reduce(lambda a,b: a if a<b else b,l)\n",
    "\n",
    "print(l_min)"
   ]
  },
  {
   "cell_type": "code",
   "execution_count": 8,
   "id": "6eba36f2-6b89-4868-8d17-7258601c40c5",
   "metadata": {},
   "outputs": [
    {
     "name": "stdout",
     "output_type": "stream",
     "text": [
      "The product of all elements in the list:  240000\n"
     ]
    }
   ],
   "source": [
    "#2) Write a Python program that uses the `reduce()` function to find the product of all elements in a list. \n",
    "l = [10, 20, 30, 40]\n",
    "\n",
    "l_product = reduce(lambda a,b : a*b,l)\n",
    "\n",
    "print(\"The product of all elements in the list: \",l_product)"
   ]
  },
  {
   "cell_type": "code",
   "execution_count": 9,
   "id": "0bb6674c-c51e-4a89-b366-3f0c0815a364",
   "metadata": {},
   "outputs": [
    {
     "name": "stdout",
     "output_type": "stream",
     "text": [
      "The maximum element of the list is:  97\n"
     ]
    }
   ],
   "source": [
    "#3) Create a Python program that uses `reduce()` to find the maximum element in a list of numbers. \n",
    "l = [93,75,8,28,47,90,97,47,18]\n",
    "l_max = reduce(lambda a,b:a if a>b else b,l)\n",
    "print(\"The maximum element of the list is: \",l_max)"
   ]
  },
  {
   "cell_type": "code",
   "execution_count": 10,
   "id": "7ee16e87-c0a3-4d07-9a22-0d0d913ef3b5",
   "metadata": {},
   "outputs": [
    {
     "name": "stdout",
     "output_type": "stream",
     "text": [
      "The concatenated list of strings are:  apple banana cherry date fig\n"
     ]
    }
   ],
   "source": [
    "#4) How can you use the `reduce()` function to concatenate a list of strings into a single string? \n",
    "\n",
    "string_list = [\"apple\", \"banana\", \"cherry\", \"date\", \"fig\"]\n",
    "\n",
    "conc_list = reduce(lambda a,b: a+\" \"+b,string_list)\n",
    "\n",
    "print(\"The concatenated list of strings are: \",conc_list)"
   ]
  },
  {
   "cell_type": "code",
   "execution_count": 11,
   "id": "d5605317-a38c-4e61-8d45-370073e729d6",
   "metadata": {},
   "outputs": [
    {
     "name": "stdin",
     "output_type": "stream",
     "text": [
      "Enter a number:  8\n"
     ]
    },
    {
     "name": "stdout",
     "output_type": "stream",
     "text": [
      "Factorial of the number is:  40320\n"
     ]
    }
   ],
   "source": [
    "#5) Write a Python program that calculates the factorial of a number using the `reduce()` function.\n",
    "\n",
    "num = int(input(\"Enter a number: \"))\n",
    "\n",
    "fact = reduce(lambda a,b:a*b,range(1,num+1)) #--> range is iterable\n",
    "\n",
    "print(\"Factorial of the number is: \",fact)"
   ]
  },
  {
   "cell_type": "code",
   "execution_count": 16,
   "id": "78dd7ec4-b0cf-4e80-9761-e9bdaecf3cd0",
   "metadata": {},
   "outputs": [
    {
     "name": "stdout",
     "output_type": "stream",
     "text": [
      "1\n"
     ]
    }
   ],
   "source": [
    "#6) Create a Python program that uses `reduce()` to find the GCD (Greatest Common Divisor) of a list of numbers. \n",
    "\n",
    "l = [93,75,8,28,47,90,97,47,18]\n",
    "\n",
    "def gcd(a,b):\n",
    "    for i in range(1,(a+b)//2):\n",
    "        if a%i == 0 and b%i==0:\n",
    "            return i\n",
    "\n",
    "gcd_l = reduce(gcd, l)\n",
    "\n",
    "print(gcd_l)\n"
   ]
  },
  {
   "cell_type": "code",
   "execution_count": 18,
   "id": "0d7e3da8-094f-4232-b946-64f3849f58ac",
   "metadata": {},
   "outputs": [
    {
     "name": "stdin",
     "output_type": "stream",
     "text": [
      "Enter a number more than one digit:  933\n"
     ]
    },
    {
     "name": "stdout",
     "output_type": "stream",
     "text": [
      "Sum of the integers of the number:  15\n"
     ]
    }
   ],
   "source": [
    "#7) Write a Python program that uses the `reduce()` function to find the sum of the digits of a given number. \n",
    "\n",
    "num = input(\"Enter a number more than one digit: \")\n",
    "\n",
    "sum_num = reduce(lambda a,b:int(a)+int(b),num)\n",
    "\n",
    "print(\"Sum of the integers of the number: \",sum_num)"
   ]
  },
  {
   "cell_type": "markdown",
   "id": "9b1b4073-a3ba-46eb-92a0-d2f53931c94f",
   "metadata": {},
   "source": [
    "# Filter"
   ]
  },
  {
   "cell_type": "raw",
   "id": "ea37bc56-3669-44d9-b62f-be0ee7570b1a",
   "metadata": {},
   "source": [
    "#1) Explain the purpose of the `filter()` function in Python and provide an example of how it can be used to filter elements from an iterable. \n",
    "\n",
    "Ans: The filter function is used to sort out a an existing list or any iterable according to a given condition or function applied to the iterable object and returns the sorted object.\n",
    "\n",
    "Filter takes two arguments: 1) Function 2) iterables\n"
   ]
  },
  {
   "cell_type": "code",
   "execution_count": 21,
   "id": "e45a1652-6965-41e7-b51c-1d2f8a766497",
   "metadata": {},
   "outputs": [
    {
     "data": {
      "text/plain": [
       "[45, 34, 55, 56, 23, 25]"
      ]
     },
     "execution_count": 21,
     "metadata": {},
     "output_type": "execute_result"
    }
   ],
   "source": [
    "#Example:\n",
    "temp_C = [45,34,55,56,23,25,13,12]\n",
    "list(filter(lambda a :20<a<66,temp_C)) #filters out the temperatures in the range of 20 to 66\n"
   ]
  },
  {
   "cell_type": "code",
   "execution_count": 22,
   "id": "7c7b01aa-c836-46f3-8c4d-2bcd9b3293e7",
   "metadata": {},
   "outputs": [
    {
     "data": {
      "text/plain": [
       "[8, 28, 90, 18]"
      ]
     },
     "execution_count": 22,
     "metadata": {},
     "output_type": "execute_result"
    }
   ],
   "source": [
    "#2) Write a Python program that uses the `filter()` function to select even numbers from a list of integers. \n",
    "\n",
    "\n",
    "l = [93,75,8,28,47,90,97,47,18]\n",
    "\n",
    "list(filter(lambda a: a%2==0,l))\n"
   ]
  },
  {
   "cell_type": "code",
   "execution_count": 24,
   "id": "27f26001-7e8a-49c7-bc05-82b6705dafaa",
   "metadata": {},
   "outputs": [
    {
     "data": {
      "text/plain": [
       "['new_name', 'new_address', 'new_ID']"
      ]
     },
     "execution_count": 24,
     "metadata": {},
     "output_type": "execute_result"
    }
   ],
   "source": [
    "#3) Create a Python program that uses the `filter()` function to select names that start with a specific letter from a list of strings. \n",
    "\n",
    "list_name = ['new_name','new_address','phone','age','new_ID','year']\n",
    "\n",
    "list(filter(lambda a:a[:3]=='new',list_name)) "
   ]
  },
  {
   "cell_type": "code",
   "execution_count": 28,
   "id": "60dd9b10-a67e-4fff-b4ed-583617918774",
   "metadata": {},
   "outputs": [
    {
     "data": {
      "text/plain": [
       "[47, 97, 37]"
      ]
     },
     "execution_count": 28,
     "metadata": {},
     "output_type": "execute_result"
    }
   ],
   "source": [
    "#4) Write a Python program that uses the `filter()` function to select prime numbers from a list of integers. \n",
    "\n",
    "l = [93,75,8,28,47,90,97,37,18]\n",
    "\n",
    "def prime(a):\n",
    "    for i in range(2,int(a**(0.5))+1):\n",
    "        if a%2==0 or a%3==0:\n",
    "            break\n",
    "        elif a%i==0:\n",
    "            break\n",
    "        else:\n",
    "            return a\n",
    "    \n",
    "\n",
    "list(filter(prime,l))\n"
   ]
  },
  {
   "cell_type": "code",
   "execution_count": 31,
   "id": "acc48de4-2b11-441c-b556-f519d6471b93",
   "metadata": {},
   "outputs": [
    {
     "data": {
      "text/plain": [
       "[1, 2, 3, 4, 5]"
      ]
     },
     "execution_count": 31,
     "metadata": {},
     "output_type": "execute_result"
    }
   ],
   "source": [
    "#5) How can you use the `filter()` function to remove None values from a list in Python? \n",
    "\n",
    "values = [1, None, 2, 3, None, 4, None, 5]\n",
    "\n",
    "list(filter(lambda x: x is not None, values)) #returns values which are not none"
   ]
  },
  {
   "cell_type": "raw",
   "id": "6d6bb9bb-92ab-43eb-835a-90a670678dba",
   "metadata": {},
   "source": [
    "#6) Create a Python program that uses `filter()` to select words longer than a certain length from a list of strings. \n",
    "\n",
    "list_name = ['new_name','new_address','phone','age','new_ID','year']\n",
    "\n",
    "list(filter(lambda a: len(a)>5,list_name))\n"
   ]
  },
  {
   "cell_type": "code",
   "execution_count": 33,
   "id": "0cc01602-0327-4cba-880b-d9c2454f2932",
   "metadata": {},
   "outputs": [
    {
     "data": {
      "text/plain": [
       "[93, 75, 47, 90, 97, 37]"
      ]
     },
     "execution_count": 33,
     "metadata": {},
     "output_type": "execute_result"
    }
   ],
   "source": [
    "#7) Write a Python program that uses the `filter()` function to select elements greater than a specified threshold from a list of values. \n",
    "\n",
    "l = [93,75,8,28,47,90,97,37,18]\n",
    "\n",
    "list(filter(lambda a: a>30,l)) #returns the sorted list l where the values are > than 30"
   ]
  },
  {
   "cell_type": "markdown",
   "id": "cfdc0155-af49-4b7b-8c43-1713ba1de241",
   "metadata": {},
   "source": [
    "# Recursion"
   ]
  },
  {
   "cell_type": "raw",
   "id": "2cec7102-8aeb-4980-ad3e-47a96635b8f1",
   "metadata": {},
   "source": [
    "#1) Explain the concept of recursion in Python. How does it differ from iteration? \n",
    "\n",
    "Ans : Recursion - Recursion is the operation of calling the function itself inside the function with different argument.Recursive functions break down complex problems into smaller, more manageable subproblems, and they continue calling themselves until they reach a base case.\n",
    "      \n",
    "      Difference between recursion and iteration:\n",
    "      1) Recursion calls the function itself to execute whereas iteration executes the same operation until a certain condition is met .\n",
    "      2) Recursion terminates when the base case is reached, whereas the iteration is terminated when the condition becomes false\n",
    "      3)  Recursive function calls are stored on the call stack, which can lead to stack overflow errors for deep recursion. Iteration typically uses a fixed amount of memory and does not rely on the call stack.\n",
    "      "
   ]
  },
  {
   "cell_type": "code",
   "execution_count": 39,
   "id": "8ce436ec-aeb3-4b3a-a887-6af26d9c38e3",
   "metadata": {},
   "outputs": [
    {
     "name": "stdin",
     "output_type": "stream",
     "text": [
      "Enter a number:  4\n"
     ]
    },
    {
     "name": "stdout",
     "output_type": "stream",
     "text": [
      "24\n"
     ]
    }
   ],
   "source": [
    "#2) Write a Python program to calculate the factorial of a number using recursion. \n",
    "\n",
    "num = int(input(\"Enter a number: \"))\n",
    "\n",
    "def fact(n):\n",
    "    if n==0 or n==1:\n",
    "        return 1\n",
    "    else:\n",
    "        return n* fact(n-1)\n",
    "        \n",
    "print(fact(num))"
   ]
  },
  {
   "cell_type": "code",
   "execution_count": 28,
   "id": "894b6747-bee5-4881-93a2-8827a173b13c",
   "metadata": {},
   "outputs": [
    {
     "name": "stdin",
     "output_type": "stream",
     "text": [
      "Enter a number:  5\n"
     ]
    },
    {
     "name": "stdout",
     "output_type": "stream",
     "text": [
      "8\n"
     ]
    }
   ],
   "source": [
    "#3) Create a recursive Python function to find the nth Fibonacci number.\n",
    "\n",
    "## DOUBT\n",
    "\n",
    "num = int(input(\"Enter a number: \"))\n",
    "def fibo(n):\n",
    "    assert n>=0 and int(n)==n, 'Fibonacci number cannot be negative or non integer'\n",
    "    if n == 1:\n",
    "        return 0\n",
    "    elif n == 2:\n",
    "        return 1\n",
    "    else:\n",
    "        return fibo(n-1)+fibo(n-2)\n",
    "\n",
    "print(factorial(num))\n"
   ]
  },
  {
   "cell_type": "code",
   "execution_count": 10,
   "id": "fe61c0c0-579c-4728-bc78-12d2a9133cb0",
   "metadata": {},
   "outputs": [
    {
     "name": "stdout",
     "output_type": "stream",
     "text": [
      "Sum of the elements in the list:  493\n"
     ]
    }
   ],
   "source": [
    "#4) Write a recursive function that calculates the sum of all element of the list\n",
    "\n",
    "l = [93,75,8,28,47,90,97,37,18]\n",
    "n = len(l)\n",
    "\n",
    "def sum_l(l,n):\n",
    "    \n",
    "    if n == 0:\n",
    "        return 0\n",
    "    else:\n",
    "        return l[n-1] + sum_l(l,n-1)\n",
    "    \n",
    "print(\"Sum of the elements in the list: \",sum_l(l,n))\n",
    "\n",
    "\n",
    "\n"
   ]
  },
  {
   "cell_type": "raw",
   "id": "aaddf2d3-814a-4466-b367-cc6dc3a11a22",
   "metadata": {},
   "source": [
    "#5) How can you prevent a recursive function from running indefinitely, causing a stack overflow error? \n",
    "\n",
    "Ans: 1) Providing a base case - If we provide a base case for the recursive function, when the condition is met , the function will stop at that point. Without a base case, the recursion will continue infinitely.\n",
    "     2) recursive call argument - for each recursive call with the argument input given , if we meet closer to the base case, then the function will come closer to the base case and stop.\n",
    "\n"
   ]
  },
  {
   "cell_type": "code",
   "execution_count": 3,
   "id": "ce1fcdf8-c9f4-4779-8637-6589b72e8541",
   "metadata": {},
   "outputs": [
    {
     "name": "stdout",
     "output_type": "stream",
     "text": [
      "120\n"
     ]
    }
   ],
   "source": [
    "#Example\n",
    "\n",
    "def factorial(n):\n",
    "    # Base case: Factorial of 0 is 1\n",
    "    # here the base case ensures that when the value of n will reach 0, the function will return 1 and stop without making another recursive call\n",
    "    if n == 0:\n",
    "        return 1\n",
    "    # Recursive case: Calculate factorial for n-1 and multiply by n moving closer to the base case\n",
    "    else:\n",
    "        return n * factorial(n - 1)\n",
    "\n",
    "\n",
    "print(factorial(5))"
   ]
  },
  {
   "cell_type": "code",
   "execution_count": 31,
   "id": "91d66c0e-f59d-4e92-8d57-1bc2b8c455f7",
   "metadata": {},
   "outputs": [
    {
     "name": "stdin",
     "output_type": "stream",
     "text": [
      "Enter first number: 86\n",
      "Enter second number: 87\n"
     ]
    },
    {
     "name": "stdout",
     "output_type": "stream",
     "text": [
      "GCD is:  1\n"
     ]
    }
   ],
   "source": [
    "#6) Create a recursive Python function to find the greatest common divisor (GCD) of two numbers using the Euclidean algorithm. \n",
    "\n",
    "def gcd(a,b):\n",
    "    \n",
    "    if(b==0):\n",
    "        return a\n",
    "    else:\n",
    "        return gcd(b,a%b)\n",
    "a=int(input(\"Enter first number:\"))\n",
    "b=int(input(\"Enter second number:\"))\n",
    "GCD=gcd(a,b)\n",
    "print(\"GCD is: \",GCD)\n"
   ]
  },
  {
   "cell_type": "code",
   "execution_count": 41,
   "id": "01327785-1b9e-462d-bde1-3c98e4fa600c",
   "metadata": {},
   "outputs": [
    {
     "name": "stdout",
     "output_type": "stream",
     "text": [
      "noobab\n"
     ]
    }
   ],
   "source": [
    "#7) Write a recursive Python function to reverse a string.\n",
    "\n",
    "string = 'baboon'\n",
    "def reverse(string):\n",
    "    assert type(string)==str , \"Input a string\"\n",
    "    if len(string)<=1:\n",
    "        return string\n",
    "    else:\n",
    "        return string[-1] + reverse(string[:len(string)-1])\n",
    "print(reverse(string))"
   ]
  },
  {
   "cell_type": "code",
   "execution_count": 22,
   "id": "f8997116-f258-427c-8bf1-0f4abc67cbea",
   "metadata": {},
   "outputs": [
    {
     "name": "stdin",
     "output_type": "stream",
     "text": [
      "Enter a number:  4\n",
      "Enter the power:  3\n"
     ]
    },
    {
     "name": "stdout",
     "output_type": "stream",
     "text": [
      "64\n"
     ]
    }
   ],
   "source": [
    "#8) Create a recursive Python function to calculate the power of a number (x^n). \n",
    "\n",
    "x = int(input(\"Enter a number: \"))\n",
    "n = int(input(\"Enter the power: \"))\n",
    "def power(x,n):\n",
    "    if n==0:\n",
    "        return 1\n",
    "    else:\n",
    "        return x*power(x,n-1)\n",
    "    \n",
    "print(power(x,n))"
   ]
  },
  {
   "cell_type": "code",
   "execution_count": 44,
   "id": "e4ed4948-cdc1-443d-8c74-8c72708d495f",
   "metadata": {},
   "outputs": [
    {
     "name": "stdout",
     "output_type": "stream",
     "text": [
      "abc\n",
      "acb\n",
      "bac\n",
      "bca\n",
      "cab\n",
      "cba\n"
     ]
    }
   ],
   "source": [
    "#9) Write a recursive Python function to find all permutations of a given string. \n",
    "\n",
    "def get_permutations(s):\n",
    "    if len(s) <= 1:\n",
    "        return [s]\n",
    "\n",
    "    permutations = []  \n",
    "\n",
    "    for i, char in enumerate(s):\n",
    "        remaining_chars = s[:i] + s[i+1:]\n",
    "        remaining_permutations = get_permutations(remaining_chars)\n",
    "\n",
    "        for perm in remaining_permutations:\n",
    "            permutations.append(char + perm)\n",
    "\n",
    "    return permutations\n",
    "\n",
    "input_string = \"abc\"\n",
    "permutations = get_permutations(input_string)\n",
    "for perm in permutations:\n",
    "    print(perm)\n",
    "\n",
    "    "
   ]
  },
  {
   "cell_type": "code",
   "execution_count": 42,
   "id": "f149c04e-30dd-499a-a405-899e983534ed",
   "metadata": {},
   "outputs": [
    {
     "name": "stdout",
     "output_type": "stream",
     "text": [
      "True\n"
     ]
    }
   ],
   "source": [
    "#10) Write a recursive Python function to check if a string is a palindrome. \n",
    "\n",
    "string = \"bbcaacbb\"\n",
    "\n",
    "def palindrome(string):\n",
    "    \n",
    "    if len(string) <=1:\n",
    "        return True\n",
    "    if string[0] == string[-1]:\n",
    "          palindrome(string[1:-1])\n",
    "    else:\n",
    "        return False\n",
    "    \n",
    "    return True\n",
    "        \n",
    "print(palindrome(string))\n",
    "            \n",
    "        \n",
    "    "
   ]
  },
  {
   "cell_type": "code",
   "execution_count": 45,
   "id": "94cc6dd7-94db-4aeb-9455-b1349853d136",
   "metadata": {},
   "outputs": [
    {
     "name": "stdout",
     "output_type": "stream",
     "text": [
      "[]\n",
      "['a']\n",
      "['b']\n",
      "['c']\n",
      "['d']\n",
      "['a', 'b']\n",
      "['a', 'c']\n",
      "['a', 'd']\n",
      "['b', 'c']\n",
      "['b', 'd']\n",
      "['c', 'd']\n",
      "['a', 'b', 'c']\n",
      "['a', 'b', 'd']\n",
      "['a', 'c', 'd']\n",
      "['b', 'c', 'd']\n",
      "['a', 'b', 'c', 'd']\n"
     ]
    }
   ],
   "source": [
    "#11) Create a recursive Python function to generate all possible combinations of a list of elements. \n",
    "\n",
    "elements = ['a', 'b', 'c', 'd']\n",
    "\n",
    "def generate_combinations(elements, k):\n",
    "    if k == 0:\n",
    "        return [[]] \n",
    "\n",
    "    if not elements:\n",
    "        return [] \n",
    "\n",
    "    first_element = elements[0]\n",
    "    remaining_elements = elements[1:]\n",
    "\n",
    "    # Recursive case: generate combinations by including the first element or excluding it\n",
    "    combinations_with_first = [[first_element] + combo for combo in generate_combinations(remaining_elements, k - 1)]\n",
    "    combinations_without_first = generate_combinations(remaining_elements, k)\n",
    "\n",
    "    return combinations_with_first + combinations_without_first\n",
    "\n",
    "def get_all_combinations(elements):\n",
    "    all_combinations = []\n",
    "    for k in range(len(elements) + 1):\n",
    "        all_combinations.extend(generate_combinations(elements, k))\n",
    "    return all_combinations\n",
    "\n",
    "\n",
    "\n",
    "combinations = get_all_combinations(elements)\n",
    "\n",
    "for combo in combinations:\n",
    "    print(combo)\n",
    "\n",
    "            \n",
    "        \n",
    "   \n"
   ]
  },
  {
   "cell_type": "markdown",
   "id": "c50a15b7-788f-4db7-91cc-d39f79893cc0",
   "metadata": {},
   "source": [
    "# Basics of Function"
   ]
  },
  {
   "cell_type": "raw",
   "id": "81494743-ae03-412b-97ac-ec70793c0137",
   "metadata": {},
   "source": [
    "#1) What is a function in Python, and why is it used? \n",
    "\n",
    "Ans. In Python, a function is a reusable block of code that performs a specific task or set of tasks. Functions are a fundamental concept in programming and serve several important purposes. \n",
    "\n",
    "The adavnatages of the function are: \n",
    "1) Reusability - Functions allow one to break down a complex program into smaller, manageable parts. Each function can be designed to perform a specific task, making the code easier to read, understand, and maintain. One can reuse functions in different parts of the program or in entirely different programs, promoting code reuse and reducing redundancy.\n",
    "\n",
    "2) Abstraction - Functions provide a level of abstraction, allowing you to use a function without needing to know the details of how it is implemented. This abstraction simplifies the use of code and promotes a more organized and structured program and provides reusabilty of one function.\n",
    "\n",
    "3) Organization - Functions help organize your code into logical units, making it easier to structure and maintain your program. This improves code readability and helps you avoid \"spaghetti code\" where everything is tightly interconnected.\n",
    "\n",
    "4) Encapsulation - Functions can encapsulate a set of operations, variables, and logic within a scope. This means that variables defined within a function are usually local to that function, minimizing conflicts with other parts of the program.\n",
    "\n"
   ]
  },
  {
   "cell_type": "raw",
   "id": "17c1bf1c-e821-406b-96f4-d5ebc6cef16b",
   "metadata": {},
   "source": [
    "#2) How do you define a function in Python? Provide an example.\n",
    "\n",
    "Ans . In Python, you can define a function using the def keyword followed by the function name, a pair of parentheses for specifying parameters (if any), and a colon : to indicate the start of the function block. The function block contains the code that the function executes."
   ]
  },
  {
   "cell_type": "code",
   "execution_count": 5,
   "id": "7d95a769-8f71-4865-aa1c-e33b1d5002f4",
   "metadata": {},
   "outputs": [
    {
     "name": "stdout",
     "output_type": "stream",
     "text": [
      "9\n"
     ]
    }
   ],
   "source": [
    "#Example\n",
    "\n",
    "#syntax\n",
    "def function_name(parameters):\n",
    "    # Function code goes here\n",
    "    # ...\n",
    "    # Optional: return statement to return a value\n",
    "    pass\n",
    "\n",
    "#example of a function in finding square\n",
    "def square(x):\n",
    "    result = x * x\n",
    "    return result\n",
    "\n",
    "print(square(3))"
   ]
  },
  {
   "cell_type": "raw",
   "id": "3da00c14-6e59-4a1b-a329-f8366b57528b",
   "metadata": {},
   "source": [
    "#3) Explain the difference between a function definition and a function call.\n",
    "\n",
    "Ans. Function definition:\n",
    "    A function definition is the creation of a reusable block of code that specifies how a particular task or           operation should be performed which is implemented inside the function definition block by logical syntax of       code and returns a value.\n",
    "    Function definitions are written once and can be used multiple times in your program.\n",
    "    They encapsulate a set of operations and logic, making the code more modular and organized.\n",
    "    \n",
    "    Function call:\n",
    "    A function call is the actual execution of a function, using the function's name along with the required           arguments or parameters.\n",
    "    It involves writing the function name followed by parentheses containing the values or variables you want to       pass as arguments (if any).\n",
    "    It provides the actual values or data that the function needs to perform its task, based on the defined             parameters.\n",
    "   "
   ]
  },
  {
   "cell_type": "code",
   "execution_count": 8,
   "id": "0483538a-dab7-45d4-b59e-b27c51ceca78",
   "metadata": {},
   "outputs": [
    {
     "name": "stdout",
     "output_type": "stream",
     "text": [
      "2\n"
     ]
    }
   ],
   "source": [
    "#Example\n",
    "\n",
    "#function definition of add function which returns the difference of two numbers \n",
    "def diff(a, b):\n",
    "    result = a - b\n",
    "    return result\n",
    "\n",
    "#calling the add function with argument \n",
    "print(diff(5, 3)) \n"
   ]
  },
  {
   "cell_type": "code",
   "execution_count": 9,
   "id": "acd295b9-ec57-4b62-acb4-122dca21fd0a",
   "metadata": {},
   "outputs": [
    {
     "name": "stdout",
     "output_type": "stream",
     "text": [
      "8\n"
     ]
    }
   ],
   "source": [
    "#4) Write a Python program that defines a function to calculate the sum of two numbers and then calls the function.\n",
    "\n",
    "#function definition o\n",
    "def add(a, b):\n",
    "    result = a + b\n",
    "    return result\n",
    "\n",
    "result = add(5, 3)\n",
    "print(result)\n"
   ]
  },
  {
   "cell_type": "raw",
   "id": "207e36e5-79f9-4b09-88ff-3324e3315be8",
   "metadata": {},
   "source": [
    "#5) What is a function signature, and what information does it typically include? \n",
    "\n",
    "Ans. The function signature serves as documentation for the function, indicating how it should be used, what types of data it expects, and what type of data it returns. It helps both the programmer who writes the function and other programmers who may use or interact with the function, making the code more readable and maintainable.\n",
    "The functiom signature returns a specific data type of the value after it's executed. \n",
    "\n"
   ]
  },
  {
   "cell_type": "code",
   "execution_count": 11,
   "id": "a2caf843-b41e-45cc-8c44-6c194db36dca",
   "metadata": {},
   "outputs": [
    {
     "name": "stdout",
     "output_type": "stream",
     "text": [
      "13\n"
     ]
    }
   ],
   "source": [
    "#Example of function signature \n",
    "\n",
    "def add(a: int, b: int) -> int: return a+b\n",
    "\n",
    "print(add(9,4))\n",
    "\n"
   ]
  },
  {
   "cell_type": "code",
   "execution_count": 12,
   "id": "50c157dc-da23-49e4-85de-12d43f5d7c8d",
   "metadata": {},
   "outputs": [
    {
     "name": "stdout",
     "output_type": "stream",
     "text": [
      "12\n"
     ]
    }
   ],
   "source": [
    "#6) Create a Python function that takes two arguments and returns their product.\n",
    "\n",
    "def product(a,b):\n",
    "    \n",
    "    return a*b\n",
    "\n",
    "print(product(2,6))"
   ]
  },
  {
   "cell_type": "markdown",
   "id": "c8282519-3993-42ae-b508-6bf2db675eea",
   "metadata": {},
   "source": [
    "# Function Parameters and Arguments"
   ]
  },
  {
   "cell_type": "raw",
   "id": "cf53bda2-d79d-4da5-a88a-56513228400c",
   "metadata": {},
   "source": [
    "#1) Explain the concepts of formal parameters and actual arguments in Python functions.\n",
    "\n",
    "Ans. Formal Parameters : Formal parameters are placeholders or variables declared in the function's definition. They represent the values or data that the function expects to receive when it's called. They defines the interface of the function, specifying what kind of data the function should work with and how it should be referred to within the function's body.\n",
    "\n",
    "Actual arguments : Actual arguments (often simply called arguments) are the values or expressions that are passed to a function when it is called. These values are used to fill the formal parameters within the function's body.Actual arguments provide the actual data that the function will operate on when it's invoked. They are the values that are substituted for the formal parameters within the function.\n"
   ]
  },
  {
   "cell_type": "code",
   "execution_count": 13,
   "id": "70a4077b-b604-44cf-8ad5-d35ff36ca86e",
   "metadata": {},
   "outputs": [
    {
     "name": "stdout",
     "output_type": "stream",
     "text": [
      "8\n"
     ]
    }
   ],
   "source": [
    "# Example\n",
    "\n",
    "#defining a addition function to add two values x,y\n",
    "def add(x, y): #here x,y are formal parameters of the function add that takes two values x,y while calling the function add\n",
    "    result = x + y\n",
    "    return result\n",
    "\n",
    "#here 5,3 are the actual arguments passed to the function when it is called\n",
    "result = add(5, 3)\n",
    "print(result)\n"
   ]
  },
  {
   "cell_type": "code",
   "execution_count": 14,
   "id": "1ec7f4fa-5013-4287-97c5-bb2e39325fa0",
   "metadata": {},
   "outputs": [
    {
     "name": "stdout",
     "output_type": "stream",
     "text": [
      "Hello, Guest!\n",
      "Hi, Alice!\n"
     ]
    }
   ],
   "source": [
    "#2) Write a Python program that defines a function with default argument values.\n",
    "\n",
    "def greet(name=\"Guest\", message=\"Hello\"):\n",
    "    print(f\"{message}, {name}!\")\n",
    "\n",
    "# Calling the function without providing any arguments\n",
    "greet() \n",
    "\n",
    "# Calling the function with custom arguments\n",
    "greet(\"Alice\", \"Hi\") \n"
   ]
  },
  {
   "cell_type": "raw",
   "id": "65c4fe17-9136-42f5-a068-8af4bfae3d97",
   "metadata": {},
   "source": [
    "#3) How do you use keyword arguments in Python function calls? Provide an example.\n",
    "\n",
    "Ans. In Python, we can use keyword arguments to specify the values for function parameters by explicitly mentioning the parameter names when calling the function.\n",
    "\n"
   ]
  },
  {
   "cell_type": "code",
   "execution_count": 1,
   "id": "489eee20-bb29-4e7b-89de-79f57ea601c6",
   "metadata": {},
   "outputs": [
    {
     "name": "stdout",
     "output_type": "stream",
     "text": [
      "Hi, Alice!\n",
      "Hello, Bob!\n"
     ]
    }
   ],
   "source": [
    "#Example\n",
    "\n",
    "def greet(name, message):\n",
    "    print(f\"{message}, {name}!\")\n",
    "\n",
    "# Call the function using keyword arguments\n",
    "greet(name=\"Alice\", message=\"Hi\") \n",
    "\n",
    "# Call the function with arguments in a different order\n",
    "greet(message=\"Hello\", name=\"Bob\")  \n"
   ]
  },
  {
   "cell_type": "code",
   "execution_count": 3,
   "id": "bdebadef-5cd6-48f3-9ce4-50b0732211d5",
   "metadata": {},
   "outputs": [
    {
     "name": "stdout",
     "output_type": "stream",
     "text": [
      "232669\n",
      "2536\n"
     ]
    }
   ],
   "source": [
    "#4) Create a Python function that accepts a variable number of arguments and calculates their sum.\n",
    "\n",
    "def cal_sum(*args):\n",
    "    total = 0\n",
    "    for num in args:\n",
    "        total += num\n",
    "        \n",
    "    return total\n",
    "\n",
    "#first input with 7 argumnets\n",
    "print(cal_sum(23,378,232153,43,67,1,4))\n",
    "#second input with four arguments\n",
    "print(cal_sum(2372,43,22,99))"
   ]
  },
  {
   "cell_type": "raw",
   "id": "ae8683f0-4274-4273-9bc9-c33b61d79c41",
   "metadata": {},
   "source": [
    "#5) What is the purpose of the `*args` and `**kwargs` syntax in function parameter lists?\n",
    "\n",
    "Ans. The *args and **kwargs syntax in function parameter lists are used to work with a variable number of arguments in a function.\n",
    "\n",
    "args* - The *args syntax allows a function to accept a variable number of non-keyword (positional) arguments.\n",
    "It collects these arguments into a tuple within the function.\n",
    "This is useful when you want to create a function that can take an arbitrary number of arguments without specifying them individually.\n",
    "\n",
    "kwargs* - The **kwargs syntax allows a function to accept a variable number of keyword arguments (key-value pairs).\n",
    "It collects these arguments into a dictionary within the function.\n",
    "This is useful when you want to create a function that can take an arbitrary number of keyword arguments without specifying them individually.\n"
   ]
  },
  {
   "cell_type": "code",
   "execution_count": 4,
   "id": "3d76a2c6-1006-4185-beb6-e749bb7974e9",
   "metadata": {},
   "outputs": [
    {
     "name": "stdout",
     "output_type": "stream",
     "text": [
      "15\n"
     ]
    }
   ],
   "source": [
    "# Example of *args\n",
    "\n",
    "def sum_values(*args):\n",
    "    total = 0\n",
    "    for num in args:\n",
    "        total += num\n",
    "    return total\n",
    "\n",
    "result = sum_values(1, 2, 3, 4, 5)\n",
    "print(result)\n"
   ]
  },
  {
   "cell_type": "code",
   "execution_count": 5,
   "id": "d8827ece-2e18-4e0b-8ff2-6a2e0fa81954",
   "metadata": {},
   "outputs": [
    {
     "name": "stdout",
     "output_type": "stream",
     "text": [
      "name: Alice\n",
      "age: 30\n",
      "city: New York\n"
     ]
    }
   ],
   "source": [
    "# Example of *kwargs\n",
    "\n",
    "def print_info(**kwargs):\n",
    "    for key, value in kwargs.items():\n",
    "        print(f\"{key}: {value}\")\n",
    "\n",
    "print_info(name=\"Alice\", age=30, city=\"New York\")\n"
   ]
  },
  {
   "cell_type": "markdown",
   "id": "109b719f-7dfb-4dbe-9ce9-17b95e88c09a",
   "metadata": {},
   "source": [
    "# Returns and Scoping"
   ]
  },
  {
   "cell_type": "raw",
   "id": "443e4b00-c959-49c3-866b-b68366a4629f",
   "metadata": {},
   "source": [
    "#1) Describe the role of the `return` statement in Python functions and provide examples.\n",
    "\n",
    "Ans. The primary purpose of the return statement is to send a value back to the caller of the function. This value can be a result of a computation, a piece of data, or any other value that the function is designed to produce.\n",
    "To use the return statement, you write return followed by the value or expression that you want the function to return. You can return any valid Python expression."
   ]
  },
  {
   "cell_type": "code",
   "execution_count": 6,
   "id": "e20b373d-be3b-463e-aedb-b9488303002a",
   "metadata": {},
   "outputs": [
    {
     "name": "stdout",
     "output_type": "stream",
     "text": [
      "8\n"
     ]
    }
   ],
   "source": [
    "#Example\n",
    "\n",
    "def add(a, b):\n",
    "    result = a + b\n",
    "    return result  # Return the result of the addition\n",
    "\n",
    "sum_result = add(5, 3)\n",
    "print(sum_result) \n"
   ]
  },
  {
   "cell_type": "raw",
   "id": "2226a1d4-ca60-4dff-9992-f9eb47108b14",
   "metadata": {},
   "source": [
    "#2) Explain the concept of variable scope in Python, including local and global variables.\n",
    "\n",
    "Ans. Local Variables - Local variables are defined within a specific function or block of code. They are accessible only within the function or block where they are defined.\n",
    "Local variables have a limited lifetime that corresponds to the execution of the function or block in which they are defined. They are created when the function or block is entered and destroyed when the function or block exits.\n",
    "\n",
    "Global variables - Global variables are defined outside of any function or block. They are accessible from anywhere in the program, both inside and outside functions.\n",
    "Global variables have a lifetime that lasts for the entire duration of the program. They are created when the program starts and persist until the program terminates.\n",
    "\n"
   ]
  },
  {
   "cell_type": "code",
   "execution_count": 8,
   "id": "3f93f0a6-ad6b-4f5e-99e7-84343de79d1a",
   "metadata": {},
   "outputs": [
    {
     "name": "stdout",
     "output_type": "stream",
     "text": [
      "10\n"
     ]
    }
   ],
   "source": [
    "#Example of local variable\n",
    "\n",
    "def my_function():\n",
    "    x = 10  # x is a local variable\n",
    "    print(x)\n",
    "\n",
    "my_function() # will give the value of x with return None type\n",
    "#print(x)  # This will raise an error because x is not defined in this scope\n",
    "\n"
   ]
  },
  {
   "cell_type": "code",
   "execution_count": 9,
   "id": "6afcedef-4353-4ca9-a99f-b22cdff98628",
   "metadata": {},
   "outputs": [
    {
     "name": "stdout",
     "output_type": "stream",
     "text": [
      "20\n",
      "20\n"
     ]
    }
   ],
   "source": [
    "#Example of global variable\n",
    "\n",
    "y = 20  # y is a global variable\n",
    "\n",
    "def my_function():\n",
    "    print(y)\n",
    "\n",
    "my_function() # will return y value \n",
    "print(y)  # will also return y value without throwing one error\n"
   ]
  },
  {
   "cell_type": "code",
   "execution_count": 10,
   "id": "ab55c455-6234-49c3-a6fd-fadfd1230f7c",
   "metadata": {},
   "outputs": [
    {
     "name": "stdout",
     "output_type": "stream",
     "text": [
      "Inside the function:\n",
      "Global variable: 10\n",
      "\n",
      "Outside the function:\n",
      "Global variable: 20\n"
     ]
    }
   ],
   "source": [
    "#3) Write a Python program that demonstrates the use of global variables within functions. \n",
    "\n",
    "\n",
    "global_var = 10\n",
    "\n",
    "\n",
    "def use_global_variable():\n",
    "    global global_var \n",
    "    print(\"Inside the function:\")\n",
    "    print(\"Global variable:\", global_var)\n",
    "    global_var = 20  # Modify the global variable\n",
    "\n",
    "\n",
    "use_global_variable()\n",
    "\n",
    "print(\"\\nOutside the function:\")\n",
    "print(\"Global variable:\", global_var)\n"
   ]
  },
  {
   "cell_type": "code",
   "execution_count": 12,
   "id": "c3175bac-86a1-489d-a609-d92d317726ff",
   "metadata": {},
   "outputs": [
    {
     "name": "stdout",
     "output_type": "stream",
     "text": [
      "120\n"
     ]
    }
   ],
   "source": [
    "#4) Create a Python function that calculates the factorial of a number and returns it.\n",
    "\n",
    "def fact(num):\n",
    "    fact = 1\n",
    "    for i in range(2,num+1):\n",
    "        fact *=i\n",
    "        \n",
    "    return fact\n",
    "\n",
    "print(fact(5))"
   ]
  },
  {
   "cell_type": "raw",
   "id": "a5ccab09-cc66-4f58-9694-51343230b5d4",
   "metadata": {},
   "source": [
    "#5) How can you access variables defined outside a function from within the function?\n",
    "\n",
    "Ans : If a variable is defined in the global scope (outside all functions),one can access it directly from within a function without any special keyword. \n"
   ]
  },
  {
   "cell_type": "code",
   "execution_count": 13,
   "id": "6a95ddba-d8d6-4863-998f-971ece9adba6",
   "metadata": {},
   "outputs": [
    {
     "name": "stdout",
     "output_type": "stream",
     "text": [
      "Accessing global variable from within the function: 10\n",
      "None\n"
     ]
    }
   ],
   "source": [
    "#example\n",
    "\n",
    "# Global variable global_variable is assigned at the beginning of the function defitnition and can be accesed within the function \n",
    "\n",
    "global_var = 10  \n",
    "def access_global():\n",
    "    print(\"Accessing global variable from within the function:\", global_var) # accessing the global variable\n",
    "\n",
    "print(access_global()) #prints the value , with return None type\n"
   ]
  },
  {
   "cell_type": "markdown",
   "id": "f2d435de-118c-40ce-b5c0-19c22a23a37c",
   "metadata": {},
   "source": [
    "# Lambda Functions and Higher-Order Functions"
   ]
  },
  {
   "cell_type": "raw",
   "id": "10816962-d270-437b-be3a-b8f52a0e7f8e",
   "metadata": {},
   "source": [
    "#1) What are lambda functions in Python, and when are they typically used? \n",
    "\n",
    "Ans. In Python, Lambda function is a single line function which is used to calculate a single operation based on a condition given and returns a single value upon calling . \n",
    "Unlike a normal function definition, a lambda function is assigned to a variable before defining ."
   ]
  },
  {
   "cell_type": "code",
   "execution_count": 14,
   "id": "5e7303aa-792c-4444-8c37-2cc1cf2457ac",
   "metadata": {},
   "outputs": [
    {
     "name": "stdout",
     "output_type": "stream",
     "text": [
      "25\n"
     ]
    }
   ],
   "source": [
    "#Example of lambda function\n",
    "\n",
    "# Using a lambda function to square a number\n",
    "square = lambda x: x ** 2\n",
    "print(square(5)) "
   ]
  },
  {
   "cell_type": "code",
   "execution_count": 17,
   "id": "4c7ff8cf-3bdf-4350-9743-05f57131963e",
   "metadata": {},
   "outputs": [
    {
     "name": "stdout",
     "output_type": "stream",
     "text": [
      "[(5, 2), (9, 3), (3, 6), (2, 7), (8, 9), (2, 27)]\n"
     ]
    }
   ],
   "source": [
    "#2) Write a Python program that uses lambda functions to sort a list of tuples based on the second element.\n",
    "\n",
    "l = [(9,3),(2,7),(3,6),(8,9),(2,27),(5,2)]\n",
    "\n",
    "\n",
    "sorted_list = sorted(l, key=lambda x: x[1])\n",
    "# here the sorted function sorts the list l , based on the key value , \n",
    "# i.e the functional condition which is defined by the lambda function\n",
    "\n",
    "print(sorted_list)"
   ]
  },
  {
   "cell_type": "raw",
   "id": "309b545c-330d-49bc-a85c-a143cf7abd0b",
   "metadata": {},
   "source": [
    "#3) Explain the concept of higher-order functions in Python, and provide an example.\n",
    "\n",
    "Ans. A higher-order function can take one or more functions as arguments. \n",
    "    This allows one to pass custom behavior or logic to the higher-order function, making it more versatile and         adaptable.\n",
    "    \n",
    "    A higher-order function can also generate and return functions as its output. This is particularly useful for       creating functions with specific behavior on the fly."
   ]
  },
  {
   "cell_type": "code",
   "execution_count": 18,
   "id": "aa6fce03-d978-4a2d-8422-c482cdedb6cd",
   "metadata": {},
   "outputs": [
    {
     "name": "stdout",
     "output_type": "stream",
     "text": [
      "Squared numbers: [1, 4, 9, 16, 25]\n",
      "Doubled numbers: [2, 4, 6, 8, 10]\n"
     ]
    }
   ],
   "source": [
    "# Higher-order function that takes a function and a list as arguments\n",
    "def apply_function_to_list(func, lst):\n",
    "    result = []\n",
    "    for item in lst:\n",
    "        transformed_item = func(item)\n",
    "        result.append(transformed_item)\n",
    "    return result\n",
    "\n",
    "# Example functions that can be passed as arguments\n",
    "def square(x):\n",
    "    return x ** 2\n",
    "\n",
    "def double(x):\n",
    "    return x * 2\n",
    "\n",
    "# List of numbers\n",
    "numbers = [1, 2, 3, 4, 5]\n",
    "\n",
    "# Using the higher-order function to apply the square function to the list\n",
    "squared_numbers = apply_function_to_list(square, numbers)\n",
    "print(\"Squared numbers:\", squared_numbers)  \n",
    "\n",
    "# Using the higher-order function to apply the double function to the list\n",
    "doubled_numbers = apply_function_to_list(double, numbers)\n",
    "print(\"Doubled numbers:\", doubled_numbers) \n"
   ]
  },
  {
   "cell_type": "markdown",
   "id": "5aa52be3-e7c3-472c-bca8-0cdfaaa0eef6",
   "metadata": {},
   "source": [
    "# Built-in Functions"
   ]
  },
  {
   "cell_type": "raw",
   "id": "a3cb8ac3-fec8-46a2-9877-eb570c26cd36",
   "metadata": {},
   "source": [
    "#1) Describe the role of built-in functions like `len()`, `max()`, and `min()` in Python. \n",
    "\n",
    "Ans. len(), max(), and min() in Python are essential tools that provide useful functionality for working with data structures and performing common operations on sequences such as lists, strings, and tuples.\n",
    "\n",
    "len() - len() function is used to find length of iterable data structures like string, list, tuples and dictionaries. It returns an integer representing the length of the given iterable.\n",
    "\n",
    "max() - The max() function is used to find the maximum value within an iterable. It returns the largest element in the iterable.\n",
    "\n",
    "min() - The min() function is used to find the minimum value within an iterable. It returns the smallest element in the iterable.\n",
    "\n"
   ]
  },
  {
   "cell_type": "code",
   "execution_count": 19,
   "id": "853f3bd8-34f5-4843-bf0a-8d8f56583e1e",
   "metadata": {},
   "outputs": [
    {
     "name": "stdout",
     "output_type": "stream",
     "text": [
      "5\n"
     ]
    }
   ],
   "source": [
    "# Example of len()\n",
    "\n",
    "my_list = [1, 2, 3, 4, 5]\n",
    "length = len(my_list)\n",
    "print(length)  # returns the length of the list my_list\n"
   ]
  },
  {
   "cell_type": "code",
   "execution_count": 20,
   "id": "5a3db442-c4c6-4865-a0fe-6fa8879811d6",
   "metadata": {},
   "outputs": [
    {
     "name": "stdout",
     "output_type": "stream",
     "text": [
      "5\n"
     ]
    }
   ],
   "source": [
    "#Example of max()\n",
    "\n",
    "my_list = [1, 3, 5, 2, 4]\n",
    "maximum = max(my_list)\n",
    "print(maximum)  # Returns the maximum value of a list in my_list\n",
    "\n",
    "\n"
   ]
  },
  {
   "cell_type": "code",
   "execution_count": 21,
   "id": "50467834-2ae5-4209-b5af-62a00df77496",
   "metadata": {},
   "outputs": [
    {
     "name": "stdout",
     "output_type": "stream",
     "text": [
      "1\n"
     ]
    }
   ],
   "source": [
    "#Example of min\n",
    "\n",
    "my_list = [1, 3, 5, 2, 4]\n",
    "minimum = min(my_list)\n",
    "print(minimum)  # Returns the minimum value in the list my_list\n"
   ]
  },
  {
   "cell_type": "raw",
   "id": "4a44f085-c911-415e-bb86-68966ecf7ad1",
   "metadata": {},
   "source": [
    "#2) Write a Python program that uses the `map()` function to apply a function to each element of a list.\n",
    "\n",
    "Ans. The map() function is used to apply a particular condition to the elements of a n iterable data-structure like string , and returns the modified data .\n"
   ]
  },
  {
   "cell_type": "code",
   "execution_count": 22,
   "id": "584ef109-ec71-4d40-8804-160313f4267e",
   "metadata": {},
   "outputs": [
    {
     "name": "stdout",
     "output_type": "stream",
     "text": [
      "[1, 4, 9, 16, 25]\n"
     ]
    }
   ],
   "source": [
    "#Example\n",
    "\n",
    "# Define a function that squares a number\n",
    "def square(x):\n",
    "    return x ** 2\n",
    "\n",
    "# Create a list of numbers\n",
    "numbers = [1, 2, 3, 4, 5]\n",
    "\n",
    "squared_nums = list(map(square,numbers)) #returns the square of each elemts\n",
    "\n",
    "print(squared_nums)"
   ]
  },
  {
   "cell_type": "raw",
   "id": "503ccb18-5080-4f6a-9dc8-4beb8cd74108",
   "metadata": {},
   "source": [
    "#3) How does the `filter()` function work in Python, and when would you use it? \n",
    "\n",
    "Ans. filter() function in Python is used to sort an iterable data structure like list according to a given condition in the argument and returns the modified data.\n"
   ]
  },
  {
   "cell_type": "code",
   "execution_count": 32,
   "id": "6b53c3ce-338e-4972-a7d1-6adaf0220a80",
   "metadata": {},
   "outputs": [
    {
     "name": "stdout",
     "output_type": "stream",
     "text": [
      "[2, 4, 6, 8, 10]\n"
     ]
    }
   ],
   "source": [
    "#Example\n",
    "\n",
    "numbers = [1, 2, 3, 4, 5, 6, 7, 8, 9, 10]\n",
    "\n",
    "\n",
    "even_numbers = list(filter(lambda x:x%2==0,numbers)) #filters out the even numbers out of the list numbers\n",
    "\n",
    "print(even_numbers)\n"
   ]
  },
  {
   "cell_type": "raw",
   "id": "27de1df3-ccd9-4dd7-a51f-a8ee71881bfd",
   "metadata": {},
   "source": [
    "#4) Create a Python program that uses the `reduce()` function to find the product of all elements in a list.\n",
    "\n",
    "Ans. reduce() function in Python is used to reduce the datas in the iterable to a single value according to certain \n",
    "condition applied to the items inside the iterable.\n",
    "To find the product of all elements in a list using reduce(), you can use the functools.reduce() function and a custom function.\n"
   ]
  },
  {
   "cell_type": "code",
   "execution_count": 34,
   "id": "5edcd431-1fb5-495b-a496-351a6f7051a1",
   "metadata": {},
   "outputs": [
    {
     "name": "stdout",
     "output_type": "stream",
     "text": [
      "Product of all elements: 120\n"
     ]
    }
   ],
   "source": [
    "#Example\n",
    "\n",
    "from functools import reduce\n",
    "\n",
    "# Define a function to calculate the product of two numbers\n",
    "def multiply(x, y):\n",
    "    return x * y\n",
    "\n",
    "numbers = [1, 2, 3, 4, 5]\n",
    "\n",
    "# Use the reduce() function to find the product of all elements in the list\n",
    "product = reduce(multiply, numbers)\n",
    "\n",
    "print(\"Product of all elements:\", product)\n",
    "\n"
   ]
  },
  {
   "cell_type": "markdown",
   "id": "2cc1b9b7-342e-4b9f-a95c-292985359055",
   "metadata": {},
   "source": [
    "# Function Documentation and Best Practices"
   ]
  },
  {
   "cell_type": "raw",
   "id": "85a46d8a-06b1-4db9-aa29-83bf7797bfca",
   "metadata": {},
   "source": [
    "#1) Explain the purpose of docstrings in Python functions and how to write them.\n",
    "\n",
    "Ans. In Python, a docstring is a string literal that is used to document a function, method, class, module, or any other Python object. The primary purpose of docstrings is to provide a clear and concise explanation of what a particular piece of code does, its intended usage, and any additional information that may be helpful to developers.\n",
    "\n"
   ]
  },
  {
   "cell_type": "code",
   "execution_count": 35,
   "id": "ee5cb98a-5f6b-4a7c-9d01-a694037ffa4d",
   "metadata": {},
   "outputs": [
    {
     "name": "stdout",
     "output_type": "stream",
     "text": [
      "12\n"
     ]
    }
   ],
   "source": [
    "#Example of docstring\n",
    "\n",
    "def add(a, b):\n",
    "    \"\"\"\n",
    "    Add two numbers.\n",
    "\n",
    "    This function takes two numbers, 'a' and 'b', and returns their sum.\n",
    "\n",
    "    Parameters:\n",
    "    a (int or float): The first number.\n",
    "    b (int or float): The second number.\n",
    "\n",
    "    Returns:\n",
    "    int or float: The sum of 'a' and 'b'.\n",
    "    \"\"\"\n",
    "    return a + b\n",
    "\n",
    "print(add(8,4))"
   ]
  },
  {
   "cell_type": "raw",
   "id": "ea7916f7-7628-4399-91b1-c8a4c69f095c",
   "metadata": {},
   "source": [
    "In this example:\n",
    "\n",
    "The docstring is enclosed within triple quotes and provides a clear description of the function's purpose.\n",
    "\n",
    "It specifies the parameters a and b, their types (int or float), and their roles.\n",
    "\n",
    "It mentions the return value type and describes what the function returns.\n",
    "\n",
    "The docstring also includes any additional information that might be useful to understand the function.\n"
   ]
  },
  {
   "cell_type": "raw",
   "id": "e6e36fcf-8683-4373-be38-a993ef84edad",
   "metadata": {},
   "source": [
    "#2) Describe some best practices for naming functions and variables in Python, including naming conventions and guidelines. \n",
    "\n",
    "Ans. Here are some best practices for naming functions and variables in Python:\n",
    "\n",
    "     1. Use Descriptive Names: We need to use names that clearly and concisely describe the purpose or role of the         function or variable. We need to use descriptive names and abbreviations in place , so as clearly                   understand the function of the variable. The variable name should be concise and precise , with consistent         casing. It's better not to use single letter variable name and should use noun or noun-phrases to describe         the variable name.\n",
    "     \n",
    "     2. Follow PEP 8: PEP 8 is the official Python style guide, and it provides detailed naming conventions and             guidelines. For function names, we need to use lowercase with words separated by underscores (snake_case).         Example: calculate_average_score().\n",
    "        For variable names we need to use lowercase with words separated by underscores (snake_case) for most               variables. Example: student_name\n",
    "        For constants, use uppercase with words separated by underscores (ALL_CAPS). Example: MAX_LENGTH\n",
    "    \n",
    "     3. Avoid Reserved Words: We should not use Python's reserved words (e.g., if, else, while, for) as function or        variable names.\n",
    "     \n",
    "     4. Document Your Code: We should use docstrings to document the purpose and usage of functions, classes, and           modules. Clear documentation can compensate for less-than-perfect naming.\n",
    "        \n",
    "        \n",
    "    "
   ]
  },
  {
   "cell_type": "code",
   "execution_count": null,
   "id": "8394ffd3-0aef-4d6a-bcb2-c3e2e460d9b8",
   "metadata": {},
   "outputs": [],
   "source": []
  }
 ],
 "metadata": {
  "kernelspec": {
   "display_name": "Python 3 (ipykernel)",
   "language": "python",
   "name": "python3"
  },
  "language_info": {
   "codemirror_mode": {
    "name": "ipython",
    "version": 3
   },
   "file_extension": ".py",
   "mimetype": "text/x-python",
   "name": "python",
   "nbconvert_exporter": "python",
   "pygments_lexer": "ipython3",
   "version": "3.10.8"
  }
 },
 "nbformat": 4,
 "nbformat_minor": 5
}
