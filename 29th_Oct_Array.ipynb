{
 "cells": [
  {
   "cell_type": "code",
   "execution_count": 1,
   "id": "0087bd90-e477-4a15-a630-efef536557bf",
   "metadata": {},
   "outputs": [
    {
     "name": "stdout",
     "output_type": "stream",
     "text": [
      "True\n"
     ]
    }
   ],
   "source": [
    "#1) Given an array, check if it contains any duplicate or not\n",
    "\n",
    "def check_duplicate(arr):\n",
    "    null_arr = []\n",
    "    for i in arr:\n",
    "        if i not in null_arr:\n",
    "            null_arr.append(i)\n",
    "    if null_arr == arr:\n",
    "        return False\n",
    "    else:\n",
    "        return True\n",
    "\n",
    "#Driver code\n",
    "arr= [1,2,4,2,5,9]\n",
    "print(check_duplicate(arr))"
   ]
  },
  {
   "cell_type": "code",
   "execution_count": 3,
   "id": "156fa7d9-f4c6-4b7b-abc8-2603ecb4f832",
   "metadata": {},
   "outputs": [
    {
     "name": "stdout",
     "output_type": "stream",
     "text": [
      "[5, 6, 7, 1, 2, 3, 4]\n"
     ]
    }
   ],
   "source": [
    "#2) Given an array and an integer k,rotate the array to right by k steps\n",
    "\n",
    "def rotate_array_right(arr,k):\n",
    "    rotated_arr_right = arr[-k:]+arr[:-k]\n",
    "    return rotated_arr_right\n",
    "\n",
    "#Driver code\n",
    "arr=[1,2,3,4,5,6,7]\n",
    "k = 3\n",
    "print(rotate_array_right(arr,k))"
   ]
  },
  {
   "cell_type": "code",
   "execution_count": 14,
   "id": "93ae92b3-27f2-4af7-a781-8566496f5c65",
   "metadata": {},
   "outputs": [
    {
     "name": "stdout",
     "output_type": "stream",
     "text": [
      "[12, 9, 7, 5, 4, 2]\n"
     ]
    }
   ],
   "source": [
    "#3) Reverse the given array in place, without using any external data structure\n",
    "\n",
    "def reversed_arr(arr):\n",
    "    for i in range(len(arr)):\n",
    "        item = arr.pop() #popping out the last element of arr\n",
    "        arr.insert(i,item) #inserting the element popped at the ith position of the arr, for each ith loop\n",
    "    return arr\n",
    "    \n",
    "#Driver code\n",
    "arr = [2,4,5,7,9,12]\n",
    "print(reversed_arr(arr))\n",
    "\n",
    "#[12,9,7,5,4,2]"
   ]
  },
  {
   "cell_type": "code",
   "execution_count": 15,
   "id": "6197e477-7a89-42c4-b84f-60a88b49503e",
   "metadata": {},
   "outputs": [
    {
     "name": "stdout",
     "output_type": "stream",
     "text": [
      "20\n"
     ]
    }
   ],
   "source": [
    "#4) Given an array of integers find the maximum element in an array\n",
    "\n",
    "def max_arr(arr):\n",
    "    \n",
    "    #taking base value as 0\n",
    "    max_num = 0\n",
    "    for i in arr:\n",
    "        if i>max_num:\n",
    "            max_num =i\n",
    "        else:\n",
    "            continue\n",
    "    return max_num\n",
    "\n",
    "#Driver code\n",
    "arr=[10,5,20,8,15]\n",
    "print(max_arr(arr))"
   ]
  },
  {
   "cell_type": "code",
   "execution_count": 35,
   "id": "adfc224e-c2f5-4bf3-9221-63365d669d54",
   "metadata": {},
   "outputs": [
    {
     "name": "stdout",
     "output_type": "stream",
     "text": [
      "[1, 2, 3, 4, 4, 5]\n"
     ]
    }
   ],
   "source": [
    "#5) Given a sorted array, remove duplicate elements without using any extra data structures\n",
    "\n",
    "def remove_duplicates(arr):\n",
    "    for i in arr:\n",
    "        if arr.count(i)>1:\n",
    "            arr.remove(i)\n",
    "    return arr\n",
    "\n",
    "#Driver code\n",
    "arr=[1,1,2,2,2,3,3,4,4,4,5,5]\n",
    "print(remove_duplicates(arr))"
   ]
  },
  {
   "cell_type": "code",
   "execution_count": null,
   "id": "3bc21997-cc43-4483-881e-e26cb05a187f",
   "metadata": {},
   "outputs": [],
   "source": []
  }
 ],
 "metadata": {
  "kernelspec": {
   "display_name": "Python 3 (ipykernel)",
   "language": "python",
   "name": "python3"
  },
  "language_info": {
   "codemirror_mode": {
    "name": "ipython",
    "version": 3
   },
   "file_extension": ".py",
   "mimetype": "text/x-python",
   "name": "python",
   "nbconvert_exporter": "python",
   "pygments_lexer": "ipython3",
   "version": "3.10.8"
  }
 },
 "nbformat": 4,
 "nbformat_minor": 5
}
