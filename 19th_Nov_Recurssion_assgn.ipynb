{
 "cells": [
  {
   "cell_type": "raw",
   "id": "5a1704d5-5138-4a1b-8279-7e619664dbbd",
   "metadata": {},
   "source": [
    "#1) Can you explain the working of Tower of Hanoi algorith by writing a python program?How does the recursion work and how the movement between the diskas are accomplished?\n",
    "\n",
    "Ans: The tower of Hanoi algorithm returs the number of moves required to move n number of rings from 'A' tower to 'B' tower with help of 'C' tower.\n",
    "The total number of moves = the number of moves required to move (n-1) rings from 'A' to 'C'+ move the last ring from 'A' to 'B' + number of moves to move the (n-1) ring from 'C' to 'B' "
   ]
  },
  {
   "cell_type": "code",
   "execution_count": 4,
   "id": "4ff886d8-ad22-410e-9b40-f7e4a32a08d0",
   "metadata": {},
   "outputs": [
    {
     "name": "stdout",
     "output_type": "stream",
     "text": [
      "15\n"
     ]
    }
   ],
   "source": [
    "def towerOfHanoi(n,a,b,c):\n",
    "    \n",
    "    if n == 1:\n",
    "        return 1\n",
    "    else:\n",
    "        return towerOfHanoi(n-1,a,c,b)+1+towerOfHanoi(n-1,c,b,a)\n",
    "     \n",
    "    \n",
    "#Driver code\n",
    "n = 4\n",
    "print(towerOfHanoi(n,'a','b','c'))\n"
   ]
  },
  {
   "cell_type": "raw",
   "id": "91ded34b-96dd-4181-bebc-5fb2fb1adf81",
   "metadata": {},
   "source": [
    "#2) Given two strings word1 and word2.return the minimum number of operations required to convert word1 to word2.\n",
    "Example1: \n",
    "Input: word1 -'horse'\n",
    "       word2 - 'ros'"
   ]
  },
  {
   "cell_type": "code",
   "execution_count": 28,
   "id": "b256443d-911d-456b-b2e7-a8b7af0dbefd",
   "metadata": {},
   "outputs": [
    {
     "name": "stdout",
     "output_type": "stream",
     "text": [
      "word1:  horse\n",
      "word2:  ros\n",
      "('no. of moves: 4', 'word1: ros')\n",
      "word1:  intention\n",
      "word2:  execution\n",
      "('no. of moves: 8', 'word1: execution')\n"
     ]
    }
   ],
   "source": [
    "def convert(word1,word2,n1,n2):\n",
    "    count = 0\n",
    "    for i in range(n2):\n",
    "        if word2[i] in word1:\n",
    "            if word1[i] != word2[i]:\n",
    "                word1[i]=word2[i]\n",
    "                count +=1\n",
    "            elif word1[i] == word2[i]:\n",
    "                continue\n",
    "        if word2[i] not in word1:\n",
    "            word1[i]=word2[i]\n",
    "            count +=2\n",
    "            \n",
    "    if word1[:n2]==word2:\n",
    "        if n2<n1:\n",
    "            count += n1-n2\n",
    "            word1 = word1[:n2]\n",
    "        elif n2==n1:\n",
    "            word1 = word1[:n2]\n",
    "       \n",
    "        return f\"no. of moves: {count}\",f\"word1: {''.join(word1)}\"\n",
    "    \n",
    "    \n",
    "#Driver code\n",
    "word1 ='horse'\n",
    "word2 = 'ros'\n",
    "n1 = len(word1)\n",
    "n2 = len(word2)\n",
    "print('word1: ',word1)\n",
    "print('word2: ',word2)\n",
    "print(convert(list(word1),list(word2),n1,n2))\n",
    "\n",
    "word1 = \"intention\"\n",
    "word2 = \"execution\"\n",
    "n1 = len(word1)\n",
    "n2 = len(word2)\n",
    "print('word1: ',word1)\n",
    "print('word2: ',word2)\n",
    "print(convert(list(word1),list(word2),n1,n2))\n",
    "\n"
   ]
  },
  {
   "cell_type": "code",
   "execution_count": 38,
   "id": "d47e1eae-91b8-4fe4-9b7a-ce70a99fed90",
   "metadata": {},
   "outputs": [
    {
     "name": "stdout",
     "output_type": "stream",
     "text": [
      "word1: horse\n",
      "word2: ros\n",
      "no. of moves: 4\n",
      "word1: \n"
     ]
    }
   ],
   "source": [
    "# Above problem using recursion\n",
    "def convert_recursive(word1, word2, n1, n2, count=0):\n",
    "    # Base case\n",
    "    if n2 == 0:\n",
    "        if n1 > 0:\n",
    "            count += n1\n",
    "            return count, ''.join(word1[:n2])\n",
    "\n",
    "    # Recursive cases\n",
    "    if word2[0] in word1:\n",
    "        if word1[0] != word2[0]:\n",
    "            word1[0] = word2[0]\n",
    "            count += 1\n",
    "        return convert_recursive(word1[1:], word2[1:], n1-1, n2-1, count)\n",
    "    else:\n",
    "        word1[0] = word2[0]\n",
    "        count += 2\n",
    "        return convert_recursive(word1[1:], word2[1:], n1-1, n2-1, count)\n",
    "\n",
    "# Initial call\n",
    "word1 = 'horse'\n",
    "word2 = 'ros'\n",
    "n1 = len(word1)\n",
    "n2 = len(word2)\n",
    "\n",
    "result_count, result_word1 = convert_recursive(list(word1), list(word2), n1, n2)\n",
    "\n",
    "print('word1:', ''.join(word1))\n",
    "print('word2:', ''.join(word2))\n",
    "print(f'no. of moves: {result_count}')\n",
    "print(f'word1: {result_word1}')\n"
   ]
  },
  {
   "cell_type": "raw",
   "id": "610316af-4738-4005-aee4-ed8e23d26c83",
   "metadata": {},
   "source": [
    "#3) Print the max value of given array.\n",
    "Input: arr = [13,1,-3,22,5]"
   ]
  },
  {
   "cell_type": "code",
   "execution_count": 82,
   "id": "77fd19e6-a675-40e0-b0d9-8940d09a9e48",
   "metadata": {},
   "outputs": [
    {
     "name": "stdout",
     "output_type": "stream",
     "text": [
      "96\n"
     ]
    }
   ],
   "source": [
    "def max_value(arr,n,m):\n",
    "    if m>=n-1:\n",
    "        return arr[0]\n",
    "    else:\n",
    "        if arr[0]>arr[1]:\n",
    "            arr[1],arr[0]=arr[0],arr[1]\n",
    "        return max_value(arr[1:],n-1,m)\n",
    "\n",
    "    \n",
    "#Driver code\n",
    "arr = [13,1,-3,22,5,6,84,96,3,-2,4]\n",
    "n = len(arr)\n",
    "print(max_value(arr,n,0))"
   ]
  },
  {
   "cell_type": "raw",
   "id": "3be56835-db7e-4527-89f9-3be04da7ea5f",
   "metadata": {},
   "source": [
    "#4) Find sum of the  values of the array.\n",
    "Input: arr=[92,23,15,-20,10]"
   ]
  },
  {
   "cell_type": "code",
   "execution_count": 89,
   "id": "1c9cf124-55f3-4ee3-b500-080d6d6a1f7b",
   "metadata": {},
   "outputs": [
    {
     "name": "stdout",
     "output_type": "stream",
     "text": [
      "120\n"
     ]
    }
   ],
   "source": [
    "def arr_sum(arr,n):\n",
    "    \n",
    "    if n<=0:\n",
    "        return 0\n",
    "    else:\n",
    "        return arr[n-1] + arr_sum(arr[:n],n-1)\n",
    "    \n",
    "#Driver code\n",
    "arr=[92,23,15,-20,10]\n",
    "n = len(arr)\n",
    "print(arr_sum(arr,n))"
   ]
  },
  {
   "cell_type": "raw",
   "id": "b41ab06f-f04a-46ba-8d23-06ea01e79af0",
   "metadata": {},
   "source": [
    "#5) Given a number n. Print it if it is an Armstrong number.\n",
    "Example:\n",
    "Input = 153 = 1^3 + 5^3 + 3^3 \n",
    "Output = True"
   ]
  },
  {
   "cell_type": "code",
   "execution_count": 96,
   "id": "71c99320-a627-43f6-9520-7ccb67e27689",
   "metadata": {},
   "outputs": [
    {
     "name": "stdout",
     "output_type": "stream",
     "text": [
      "True\n"
     ]
    }
   ],
   "source": [
    "def armstrong(num,n,k):\n",
    "    \n",
    "    if n==0:\n",
    "        return 0\n",
    "    else:\n",
    "        return int(num[n-1])**k + armstrong(num[:n],n-1,k)\n",
    "    \n",
    "#Driver code\n",
    "num = '153'\n",
    "k = len(num)\n",
    "n = len(num)\n",
    "\n",
    "if armstrong(num,n,k) == int(num):\n",
    "    print(True)\n",
    "else:\n",
    "    print(False)\n",
    "   "
   ]
  },
  {
   "cell_type": "code",
   "execution_count": null,
   "id": "c02e3bb4-1d59-4d08-9d01-5652dd61b474",
   "metadata": {},
   "outputs": [],
   "source": []
  }
 ],
 "metadata": {
  "kernelspec": {
   "display_name": "Python 3 (ipykernel)",
   "language": "python",
   "name": "python3"
  },
  "language_info": {
   "codemirror_mode": {
    "name": "ipython",
    "version": 3
   },
   "file_extension": ".py",
   "mimetype": "text/x-python",
   "name": "python",
   "nbconvert_exporter": "python",
   "pygments_lexer": "ipython3",
   "version": "3.10.8"
  }
 },
 "nbformat": 4,
 "nbformat_minor": 5
}
