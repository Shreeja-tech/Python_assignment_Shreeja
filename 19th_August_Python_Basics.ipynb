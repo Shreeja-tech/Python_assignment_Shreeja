{
 "cells": [
  {
   "cell_type": "code",
   "execution_count": null,
   "id": "1cd25d82-6891-4f54-a9ec-7ae8a55edcf4",
   "metadata": {},
   "outputs": [],
   "source": [
    "#Swapping two int variables without using third variable"
   ]
  },
  {
   "cell_type": "code",
   "execution_count": 1,
   "id": "8c23711b-b0f5-435b-90f3-3d3635fae389",
   "metadata": {},
   "outputs": [],
   "source": [
    "x= 20\n",
    "y= 30"
   ]
  },
  {
   "cell_type": "code",
   "execution_count": 5,
   "id": "c43a63d9-4e01-44c3-8976-9f905d5ed7e7",
   "metadata": {},
   "outputs": [],
   "source": [
    "x = x+y\n",
    "y = x - y\n",
    "x = x - y"
   ]
  },
  {
   "cell_type": "code",
   "execution_count": 3,
   "id": "b1b56f60-4258-468f-bc23-985bfd510a76",
   "metadata": {},
   "outputs": [
    {
     "data": {
      "text/plain": [
       "30"
      ]
     },
     "execution_count": 3,
     "metadata": {},
     "output_type": "execute_result"
    }
   ],
   "source": [
    "x"
   ]
  },
  {
   "cell_type": "code",
   "execution_count": 4,
   "id": "6b5badf1-3c3c-4689-b721-657c098c0041",
   "metadata": {},
   "outputs": [
    {
     "data": {
      "text/plain": [
       "20"
      ]
     },
     "execution_count": 4,
     "metadata": {},
     "output_type": "execute_result"
    }
   ],
   "source": [
    "y"
   ]
  },
  {
   "cell_type": "code",
   "execution_count": null,
   "id": "ec342a27-0229-4da7-a5a1-619b578e1b0d",
   "metadata": {},
   "outputs": [],
   "source": [
    "#Area of rectangle calculation"
   ]
  },
  {
   "cell_type": "code",
   "execution_count": 8,
   "id": "66aff208-71a4-4a6e-8f1d-e81f60ae2121",
   "metadata": {},
   "outputs": [
    {
     "name": "stdin",
     "output_type": "stream",
     "text": [
      "Please enter length 60\n",
      "Please enter breadth 40\n"
     ]
    },
    {
     "name": "stdout",
     "output_type": "stream",
     "text": [
      "2400 sqmt\n"
     ]
    }
   ],
   "source": [
    "length = input(\"Please enter length\")\n",
    "breadth = input(\"Please enter breadth\")\n",
    "area = int(length) * int(breadth)\n",
    "print(area,\"sqmt\")"
   ]
  },
  {
   "cell_type": "code",
   "execution_count": null,
   "id": "126a1ca1-6a45-4105-b3c6-f45270be7a3a",
   "metadata": {},
   "outputs": [],
   "source": [
    "#Celsius to Farenheit temperature conversion"
   ]
  },
  {
   "cell_type": "code",
   "execution_count": 9,
   "id": "b575a676-fe2f-48b3-bd77-1c435d32d0ba",
   "metadata": {},
   "outputs": [
    {
     "name": "stdin",
     "output_type": "stream",
     "text": [
      "Enter temperature in Celsius  34\n"
     ]
    },
    {
     "name": "stdout",
     "output_type": "stream",
     "text": [
      "The temperature is 93.19999999999999 degree Farenheit\n"
     ]
    }
   ],
   "source": [
    "C = int(input(\"Enter temperature in Celsius \"))\n",
    "F = (C/5)*9 + 32\n",
    "print(\"The temperature is \" + str(F) +\" degree Farenheit\")"
   ]
  },
  {
   "cell_type": "code",
   "execution_count": null,
   "id": "a246e47f-ac98-421e-8441-6fb0b643b242",
   "metadata": {},
   "outputs": [],
   "source": [
    "#String based Questions\n",
    "# Write a Python Program that takes string as input and prints the length of the string"
   ]
  },
  {
   "cell_type": "code",
   "execution_count": 10,
   "id": "bc6c3b15-d77b-4171-b646-82563a4e0426",
   "metadata": {},
   "outputs": [
    {
     "name": "stdin",
     "output_type": "stream",
     "text": [
      "Enter a text:  tikyktgg\n"
     ]
    },
    {
     "name": "stdout",
     "output_type": "stream",
     "text": [
      "Length of the text is  8\n"
     ]
    }
   ],
   "source": [
    "s = input(\"Enter a text: \")\n",
    "l = len(s)\n",
    "print(\"Length of the text is \",l)"
   ]
  },
  {
   "cell_type": "code",
   "execution_count": null,
   "id": "b937d8f8-a66d-4348-973f-e3ad6c3cdb7c",
   "metadata": {},
   "outputs": [],
   "source": [
    "#Create a program that takes a sentence from the user and counts the number of vowels in ihe string"
   ]
  },
  {
   "cell_type": "code",
   "execution_count": 17,
   "id": "49638c46-a537-48e6-9437-a823024c5227",
   "metadata": {},
   "outputs": [
    {
     "name": "stdin",
     "output_type": "stream",
     "text": [
      "Enter a text:  jhjfjfujgujggkhik\n"
     ]
    },
    {
     "name": "stdout",
     "output_type": "stream",
     "text": [
      "3\n"
     ]
    }
   ],
   "source": [
    "string = input(\"Enter a text: \")\n",
    "count = 0\n",
    "for i in 'aeiouAEIOU':\n",
    "    count += string.count(i)\n",
    "print(count)\n"
   ]
  },
  {
   "cell_type": "code",
   "execution_count": null,
   "id": "f6e4e8e0-003c-41f9-be2b-b01ebe9ef440",
   "metadata": {},
   "outputs": [],
   "source": [
    "#Given a string reverse the orders of characters in the string using string slicing and print reverse string"
   ]
  },
  {
   "cell_type": "code",
   "execution_count": 19,
   "id": "cfcc2819-2615-47a3-bd1f-b7b2c5aef1c6",
   "metadata": {},
   "outputs": [
    {
     "name": "stdin",
     "output_type": "stream",
     "text": [
      "Enter text:  xxxgs;ujloug\n"
     ]
    },
    {
     "name": "stdout",
     "output_type": "stream",
     "text": [
      "Reversed string:  guolju;sgxxx\n"
     ]
    }
   ],
   "source": [
    "string = input(\"Enter text: \")\n",
    "print(\"Reversed string: \",string[::-1])"
   ]
  },
  {
   "cell_type": "code",
   "execution_count": null,
   "id": "ffc63e29-8307-430d-b2cd-0e113a0822b9",
   "metadata": {},
   "outputs": [],
   "source": [
    "#Write a program that takes string as input and checks if it's palindrome or not"
   ]
  },
  {
   "cell_type": "code",
   "execution_count": 21,
   "id": "a7612afb-369e-422f-b80c-6c922e9a380e",
   "metadata": {},
   "outputs": [
    {
     "name": "stdin",
     "output_type": "stream",
     "text": [
      "Enter text:  fjhfj\n"
     ]
    },
    {
     "name": "stdout",
     "output_type": "stream",
     "text": [
      "Not a Palindrome\n"
     ]
    }
   ],
   "source": [
    "string = input(\"Enter text: \")\n",
    "if (string == string[::-1]):\n",
    "    print (\"It is a Palindrome\")\n",
    "else:\n",
    "    print(\"Not a Palindrome\")"
   ]
  },
  {
   "cell_type": "code",
   "execution_count": null,
   "id": "aa67d7ae-2fc2-4550-8601-e50cce30d17c",
   "metadata": {},
   "outputs": [],
   "source": [
    "#Create a program that takes string as input and removes all spaces from it"
   ]
  },
  {
   "cell_type": "code",
   "execution_count": 22,
   "id": "1ced8523-9547-4409-a9d9-f3cd4dc4b0ae",
   "metadata": {},
   "outputs": [
    {
     "name": "stdin",
     "output_type": "stream",
     "text": [
      "Enter text:  the cat went round the bush\n"
     ]
    },
    {
     "name": "stdout",
     "output_type": "stream",
     "text": [
      "thecatwentroundthebush\n"
     ]
    }
   ],
   "source": [
    "string = input(\"Enter text: \")\n",
    "removed_space_string = string.replace(\" \",\"\")\n",
    "print(removed_space_string)"
   ]
  },
  {
   "cell_type": "code",
   "execution_count": null,
   "id": "c64ff47f-c4f9-4037-8006-a197d476b5dc",
   "metadata": {},
   "outputs": [],
   "source": []
  }
 ],
 "metadata": {
  "kernelspec": {
   "display_name": "Python 3 (ipykernel)",
   "language": "python",
   "name": "python3"
  },
  "language_info": {
   "codemirror_mode": {
    "name": "ipython",
    "version": 3
   },
   "file_extension": ".py",
   "mimetype": "text/x-python",
   "name": "python",
   "nbconvert_exporter": "python",
   "pygments_lexer": "ipython3",
   "version": "3.10.8"
  }
 },
 "nbformat": 4,
 "nbformat_minor": 5
}
