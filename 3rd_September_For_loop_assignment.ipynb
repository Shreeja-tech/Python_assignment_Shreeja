{
 "cells": [
  {
   "cell_type": "code",
   "execution_count": null,
   "id": "ca9252be-6c91-4de3-b2f3-177f6c4aad37",
   "metadata": {},
   "outputs": [],
   "source": [
    "#Basic Level"
   ]
  },
  {
   "cell_type": "code",
   "execution_count": 1,
   "id": "6e480d60-8597-4969-a68a-97c44340cecb",
   "metadata": {},
   "outputs": [
    {
     "name": "stdout",
     "output_type": "stream",
     "text": [
      "1 \n",
      "\n",
      "2 \n",
      "\n",
      "3 \n",
      "\n",
      "4 \n",
      "\n",
      "5 \n",
      "\n",
      "6 \n",
      "\n",
      "7 \n",
      "\n",
      "8 \n",
      "\n",
      "9 \n",
      "\n",
      "10 \n",
      "\n"
     ]
    }
   ],
   "source": [
    "#Write a Python program to print the numbers from 1 to 10 using a 'for' loop\n",
    "\n",
    "for i in range(1,11):\n",
    "    print(i,\"\\n\")\n"
   ]
  },
  {
   "cell_type": "code",
   "execution_count": 2,
   "id": "b7901c13-4b23-4cbd-818f-30cdb5dd7d1a",
   "metadata": {},
   "outputs": [
    {
     "name": "stdout",
     "output_type": "stream",
     "text": [
      "The sum of the numbers in the list:  572\n"
     ]
    }
   ],
   "source": [
    "#Create a program that cal culate sthe sum of all numbers in a list using for loop\n",
    "\n",
    "new_list = [23,'vnklbn',79,'dfh',380,90,'dkhsigh']\n",
    "sum_of_number = 0\n",
    "for i in new_list:\n",
    "    if type(i) == int:\n",
    "        sum_of_number += i\n",
    "\n",
    "print(\"The sum of the numbers in the list: \", sum_of_number)"
   ]
  },
  {
   "cell_type": "code",
   "execution_count": 7,
   "id": "14aac360-1234-4e30-a63d-283d1b5990a4",
   "metadata": {},
   "outputs": [
    {
     "name": "stdin",
     "output_type": "stream",
     "text": [
      "Enter a text:  vfjymfuyf\n"
     ]
    },
    {
     "name": "stdout",
     "output_type": "stream",
     "text": [
      "The reversed string is :  fyufmyjfv\n"
     ]
    }
   ],
   "source": [
    "#Write a program that prints the charcters of a string in reverse order using for loop\n",
    "\n",
    "string = input(\"Enter a text: \")\n",
    "reversed_string = ''\n",
    "for i in reversed(range(len(string))):\n",
    "    reversed_string += string[i]\n",
    "    \n",
    "print(\"The reversed string is : \",reversed_string)\n",
    "    "
   ]
  },
  {
   "cell_type": "code",
   "execution_count": 10,
   "id": "93a8c002-1ce6-4a83-8ef7-0f396f4bb308",
   "metadata": {},
   "outputs": [
    {
     "name": "stdin",
     "output_type": "stream",
     "text": [
      "Enter the number to find factorial:  7\n"
     ]
    },
    {
     "name": "stdout",
     "output_type": "stream",
     "text": [
      "The factorial of the number is:  5040\n"
     ]
    }
   ],
   "source": [
    "#Develop a program that finds the factorial of a number using for loop\n",
    "\n",
    "number = int(input(\"Enter the number to find factorial: \"))\n",
    "factorial = 1\n",
    "for i in range(2,number+1):\n",
    "    factorial = factorial * i\n",
    "print(\"The factorial of the number is: \",factorial)"
   ]
  },
  {
   "cell_type": "code",
   "execution_count": 12,
   "id": "ddfe5c8d-e7b2-4826-8dea-efe53646b367",
   "metadata": {},
   "outputs": [
    {
     "name": "stdin",
     "output_type": "stream",
     "text": [
      "Enter the number to get it's multiplication table: 8\n"
     ]
    },
    {
     "name": "stdout",
     "output_type": "stream",
     "text": [
      "8*1 =8\n",
      "8*2 =16\n",
      "8*3 =24\n",
      "8*4 =32\n",
      "8*5 =40\n",
      "8*6 =48\n",
      "8*7 =56\n",
      "8*8 =64\n",
      "8*9 =72\n",
      "8*10 =80\n"
     ]
    }
   ],
   "source": [
    "#Create a program to print Multiplication table of a number using for loop\n",
    "\n",
    "number = int(input(\"Enter the number to get it's multiplication table:\"))\n",
    "for i in range(1,11):\n",
    "    print(str(number) + \"*\" + str(i) + \" =\" + str(number*i))\n",
    "    \n"
   ]
  },
  {
   "cell_type": "code",
   "execution_count": 13,
   "id": "964f7e38-a45e-4f89-82c7-79dfd1ee45e3",
   "metadata": {},
   "outputs": [
    {
     "name": "stdin",
     "output_type": "stream",
     "text": [
      "Give the list integers:  78 34 90 22 69 498 59 19\n"
     ]
    },
    {
     "name": "stdout",
     "output_type": "stream",
     "text": [
      "The number of even numbers:  5\n",
      "The number of odd numbers:  3\n"
     ]
    }
   ],
   "source": [
    "#Write a program that counts the number of even and odd numbers in a string\n",
    "\n",
    "list_input = list(map(int,input(\"Give the list integers: \").split(' ')))\n",
    "even_count = 0\n",
    "odd_count = 0\n",
    "for i in list_input:\n",
    "    if(i%2 == 0):\n",
    "        even_count +=1\n",
    "    elif(i%2 != 0):\n",
    "        odd_count +=1\n",
    "    elif(i == 1):\n",
    "        print(\"1 is a unique number\") \n",
    "print(\"The number of even numbers: \",even_count)\n",
    "print(\"The number of odd numbers: \",odd_count)"
   ]
  },
  {
   "cell_type": "code",
   "execution_count": 14,
   "id": "ed5050c6-c70c-4fb9-a783-8d5f0d2b19c9",
   "metadata": {},
   "outputs": [
    {
     "name": "stdout",
     "output_type": "stream",
     "text": [
      "1\n",
      "4\n",
      "9\n",
      "16\n",
      "25\n"
     ]
    }
   ],
   "source": [
    "#Develop a program that prints the square of number from '1' to '5'\n",
    "\n",
    "for i in range(1,6):\n",
    "    print(i**2)\n"
   ]
  },
  {
   "cell_type": "code",
   "execution_count": 16,
   "id": "067c73a7-680a-4b64-ac71-cb01e4b78e5b",
   "metadata": {},
   "outputs": [
    {
     "name": "stdin",
     "output_type": "stream",
     "text": [
      "Enter a text:  bscjksgfakufgawgf\n"
     ]
    },
    {
     "name": "stdout",
     "output_type": "stream",
     "text": [
      "The length of the string is:  17\n"
     ]
    }
   ],
   "source": [
    "#create a program that finds length of string using for loop without using len() function\n",
    "\n",
    "string = input(\"Enter a text: \")\n",
    "count = 0\n",
    "for i in string:\n",
    "    count += 1\n",
    "print(\"The length of the string is: \",count)"
   ]
  },
  {
   "cell_type": "code",
   "execution_count": 18,
   "id": "b73ad10b-8265-4899-a6b7-68f881494d60",
   "metadata": {},
   "outputs": [
    {
     "name": "stdin",
     "output_type": "stream",
     "text": [
      "enter numbers to calculate it's average:  26 38 63 29 19 36 298\n"
     ]
    },
    {
     "name": "stdout",
     "output_type": "stream",
     "text": [
      "The average of the list of numbers:  72.71428571428571\n"
     ]
    }
   ],
   "source": [
    "#write a program that calculates the average of a list of numbers using a 'for' loop\n",
    "\n",
    "list_input = list(map(int,input(\"enter numbers to calculate it's average: \").split(' ')))\n",
    "\n",
    "sum_of_numbers = 0\n",
    "count = len(list_input)\n",
    "\n",
    "\n",
    "for i in list_input:\n",
    "    sum_of_numbers += i\n",
    "\n",
    "average = sum_of_numbers/count\n",
    "print(\"The average of the list of numbers: \", average)"
   ]
  },
  {
   "cell_type": "code",
   "execution_count": 31,
   "id": "2c06a3be-755a-418a-9c18-613886f7beb4",
   "metadata": {},
   "outputs": [
    {
     "name": "stdin",
     "output_type": "stream",
     "text": [
      "Enter a number:  8\n"
     ]
    },
    {
     "name": "stdout",
     "output_type": "stream",
     "text": [
      "The fibonacci sequence of n numbers:  0 1 1 2 3 5 8 13\n"
     ]
    }
   ],
   "source": [
    "#Write a program that prints the first n fibonacci number using a for loop\n",
    "\n",
    "n = int(input(\"Enter a number: \"))\n",
    "fibo_list = ['0','1']\n",
    "for i in range(2,n):\n",
    "    fibo_list.append(str(int(fibo_list[len(fibo_list)-1])+int(fibo_list[len(fibo_list)-2])))\n",
    "\n",
    "fibo_string = ' '.join(fibo_list)\n",
    "\n",
    "print(\"The fibonacci sequence of n numbers: \",fibo_string)"
   ]
  },
  {
   "cell_type": "code",
   "execution_count": null,
   "id": "20184925-91b5-4551-94b6-069f94ef7833",
   "metadata": {},
   "outputs": [],
   "source": [
    "#Intermediate level"
   ]
  },
  {
   "cell_type": "code",
   "execution_count": 11,
   "id": "88e29ef4-e8ef-41d0-81e2-8b92c835e494",
   "metadata": {},
   "outputs": [
    {
     "name": "stdout",
     "output_type": "stream",
     "text": [
      "The list contains 3 duplicates\n"
     ]
    }
   ],
   "source": [
    "#Write a program to check if a given list contains any duplicates using for loop\n",
    "\n",
    "given_list = ['tomato','apple','strawberry','apple','blueberry','orange','tomato','strawberry']\n",
    "count = 0\n",
    "for i in range(len(given_list)):\n",
    "    for j in given_list[i+1:]:\n",
    "        if(given_list[i] == j):\n",
    "            count += 1\n",
    "            \n",
    "if(count>0):\n",
    "    print(\"The list contains \" + str(count) +\" duplicates\")\n",
    "else:\n",
    "    print(\"There are no duplicates in list\")"
   ]
  },
  {
   "cell_type": "code",
   "execution_count": 1,
   "id": "5a623b24-3e61-4251-8ea6-b721ab3a47f7",
   "metadata": {},
   "outputs": [
    {
     "name": "stdin",
     "output_type": "stream",
     "text": [
      "Give the lower limit:  10\n",
      "Give the upper limit:  30\n"
     ]
    },
    {
     "name": "stdout",
     "output_type": "stream",
     "text": [
      "[11, 13, 17, 19, 23, 29]\n"
     ]
    }
   ],
   "source": [
    "### Create a program that prints the prime numbers in a given range using a 'for' loop\n",
    "\n",
    "l = int(input(\"Give the lower limit: \"))\n",
    "u = int(input(\"Give the upper limit: \"))\n",
    "\n",
    "\n",
    "def prime(x, y):\n",
    "    prime_list = []\n",
    "    for i in range(x, y):\n",
    "        if i == 0 or i == 1:\n",
    "            continue\n",
    "        else:\n",
    "            for j in range(2, int(i / 2) + 1):\n",
    "                if i % j == 0:\n",
    "                    break\n",
    "            else:\n",
    "                prime_list.append(i)\n",
    "    return prime_list\n",
    "print(prime(l,u))\n",
    "                    \n",
    "            "
   ]
  },
  {
   "cell_type": "code",
   "execution_count": 47,
   "id": "3a6ae046-1873-4717-b0c0-bedaaaa80ee5",
   "metadata": {},
   "outputs": [
    {
     "name": "stdin",
     "output_type": "stream",
     "text": [
      "Enter a text:  agfsgdhfuitiur\n"
     ]
    },
    {
     "name": "stdout",
     "output_type": "stream",
     "text": [
      "The number of vowels in the string is:  5\n"
     ]
    }
   ],
   "source": [
    "#Develop a program that counts the number of vowels in a string \n",
    "\n",
    "string = input(\"Enter a text: \")\n",
    "\n",
    "count = 0\n",
    "for i in string:\n",
    "    if i in \"aeiouAEIOU\":\n",
    "        count +=1\n",
    "\n",
    "print(\"The number of vowels in the string is: \",count)"
   ]
  },
  {
   "cell_type": "code",
   "execution_count": 51,
   "id": "d81e6bea-e686-40ec-a5b6-b08388dcabf9",
   "metadata": {},
   "outputs": [
    {
     "name": "stdin",
     "output_type": "stream",
     "text": [
      "Enter the elments with space:  dkfsdkgf eye khfkdlheye eye fhsdfkh eye kklhfkl ihfkh eye\n"
     ]
    },
    {
     "name": "stdout",
     "output_type": "stream",
     "text": [
      "The list input:  ['dkfsdkgf', 'eye', 'khfkdlheye', 'eye', 'fhsdfkh', 'eye', 'kklhfkl', 'ihfkh', 'eye']\n"
     ]
    },
    {
     "name": "stdin",
     "output_type": "stream",
     "text": [
      "Mention the element you want to remove from list:  eye\n"
     ]
    },
    {
     "name": "stdout",
     "output_type": "stream",
     "text": [
      "The modified list is:  ['dkfsdkgf', 'khfkdlheye', 'fhsdfkh', 'kklhfkl', 'ihfkh']\n"
     ]
    }
   ],
   "source": [
    "#Write a program that removes all occurence of a specific elements from a list using for loop\n",
    "\n",
    "list_input = list(map(str,input(\"Enter the elments with space: \").split(' ')))\n",
    "print(\"The list input: \",list_input)\n",
    "\n",
    "element = input(\"Mention the element you want to remove from list: \")\n",
    "\n",
    "for i in list_input:\n",
    "    if i == element:\n",
    "        list_input.remove(element)       \n",
    "print(\"The modified list is: \",list_input)"
   ]
  },
  {
   "cell_type": "code",
   "execution_count": 55,
   "id": "28194220-303c-4568-8c9b-5110f10202f8",
   "metadata": {},
   "outputs": [
    {
     "name": "stdout",
     "output_type": "stream",
     "text": [
      "1*1 =1\n",
      "1*2 =2\n",
      "1*3 =3\n",
      "1*4 =4\n",
      "1*5 =5\n",
      "1*6 =6\n",
      "1*7 =7\n",
      "1*8 =8\n",
      "1*9 =9\n",
      "1*10 =10\n",
      "\n",
      "\n",
      "2*1 =2\n",
      "2*2 =4\n",
      "2*3 =6\n",
      "2*4 =8\n",
      "2*5 =10\n",
      "2*6 =12\n",
      "2*7 =14\n",
      "2*8 =16\n",
      "2*9 =18\n",
      "2*10 =20\n",
      "\n",
      "\n",
      "3*1 =3\n",
      "3*2 =6\n",
      "3*3 =9\n",
      "3*4 =12\n",
      "3*5 =15\n",
      "3*6 =18\n",
      "3*7 =21\n",
      "3*8 =24\n",
      "3*9 =27\n",
      "3*10 =30\n",
      "\n",
      "\n",
      "4*1 =4\n",
      "4*2 =8\n",
      "4*3 =12\n",
      "4*4 =16\n",
      "4*5 =20\n",
      "4*6 =24\n",
      "4*7 =28\n",
      "4*8 =32\n",
      "4*9 =36\n",
      "4*10 =40\n",
      "\n",
      "\n",
      "5*1 =5\n",
      "5*2 =10\n",
      "5*3 =15\n",
      "5*4 =20\n",
      "5*5 =25\n",
      "5*6 =30\n",
      "5*7 =35\n",
      "5*8 =40\n",
      "5*9 =45\n",
      "5*10 =50\n",
      "\n",
      "\n"
     ]
    }
   ],
   "source": [
    "#Develop a program that generates multiplication table for numbers 1 to 5 using nested for loop\n",
    "\n",
    "product = 1\n",
    "for i in range(1,6):\n",
    "    for j in range(1,11):\n",
    "        print(str(i)+\"*\"+str(j)+\" =\"+str(i*j))\n",
    "    print('\\n')\n",
    "        \n",
    "        "
   ]
  },
  {
   "cell_type": "code",
   "execution_count": 58,
   "id": "8bc11ccd-db47-45d4-baff-67225023e2ff",
   "metadata": {},
   "outputs": [
    {
     "name": "stdin",
     "output_type": "stream",
     "text": [
      "Enter the temperatures in Farenheit with space:  92 99 93 90 88 87 85\n"
     ]
    },
    {
     "name": "stdout",
     "output_type": "stream",
     "text": [
      "Farenheit_list:  [92, 99, 93, 90, 88, 87, 85]\n",
      "The converted list to Celsius temperature:  [33.333333333333336, 37.22222222222222, 33.888888888888886, 32.22222222222222, 31.11111111111111, 30.555555555555554, 29.444444444444446]\n"
     ]
    }
   ],
   "source": [
    "#write a program that converts a list of Farenheit temperature to Celsius temperature using for loop\n",
    "\n",
    "Farenheit_list = list(map(int,input(\"Enter the temperatures in Farenheit with space: \").split(\" \")))\n",
    "print(\"Farenheit_list: \",Farenheit_list)\n",
    "\n",
    "Celsius_list = []\n",
    "c = 0\n",
    "for i in Farenheit_list:\n",
    "    c = ((i-32)/9)*5\n",
    "    Celsius_list.append(c)\n",
    "\n",
    "print(\"The converted list to Celsius temperature: \",Celsius_list)"
   ]
  },
  {
   "cell_type": "code",
   "execution_count": 62,
   "id": "27c3161d-b0be-43ab-9646-be42d780463c",
   "metadata": {},
   "outputs": [
    {
     "name": "stdout",
     "output_type": "stream",
     "text": [
      "list1:  ['banana', 'apple', 'strawberry', 'peach', 'cucumber']\n",
      "list2:  ['potato', 'carrot', 'onion', 'apple', 'banana']\n",
      "The common items in both lists:  banana, apple\n"
     ]
    }
   ],
   "source": [
    "#Create a program to print common element from two lists using for loop\n",
    "list1 = ['banana','apple','strawberry','peach','cucumber']\n",
    "list2 = ['potato','carrot','onion','apple','banana']\n",
    "print(\"list1: \",list1)\n",
    "print(\"list2: \",list2)\n",
    "\n",
    "#Checking if items in list1 contains in list2\n",
    "common = []\n",
    "for i in list1:\n",
    "    if i in list2:\n",
    "        common.append(i)\n",
    "print(\"The common items in both lists: \", ', '.join(common))"
   ]
  },
  {
   "cell_type": "code",
   "execution_count": 67,
   "id": "ddf96dbf-2664-47bf-ba82-4539f5c52314",
   "metadata": {},
   "outputs": [
    {
     "name": "stdin",
     "output_type": "stream",
     "text": [
      "Enter the base number:  7\n"
     ]
    },
    {
     "name": "stdout",
     "output_type": "stream",
     "text": [
      "*   \n",
      "\n",
      "*  *   \n",
      "\n",
      "*  *  *   \n",
      "\n",
      "*  *  *  *   \n",
      "\n",
      "*  *  *  *  *   \n",
      "\n",
      "*  *  *  *  *  *   \n",
      "\n",
      "*  *  *  *  *  *  *   \n",
      "\n"
     ]
    }
   ],
   "source": [
    "#Develop a pattern that prints a right angeled triangle with '*' using for loop\n",
    "\n",
    "# *\n",
    "# * *\n",
    "# * * *\n",
    "# * * * *\n",
    "# * * * * *\n",
    "\n",
    "base = int(input(\"Enter the base number: \"))\n",
    "\n",
    "for i in range(1,base+1):\n",
    "    print(\"*  \"*i,end=' ')\n",
    "    print('\\n')"
   ]
  },
  {
   "cell_type": "code",
   "execution_count": 1,
   "id": "d162b609-feb7-42a1-891c-96f4f17d4103",
   "metadata": {},
   "outputs": [
    {
     "name": "stdout",
     "output_type": "stream",
     "text": [
      "99\n"
     ]
    }
   ],
   "source": [
    "#Create a program to find the maximum element in a 2D list using a nested 'for' loop\n",
    "\n",
    "def largestNumber(list):\n",
    "    result = []\n",
    "    for i in range(0, len(list)):\n",
    "        largestNumber = list[i][0]\n",
    "        for j in range(0, len(list[i])):\n",
    "            if list[i][j] > largestNumber:\n",
    "                largestNumber = list[i][j]\n",
    "        result.append(largestNumber)\n",
    "    return max(result)\n",
    "\n",
    "print(largestNumber([[56,45,67,78], [56,78,45,34,89],\n",
    "      [78,89,34,56,90], [90,89,99,78,92], [98,87,89,56,79]]))"
   ]
  },
  {
   "cell_type": "code",
   "execution_count": 6,
   "id": "01c80cd1-550f-475b-9efe-b0b0fb6581f2",
   "metadata": {},
   "outputs": [
    {
     "name": "stdin",
     "output_type": "stream",
     "text": [
      "Enter a number:  40\n",
      "Enter a number:  60\n"
     ]
    },
    {
     "name": "stdout",
     "output_type": "stream",
     "text": [
      "The GCD of the two numbers are:  20\n"
     ]
    }
   ],
   "source": [
    "#write a program to find the greatest common divisor(GCD) using 'for' loop\n",
    "\n",
    "num1 = int(input(\"Enter a number: \"))\n",
    "num2 = int(input(\"Enter a number: \"))\n",
    "\n",
    "gcd = 0\n",
    "for i in range(1,min(num1,num2)+1):\n",
    "    if num1%i == 0 and num2%i == 0:\n",
    "        gcd = i\n",
    "\n",
    "print(\"The GCD of the two numbers are: \",gcd)"
   ]
  },
  {
   "cell_type": "code",
   "execution_count": null,
   "id": "2adb47f8-0e51-47ea-b1a3-39b96fea93f5",
   "metadata": {},
   "outputs": [],
   "source": [
    "#Advance level"
   ]
  },
  {
   "cell_type": "code",
   "execution_count": 68,
   "id": "74c2b6fb-57d8-4dbc-9474-f6c6977b090b",
   "metadata": {},
   "outputs": [
    {
     "name": "stdin",
     "output_type": "stream",
     "text": [
      "Enter a number:  23969303\n"
     ]
    },
    {
     "name": "stdout",
     "output_type": "stream",
     "text": [
      "The sum of the digits of the number:  35\n"
     ]
    }
   ],
   "source": [
    "#Create a program that calculates the sum of digits of a number using list comprehension\n",
    "\n",
    "number_string = input(\"Enter a number: \")\n",
    "\n",
    "number_list = [int(i) for i in number_string]\n",
    "\n",
    "sum_of_digits = 0\n",
    "for i in number_list:\n",
    "    sum_of_digits += i\n",
    "\n",
    "print(\"The sum of the digits of the number: \",sum_of_digits)"
   ]
  },
  {
   "cell_type": "code",
   "execution_count": 23,
   "id": "96ac4cf0-93fe-408b-bc6f-f8ab242ad7a4",
   "metadata": {},
   "outputs": [
    {
     "name": "stdin",
     "output_type": "stream",
     "text": [
      "Enter a number:  45\n"
     ]
    },
    {
     "name": "stdout",
     "output_type": "stream",
     "text": [
      "Prime factors of 45: [3, 5]\n"
     ]
    }
   ],
   "source": [
    "#Write a program to find prime factors of a number using for loop and list comprehension\n",
    "\n",
    "def prime_factors(n):\n",
    "    factors = [i for i in range(2, n + 1) if n % i == 0]\n",
    "    prime_factors = [factor for factor in factors if all(factor % i != 0 for i in range(2, factor))]\n",
    "    return prime_factors\n",
    "\n",
    "# Input a number for which you want to find prime factors\n",
    "num = int(input(\"Enter a number: \"))\n",
    "\n",
    "if num < 2:\n",
    "    print(\"Prime factors cannot be found for numbers less than 2.\")\n",
    "else:\n",
    "    factors = prime_factors(num)\n",
    "    print(f\"Prime factors of {num}: {factors}\")\n",
    "\n",
    "\n"
   ]
  },
  {
   "cell_type": "code",
   "execution_count": 71,
   "id": "caeb0e87-cd44-4dc1-8f80-506752793338",
   "metadata": {},
   "outputs": [
    {
     "name": "stdout",
     "output_type": "stream",
     "text": [
      "the integers present in list1 are:  [347, 2803, 8468, 979]\n"
     ]
    }
   ],
   "source": [
    "#Develop a program that extracts unique elements from a lista and stores them in a new list using a list comprehension\n",
    "\n",
    "list1 = ['shape',347,'house','catcher','fly',2803,8468,'@','(',979]\n",
    "\n",
    "### extracting elements which are only integers\n",
    "list2 = [i for i in list1 if type(i)==int]\n",
    "\n",
    "\n",
    "\n",
    "print(\"the integers present in list1 are: \",list2)"
   ]
  },
  {
   "cell_type": "code",
   "execution_count": 73,
   "id": "82c5e336-b9df-4236-bb62-52f219e4f21a",
   "metadata": {},
   "outputs": [
    {
     "name": "stdin",
     "output_type": "stream",
     "text": [
      "Enter a number number limit to check palindrome:  200\n"
     ]
    },
    {
     "name": "stdout",
     "output_type": "stream",
     "text": [
      "The palindrome numbers till the limit are:  1, 2, 3, 4, 5, 6, 7, 8, 9, 11, 22, 33, 44, 55, 66, 77, 88, 99, 101, 111, 121, 131, 141, 151, 161, 171, 181, 191\n"
     ]
    }
   ],
   "source": [
    "#Create a program that generates a list of all palindromic numbers upto a specified limit using list comprehension\n",
    "\n",
    "limit = int(input(\"Enter a number number limit to check palindrome: \"))\n",
    "\n",
    "palindrome_numbers = [ str(i) for i in range(1,limit) if str(i) == str(i)[::-1]]\n",
    "\n",
    "print(\"The palindrome numbers till the limit are: \",', '.join(palindrome_numbers))\n",
    "                      \n",
    "            "
   ]
  },
  {
   "cell_type": "code",
   "execution_count": 32,
   "id": "2fcdaf06-7fa0-410b-8c15-31fa25a1c225",
   "metadata": {},
   "outputs": [
    {
     "name": "stdout",
     "output_type": "stream",
     "text": [
      "The flatenned list is:  ['item1', 'item2', 'item3', 'item4', 'item5', 'item6', 'item7', 'item8', 'item9', 'item10', 'item11', 'item12']\n"
     ]
    }
   ],
   "source": [
    "#write a program to flatten a nested list using list comprehension\n",
    "\n",
    "l = ['item1','item2',['item3','item4'],['item5','item6','item7'],['item8','item9','item10','item11','item12']]\n",
    "flat = []\n",
    "\n",
    "for i in l:\n",
    "    if type(i) is list:\n",
    "        for x in i:\n",
    "            flat.append(x)\n",
    "    else:\n",
    "        flat.append(i)\n",
    "\n",
    "print('The flatenned list is: ',flat)"
   ]
  },
  {
   "cell_type": "code",
   "execution_count": 1,
   "id": "fe4a545c-3b39-47ff-8512-b624c8bcc34f",
   "metadata": {},
   "outputs": [
    {
     "name": "stdin",
     "output_type": "stream",
     "text": [
      "Enter numbers with space:  28 34 76 99 55 73 20 44 37 74 28\n"
     ]
    },
    {
     "name": "stdout",
     "output_type": "stream",
     "text": [
      "The sum of even numbers in list:  304\n",
      "The sum of odd numbers in list:  264\n"
     ]
    }
   ],
   "source": [
    "#Develop a program that calculates the sum of even and odd numbers in a list separately using list comprehension\n",
    "\n",
    "number_list = list(map(int,input(\"Enter numbers with space: \").split(' ')))\n",
    "\n",
    "even = 0\n",
    "odd = 0\n",
    "\n",
    "even_sum = [i for i in number_list if (i%2 ==0)]\n",
    "odd_sum = [i for i in number_list if (i%2 != 0)]\n",
    "\n",
    "for i in even_sum:\n",
    "    even += i\n",
    "\n",
    "for i in odd_sum:\n",
    "    odd += i\n",
    "    \n",
    "print(\"The sum of even numbers in list: \",even)\n",
    "print(\"The sum of odd numbers in list: \",odd)\n",
    "\n",
    "\n"
   ]
  },
  {
   "cell_type": "code",
   "execution_count": 4,
   "id": "cfc17c1b-61db-4bcf-81ca-44cf275a9314",
   "metadata": {},
   "outputs": [
    {
     "name": "stdout",
     "output_type": "stream",
     "text": [
      "The list of squares from 1 to 10 :  [1, 4, 9, 16, 25, 36, 49, 64, 81, 100]\n"
     ]
    }
   ],
   "source": [
    "#Create a programm that generates a list of squares from 1 to 10 using list comprehension\n",
    "\n",
    "square_list = [ (i**2) for i in range(1,11)]\n",
    "\n",
    "print(\"The list of squares from 1 to 10 : \",square_list)\n",
    "    \n",
    "        "
   ]
  },
  {
   "cell_type": "code",
   "execution_count": 6,
   "id": "a8ec07f7-a706-48c0-b498-ac96b4155efd",
   "metadata": {},
   "outputs": [
    {
     "name": "stdout",
     "output_type": "stream",
     "text": [
      "The dictionary made by two lists:  {'Name': 'Popeye', 'Place': 'US', 'Age': 36}\n"
     ]
    }
   ],
   "source": [
    "#Write a program that combines two lists into a dictionary using dictionary comprehension\n",
    "\n",
    "keys = [ \"Name\" , \"Place\", \"Age\" ]\n",
    "values = [\"Popeye\" ,\"US\", 36]\n",
    "\n",
    "dictionary = {keys[i]: values[i] for i in range(len(keys)) }\n",
    "\n",
    "print(\"The dictionary made by two lists: \", dictionary)\n",
    "\n"
   ]
  },
  {
   "cell_type": "code",
   "execution_count": 7,
   "id": "850c7814-fa97-4025-926d-1075fecf8f2e",
   "metadata": {},
   "outputs": [
    {
     "name": "stdin",
     "output_type": "stream",
     "text": [
      "Enter a string:  sdhawfkiaegikeiry\n"
     ]
    },
    {
     "name": "stdout",
     "output_type": "stream",
     "text": [
      "The list of vowels present in the string:  ['a', 'i', 'a', 'e', 'i', 'e', 'i']\n"
     ]
    }
   ],
   "source": [
    "#Develop a program that extracts vowel from a string and stores them in a list using list comprehension\n",
    "\n",
    "enter_string = input(\"Enter a string: \")\n",
    "\n",
    "vowels_list = [ i for i in enter_string if i in \"aeiouAEIOU\" ]\n",
    "\n",
    "print(\"The list of vowels present in the string: \", vowels_list)"
   ]
  },
  {
   "cell_type": "code",
   "execution_count": 2,
   "id": "c19f8a3f-bf26-4092-8a52-0ecf88570933",
   "metadata": {},
   "outputs": [
    {
     "name": "stdin",
     "output_type": "stream",
     "text": [
      "Enter elements with spaces:  gdthdt 467757vv 75886v 8686 8689686 686\n"
     ]
    },
    {
     "name": "stdout",
     "output_type": "stream",
     "text": [
      " The new list sorted :  ['8686', '8689686', '686']\n"
     ]
    }
   ],
   "source": [
    "#Create a program that removes all non-numeric characters from a list of strings using list comprehension\n",
    "\n",
    "new_list = list(map(str,input(\"Enter elements with spaces: \").split(' ')))\n",
    "\n",
    "sorted_list = [ i for i in new_list if i.isdigit()== True ]\n",
    "\n",
    "print(\" The new list sorted : \",sorted_list)"
   ]
  },
  {
   "cell_type": "code",
   "execution_count": null,
   "id": "b1253904-8395-4216-8141-df13bf4fe086",
   "metadata": {},
   "outputs": [],
   "source": [
    "## Challenge level"
   ]
  },
  {
   "cell_type": "code",
   "execution_count": 11,
   "id": "5e40e2f4-7d32-4aa8-ae7a-9725d6901fa0",
   "metadata": {},
   "outputs": [
    {
     "name": "stdin",
     "output_type": "stream",
     "text": [
      "Enter the highest limit of prime number:  30\n"
     ]
    },
    {
     "name": "stdout",
     "output_type": "stream",
     "text": [
      "The prime numbers till the limit are:  [2, 3, 5, 7, 11, 13, 17, 19, 23, 29]\n"
     ]
    }
   ],
   "source": [
    "##Write a program that generates a list of all prime numbers \n",
    "##using the Sieve of Eratosthenes algorithm and list comprehension\n",
    "\n",
    "n = int(input(\"Enter the highest limit of prime number: \"))\n",
    "\n",
    "num = []\n",
    "multiples = []\n",
    "for i in range(2,n+1):\n",
    "    num.append(i)\n",
    "\n",
    "#print(num)\n",
    "\n",
    "#getting the multiple of each number till the limit\n",
    "\n",
    "\n",
    "for i in num:\n",
    "    for x in num:\n",
    "        if ((x*i) in num):\n",
    "            multiples.append(x*i)\n",
    "\n",
    "\n",
    "#print(\"The multiples of are: \",multiples)\n",
    "\n",
    "#sorting out the multiples of the numbers from the original list\n",
    "num = [i for i in num if i not in multiples]\n",
    "        \n",
    "print(\"The prime numbers till the limit are: \",num)\n",
    "            \n"
   ]
  },
  {
   "cell_type": "code",
   "execution_count": 4,
   "id": "1222e780-e5e9-45d8-bbf5-f0f99389f986",
   "metadata": {},
   "outputs": [
    {
     "name": "stdin",
     "output_type": "stream",
     "text": [
      "Enter the highest limit of Pythagorean Triplets:  25\n"
     ]
    },
    {
     "name": "stdout",
     "output_type": "stream",
     "text": [
      "The pythagorean triplets till the limit are:  [(3, 4, 5), (5, 12, 13), (6, 8, 10), (7, 24, 25), (8, 15, 17), (9, 12, 15), (12, 16, 20), (15, 20, 25)]\n"
     ]
    }
   ],
   "source": [
    "#### Create a program that genrates a list of all Pythagorean triplets \n",
    "### upto specified limit using list comprehension\n",
    "\n",
    "n = int(input(\"Enter the highest limit of Pythagorean Triplets: \"))\n",
    "\n",
    "pythago = [(x,y,z) for x in range(1,n+1) for y in range(x,n+1) for z in range(y,n+1) if x*x + y*y == z*z]\n",
    "\n",
    "print(\"The pythagorean triplets till the limit are: \",pythago)\n",
    "\n",
    "\n"
   ]
  },
  {
   "cell_type": "code",
   "execution_count": 16,
   "id": "e5fc1651-3a72-414e-abb1-c8668ced7c71",
   "metadata": {},
   "outputs": [
    {
     "name": "stdout",
     "output_type": "stream",
     "text": [
      "All possible combination with two list items:  [(2, 1), (2, 5), (2, 7), (2, 18), (2, 22), (2, 14), (2, 12), (2, 17), (2, 27), (2, 16), (3, 1), (3, 5), (3, 7), (3, 18), (3, 22), (3, 14), (3, 12), (3, 17), (3, 27), (3, 16), (4, 1), (4, 5), (4, 7), (4, 18), (4, 22), (4, 14), (4, 12), (4, 17), (4, 27), (4, 16), (8, 1), (8, 5), (8, 7), (8, 18), (8, 22), (8, 14), (8, 12), (8, 17), (8, 27), (8, 16), (9, 1), (9, 5), (9, 7), (9, 18), (9, 22), (9, 14), (9, 12), (9, 17), (9, 27), (9, 16), (13, 1), (13, 5), (13, 7), (13, 18), (13, 22), (13, 14), (13, 12), (13, 17), (13, 27), (13, 16), (23, 1), (23, 5), (23, 7), (23, 18), (23, 22), (23, 14), (23, 12), (23, 17), (23, 27), (23, 16), (11, 1), (11, 5), (11, 7), (11, 18), (11, 22), (11, 14), (11, 12), (11, 17), (11, 27), (11, 16), (24, 1), (24, 5), (24, 7), (24, 18), (24, 22), (24, 14), (24, 12), (24, 17), (24, 27), (24, 16), (15, 1), (15, 5), (15, 7), (15, 18), (15, 22), (15, 14), (15, 12), (15, 17), (15, 27), (15, 16)]\n"
     ]
    }
   ],
   "source": [
    "### Develop a program that generates all possible combination of two lists using list comprehension\n",
    "\n",
    "\n",
    "l1 = [2,3,4,8,9,13,23,11,24,15]\n",
    "l2 = [1,5,7,18,22,14,12,17,27,16]\n",
    "\n",
    "l = [(i,j) for i in l1 for j in l2]\n",
    "\n",
    "print(\"All possible combination with two list items: \",l)"
   ]
  },
  {
   "cell_type": "code",
   "execution_count": 1,
   "id": "f0fe92f1-bfb7-49b0-ae6b-0f57c599b48c",
   "metadata": {},
   "outputs": [
    {
     "name": "stdout",
     "output_type": "stream",
     "text": [
      "The mean of the list:  38.36363636363637\n",
      "The median of the list:  34\n",
      "The mode of the list of numbers:  3\n"
     ]
    }
   ],
   "source": [
    "### Write a program that calculates mean,median , mode of a list using list comprehension\n",
    "\n",
    "l = [24,45,56,34,24,34,35,45,24,45,56]\n",
    "\n",
    "mean = sum(l)/len(l)\n",
    "\n",
    "print(\"The mean of the list: \", mean)\n",
    "\n",
    "if len(l)%2 == 0:\n",
    "    median = (l[len(l)//2-1] + l[len(l)//2])/2 \n",
    "else:\n",
    "    median = l[len(l)//2]\n",
    "    \n",
    "print(\"The median of the list: \",median)\n",
    "    \n",
    "count = 0\n",
    "for i in l :\n",
    "    if(l.count(i)>count):\n",
    "        count = l.count(i)\n",
    "        mode = i\n",
    "    elif(count > l.count(i)):\n",
    "        continue\n",
    "\n",
    "print(\"The mode of the list of numbers: \",mode)\n",
    "\n"
   ]
  },
  {
   "cell_type": "code",
   "execution_count": 59,
   "id": "1be78dc6-3c86-4c7d-bb53-e62ec98cb058",
   "metadata": {},
   "outputs": [
    {
     "name": "stdin",
     "output_type": "stream",
     "text": [
      "Enter the number of rows:  7\n"
     ]
    },
    {
     "name": "stdout",
     "output_type": "stream",
     "text": [
      "      1       \n",
      "     1 1      \n",
      "    1 2 1     \n",
      "   1 3 3 1    \n",
      "  1 4 6 4 1   \n",
      " 1 5 10 10 5 1  \n",
      "1 6 15 20 15 6 1 \n"
     ]
    }
   ],
   "source": [
    "## Create a program that generates Pascal's triangle upto specified number of rows using list comprehension\n",
    "\n",
    "# 1\n",
    "# 1 1\n",
    "# 1 2 1\n",
    "# 1 3 3 1\n",
    "# 1 4 6 4 1\n",
    "# 1 5 10 10 5 1\n",
    "# 1 6 15 20 15 6 1\n",
    "\n",
    "n = int(input(\"Enter the number of rows: \"))\n",
    "\n",
    "arr = []\n",
    "\n",
    "#Generating values for array\n",
    "for i in range(n):\n",
    "        temp = []\n",
    "        arr.append(temp)\n",
    "        for j in range(i+1):\n",
    "            if j==0 or j==i:\n",
    "                temp.append(1)\n",
    "            else:\n",
    "                temp.append(arr[i-1][j-1]+arr[i-1][j])\n",
    "\n",
    "#generating triangle\n",
    "for i in range(n):               \n",
    "    print(' '*(n-i-1),end='')\n",
    "    for j in range(i+1):\n",
    "        print(str(arr[i][j]),end=' ')\n",
    "        \n",
    "    print(' '*(n-i-1),end='\\n')\n",
    "            \n",
    "\n"
   ]
  },
  {
   "cell_type": "code",
   "execution_count": 73,
   "id": "5e9c03b6-15b0-4b7a-af02-7262659f6243",
   "metadata": {},
   "outputs": [
    {
     "name": "stdin",
     "output_type": "stream",
     "text": [
      "Enter a number limit:  6\n"
     ]
    },
    {
     "name": "stdout",
     "output_type": "stream",
     "text": [
      "[1, 1, 2, 6, 24, 120, 720]\n",
      "The sum of factorial from 1 to 5:  874\n"
     ]
    }
   ],
   "source": [
    "### Develop a program that calculates sum of digit of a factorial of number from 1 to 5 using list comprehension\n",
    "\n",
    "n = int(input(\"Enter a number limit: \"))\n",
    "store_fact = []\n",
    "\n",
    "for i in range(n+1):\n",
    "    fact = 1\n",
    "    for j in range(1,i+1):\n",
    "        fact = fact*j\n",
    "    store_fact.append(fact)\n",
    "\n",
    "print(store_fact)\n",
    "sum_of_fact = sum(store_fact)\n",
    "\n",
    "print(\"The sum of factorial from 1 to 5: \",sum_of_fact)\n",
    "\n"
   ]
  },
  {
   "cell_type": "code",
   "execution_count": 75,
   "id": "a4877d8b-5f3e-4ad7-8f6d-8a30583ec362",
   "metadata": {},
   "outputs": [
    {
     "name": "stdin",
     "output_type": "stream",
     "text": [
      "Enter a sentence:  The cat jumped on thr roof\n"
     ]
    },
    {
     "name": "stdout",
     "output_type": "stream",
     "text": [
      "The longest word is:  jumped\n"
     ]
    }
   ],
   "source": [
    "## Write a program that finds the longest word in a sentence using list comprehension\n",
    "\n",
    "sentence = input(\"Enter a sentence: \")\n",
    "\n",
    "list_sentence = list(sentence.split(' '))\n",
    "\n",
    "length = [len(i) for i in list_sentence]\n",
    "max_str=''\n",
    "\n",
    "for i in list_sentence:\n",
    "    if max(length) == len(i):\n",
    "        max_str=i\n",
    "    \n",
    "print(\"The longest word is: \",max_str)\n",
    "    \n"
   ]
  },
  {
   "cell_type": "code",
   "execution_count": 111,
   "id": "994b1a14-6df7-45c6-9649-12beb355da8f",
   "metadata": {},
   "outputs": [
    {
     "name": "stdin",
     "output_type": "stream",
     "text": [
      "Enter strings with space:  The complicated school homework left the parents trying to help their kids quite confused.\n"
     ]
    },
    {
     "name": "stdout",
     "output_type": "stream",
     "text": [
      "{'The': 1, 'complicated': 4, 'school': 2, 'homework': 3, 'left': 1, 'the': 1, 'parents': 2, 'trying': 1, 'to': 1, 'help': 1, 'their': 2, 'kids': 1, 'quite': 3, 'confused.': 3}\n"
     ]
    }
   ],
   "source": [
    "##Create a program that filters a list of strings to include only those with more than three vowels using list comprehension\n",
    "\n",
    "list_string = list(map(str,input(\"Enter strings with space: \").split(' ')))\n",
    "\n",
    "vowels = 'aeiouAEIOU'\n",
    "\n",
    "vowel_count = {word: sum(1 for char in word if char in \"aeiouAEIOU\") for word in list_string}\n",
    "\n",
    "\n",
    "print(vowel_count)\n",
    "\n",
    "\n",
    "                   \n",
    "        "
   ]
  },
  {
   "cell_type": "code",
   "execution_count": 14,
   "id": "28684807-613b-4123-ada0-462563b1c18e",
   "metadata": {},
   "outputs": [
    {
     "name": "stdin",
     "output_type": "stream",
     "text": [
      "Enter the number limit:  20\n"
     ]
    },
    {
     "name": "stdout",
     "output_type": "stream",
     "text": [
      "The sum of digits of the number:  102\n"
     ]
    }
   ],
   "source": [
    "## Develop a program that calculates the sum of the digits of numbers from 1 to 1000 \n",
    "## using list comprehension\n",
    "\n",
    "n = int(input(\"Enter the number limit: \"))\n",
    "\n",
    "arr = [str(i) for i in range(1,n+1)]\n",
    "\n",
    "#print(arr)\n",
    "\n",
    "list_arr= [list(i) for i in arr]\n",
    "#print(list_arr)\n",
    "\n",
    "sum_arr = [ sum(int(j) for j in i) for i in list_arr]\n",
    "#print(sum_arr)\n",
    "\n",
    "sum_of_digits = sum(sum_arr)\n",
    "\n",
    "print(\"The sum of digits of the number: \",sum_of_digits)\n",
    "\n"
   ]
  },
  {
   "cell_type": "code",
   "execution_count": 22,
   "id": "20b67053-0837-4541-b11e-da710c7b221c",
   "metadata": {},
   "outputs": [
    {
     "name": "stdin",
     "output_type": "stream",
     "text": [
      "Enter the number limit >100:  200\n"
     ]
    },
    {
     "name": "stdout",
     "output_type": "stream",
     "text": [
      "[2, 3, 4, 5, 6, 7, 8, 9, 11, 22, 33, 44, 55, 66, 77, 88, 99, 101, 111, 121, 131, 141, 151, 161, 171, 181, 191]\n",
      "2, 3, 5, 7, 11, 101, 131, 151, 181, 191\n"
     ]
    }
   ],
   "source": [
    "## Write a program that generates a list of prime palindromic numbers using list comprehension\n",
    "\n",
    "n = int(input(\"Enter the number limit >100: \"))\n",
    "\n",
    "palindrome_list = [i for i in range(2,n+1) if str(i)==str(i)[::-1] ]\n",
    "\n",
    "print(palindrome_list)\n",
    "\n",
    "## finding prime numbers from palindrom\n",
    "\n",
    "def is_prime(number):\n",
    "    if number <= 1:\n",
    "        return False\n",
    "    if number <= 3:\n",
    "        return True\n",
    "    if number % 2 == 0 or number % 3 == 0:\n",
    "        return False\n",
    "    i = 5\n",
    "    while i * i <= number:\n",
    "        if number % i == 0 or number % (i + 2) == 0:\n",
    "            return False\n",
    "        i += 6\n",
    "    return True\n",
    "\n",
    "primes = [i for i in palindrome_list if is_prime(i)==True]\n",
    "\n",
    "print(', '.join(str(i) for i in primes))"
   ]
  },
  {
   "cell_type": "code",
   "execution_count": null,
   "id": "e673ff50-f03d-4cd6-b998-b748d2bfc80f",
   "metadata": {},
   "outputs": [],
   "source": []
  }
 ],
 "metadata": {
  "kernelspec": {
   "display_name": "Python 3 (ipykernel)",
   "language": "python",
   "name": "python3"
  },
  "language_info": {
   "codemirror_mode": {
    "name": "ipython",
    "version": 3
   },
   "file_extension": ".py",
   "mimetype": "text/x-python",
   "name": "python",
   "nbconvert_exporter": "python",
   "pygments_lexer": "ipython3",
   "version": "3.10.8"
  }
 },
 "nbformat": 4,
 "nbformat_minor": 5
}
