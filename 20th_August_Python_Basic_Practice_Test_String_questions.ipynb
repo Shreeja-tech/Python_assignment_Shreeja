{
 "cells": [
  {
   "cell_type": "code",
   "execution_count": 2,
   "id": "10c5fac8-63be-4969-8348-7b8cc9213bc4",
   "metadata": {},
   "outputs": [
    {
     "name": "stdin",
     "output_type": "stream",
     "text": [
      "Enter a text:  monkadonka\n"
     ]
    }
   ],
   "source": [
    "string = input(\"Enter a text: \")"
   ]
  },
  {
   "cell_type": "code",
   "execution_count": null,
   "id": "854cf5bf-1d8a-42e5-a173-6b1773637097",
   "metadata": {},
   "outputs": [],
   "source": [
    "#Write a program to reverse a string"
   ]
  },
  {
   "cell_type": "code",
   "execution_count": 3,
   "id": "9609817c-da79-48b9-a1f4-30b27939d86d",
   "metadata": {},
   "outputs": [
    {
     "name": "stdout",
     "output_type": "stream",
     "text": [
      "Reversed string is:  aknodaknom\n"
     ]
    }
   ],
   "source": [
    "print(\"Reversed string is: \",string[::-1])"
   ]
  },
  {
   "cell_type": "code",
   "execution_count": 4,
   "id": "c47f981f-2d26-4f4e-8c04-0da3b46d7ea9",
   "metadata": {},
   "outputs": [
    {
     "name": "stdout",
     "output_type": "stream",
     "text": [
      "Not a Palindrome\n"
     ]
    }
   ],
   "source": [
    "#Check if a string is palindrome\n",
    "if(string == string[::-1]):\n",
    "    print(\"String is Palindrome\")\n",
    "else:\n",
    "    print(\"Not a Palindrome\")"
   ]
  },
  {
   "cell_type": "code",
   "execution_count": 5,
   "id": "64d6ccd8-a3e4-4243-9507-1e03d7bfccab",
   "metadata": {},
   "outputs": [
    {
     "name": "stdout",
     "output_type": "stream",
     "text": [
      "The text in Uppercase:  MONKADONKA\n"
     ]
    }
   ],
   "source": [
    "#Convert a string to uppercase\n",
    "stringUpper = string.upper()\n",
    "print(\"The text in Uppercase: \",stringUpper)"
   ]
  },
  {
   "cell_type": "code",
   "execution_count": 6,
   "id": "d39d2b89-8e7b-446d-8e26-597344babb34",
   "metadata": {},
   "outputs": [
    {
     "name": "stdin",
     "output_type": "stream",
     "text": [
      "Text in Upper case:  AGDJK\n"
     ]
    },
    {
     "name": "stdout",
     "output_type": "stream",
     "text": [
      "The string in lower case:  agdjk\n"
     ]
    }
   ],
   "source": [
    "#Convert a string to lowercase\n",
    "string_upper = input(\"Text in Upper case: \")\n",
    "print(\"The string in lower case: \",string_upper.lower())"
   ]
  },
  {
   "cell_type": "code",
   "execution_count": 7,
   "id": "8f2cf6fb-9fed-44e0-bbf8-022a6ca7fa33",
   "metadata": {},
   "outputs": [
    {
     "name": "stdout",
     "output_type": "stream",
     "text": [
      "The number of vowels in the text is:  4\n"
     ]
    }
   ],
   "source": [
    "#Count the number of vowels in a string\n",
    "count = 0\n",
    "for i in \"aeiouAEIOU\":\n",
    "    count += string.count(i)\n",
    "print(\"The number of vowels in the text is: \",count)"
   ]
  },
  {
   "cell_type": "code",
   "execution_count": 8,
   "id": "ed5fe538-df61-477f-b407-f6f241c0e445",
   "metadata": {},
   "outputs": [
    {
     "name": "stdout",
     "output_type": "stream",
     "text": [
      "The number of consonants in the text:  6\n"
     ]
    }
   ],
   "source": [
    "#Count the number of consonants in a string\n",
    "count = 0\n",
    "for i in \"aeiouAEIOU\":\n",
    "    count +=string.count(i)\n",
    "count_consonants = len(string)-count\n",
    "print(\"The number of consonants in the text: \",count_consonants)"
   ]
  },
  {
   "cell_type": "code",
   "execution_count": 19,
   "id": "d7ed6564-4776-4121-baf6-ba81b99a9f12",
   "metadata": {},
   "outputs": [
    {
     "name": "stdin",
     "output_type": "stream",
     "text": [
      "Enter a sentence:  The cat sat on the roof\n"
     ]
    },
    {
     "name": "stdout",
     "output_type": "stream",
     "text": [
      "The sentence without white space is:  Thecatsatontheroof\n"
     ]
    }
   ],
   "source": [
    "#Remove all white spaces form the string\n",
    "sentence = input(\"Enter a sentence: \")\n",
    "stripped_sentence = sentence.replace(\" \",\"\")\n",
    "print(\"The sentence without white space is: \",stripped_sentence)"
   ]
  },
  {
   "cell_type": "code",
   "execution_count": 11,
   "id": "99277795-35af-4be7-8fbc-62092bc5b588",
   "metadata": {},
   "outputs": [
    {
     "name": "stdout",
     "output_type": "stream",
     "text": [
      "The length of the string is:  10\n"
     ]
    }
   ],
   "source": [
    "#Find the length of the string without the length function\n",
    "count = 0\n",
    "for i in string:\n",
    "    count += 1\n",
    "\n",
    "print(\"The length of the string is: \",count)"
   ]
  },
  {
   "cell_type": "code",
   "execution_count": 12,
   "id": "3c058951-c8aa-4806-a3b7-084be9d1b901",
   "metadata": {},
   "outputs": [
    {
     "name": "stdin",
     "output_type": "stream",
     "text": [
      "enter a word you want to find in text:  monka\n"
     ]
    },
    {
     "name": "stdout",
     "output_type": "stream",
     "text": [
      "True\n"
     ]
    }
   ],
   "source": [
    "#Check if a string contains a specific word\n",
    "word = input(\"enter a word you want to find in text: \")\n",
    "if word in string:\n",
    "    print (True)\n",
    "else:\n",
    "    print (False)\n",
    "    "
   ]
  },
  {
   "cell_type": "code",
   "execution_count": 14,
   "id": "a2525bd9-cff2-4bd7-8cff-ff06a1b9bf62",
   "metadata": {},
   "outputs": [
    {
     "name": "stdin",
     "output_type": "stream",
     "text": [
      "enter a word you want to replace in text:  donka\n",
      "enter a word you want to replace with in text:  monka\n"
     ]
    },
    {
     "name": "stdout",
     "output_type": "stream",
     "text": [
      "Replaced word string is:  monkamonka\n"
     ]
    }
   ],
   "source": [
    "#Replace a word in string with another word\n",
    "word1 = input(\"enter a word you want to replace in text: \")\n",
    "word2 = input(\"enter a word you want to replace with in text: \")\n",
    "if word1 in string:\n",
    "    new_string = string.replace(word1,word2)\n",
    "    print(\"Replaced word string is: \",new_string)\n",
    "else:\n",
    "    print(\"Word not in string\")\n"
   ]
  },
  {
   "cell_type": "code",
   "execution_count": 15,
   "id": "b5005f9d-55ca-4a29-a40a-92f048bd9e71",
   "metadata": {},
   "outputs": [
    {
     "name": "stdin",
     "output_type": "stream",
     "text": [
      "enter a word you want to count in text:  onk\n"
     ]
    },
    {
     "name": "stdout",
     "output_type": "stream",
     "text": [
      "2\n"
     ]
    }
   ],
   "source": [
    "#Count the occurence of word in string\n",
    "word1 = input(\"enter a word you want to count in text: \")\n",
    "if word1 in string:\n",
    "    print(string.count(word1))\n",
    "else:\n",
    "    print(\"Word not in string\")\n"
   ]
  },
  {
   "cell_type": "code",
   "execution_count": 16,
   "id": "f88932a1-eb57-4e0d-a652-33cfde82898f",
   "metadata": {},
   "outputs": [
    {
     "name": "stdin",
     "output_type": "stream",
     "text": [
      "enter a word you want to find in text:  onk\n"
     ]
    },
    {
     "name": "stdout",
     "output_type": "stream",
     "text": [
      "The first occurence of the word:  1\n"
     ]
    }
   ],
   "source": [
    "#Find the first occurence of word in string\n",
    "word1 = input(\"enter a word you want to find in text: \")\n",
    "print(\"The first occurence of the word: \", string.find(word1))\n",
    "    "
   ]
  },
  {
   "cell_type": "code",
   "execution_count": 17,
   "id": "f8fc2fad-ec8a-44c9-9eac-21e8601c549d",
   "metadata": {},
   "outputs": [
    {
     "name": "stdin",
     "output_type": "stream",
     "text": [
      "enter a word you want to find in text:  onk\n"
     ]
    },
    {
     "name": "stdout",
     "output_type": "stream",
     "text": [
      "The last occurence of the word in string:  6\n"
     ]
    }
   ],
   "source": [
    "#Find the last occurence of word in string\n",
    "word1 = input(\"enter a word you want to find in text: \")\n",
    "string_reversed = string[::-1]\n",
    "last_index = len(string) - string_reversed.find(word1[::-1])-len(word1)\n",
    "print(\"The last occurence of the word in string: \",last_index)"
   ]
  },
  {
   "cell_type": "code",
   "execution_count": 46,
   "id": "6e83a3f6-1e43-47ea-b7f1-65a18b89b5c8",
   "metadata": {},
   "outputs": [
    {
     "name": "stdin",
     "output_type": "stream",
     "text": [
      "Give a sentence:  The cat sat on the roof\n"
     ]
    },
    {
     "name": "stdout",
     "output_type": "stream",
     "text": [
      "The string into list of words:  ['The', 'cat', 'sat', 'on', 'the', 'roof']\n"
     ]
    }
   ],
   "source": [
    "#Split a string into list of words\n",
    "sentence = input(\"Give a sentence: \")\n",
    "new_list = list(sentence.split(' '))\n",
    "print(\"The string into list of words: \",new_list)"
   ]
  },
  {
   "cell_type": "code",
   "execution_count": 22,
   "id": "1a5de890-c6e9-4794-a806-40e9c34002e3",
   "metadata": {},
   "outputs": [
    {
     "name": "stdout",
     "output_type": "stream",
     "text": [
      "The list of words:  ['The', 'sky', 'is', 'cloudy', 'today']\n",
      "The sentence:  The sky is cloudy today\n"
     ]
    }
   ],
   "source": [
    "#Join a list of words into string\n",
    "new_list2 = ['The', 'sky','is','cloudy','today']\n",
    "print(\"The list of words: \", new_list2)\n",
    "new_sentence2 = ' '.join(new_list2)\n",
    "print(\"The sentence: \",new_sentence2)"
   ]
  },
  {
   "cell_type": "code",
   "execution_count": 23,
   "id": "a5931345-9c95-4b16-8fb2-c14f3431ed9b",
   "metadata": {},
   "outputs": [
    {
     "name": "stdin",
     "output_type": "stream",
     "text": [
      "Enter a sentence:  The cat was hungry\n"
     ]
    },
    {
     "name": "stdout",
     "output_type": "stream",
     "text": [
      "The replace sentence with underscore:  The_cat_was_hungry\n"
     ]
    }
   ],
   "source": [
    "#Convert a string where words are separated by space to a string separated by underscore\n",
    "\n",
    "sentence = input(\"Enter a sentence: \")\n",
    "replaced_sentence = sentence.replace(' ','_')\n",
    "print(\"The replace sentence with underscore: \",replaced_sentence)"
   ]
  },
  {
   "cell_type": "code",
   "execution_count": 36,
   "id": "7e47f131-cdda-42a0-8669-765d51113dc5",
   "metadata": {},
   "outputs": [
    {
     "name": "stdin",
     "output_type": "stream",
     "text": [
      "Enter the word or phrase you want to check: The cat\n",
      "Enter a new sentence:  The cat jumped on the roof\n"
     ]
    },
    {
     "name": "stdout",
     "output_type": "stream",
     "text": [
      "The word/phrase 'The cat' occurs at beginning\n"
     ]
    }
   ],
   "source": [
    "#Check if a string starts with a specific word or phrase\n",
    "\n",
    "word = input(\"Enter the word or phrase you want to check:\")\n",
    "sentence = input(\"Enter a new sentence: \")\n",
    "if(word in sentence):\n",
    "    if(sentence.index(word[-1]) == word.index(word[-1])):\n",
    "        print(\"The word/phrase \" + \"'\" + word + \"'\" +\" occurs at beginning\")\n",
    "    elif(sentence.index(word[-1]) != word.index(word[-1])):\n",
    "        print(\"The word/phrase \" + \"'\" + word + \"'\" +\" is in the sentnce but not at beginning\")\n",
    "else:\n",
    "    print(\"The word is not in the sentence. Try again\")\n",
    "\n",
    "\n",
    "              \n",
    "    "
   ]
  },
  {
   "cell_type": "code",
   "execution_count": 35,
   "id": "2ed62550-44c2-400b-b7d0-ba29968c7e8f",
   "metadata": {},
   "outputs": [
    {
     "name": "stdin",
     "output_type": "stream",
     "text": [
      "Enter the word or phrase you want to check: the cat\n",
      "Enter a new sentence:  she fed the cat\n"
     ]
    },
    {
     "name": "stdout",
     "output_type": "stream",
     "text": [
      "The word/phrase 'the cat' occurs at end\n"
     ]
    }
   ],
   "source": [
    "#Check if a string ends with a specific word or phrase\n",
    "\n",
    "word = input(\"Enter the word or phrase you want to check:\")\n",
    "sentence = input(\"Enter a new sentence: \")\n",
    "if(word in sentence):\n",
    "    if(sentence.rfind(word[-1]) == (len(sentence)-1)):\n",
    "        print(\"The word/phrase \" + \"'\" + word + \"'\" +\" occurs at end\")\n",
    "    elif(sentence.rfind(word[-1]) != (len(sentence)-1)):\n",
    "        print(\"The word/phrase \" + \"'\" + word + \"'\" +\" is in the sentence but not at end\")\n",
    "else:\n",
    "    print(\"The word is not in the sentence. Try again\")\n"
   ]
  },
  {
   "cell_type": "code",
   "execution_count": 39,
   "id": "4b11be0c-dcee-4bec-a17f-0a7ad6e2ec10",
   "metadata": {},
   "outputs": [
    {
     "name": "stdin",
     "output_type": "stream",
     "text": [
      "Enter a sentence in lower case:  peanut butter sandwich\n"
     ]
    },
    {
     "name": "stdout",
     "output_type": "stream",
     "text": [
      "The sentence in title case is:  Peanut Butter Sandwich\n"
     ]
    }
   ],
   "source": [
    "#Convert a string to title case\n",
    "\n",
    "sentence = input(\"Enter a sentence in lower case: \")\n",
    "sentence_titled = \n",
    "print(\"The sentence in title case is: \",sentence)\n",
    "   "
   ]
  },
  {
   "cell_type": "code",
   "execution_count": 42,
   "id": "645e6f3f-3ca1-4ed5-95cb-f52bfe10fe32",
   "metadata": {},
   "outputs": [
    {
     "name": "stdin",
     "output_type": "stream",
     "text": [
      "Enter a sentence :  the sky is very sunny today\n"
     ]
    },
    {
     "name": "stdout",
     "output_type": "stream",
     "text": [
      "The longest word in the string is:  sunny\n"
     ]
    }
   ],
   "source": [
    "#Find the longest word in a string\n",
    "sentence = input(\"Enter a sentence : \")\n",
    "make_list = list(sentence.split(' '))\n",
    "len_list = []\n",
    "for i in make_list:\n",
    "    len_list.append(len(i))\n",
    "\n",
    "max_len = max(len_list)\n",
    "index = len_list.index(max_len)\n",
    "print(\"The longest word in the string is: \",make_list[index])\n",
    "\n",
    "    \n"
   ]
  },
  {
   "cell_type": "code",
   "execution_count": 43,
   "id": "872efefb-73d6-432e-b792-695398c1bb70",
   "metadata": {},
   "outputs": [
    {
     "name": "stdin",
     "output_type": "stream",
     "text": [
      "Enter a sentence :  the sky is very sunny today\n"
     ]
    },
    {
     "name": "stdout",
     "output_type": "stream",
     "text": [
      "The shortest word in the string is:  is\n"
     ]
    }
   ],
   "source": [
    "#Find the shortest word in a string\n",
    "\n",
    "sentence = input(\"Enter a sentence : \")\n",
    "make_list = list(sentence.split(' '))\n",
    "len_list = []\n",
    "for i in make_list:\n",
    "    len_list.append(len(i))\n",
    "\n",
    "min_len = min(len_list)\n",
    "index = len_list.index(min_len)\n",
    "print(\"The shortest word in the string is: \",make_list[index])\n"
   ]
  },
  {
   "cell_type": "code",
   "execution_count": 44,
   "id": "6a6c4f14-4660-48a5-880f-7fd51d57c492",
   "metadata": {},
   "outputs": [
    {
     "name": "stdin",
     "output_type": "stream",
     "text": [
      "Enter a sentence :  we will have brunch today\n"
     ]
    },
    {
     "name": "stdout",
     "output_type": "stream",
     "text": [
      "The reversed sentence is:  today brunch have will we\n"
     ]
    }
   ],
   "source": [
    "#Reverse the order of words in a string\n",
    "\n",
    "sentence = input(\"Enter a sentence : \")\n",
    "make_list = list(sentence.split(' '))\n",
    "new_list = make_list[::-1]\n",
    "reversed_sentence = ' '.join(new_list)\n",
    "print(\"The reversed sentence is: \", reversed_sentence)"
   ]
  },
  {
   "cell_type": "code",
   "execution_count": 46,
   "id": "c07fe220-4b19-4136-bc54-89e6e785abc0",
   "metadata": {},
   "outputs": [
    {
     "name": "stdin",
     "output_type": "stream",
     "text": [
      "Enter a text:  dksdk1234\n"
     ]
    },
    {
     "name": "stdout",
     "output_type": "stream",
     "text": [
      "The string is alphanumeric\n"
     ]
    }
   ],
   "source": [
    "#check if a string is alphanumeric\n",
    "\n",
    "string = input(\"Enter a text: \")\n",
    "if(string.isalnum()):\n",
    "    print(\"The string is alphanumeric\")\n",
    "else:\n",
    "    print(\"The string is not alphanumeric\")\n"
   ]
  },
  {
   "cell_type": "code",
   "execution_count": 1,
   "id": "1a27d2c2-c33c-46b1-be7b-4177b1998372",
   "metadata": {},
   "outputs": [
    {
     "name": "stdin",
     "output_type": "stream",
     "text": [
      "Enter a text with numbers:  .hbkjy9797996kjguuyt86\n"
     ]
    },
    {
     "name": "stdout",
     "output_type": "stream",
     "text": [
      "The digits extracted are:  979799686\n"
     ]
    }
   ],
   "source": [
    "#Extract all digits from a string\n",
    "\n",
    "string = input(\"Enter a text with numbers: \")\n",
    "digits_extracted = []\n",
    "for i in string:\n",
    "    if (int(i.isdigit())):\n",
    "        digits_extracted.append(i)\n",
    "digits_string = ''.join(digits_extracted)\n",
    "print(\"The digits extracted are: \",digits_string)\n"
   ]
  },
  {
   "cell_type": "code",
   "execution_count": 57,
   "id": "4d9f0c52-df8b-494b-859e-f2084a111c6e",
   "metadata": {},
   "outputs": [
    {
     "name": "stdin",
     "output_type": "stream",
     "text": [
      "Enter a text with numbers or characters:  ,vgjkgiut87768yih9o87\n"
     ]
    },
    {
     "name": "stdout",
     "output_type": "stream",
     "text": [
      "The digits extracted are:  vgjkgiutyiho\n"
     ]
    }
   ],
   "source": [
    "#Extract all alphabets from a string\n",
    "\n",
    "import string\n",
    "\n",
    "string_input = input(\"Enter a text with numbers or characters: \")\n",
    "alphabets_extracted = []\n",
    "alphabets = list(string.ascii_lowercase)\n",
    "for i in string_input:\n",
    "    if (i in alphabets):\n",
    "        alphabets_extracted.append(i)\n",
    "alphabet_string = ''.join(alphabets_extracted)\n",
    "print(\"The digits extracted are: \",alphabet_string)\n"
   ]
  },
  {
   "cell_type": "code",
   "execution_count": 60,
   "id": "a6977ad9-c2e5-4c44-90d2-6e6355ae153e",
   "metadata": {},
   "outputs": [
    {
     "name": "stdin",
     "output_type": "stream",
     "text": [
      "Enter a text with numbers or characters:  BMJ'rgjwgEGKe[ptw4kt##TGwtG\n"
     ]
    },
    {
     "name": "stdout",
     "output_type": "stream",
     "text": [
      "The number of uppercase letters in a string :  9\n"
     ]
    }
   ],
   "source": [
    "#Count the number of uppercase leeters in a string\n",
    "\n",
    "import string\n",
    "\n",
    "string_input = input(\"Enter a text with numbers or characters: \")\n",
    "alphabets_extracted = []\n",
    "alphabets = list(string.ascii_uppercase)\n",
    "for i in string_input:\n",
    "    if (i in alphabets):\n",
    "        alphabets_extracted.append(i)\n",
    "\n",
    "print(\"The number of uppercase letters in a string : \",len(alphabets_extracted))\n"
   ]
  },
  {
   "cell_type": "code",
   "execution_count": 61,
   "id": "847964eb-7278-48a4-aa7b-7260f30235f2",
   "metadata": {},
   "outputs": [
    {
     "name": "stdin",
     "output_type": "stream",
     "text": [
      "Enter a text with numbers or characters:  V NVXJSwtq3yrqSFsroglh\n"
     ]
    },
    {
     "name": "stdout",
     "output_type": "stream",
     "text": [
      "The number of lowercase letters in a string :  12\n"
     ]
    }
   ],
   "source": [
    "#Count the number of lowercase leeters in a string\n",
    "\n",
    "import string\n",
    "\n",
    "string_input = input(\"Enter a text with numbers or characters: \")\n",
    "alphabets_extracted = []\n",
    "alphabets = list(string.ascii_lowercase)\n",
    "for i in string_input:\n",
    "    if (i in alphabets):\n",
    "        alphabets_extracted.append(i)\n",
    "\n",
    "print(\"The number of lowercase letters in a string : \",len(alphabets_extracted))"
   ]
  },
  {
   "cell_type": "code",
   "execution_count": 4,
   "id": "d4a120f1-8393-462a-8aa8-8ae19de39746",
   "metadata": {},
   "outputs": [
    {
     "name": "stdin",
     "output_type": "stream",
     "text": [
      "Enter a string:  AJDAEEitwtuwtGKSRrpout\n"
     ]
    },
    {
     "name": "stdout",
     "output_type": "stream",
     "text": [
      "The swapped cases :  ajdaeeITWTUWTgksrRPOUT\n"
     ]
    }
   ],
   "source": [
    "##### Swap the case of each character in a string\n",
    "\n",
    "input_string = input(\"Enter a string: \")\n",
    "\n",
    "x = ''\n",
    "for i in input_string:\n",
    "    if i.islower() :\n",
    "        u = i.upper()\n",
    "        x +=u\n",
    "    elif i.isupper():\n",
    "        l=i.lower()\n",
    "        x +=l\n",
    "    elif i.isdigit():\n",
    "        x += i\n",
    "print(\"The swapped cases : \", x)\n",
    "    "
   ]
  },
  {
   "cell_type": "code",
   "execution_count": 8,
   "id": "b1905f1a-69e4-48e7-a5da-661cdbf2336d",
   "metadata": {},
   "outputs": [
    {
     "name": "stdin",
     "output_type": "stream",
     "text": [
      "Enter a string:  It is a sunny day\n",
      "Enter a word you want to remove from string:  rainy\n"
     ]
    },
    {
     "name": "stdout",
     "output_type": "stream",
     "text": [
      "The word is not in string\n"
     ]
    }
   ],
   "source": [
    "####### Remove a specific word from string\n",
    "\n",
    "input_string = input(\"Enter a string: \")\n",
    "input_word = input(\"Enter a word you want to remove from string: \")\n",
    "\n",
    "if input_word in input_string :\n",
    "    new_string=input_string.replace(input_word,'')\n",
    "    print(\"The new string is: \", new_string)\n",
    "else:\n",
    "    print(\"The word is not in string\")\n"
   ]
  },
  {
   "cell_type": "code",
   "execution_count": 54,
   "id": "21daa787-e589-4bc8-ba80-d9cd397c9db3",
   "metadata": {},
   "outputs": [
    {
     "name": "stdin",
     "output_type": "stream",
     "text": [
      "Enter your mail address:  samysamy@bb.com\n",
      "Enter an invalid mail address:  not_so_stupid@name.com\n"
     ]
    },
    {
     "name": "stdout",
     "output_type": "stream",
     "text": [
      "samysamy@bb.com is a valid mail.\n",
      "not_so_stupid@name.com is Not valid mail\n"
     ]
    }
   ],
   "source": [
    "## Check if a string is a valid email address\n",
    "\n",
    "email1 = input(\"Enter your mail address: \")\n",
    "email2 = input(\"Enter an invalid mail address: \")\n",
    "\n",
    "\n",
    "def check_mail(email):\n",
    "    \n",
    "    username = ''\n",
    "    domain_name = ''\n",
    "    symbols  = \"'!@#$%^&*()-_+=<,>.?/;:\\\"\\':{[}]|\\\\\"\n",
    "    for i in range(len(email)):\n",
    "        if email[i] == '@':\n",
    "                for j in symbols:\n",
    "                    if j not in email[:i]:\n",
    "                         username = email[:i]\n",
    "                    else:\n",
    "                        return(email + \" is Not valid mail\")\n",
    "                        break\n",
    "                if email.count(email[i])==1:\n",
    "                    if email.count(\".com\") == 1:\n",
    "                        domain_name = email[i+1:]\n",
    "                    else:\n",
    "                        return(email + \" is Not valid mail\")\n",
    "                        break\n",
    "    checking_mail = username + '@' + domain_name\n",
    "    if checking_mail == email:\n",
    "         return(email + \" is a valid mail.\")\n",
    "    else:\n",
    "        return(email + \" is Not valid mail\")\n",
    "\n",
    "\n",
    "print(check_mail(email1))\n",
    "print(check_mail(email2))\n",
    "           \n",
    "\n",
    "\n",
    "\n"
   ]
  },
  {
   "cell_type": "code",
   "execution_count": 1,
   "id": "e5a884b3-121f-4653-8e82-e91de0ce25ec",
   "metadata": {},
   "outputs": [
    {
     "name": "stdin",
     "output_type": "stream",
     "text": [
      "Enter a mail address:  dasguptashreeja97@gmail.com\n"
     ]
    },
    {
     "name": "stdout",
     "output_type": "stream",
     "text": [
      "The username of the mail:  dasguptashreeja97\n"
     ]
    }
   ],
   "source": [
    "#####Extract username from email address of a string\n",
    "\n",
    "email = input(\"Enter a mail address: \")\n",
    "\n",
    "for i in range(len(email)):\n",
    "    if email[i] == '@':\n",
    "        username = email[:i]\n",
    "\n",
    "print(\"The username of the mail: \",username)\n",
    "               \n",
    "\n"
   ]
  },
  {
   "cell_type": "code",
   "execution_count": 2,
   "id": "718cc577-4045-4af1-b074-1060ab70abb2",
   "metadata": {},
   "outputs": [
    {
     "name": "stdin",
     "output_type": "stream",
     "text": [
      "Enter a mail address:  dasguptashreeja97@gmail.com\n"
     ]
    },
    {
     "name": "stdout",
     "output_type": "stream",
     "text": [
      "The domain name of the mail:  gmail.com\n"
     ]
    }
   ],
   "source": [
    "#########Extract domain name from mail address of a string\n",
    "\n",
    "email = input(\"Enter a mail address: \")\n",
    "\n",
    "for i in range(len(email)):\n",
    "    if email[i] == '@':\n",
    "        domain_name = email[i+1:]\n",
    "\n",
    "print(\"The domain name of the mail: \",domain_name)\n"
   ]
  },
  {
   "cell_type": "code",
   "execution_count": 20,
   "id": "9ecf61fe-9f37-490c-8732-7c5e653a93fc",
   "metadata": {},
   "outputs": [
    {
     "name": "stdin",
     "output_type": "stream",
     "text": [
      "Enter a text with multiple space:  cadczxjcb        kjsbscjakBCBJc  lxkchbKXc             xjkcbaJKcbxkhcbsHCis\n"
     ]
    },
    {
     "name": "stdout",
     "output_type": "stream",
     "text": [
      "The string with single space is:  cadczxjcb kjsbscjakBCBJc lxkchbKXc xjkcbaJKcbxkhcbsHCis\n"
     ]
    }
   ],
   "source": [
    "#### Replace multiple spaces in a string with single space\n",
    "\n",
    "string_input = input(\"Enter a text with multiple space: \")\n",
    "\n",
    "new_list = list(string_input.split(' '))\n",
    "\n",
    "new_list2 = [ i  for i in new_list if i != '']\n",
    "\n",
    "mono_spaced_string = ' '.join(new_list2)\n",
    "\n",
    "print(\"The string with single space is: \",mono_spaced_string)\n",
    "        \n"
   ]
  },
  {
   "cell_type": "code",
   "execution_count": null,
   "id": "c393abd8-09dc-4fb4-9abf-c7279a4d9dcb",
   "metadata": {},
   "outputs": [],
   "source": [
    "### Check if a string is valid URL\n",
    "\n"
   ]
  },
  {
   "cell_type": "code",
   "execution_count": null,
   "id": "91faad29-db1c-4bbf-8bbc-81fbd560d865",
   "metadata": {},
   "outputs": [],
   "source": [
    "### extract the protocol from URL\n"
   ]
  },
  {
   "cell_type": "code",
   "execution_count": 23,
   "id": "a62cd0cb-fcc3-4096-9e8b-d1ce9d9e635e",
   "metadata": {},
   "outputs": [
    {
     "name": "stdin",
     "output_type": "stream",
     "text": [
      "Enter a string:  bvjbczbvzcbczbnvknsdkvnsdkcna\n"
     ]
    },
    {
     "name": "stdout",
     "output_type": "stream",
     "text": [
      "b occurs 5 times.\n",
      "v occurs 4 times.\n",
      "j occurs 1 times.\n",
      "c occurs 4 times.\n",
      "z occurs 3 times.\n",
      "n occurs 4 times.\n",
      "k occurs 3 times.\n",
      "s occurs 2 times.\n",
      "d occurs 2 times.\n",
      "a occurs 1 times.\n"
     ]
    }
   ],
   "source": [
    "## find the frequency of each character in a string\n",
    "\n",
    "input_string = input(\"Enter a string: \")\n",
    "\n",
    "count = {i:input_string.count(i) for i in input_string}\n",
    "\n",
    "for k in count:\n",
    "    print(str(k) + \" occurs \" + str(count[k]) + \" times.\" )"
   ]
  },
  {
   "cell_type": "code",
   "execution_count": 3,
   "id": "8bbda25a-7aba-4503-81c2-9c5b333ed391",
   "metadata": {},
   "outputs": [
    {
     "name": "stdin",
     "output_type": "stream",
     "text": [
      "Enter a sentence:  The kfskgs ! kfghfk. I love God !\n"
     ]
    },
    {
     "name": "stdout",
     "output_type": "stream",
     "text": [
      "The sentence without punctuation:  The kfskgs  kfghfk I love God \n"
     ]
    }
   ],
   "source": [
    "### Remove all punctuations from a string\n",
    "\n",
    "sentence = input(\"Enter a sentence: \")\n",
    "\n",
    "for i in sentence:\n",
    "    if i in \"!.?,.':;\\\"\" :\n",
    "        sentence = sentence.replace(i,'')\n",
    "        \n",
    "\n",
    "print(\"The sentence without punctuation: \", sentence)"
   ]
  },
  {
   "cell_type": "code",
   "execution_count": 6,
   "id": "0d7035dd-18f5-4abd-8556-bedf8fdcf913",
   "metadata": {},
   "outputs": [
    {
     "name": "stdin",
     "output_type": "stream",
     "text": [
      "Enter a string:  6876588869\n"
     ]
    },
    {
     "name": "stdout",
     "output_type": "stream",
     "text": [
      "The string contains only digit\n"
     ]
    }
   ],
   "source": [
    "## Check if a string contains only digits\n",
    "\n",
    "string = input(\"Enter a string: \")\n",
    "\n",
    "new_string = ''\n",
    "\n",
    "for i in string:\n",
    "    if i.isdigit() :\n",
    "        new_string += i\n",
    "\n",
    "if new_string == string:\n",
    "    print(\"The string contains only digit\")\n",
    "else:\n",
    "    print(\"The string is alphanumeric\")"
   ]
  },
  {
   "cell_type": "code",
   "execution_count": 8,
   "id": "196f3e2f-3dfd-47ff-82e2-65e29c1fa6be",
   "metadata": {},
   "outputs": [
    {
     "name": "stdin",
     "output_type": "stream",
     "text": [
      "Enter a string:  jufuytu756758itiy,ih89\n"
     ]
    },
    {
     "name": "stdout",
     "output_type": "stream",
     "text": [
      "The string is alphanumeric\n"
     ]
    }
   ],
   "source": [
    "########## Check if string contains only alphabets\n",
    "\n",
    "string = input(\"Enter a string: \")\n",
    "\n",
    "new_string = ''\n",
    "\n",
    "for i in string:\n",
    "    if i.isalpha() :\n",
    "        new_string += i\n",
    "\n",
    "if new_string == string:\n",
    "    print(\"The string contains only aphabets\")\n",
    "else:\n",
    "    print(\"The string is alphanumeric\")"
   ]
  },
  {
   "cell_type": "code",
   "execution_count": 9,
   "id": "e166cee9-f059-450d-b628-dda079d44dd9",
   "metadata": {},
   "outputs": [
    {
     "name": "stdin",
     "output_type": "stream",
     "text": [
      "Enter a string:  bnaskjhakhfaieyiq7r3q7r73ruwejrwlr\n"
     ]
    },
    {
     "name": "stdout",
     "output_type": "stream",
     "text": [
      "The list of characters in the string is :  ['b', 'n', 'a', 's', 'k', 'j', 'h', 'a', 'k', 'h', 'f', 'a', 'i', 'e', 'y', 'i', 'q', '7', 'r', '3', 'q', '7', 'r', '7', '3', 'r', 'u', 'w', 'e', 'j', 'r', 'w', 'l', 'r']\n"
     ]
    }
   ],
   "source": [
    "########### convert a string into list of characters\n",
    "\n",
    "string_input = input(\"Enter a string: \")\n",
    "\n",
    "string_list = [i for i in string_input]\n",
    "\n",
    "print(\"The list of characters in the string is : \", string_list)"
   ]
  },
  {
   "cell_type": "code",
   "execution_count": null,
   "id": "4a6b4b22-d5e6-47ab-bdae-02233ce1a44e",
   "metadata": {},
   "outputs": [],
   "source": [
    "### Check if two strings are anagrams\n"
   ]
  },
  {
   "cell_type": "code",
   "execution_count": null,
   "id": "9e179b81-e63d-4f2e-b8cb-3a24ee6f4f1a",
   "metadata": {},
   "outputs": [],
   "source": [
    "### Encode astring to Caeser cypher\n"
   ]
  },
  {
   "cell_type": "code",
   "execution_count": null,
   "id": "3b10819b-0366-4f83-b32f-08c654867054",
   "metadata": {},
   "outputs": [],
   "source": [
    "#### Decode  Caeser cypher encoded list to string\n",
    "\n"
   ]
  },
  {
   "cell_type": "code",
   "execution_count": 3,
   "id": "4b84ebb8-1428-49e1-9305-a81fe08cd589",
   "metadata": {},
   "outputs": [
    {
     "name": "stdin",
     "output_type": "stream",
     "text": [
      "Enter a sentence:  cat mat hat fat hat cat fat cat fat cat hat cat\n"
     ]
    },
    {
     "name": "stdout",
     "output_type": "stream",
     "text": [
      "The item that occurs maximum in the sentence:  cat\n"
     ]
    }
   ],
   "source": [
    "#### find the most frequent word in a string\n",
    "\n",
    "sentence = input(\"Enter a sentence: \")\n",
    "\n",
    "sentence_list = list(sentence.split(' '))\n",
    "\n",
    "item_count = [sentence_list.count(i) for i in sentence_list]\n",
    "\n",
    "max_count = max(item_count)\n",
    "\n",
    "for i in sentence_list:\n",
    "    if sentence_list.count(i) == max_count:\n",
    "        max_item = i\n",
    "    \n",
    "print(\"The item that occurs maximum in the sentence: \",max_item)\n"
   ]
  },
  {
   "cell_type": "code",
   "execution_count": null,
   "id": "a29daac5-8de9-4389-9f71-49499dbce8f2",
   "metadata": {},
   "outputs": [],
   "source": [
    "#### Check if a string contains any special characters\n",
    "\n"
   ]
  },
  {
   "cell_type": "code",
   "execution_count": 17,
   "id": "4d7ec9fc-0b5b-48ef-9d33-2f6f397fd0a5",
   "metadata": {},
   "outputs": [
    {
     "name": "stdin",
     "output_type": "stream",
     "text": [
      "Enter a new sentence:  dghd ffdyhf ydhhhhhhhhhff ufujutu utgugjgujjguj uyguguggyyuy     utguiuiyuy biutguiyuy\n",
      "Enter a position in string:  3\n"
     ]
    },
    {
     "name": "stdout",
     "output_type": "stream",
     "text": [
      "The new string with the removed character:  dghd ffdyhf ydhhhhhhhhhff utgugjgujjguj uyguguggyyuy     utguiuiyuy biutguiyuy\n"
     ]
    }
   ],
   "source": [
    "###### Remove the nth word from string\n",
    "\n",
    "string = input(\"Enter a new sentence: \")\n",
    "n = int(input(\"Enter a position in string: \"))\n",
    "\n",
    "string_list = list(string.split(' '))\n",
    "string_list.pop(n)\n",
    "\n",
    "new_string = ' '.join(string_list)\n",
    "print(\"The new string with the removed character: \",new_string)\n"
   ]
  },
  {
   "cell_type": "code",
   "execution_count": 3,
   "id": "deb72f5d-7891-4312-bfc0-fb70c0078405",
   "metadata": {},
   "outputs": [
    {
     "name": "stdin",
     "output_type": "stream",
     "text": [
      "Enter a sentence:  The cat jumped on the roof\n",
      "Enter a word you want to insert:   and the dog\n",
      "Enter the position you want to insert:  7\n"
     ]
    },
    {
     "name": "stdout",
     "output_type": "stream",
     "text": [
      "The new sentence:  The cat and the dog jumped on the roof\n"
     ]
    }
   ],
   "source": [
    "######## Insert a word at nth position in a string\n",
    "\n",
    "sentence = input(\"Enter a sentence: \")\n",
    "word = input(\"Enter a word you want to insert: \")\n",
    "n = int(input(\"Enter the position you want to insert: \"))\n",
    "\n",
    "sentence = sentence[:n] + word + sentence[n:]\n",
    "\n",
    "print(\"The new sentence: \",sentence)\n",
    "\n",
    "    \n",
    "\n"
   ]
  },
  {
   "cell_type": "code",
   "execution_count": null,
   "id": "43e015f2-10eb-4c93-924e-40dd95e0bc43",
   "metadata": {},
   "outputs": [],
   "source": [
    "#### Convert a CSV string to a list of lists\n"
   ]
  },
  {
   "cell_type": "code",
   "execution_count": null,
   "id": "8c63acde-e6ac-4c23-a0b2-2fa54c4ad583",
   "metadata": {},
   "outputs": [],
   "source": [
    "############ List based Practice problem"
   ]
  },
  {
   "cell_type": "code",
   "execution_count": 2,
   "id": "7fa9fadc-b30d-45f0-8e50-f9fe6ef35879",
   "metadata": {},
   "outputs": [
    {
     "name": "stdout",
     "output_type": "stream",
     "text": [
      "[1, 2, 3, 4, 5, 6, 7, 8, 9, 10]\n"
     ]
    }
   ],
   "source": [
    "### Create a list with integers form 1 to 10\n",
    "\n",
    "#using list comprehension\n",
    "new_list = [i for i in range(1,11)]\n",
    "\n",
    "print(new_list)"
   ]
  },
  {
   "cell_type": "code",
   "execution_count": 3,
   "id": "96b3f0cd-8f8f-4ca3-a5a2-a59803da0d66",
   "metadata": {},
   "outputs": [
    {
     "name": "stdout",
     "output_type": "stream",
     "text": [
      "The length of the given list:  9\n"
     ]
    }
   ],
   "source": [
    "### Find the length of the list without using len() function\n",
    "\n",
    "new_list = ['banana','mango','coconut',344,3488,'fhsuidh','dfojfo',37937,34898]\n",
    "count = 0\n",
    "\n",
    "for i in new_list:\n",
    "    count +=1\n",
    "\n",
    "print(\"The length of the given list: \",count)"
   ]
  },
  {
   "cell_type": "code",
   "execution_count": 4,
   "id": "fdf28f18-2846-46a6-ba3d-676ee11f18fa",
   "metadata": {},
   "outputs": [
    {
     "name": "stdin",
     "output_type": "stream",
     "text": [
      "Enter a word:  hddhy\n"
     ]
    },
    {
     "name": "stdout",
     "output_type": "stream",
     "text": [
      "['banana', 'mango', 'coconut', 344, 3488, 'fhsuidh', 'dfojfo', 37937, 34898, 'hddhy']\n"
     ]
    }
   ],
   "source": [
    "#### Append an element to the end of the list\n",
    "new_list = ['banana','mango','coconut',344,3488,'fhsuidh','dfojfo',37937,34898]\n",
    "item = input(\"Enter a word: \")\n",
    "new_list.append(item)\n",
    "print(new_list)\n",
    "\n"
   ]
  },
  {
   "cell_type": "code",
   "execution_count": 7,
   "id": "df34fc98-83aa-4cfe-8c17-ddaed2fc0275",
   "metadata": {},
   "outputs": [
    {
     "name": "stdin",
     "output_type": "stream",
     "text": [
      "Enter a position in the list:  4\n",
      "Enter a word you want to insert: hfhff\n"
     ]
    },
    {
     "name": "stdout",
     "output_type": "stream",
     "text": [
      "The list modified:  ['banana', 'mango', 'coconut', 'hfhff', 344, 3488, 'fhsuidh', 'dfojfo', 37937, 34898]\n"
     ]
    }
   ],
   "source": [
    "### Insert an element at specific index of list\n",
    "new_list = ['banana','mango','coconut',344,3488,'fhsuidh','dfojfo',37937,34898]\n",
    "n = int(input(\"Enter a position in the list: \"))\n",
    "word = input(\"Enter a word you want to insert:\")\n",
    "new_list.insert(n-1,word)\n",
    "print(\"The list modified: \",new_list  )      \n"
   ]
  },
  {
   "cell_type": "code",
   "execution_count": 12,
   "id": "61352111-bc04-4619-b543-a937a94d0693",
   "metadata": {},
   "outputs": [
    {
     "name": "stdout",
     "output_type": "stream",
     "text": [
      "The list is:  ['banana', 'mango', 'coconut', 344, 3488, 'fhsuidh', 'dfojfo', 37937, 34898]\n"
     ]
    },
    {
     "name": "stdin",
     "output_type": "stream",
     "text": [
      "Enter the item from list you want to remove:  coconut\n"
     ]
    },
    {
     "name": "stdout",
     "output_type": "stream",
     "text": [
      "The sorted list is:  ['banana', 'mango', 344, 3488, 'fhsuidh', 'dfojfo', 37937, 34898]\n"
     ]
    }
   ],
   "source": [
    "### Remove an element from a list by its value\n",
    "\n",
    "new_list = ['banana','mango','coconut',344,3488,'fhsuidh','dfojfo',37937,34898]\n",
    "print(\"The list is: \",new_list)\n",
    "\n",
    "word = input(\"Enter the item from list you want to remove: \")\n",
    "\n",
    "if word in new_list:\n",
    "    if word.isdigit():\n",
    "        new_list.remove(int(word))\n",
    "    elif word.isalpha():\n",
    "        new_list.remove(word)\n",
    "print(\"The sorted list is: \",new_list)\n"
   ]
  },
  {
   "cell_type": "code",
   "execution_count": 2,
   "id": "4c50f48e-37ed-43ef-b86a-d0eaa9e08fa6",
   "metadata": {},
   "outputs": [
    {
     "name": "stdout",
     "output_type": "stream",
     "text": [
      "The list is:  ['banana', 'mango', 'coconut', 344, 3488, 'fhsuidh', 'dfojfo', 37937, 34898]\n"
     ]
    },
    {
     "name": "stdin",
     "output_type": "stream",
     "text": [
      "Enter the index of the item you want to remove from the list:  5\n"
     ]
    },
    {
     "name": "stdout",
     "output_type": "stream",
     "text": [
      "Sorted list is:  None\n"
     ]
    }
   ],
   "source": [
    "#### Remove an element from the list by its index\n",
    "\n",
    "new_list = ['banana','mango','coconut',344,3488,'fhsuidh','dfojfo',37937,34898]\n",
    "print(\"The list is: \",new_list)\n",
    "\n",
    "n = int(input(\"Enter the index of the item you want to remove from the list: \"))\n",
    "\n",
    "if n<=len(new_list):\n",
    "     new_list.remove(new_list[n])\n",
    "\n",
    "else:\n",
    "    print(\"List index out of range\")\n",
    "\n",
    "print(\"Sorted list is: \",new_list)\n"
   ]
  },
  {
   "cell_type": "code",
   "execution_count": 1,
   "id": "7c101d65-efcf-45e4-84e2-b5c15ec596ed",
   "metadata": {},
   "outputs": [
    {
     "name": "stdin",
     "output_type": "stream",
     "text": [
      "Enter an element to check in the list:  baboon\n"
     ]
    },
    {
     "name": "stdout",
     "output_type": "stream",
     "text": [
      "baboon is not present in the list\n"
     ]
    }
   ],
   "source": [
    "#7) Check if an element exists in a list\n",
    "\n",
    "new_list = ['banana','mango','coconut',344,3488,'fhsuidh','dfojfo',37937,34898]\n",
    "element = input(\"Enter an element to check in the list: \")\n",
    "\n",
    "if element in new_list:\n",
    "    print(f\"{element} is in the list\")\n",
    "else:\n",
    "    print(f\"{element} is not present in the list\")"
   ]
  },
  {
   "cell_type": "code",
   "execution_count": 6,
   "id": "b79fa654-2b63-4d4c-b074-a88e9008c978",
   "metadata": {},
   "outputs": [
    {
     "name": "stdout",
     "output_type": "stream",
     "text": [
      "coconut , first_index: 2\n"
     ]
    }
   ],
   "source": [
    "#8) Find the index of first occurence of an element in the list\n",
    "\n",
    "new_list = ['banana','mango','coconut',344,3488,'fhsuidh','coconut','dfojfo','coconut',37937,34898]\n",
    "\n",
    "for i in new_list:\n",
    "    if new_list.count(i) >1:\n",
    "        print(i,',','first_index:',new_list.index(i))\n",
    "        break\n",
    "\n"
   ]
  },
  {
   "cell_type": "code",
   "execution_count": 7,
   "id": "e9909dcb-2278-4766-9b3d-70555bef3786",
   "metadata": {},
   "outputs": [
    {
     "name": "stdout",
     "output_type": "stream",
     "text": [
      "The number of occurence of coconut in the list is : 3\n"
     ]
    }
   ],
   "source": [
    "#9) Count the occurence of an element in a list.\n",
    "\n",
    "new_list = ['banana','mango','coconut',344,3488,'fhsuidh','coconut','dfojfo','coconut',37937,34898]\n",
    "\n",
    "element = 'coconut'\n",
    "\n",
    "print(f\"The number of occurence of {element} in the list is : {new_list.count(element)}\")"
   ]
  },
  {
   "cell_type": "code",
   "execution_count": 8,
   "id": "9af67d56-a0be-48ee-b862-3adc84012faf",
   "metadata": {},
   "outputs": [
    {
     "name": "stdout",
     "output_type": "stream",
     "text": [
      "[34898, 37937, 'coconut', 'dfojfo', 'coconut', 'fhsuidh', 3488, 344, 'coconut', 'mango', 'banana']\n"
     ]
    }
   ],
   "source": [
    "#10) Reverse the order of elements in a list\n",
    "\n",
    "new_list = ['banana','mango','coconut',344,3488,'fhsuidh','coconut','dfojfo','coconut',37937,34898]\n",
    "\n",
    "reversed_list = []\n",
    "\n",
    "for i in reversed(range(len(new_list))):\n",
    "    reversed_list.append(new_list[i])\n",
    "    \n",
    "print(reversed_list)\n",
    "\n"
   ]
  },
  {
   "cell_type": "code",
   "execution_count": 10,
   "id": "0e187d8f-7d26-4704-b3e1-207d25705b0c",
   "metadata": {},
   "outputs": [
    {
     "name": "stdout",
     "output_type": "stream",
     "text": [
      "[8, 10, 12, 20, 28, 32, 36, 37, 38, 319, 393]\n"
     ]
    }
   ],
   "source": [
    "#11) Sort a list ascending order\n",
    "\n",
    "num_list = [12,393,37,28,36,10,32,8,319,38,20]\n",
    "\n",
    "sorted_list_ascending = sorted(num_list)\n",
    "\n",
    "print(sorted_list_ascending)"
   ]
  },
  {
   "cell_type": "code",
   "execution_count": 13,
   "id": "ef32d981-8a17-4341-ad80-ba47d22f23dc",
   "metadata": {},
   "outputs": [
    {
     "name": "stdout",
     "output_type": "stream",
     "text": [
      "[393, 319, 38, 37, 36, 32, 28, 20, 12, 10, 8]\n"
     ]
    }
   ],
   "source": [
    "#12) Sort a list in descending order\n",
    "\n",
    "num_list = [12,393,37,28,36,10,32,8,319,38,20]\n",
    "\n",
    "sorted_list_descending = sorted(num_list)[::-1]\n",
    "\n",
    "print(sorted_list_descending)"
   ]
  },
  {
   "cell_type": "code",
   "execution_count": 14,
   "id": "5c656a7b-dd07-49ec-8ab4-023851a3d17c",
   "metadata": {},
   "outputs": [
    {
     "name": "stdout",
     "output_type": "stream",
     "text": [
      "[2, 4, 6, 8, 10, 12, 14, 16, 18, 20]\n"
     ]
    }
   ],
   "source": [
    "#13) Create a list of even number from 1 to 20\n",
    "\n",
    "even_list = []\n",
    "for i in range(1,21):\n",
    "    if i%2==0:\n",
    "        even_list.append(i)\n",
    "        \n",
    "print(even_list)"
   ]
  },
  {
   "cell_type": "code",
   "execution_count": 15,
   "id": "8df29d13-3906-47fe-9e49-536f5daa4814",
   "metadata": {},
   "outputs": [
    {
     "name": "stdout",
     "output_type": "stream",
     "text": [
      "[1, 3, 5, 7, 9, 11, 13, 15, 17, 19]\n"
     ]
    }
   ],
   "source": [
    "#14) Create a list of even number from 1 to 20\n",
    "\n",
    "odd_list = []\n",
    "\n",
    "for i in range(1,21):\n",
    "    if i%2 != 0:\n",
    "        odd_list.append(i)\n",
    "        \n",
    "print(odd_list)"
   ]
  },
  {
   "cell_type": "code",
   "execution_count": 17,
   "id": "ad6bf4b4-6cd8-4f02-aaec-e167463fe6b2",
   "metadata": {},
   "outputs": [
    {
     "name": "stdout",
     "output_type": "stream",
     "text": [
      "Sum of elementsof the list:  933\n"
     ]
    }
   ],
   "source": [
    "#15) Find the sum of all elements of the list\n",
    "\n",
    "num_list = [12,393,37,28,36,10,32,8,319,38,20]\n",
    "\n",
    "print(\"Sum of elementsof the list: \",sum(num_list))"
   ]
  },
  {
   "cell_type": "code",
   "execution_count": 18,
   "id": "a2175ea6-bf61-4c0f-995d-d622c6e069c2",
   "metadata": {},
   "outputs": [
    {
     "name": "stdout",
     "output_type": "stream",
     "text": [
      "The maximum element of the list:  393\n"
     ]
    }
   ],
   "source": [
    "#16) Find the maximum value of the list\n",
    "\n",
    "num_list = [12,393,37,28,36,10,32,8,319,38,20]\n",
    "\n",
    "print(\"The maximum element of the list: \",max(num_list))"
   ]
  },
  {
   "cell_type": "code",
   "execution_count": 19,
   "id": "86641228-d4f3-40ee-a299-dfef21291661",
   "metadata": {},
   "outputs": [
    {
     "name": "stdout",
     "output_type": "stream",
     "text": [
      "The minimum element of the list:  8\n"
     ]
    }
   ],
   "source": [
    "#17) Find the minimum value of the list\n",
    "\n",
    "num_list = [12,393,37,28,36,10,32,8,319,38,20]\n",
    "\n",
    "print(\"The minimum element of the list: \",min(num_list))"
   ]
  },
  {
   "cell_type": "code",
   "execution_count": 20,
   "id": "a07788f3-dc73-4984-92f0-2f5688aec3a7",
   "metadata": {},
   "outputs": [
    {
     "name": "stdout",
     "output_type": "stream",
     "text": [
      "The square of number from 1 to 10:  [1, 4, 9, 16, 25, 36, 49, 64, 81, 100]\n"
     ]
    }
   ],
   "source": [
    "#18) Create of list of square of numbers from 1 to 10\n",
    "\n",
    "square_list = []\n",
    "\n",
    "for i in range(1,11):\n",
    "    square_list.append(i**2)\n",
    "    \n",
    "print(\"The square of number from 1 to 10: \",square_list)"
   ]
  },
  {
   "cell_type": "code",
   "execution_count": 23,
   "id": "0621e1be-266c-47e5-8926-b9f6f8162fbe",
   "metadata": {},
   "outputs": [
    {
     "name": "stdout",
     "output_type": "stream",
     "text": [
      "[38, 31, 14, 9, 40, 25, 9, 25, 21, 31]\n"
     ]
    }
   ],
   "source": [
    "#19) Create a list random numbers\n",
    "\n",
    "import random\n",
    "\n",
    "random_list = []\n",
    "\n",
    "for i in range(10):\n",
    "    random_list.append(random.randint(1,51))\n",
    "    \n",
    "print(random_list)\n",
    "\n"
   ]
  },
  {
   "cell_type": "code",
   "execution_count": 37,
   "id": "b4af80a0-d2d8-4951-9947-8f7e250fb54e",
   "metadata": {},
   "outputs": [
    {
     "name": "stdout",
     "output_type": "stream",
     "text": [
      "['banana', 'mango', 344, 3488, 'fhsuidh', 'dfojfo', 37937, 34898]\n"
     ]
    }
   ],
   "source": [
    "#20) Remove duplicates from a list:\n",
    "\n",
    "new_list = ['banana','mango','coconut',344,3488,'fhsuidh','coconut','dfojfo','coconut',37937,34898]\n",
    "\n",
    "sorted_list =[]\n",
    "\n",
    "for i in new_list:\n",
    "    if new_list.count(i)==1 and i not in sorted_list:\n",
    "        sorted_list.append(i)\n",
    "        \n",
    "print(sorted_list)"
   ]
  },
  {
   "cell_type": "code",
   "execution_count": 38,
   "id": "006a97ea-87ec-4a74-bdd0-0f0ae37da6d0",
   "metadata": {},
   "outputs": [
    {
     "name": "stdout",
     "output_type": "stream",
     "text": [
      "[3, 4, 5]\n"
     ]
    }
   ],
   "source": [
    "#21) Find the common elements between two lists\n",
    "\n",
    "list1 = [1, 2, 3, 4, 5]\n",
    "list2 = [3, 4, 5, 6, 7]\n",
    "common_elements = []\n",
    "\n",
    "for i in list1:\n",
    "    if i in list2:\n",
    "        common_elements.append(i)\n",
    "\n",
    "print(common_elements)"
   ]
  },
  {
   "cell_type": "code",
   "execution_count": 41,
   "id": "b6023de2-07a0-4852-8560-24bf50454ee4",
   "metadata": {},
   "outputs": [
    {
     "name": "stdout",
     "output_type": "stream",
     "text": [
      "[1, 2, 6, 7]\n"
     ]
    }
   ],
   "source": [
    "#22) Find the difference between two lists\n",
    "\n",
    "list1 = [1, 2, 3, 4, 5]\n",
    "list2 = [3, 4, 5, 6, 7]\n",
    "diff_elements = []\n",
    "\n",
    "for i in list1:\n",
    "    if i not in list2:\n",
    "        diff_elements.append(i)\n",
    "        \n",
    "for i in list2:\n",
    "    if i not in list1:\n",
    "        diff_elements.append(i)\n",
    "\n",
    "print(diff_elements)"
   ]
  },
  {
   "cell_type": "code",
   "execution_count": 42,
   "id": "22265f7e-6dbf-44a8-8ffe-975f30d6fba8",
   "metadata": {},
   "outputs": [
    {
     "name": "stdout",
     "output_type": "stream",
     "text": [
      "[1, 2, 3, 4, 5, 6, 7]\n"
     ]
    }
   ],
   "source": [
    "#23) Merge two lists\n",
    "\n",
    "\n",
    "list1 = [1, 2, 3, 4, 5]\n",
    "list2 = [3, 4, 5, 6, 7]\n",
    "\n",
    "merged_list = list1\n",
    "\n",
    "for i in list2:\n",
    "    if i not in merged_list:\n",
    "        merged_list.append(i)\n",
    "        \n",
    "print(merged_list)\n"
   ]
  },
  {
   "cell_type": "code",
   "execution_count": 43,
   "id": "1fc2258f-f309-4e92-b6bc-abf0d963a728",
   "metadata": {},
   "outputs": [
    {
     "name": "stdout",
     "output_type": "stream",
     "text": [
      "[24, 786, 74, 56, 72, 20, 64, 16, 638, 76, 40]\n"
     ]
    }
   ],
   "source": [
    "#24) Multiply all elements in a list by 2\n",
    "\n",
    "num_list = [12,393,37,28,36,10,32,8,319,38,20]\n",
    "multiple_list = []\n",
    "\n",
    "for i in num_list:\n",
    "    multiple_list.append(i*2)\n",
    "    \n",
    "print(multiple_list)"
   ]
  },
  {
   "cell_type": "code",
   "execution_count": 44,
   "id": "d0658c08-cef9-4fbf-9f51-0901cb5065e1",
   "metadata": {},
   "outputs": [
    {
     "name": "stdout",
     "output_type": "stream",
     "text": [
      "Original List: [1, 2, 3, 4, 5, 6, 7, 8, 9, 10]\n",
      "Filtered List (without even numbers): [1, 3, 5, 7, 9]\n"
     ]
    }
   ],
   "source": [
    "#25) Filter out all even numbers from a list\n",
    "\n",
    "original_list = [1, 2, 3, 4, 5, 6, 7, 8, 9, 10]\n",
    "\n",
    "filtered_list = [num for num in original_list if num % 2 != 0]\n",
    "\n",
    "print(\"Original List:\", original_list)\n",
    "print(\"Filtered List (without even numbers):\", filtered_list)"
   ]
  },
  {
   "cell_type": "code",
   "execution_count": 45,
   "id": "8f25e5fb-93f7-46fe-90d3-eb9cbd8f5cee",
   "metadata": {},
   "outputs": [
    {
     "name": "stdout",
     "output_type": "stream",
     "text": [
      "Original List (of strings): ['1', '2', '3', '4', '5']\n",
      "Converted List (of integers): [1, 2, 3, 4, 5]\n"
     ]
    }
   ],
   "source": [
    "#26) Convert a list of string to list of integers\n",
    "\n",
    "string_list = ['1', '2', '3', '4', '5']\n",
    "\n",
    "integer_list = [int(num) for num in string_list]\n",
    "\n",
    "print(\"Original List (of strings):\", string_list)\n",
    "print(\"Converted List (of integers):\", integer_list)\n"
   ]
  },
  {
   "cell_type": "code",
   "execution_count": 46,
   "id": "c9beb77c-e7ad-454b-8aa5-d208e5a11528",
   "metadata": {},
   "outputs": [
    {
     "name": "stdout",
     "output_type": "stream",
     "text": [
      "Original List (of integers): [1, 2, 3, 4, 5]\n",
      "Converted List (of strings): ['1', '2', '3', '4', '5']\n"
     ]
    }
   ],
   "source": [
    "#27) Convert a list of integers to a list of string\n",
    "\n",
    "integer_list = [1, 2, 3, 4, 5]\n",
    "\n",
    "string_list = [str(num) for num in integer_list]\n",
    "\n",
    "print(\"Original List (of integers):\", integer_list)\n",
    "print(\"Converted List (of strings):\", string_list)"
   ]
  },
  {
   "cell_type": "code",
   "execution_count": 47,
   "id": "70d99211-6fcc-4788-bbae-f571df75b6ce",
   "metadata": {},
   "outputs": [
    {
     "name": "stdout",
     "output_type": "stream",
     "text": [
      "Nested List: [[1, 2, 3], [4, 5], [6, 7, 8]]\n",
      "Flattened List: [1, 2, 3, 4, 5, 6, 7, 8]\n"
     ]
    }
   ],
   "source": [
    "#28) Flatten a nested list\n",
    "\n",
    "nested_list = [[1, 2, 3], [4, 5], [6, 7, 8]]\n",
    "\n",
    "flattened_list = [item for sublist in nested_list for item in sublist]\n",
    "\n",
    "print(\"Nested List:\", nested_list)\n",
    "print(\"Flattened List:\", flattened_list)\n"
   ]
  },
  {
   "cell_type": "code",
   "execution_count": 48,
   "id": "4b2c5341-f3f7-41c2-af71-29bbc9043db9",
   "metadata": {},
   "outputs": [
    {
     "name": "stdout",
     "output_type": "stream",
     "text": [
      "[0, 1, 1, 2, 3, 5, 8, 13, 21, 34, 55, 89]\n"
     ]
    }
   ],
   "source": [
    "#29) Create a list of first 10 Fibbonacci numbers\n",
    "\n",
    "fibo = [0,1]\n",
    "\n",
    "for i in range(10):\n",
    "    fibo.append(fibo[len(fibo)-1]+fibo[len(fibo)-2])\n",
    "    \n",
    "print(fibo)"
   ]
  },
  {
   "cell_type": "code",
   "execution_count": 57,
   "id": "03528ebb-5ba3-4dff-a459-2aded86583db",
   "metadata": {},
   "outputs": [
    {
     "data": {
      "text/plain": [
       "'Not sorted'"
      ]
     },
     "execution_count": 57,
     "metadata": {},
     "output_type": "execute_result"
    }
   ],
   "source": [
    "#30) Check if a list is sorted\n",
    "\n",
    "list1 = [1, 2, 3, 4, 5]\n",
    "list2 = [3, 1, 4, 1, 5, 9, 2]\n",
    "\n",
    "def check_sorted(list_input):\n",
    "    if sorted(list_input) != list_input:\n",
    "         return(\"Not sorted\")\n",
    "    else:\n",
    "        return(\"Sorted\")\n",
    "\n",
    "check_sorted(list2)\n",
    "      "
   ]
  },
  {
   "cell_type": "code",
   "execution_count": 63,
   "id": "00140e55-651b-4d19-b052-3a65c0386248",
   "metadata": {},
   "outputs": [
    {
     "name": "stdin",
     "output_type": "stream",
     "text": [
      "Enter a number less than 5:  3\n"
     ]
    },
    {
     "name": "stdout",
     "output_type": "stream",
     "text": [
      "[5, 4, 1, 2, 3]\n"
     ]
    }
   ],
   "source": [
    "#31) Rotate a list to left by n positions\n",
    "list1 = [1, 2, 3, 4, 5]\n",
    "n = int(input(f\"Enter a number less than {len(list1)}: \"))\n",
    "\n",
    "rotated_list = list1[n:][::-1]+list1[:n]\n",
    "print(rotated_list)"
   ]
  },
  {
   "cell_type": "code",
   "execution_count": 64,
   "id": "6c6ccb92-ba18-4ac3-831f-25306a6e3355",
   "metadata": {},
   "outputs": [
    {
     "name": "stdin",
     "output_type": "stream",
     "text": [
      "Enter a number less than 5:  2\n"
     ]
    },
    {
     "name": "stdout",
     "output_type": "stream",
     "text": [
      "[3, 4, 5, 2, 1]\n"
     ]
    }
   ],
   "source": [
    "#32) Rotate a list to right by n positions\n",
    "\n",
    "list1 = [1, 2, 3, 4, 5]\n",
    "n = int(input(f\"Enter a number less than {len(list1)}: \"))\n",
    "\n",
    "rotated_list = list1[n:]+list1[:n][::-1]\n",
    "print(rotated_list)"
   ]
  },
  {
   "cell_type": "code",
   "execution_count": 65,
   "id": "e8d82bf9-ad31-4912-9c51-0f98ab4a9036",
   "metadata": {},
   "outputs": [
    {
     "name": "stdout",
     "output_type": "stream",
     "text": [
      "Prime numbers up to 50: [2, 3, 5, 7, 11, 13, 17, 19, 23, 29, 31, 37, 41, 43, 47]\n"
     ]
    }
   ],
   "source": [
    "#33) Create a list of prime numbers upto 50\n",
    "\n",
    "def is_prime(num):\n",
    "    if num < 2:\n",
    "        return False\n",
    "    for i in range(2, int(num**0.5) + 1):\n",
    "        if num % i == 0:\n",
    "            return False\n",
    "    return True\n",
    "\n",
    "# Generate a list of prime numbers up to 50\n",
    "prime_numbers_up_to_50 = [num for num in range(2, 51) if is_prime(num)]\n",
    "\n",
    "print(\"Prime numbers up to 50:\", prime_numbers_up_to_50)"
   ]
  },
  {
   "cell_type": "code",
   "execution_count": 66,
   "id": "f653c3f8-3292-41bc-8ced-c38ef3915d85",
   "metadata": {},
   "outputs": [
    {
     "name": "stdout",
     "output_type": "stream",
     "text": [
      "Original List: [1, 2, 3, 4, 5, 6, 7, 8, 9]\n",
      "Chunked List: [[1, 2, 3], [4, 5, 6], [7, 8, 9]]\n"
     ]
    }
   ],
   "source": [
    "#34) Split a list into chunks of size 'n'.\n",
    "\n",
    "def chunk_list(lst, n):\n",
    "    for i in range(0, len(lst), n):\n",
    "        yield lst[i:i + n]\n",
    "\n",
    "# Example\n",
    "original_list = [1, 2, 3, 4, 5, 6, 7, 8, 9]\n",
    "chunk_size = 3\n",
    "\n",
    "result = list(chunk_list(original_list, chunk_size))\n",
    "\n",
    "print(f\"Original List: {original_list}\")\n",
    "print(f\"Chunked List: {result}\")"
   ]
  },
  {
   "cell_type": "code",
   "execution_count": 67,
   "id": "969d777c-ca5a-4a2b-9b61-ff21db2dcb04",
   "metadata": {},
   "outputs": [
    {
     "name": "stdout",
     "output_type": "stream",
     "text": [
      "The second largest number is: 15\n"
     ]
    }
   ],
   "source": [
    "#35) Find the second largest number in a list\n",
    "\n",
    "numbers = [10, 5, 8, 20, 15]\n",
    "\n",
    "second_largest = sorted(set(numbers), reverse=True)[1]\n",
    "\n",
    "print(\"The second largest number is:\", second_largest)"
   ]
  },
  {
   "cell_type": "code",
   "execution_count": 68,
   "id": "83cc2f2e-673b-4fe4-b891-562863c86c1f",
   "metadata": {},
   "outputs": [
    {
     "name": "stdout",
     "output_type": "stream",
     "text": [
      "Original List: [2, 3, 4, 5, 6]\n",
      "Squared List: [4, 9, 16, 25, 36]\n"
     ]
    }
   ],
   "source": [
    "#36) Replace every element in a list with its square\n",
    "\n",
    "original_list = [2, 3, 4, 5, 6]\n",
    "\n",
    "squared_list = [num**2 for num in original_list]\n",
    "\n",
    "print(\"Original List:\", original_list)\n",
    "print(\"Squared List:\", squared_list)"
   ]
  },
  {
   "cell_type": "code",
   "execution_count": 69,
   "id": "acfadb3d-7503-45df-bee9-dc88e7acd4ba",
   "metadata": {},
   "outputs": [
    {
     "name": "stdout",
     "output_type": "stream",
     "text": [
      "Original List: ['apple', 'banana', 'orange', 'grape']\n",
      "Resulting Dictionary: {'apple': 0, 'banana': 1, 'orange': 2, 'grape': 3}\n"
     ]
    }
   ],
   "source": [
    "#37) Convert a list to a dictionary where list elements become keys and their indices become values\n",
    "\n",
    "original_list = ['apple', 'banana', 'orange', 'grape']\n",
    "\n",
    "result_dict = {element: index for index, element in enumerate(original_list)}\n",
    "\n",
    "print(\"Original List:\", original_list)\n",
    "print(\"Resulting Dictionary:\", result_dict)"
   ]
  },
  {
   "cell_type": "code",
   "execution_count": 71,
   "id": "0bbdcbdc-4b3d-484c-9444-a8f9ab611f1a",
   "metadata": {},
   "outputs": [
    {
     "name": "stdout",
     "output_type": "stream",
     "text": [
      "Shuffled List: [5, 3, 4, 2, 1]\n"
     ]
    }
   ],
   "source": [
    "#38) Shuffle the elements of a list randomly\n",
    "\n",
    "import random\n",
    "\n",
    "original_list = [1, 2, 3, 4, 5]\n",
    "\n",
    "random.shuffle(original_list)\n",
    "\n",
    "print(\"Shuffled List:\", original_list)\n"
   ]
  },
  {
   "cell_type": "code",
   "execution_count": 72,
   "id": "64caa051-ba20-4449-ab7c-300f666d4389",
   "metadata": {},
   "outputs": [
    {
     "name": "stdout",
     "output_type": "stream",
     "text": [
      "List of the first 10 factorial numbers: [1, 1, 2, 6, 24, 120, 720, 5040, 40320, 362880]\n"
     ]
    }
   ],
   "source": [
    "#39) Create a list of first 10 factorial numbers\n",
    "\n",
    "import math\n",
    "\n",
    "factorial_numbers = [math.factorial(i) for i in range(10)]\n",
    "\n",
    "print(\"List of the first 10 factorial numbers:\", factorial_numbers)"
   ]
  },
  {
   "cell_type": "code",
   "execution_count": 78,
   "id": "bdfc3b81-fb0d-46e6-b099-7bcda7e7e299",
   "metadata": {},
   "outputs": [
    {
     "data": {
      "text/plain": [
       "'None is common in both lists'"
      ]
     },
     "execution_count": 78,
     "metadata": {},
     "output_type": "execute_result"
    }
   ],
   "source": [
    "#40) Check if two lists have at least one element in common\n",
    "\n",
    "list1 = [1, 2, 3, 4, 23]\n",
    "list2 = [5, 6, 7, 8, 9]\n",
    "\n",
    "def check_common(list1,list2):\n",
    "    for i in list1:\n",
    "        if i in list2:\n",
    "            return(f\"{i} is common in both the lists\")\n",
    "            list2.remove(i)\n",
    "        else:\n",
    "            continue\n",
    "    return(f\"None is common in both lists\")\n",
    "\n",
    "check_common(list1,list2)"
   ]
  },
  {
   "cell_type": "code",
   "execution_count": 79,
   "id": "1e53c2a1-877b-477f-bc53-fb22c5e2a837",
   "metadata": {},
   "outputs": [
    {
     "name": "stdout",
     "output_type": "stream",
     "text": [
      "List after removing all elements: []\n"
     ]
    }
   ],
   "source": [
    "#41) Remove all elements from a list\n",
    "\n",
    "my_list = [1, 2, 3, 4, 5]\n",
    "\n",
    "my_list.clear()\n",
    "\n",
    "print(\"List after removing all elements:\", my_list)\n"
   ]
  },
  {
   "cell_type": "code",
   "execution_count": 1,
   "id": "44a3043b-68ba-4c50-b0d7-2cd999ce6de8",
   "metadata": {},
   "outputs": [
    {
     "name": "stdout",
     "output_type": "stream",
     "text": [
      "[1, 0, 3, 0, 5]\n"
     ]
    }
   ],
   "source": [
    "#42) Replace the negative numbers in a list with 0\n",
    "\n",
    "num_list = [1, -2, 3, -4, 5]\n",
    "\n",
    "new_list = [max(0,i) for i in num_list]\n",
    "\n",
    "print(new_list)"
   ]
  },
  {
   "cell_type": "code",
   "execution_count": 3,
   "id": "f2d83291-ae41-4d09-8ae8-c6483d0c0222",
   "metadata": {},
   "outputs": [
    {
     "name": "stdout",
     "output_type": "stream",
     "text": [
      "['Hello,', 'how', 'are', 'you', 'doing', 'today?']\n"
     ]
    }
   ],
   "source": [
    "#43) Convert a string to a list of words\n",
    "\n",
    "original_string = \"Hello, how are you doing today?\"\n",
    "\n",
    "word_list = list(original_string.split(' '))\n",
    "\n",
    "print(word_list)              \n"
   ]
  },
  {
   "cell_type": "code",
   "execution_count": 4,
   "id": "ebacd551-a068-4c34-b64a-b300af0866b4",
   "metadata": {},
   "outputs": [
    {
     "name": "stdout",
     "output_type": "stream",
     "text": [
      "Resulting string: Hello, how are you doing today?\n"
     ]
    }
   ],
   "source": [
    "#44) Convert a list of words to a string\n",
    "\n",
    "word_list = ['Hello,', 'how', 'are', 'you', 'doing', 'today?']\n",
    "\n",
    "result_string = ' '.join(word_list)\n",
    "\n",
    "print(\"Resulting string:\", result_string)"
   ]
  },
  {
   "cell_type": "code",
   "execution_count": 5,
   "id": "9c12aa93-685b-4282-8cf4-b2c86986e37d",
   "metadata": {},
   "outputs": [
    {
     "name": "stdout",
     "output_type": "stream",
     "text": [
      "List of the first 5 numbers to the power of 2: [1, 4, 9, 16, 25]\n"
     ]
    }
   ],
   "source": [
    "#45) Create a list of the first 'n' number to the power of 2\n",
    "\n",
    "n = 5\n",
    "\n",
    "result_list = [i ** 2 for i in range(1, n + 1)]\n",
    "\n",
    "print(\"List of the first\", n, \"numbers to the power of 2:\", result_list)\n"
   ]
  },
  {
   "cell_type": "code",
   "execution_count": 11,
   "id": "ea055982-1bf5-4c1a-8ee8-56f9f1987af9",
   "metadata": {},
   "outputs": [
    {
     "name": "stdout",
     "output_type": "stream",
     "text": [
      "Longest string in the list is Hello,\n"
     ]
    }
   ],
   "source": [
    "#46) Find the longest string in a list of strings\n",
    "\n",
    "word_list = ['Hello,', 'how', 'are', 'you', 'doing', 'today?']\n",
    "\n",
    "longest_string = max(word_list,key=len)\n",
    "\n",
    "print(f\"Longest string in the list is {longest_string}\")"
   ]
  },
  {
   "cell_type": "code",
   "execution_count": 13,
   "id": "3bfeaec0-1a9d-42bb-a224-81eb0364cf01",
   "metadata": {},
   "outputs": [
    {
     "name": "stdout",
     "output_type": "stream",
     "text": [
      "Longest string in the list is how\n"
     ]
    }
   ],
   "source": [
    "#47) Find the shortest string in a list of strings\n",
    "\n",
    "word_list = ['Hello,', 'how', 'are', 'you', 'doing', 'today?']\n",
    "\n",
    "shortest_string = min(word_list,key=len)\n",
    "\n",
    "print(f\"Longest string in the list is {shortest_string}\")"
   ]
  },
  {
   "cell_type": "code",
   "execution_count": 14,
   "id": "a38d8350-644e-45f8-aeff-edafe5a72ab0",
   "metadata": {},
   "outputs": [
    {
     "name": "stdout",
     "output_type": "stream",
     "text": [
      "List of the first 5 triangular numbers: [1, 3, 6, 10, 15]\n"
     ]
    }
   ],
   "source": [
    "#48) Create a list of first 'n' trisngular numbers\n",
    "\n",
    "n = 5\n",
    "\n",
    "# Create a list of the first 'n' triangular numbers\n",
    "triangular_numbers = [sum(range(1, i + 1)) for i in range(1, n + 1)]\n",
    "\n",
    "print(\"List of the first\", n, \"triangular numbers:\", triangular_numbers)\n"
   ]
  },
  {
   "cell_type": "code",
   "execution_count": 22,
   "id": "f056f534-76b5-4494-af98-41c30dbbf05f",
   "metadata": {},
   "outputs": [
    {
     "data": {
      "text/plain": [
       "'[3, 4, 5] is a subsequence of the list [1, 2, 3, 4, 5, 6, 7, 8, 9]'"
      ]
     },
     "execution_count": 22,
     "metadata": {},
     "output_type": "execute_result"
    }
   ],
   "source": [
    "#49) Check if a list contains another list in subsequence\n",
    "\n",
    "sequence = [1, 2, 3, 4, 5, 6, 7, 8, 9]\n",
    "subsequence = [3, 4, 5]\n",
    "\n",
    "def is_subsequence(subsequence, sequence):\n",
    "    sub_len = len(subsequence)\n",
    "    seq_len = len(sequence)\n",
    "\n",
    "    # Iterate through the sequence to find the subsequence\n",
    "    for i in range(seq_len - sub_len + 1):\n",
    "        if sequence[i:i + sub_len] == subsequence:\n",
    "            return (f\"{subsequence} is a subsequence of the list {sequence}\")\n",
    "\n",
    "    # If the loop completes and no match is found\n",
    "    return (f\"{subsequence} is a subsequence of the {sequence}\")\n",
    "\n",
    "is_subsequence(subsequence, sequence)\n"
   ]
  },
  {
   "cell_type": "code",
   "execution_count": 23,
   "id": "d65c9324-22de-4b23-9a41-dbef297c0ac1",
   "metadata": {},
   "outputs": [
    {
     "name": "stdout",
     "output_type": "stream",
     "text": [
      "Original list: [1, 4, 3, 2, 5]\n",
      "List after swapping elements at indices: [1, 4, 3, 2, 5]\n"
     ]
    }
   ],
   "source": [
    "#50) Swap two elements in the list by their indices\n",
    "\n",
    "def swap_elements_by_indices(lst, index1, index2):\n",
    "    # Check if indices are valid\n",
    "    if 0 <= index1 < len(lst) and 0 <= index2 < len(lst):\n",
    "        # Swap elements using a temporary variable\n",
    "        temp = lst[index1]\n",
    "        lst[index1] = lst[index2]\n",
    "        lst[index2] = temp\n",
    "        return lst\n",
    "    else:\n",
    "        print(\"Invalid indices.\")\n",
    "        return None\n",
    "\n",
    "my_list = [1, 2, 3, 4, 5]\n",
    "index_to_swap1 = 1\n",
    "index_to_swap2 = 3\n",
    "\n",
    "result_list = swap_elements_by_indices(my_list, index_to_swap1, index_to_swap2)\n",
    "\n",
    "print(\"Original list:\", my_list)\n",
    "print(\"List after swapping elements at indices:\", result_list)\n"
   ]
  },
  {
   "cell_type": "markdown",
   "id": "99322bc8-11f3-40ef-9af4-3f69e53f560e",
   "metadata": {},
   "source": [
    "# Tuple based Practice problem"
   ]
  },
  {
   "cell_type": "code",
   "execution_count": 2,
   "id": "1ac5fed5-cf4c-4662-8f52-e63000a8f67c",
   "metadata": {},
   "outputs": [
    {
     "name": "stdout",
     "output_type": "stream",
     "text": [
      "(1, 2, 3, 4, 5)\n"
     ]
    }
   ],
   "source": [
    "#1) Create a tuple with integers from 1 to 5\n",
    "\n",
    "num_tuple =  tuple(range(1,6))\n",
    "print(num_tuple)"
   ]
  },
  {
   "cell_type": "code",
   "execution_count": 3,
   "id": "a22d25e8-1730-4416-8a3f-bc2ee8e6f3be",
   "metadata": {},
   "outputs": [
    {
     "name": "stdin",
     "output_type": "stream",
     "text": [
      "Enter a index below 6:  3\n"
     ]
    },
    {
     "name": "stdout",
     "output_type": "stream",
     "text": [
      "The item in index 3 is: 9\n"
     ]
    }
   ],
   "source": [
    "#2) Access the third element from tuple\n",
    "\n",
    "new_tuple = ('dog','cat',1,9,8,'monkey')\n",
    "len_tuple = len(new_tuple)\n",
    "index = int(input(f\"Enter a index below {len_tuple}: \"))\n",
    "\n",
    "item = new_tuple[index]\n",
    "print(f\"The item in index {index} is: {item}\")"
   ]
  },
  {
   "cell_type": "code",
   "execution_count": 5,
   "id": "6bfeba05-8093-4870-aa9f-eea4ca618f0e",
   "metadata": {},
   "outputs": [
    {
     "name": "stdout",
     "output_type": "stream",
     "text": [
      "The tuple is: ('dog', 'cat', 1, 9, 8, 'monkey')\n",
      "The length of the tuple is: 6\n"
     ]
    }
   ],
   "source": [
    "#3) Find the length of tuple without using 'len()' function\n",
    "\n",
    "new_tuple = ('dog','cat',1,9,8,'monkey')\n",
    "count = 0\n",
    "for i in new_tuple:\n",
    "    count +=1\n",
    "print(f\"The tuple is: {new_tuple}\")\n",
    "print(f\"The length of the tuple is: {count}\")"
   ]
  },
  {
   "cell_type": "code",
   "execution_count": 6,
   "id": "53fa964a-a687-41ae-aa18-4024416e1d8a",
   "metadata": {},
   "outputs": [
    {
     "name": "stdout",
     "output_type": "stream",
     "text": [
      "The tuple is: ('dog', 'cat', 1, 'cat', 9, 'cat', 8, 'monkey')\n",
      "The number of times cat appears in the tuple is: 3\n"
     ]
    }
   ],
   "source": [
    "#4) Count the occurence of an element in tuple \n",
    "\n",
    "new_tuple = ('dog','cat',1,'cat',9,'cat',8,'monkey')\n",
    "print(f\"The tuple is: {new_tuple}\")\n",
    "\n",
    "item = \"cat\"\n",
    "print(f\"The number of times {item} appears in the tuple is: {new_tuple.count(item)}\")\n"
   ]
  },
  {
   "cell_type": "code",
   "execution_count": 8,
   "id": "2fd808e4-fefa-44f5-8c3b-3eb42bb9bb30",
   "metadata": {},
   "outputs": [
    {
     "name": "stdout",
     "output_type": "stream",
     "text": [
      "The tuple is: ('dog', 'cat', 1, 'cat', 9, 'cat', 8, 'monkey')\n",
      "The item cat appears first in the tuple at index: 1\n"
     ]
    }
   ],
   "source": [
    "#5) Find the index of the first occurence of element in a tuple\n",
    "\n",
    "new_tuple = ('dog','cat',1,'cat',9,'cat',8,'monkey')\n",
    "print(f\"The tuple is: {new_tuple}\")\n",
    "\n",
    "item = \"cat\"\n",
    "print(f\"The item {item} appears first in the tuple at index: {new_tuple.index(item)}\")"
   ]
  },
  {
   "cell_type": "code",
   "execution_count": 10,
   "id": "8ff315ac-66b7-4211-9b4b-c0ffc9fa623e",
   "metadata": {},
   "outputs": [
    {
     "name": "stdin",
     "output_type": "stream",
     "text": [
      "Enter an item you want to find in the list:  dog\n"
     ]
    },
    {
     "name": "stdout",
     "output_type": "stream",
     "text": [
      "dog is present in the tuple\n"
     ]
    }
   ],
   "source": [
    "#6) Check if an element exists in tuple\n",
    "\n",
    "new_tuple = ('dog','cat',1,'cat',9,'cat',8,'monkey')\n",
    "item = input(f\"Enter an item you want to find in the list: \")\n",
    "\n",
    "if item in new_tuple:\n",
    "    print(f\"{item} is present in the tuple\")\n",
    "else:\n",
    "    print(f\"{item} is not present in the tuple\")"
   ]
  },
  {
   "cell_type": "code",
   "execution_count": 11,
   "id": "764098dc-3c64-463c-a869-c719ec7b836e",
   "metadata": {},
   "outputs": [
    {
     "name": "stdout",
     "output_type": "stream",
     "text": [
      "['dog', 'cat', 1, 'cat', 9, 'cat', 8, 'monkey']\n"
     ]
    }
   ],
   "source": [
    "#7) Convert a tuple to a list\n",
    "\n",
    "new_tuple = ('dog','cat',1,'cat',9,'cat',8,'monkey')\n",
    "converted_list = list(new_tuple)\n",
    "print(converted_list)"
   ]
  },
  {
   "cell_type": "code",
   "execution_count": 12,
   "id": "f36bb687-75c0-4136-8d4b-574536f888f6",
   "metadata": {},
   "outputs": [
    {
     "name": "stdout",
     "output_type": "stream",
     "text": [
      "(1, 2, 3, 4, 5)\n"
     ]
    }
   ],
   "source": [
    "#8) convert a list to a tuple\n",
    "\n",
    "my_list = [1, 2, 3, 4, 5]\n",
    "my_tuple = tuple(my_list)\n",
    "print(my_tuple)\n"
   ]
  },
  {
   "cell_type": "code",
   "execution_count": 13,
   "id": "cae4cb8c-82f1-4490-aed6-1a5d292d035a",
   "metadata": {},
   "outputs": [
    {
     "name": "stdout",
     "output_type": "stream",
     "text": [
      "1\n",
      "2\n",
      "3\n"
     ]
    }
   ],
   "source": [
    "#9) Unpack the elements of a tuple to variables\n",
    "\n",
    "my_tuple = (1, 2, 3)\n",
    "a, b, c = my_tuple\n",
    "\n",
    "print(a)  # Output: 1\n",
    "print(b)  # Output: 2\n",
    "print(c)  # Output: 3\n"
   ]
  },
  {
   "cell_type": "code",
   "execution_count": 14,
   "id": "fb7e2d36-2e2d-439c-ac38-33e2bf8eaf7f",
   "metadata": {},
   "outputs": [
    {
     "name": "stdout",
     "output_type": "stream",
     "text": [
      "(2, 4, 6, 8, 10)\n"
     ]
    }
   ],
   "source": [
    "#10) Create a tuple of even numbers from 1 to 10:\n",
    "\n",
    "even_tuple = tuple(filter(lambda x: x%2==0, range(1,11)))\n",
    "print(even_tuple)"
   ]
  },
  {
   "cell_type": "code",
   "execution_count": 15,
   "id": "b64326ba-63a3-4cbd-b27f-000f4809a039",
   "metadata": {},
   "outputs": [
    {
     "name": "stdout",
     "output_type": "stream",
     "text": [
      "(1, 3, 5, 7, 9)\n"
     ]
    }
   ],
   "source": [
    "#11) Create a tuple of odd numbers from 1 to 10:\n",
    "\n",
    "odd_tuple = tuple(filter(lambda x: x%2!=0,range(1,11)))\n",
    "print(odd_tuple)"
   ]
  },
  {
   "cell_type": "code",
   "execution_count": 16,
   "id": "863f85fe-aad8-4086-a958-9a6d7f42331e",
   "metadata": {},
   "outputs": [
    {
     "name": "stdout",
     "output_type": "stream",
     "text": [
      "(1, 2, 3, 'a', 'b', 'c')\n"
     ]
    }
   ],
   "source": [
    "#12) Concatenate two tuples\n",
    "\n",
    "tuple1 = (1, 2, 3)\n",
    "tuple2 = ('a', 'b', 'c')\n",
    "\n",
    "concatenated_tuple = tuple1 + tuple2\n",
    "print(concatenated_tuple)\n"
   ]
  },
  {
   "cell_type": "code",
   "execution_count": 17,
   "id": "5c566559-4bd4-4f87-9617-478e6bddb5b2",
   "metadata": {},
   "outputs": [
    {
     "name": "stdout",
     "output_type": "stream",
     "text": [
      "('dog', 'cat', 1, 'cat', 9, 'cat', 8, 'monkey', 'dog', 'cat', 1, 'cat', 9, 'cat', 8, 'monkey', 'dog', 'cat', 1, 'cat', 9, 'cat', 8, 'monkey')\n"
     ]
    }
   ],
   "source": [
    "#13) Repeat a tuple three times\n",
    "\n",
    "new_tuple = ('dog','cat',1,'cat',9,'cat',8,'monkey')\n",
    "print(new_tuple*3)"
   ]
  },
  {
   "cell_type": "code",
   "execution_count": 18,
   "id": "5bca78db-d56c-44cc-a41a-6f1c325a4480",
   "metadata": {},
   "outputs": [
    {
     "name": "stdout",
     "output_type": "stream",
     "text": [
      "The tuple is empty\n"
     ]
    }
   ],
   "source": [
    "#14) Check if a tuple is empty\n",
    "\n",
    "my_tuple = ()\n",
    "\n",
    "if len(my_tuple) == 0:\n",
    "    print(\"The tuple is empty\")\n",
    "else:\n",
    "    print(\"The tuple is not empty\")"
   ]
  },
  {
   "cell_type": "code",
   "execution_count": 19,
   "id": "0a5a12f3-2517-4199-a7a9-660c12348de4",
   "metadata": {},
   "outputs": [
    {
     "name": "stdout",
     "output_type": "stream",
     "text": [
      "((1, 2, 3), ('a', 'b', 'c'), (True, False))\n"
     ]
    }
   ],
   "source": [
    "# 15) Create a nested tuple\n",
    "\n",
    "nested_tuple = ((1, 2, 3), ('a', 'b', 'c'), (True, False))\n",
    "\n",
    "print(nested_tuple)"
   ]
  },
  {
   "cell_type": "code",
   "execution_count": 20,
   "id": "52174e27-612b-440f-9ab2-165d6eccac20",
   "metadata": {},
   "outputs": [
    {
     "name": "stdout",
     "output_type": "stream",
     "text": [
      "(1, 2, 3)\n"
     ]
    }
   ],
   "source": [
    "# 16) Access the first element of a nested tuple\n",
    "\n",
    "nested_tuple = ((1, 2, 3), ('a', 'b', 'c'), (True, False))\n",
    "\n",
    "first_element = nested_tuple[0]\n",
    "print(first_element)"
   ]
  },
  {
   "cell_type": "code",
   "execution_count": 21,
   "id": "fd27fc40-b783-4c08-9dcc-425992119b4d",
   "metadata": {},
   "outputs": [
    {
     "name": "stdout",
     "output_type": "stream",
     "text": [
      "Tuples are not equal\n"
     ]
    }
   ],
   "source": [
    "#17) Compare two tuples\n",
    "\n",
    "tuple1 = (1, 2, 3)\n",
    "tuple2 = (1, 2, 4)\n",
    "\n",
    "if tuple1 == tuple2:\n",
    "    print(\"Tuples are equal\")\n",
    "else:\n",
    "    print(\"Tuples are not equal\")"
   ]
  },
  {
   "cell_type": "code",
   "execution_count": 2,
   "id": "37c5efb7-4c22-46ff-be6d-917fa2a912d0",
   "metadata": {},
   "outputs": [
    {
     "name": "stdout",
     "output_type": "stream",
     "text": [
      "<class 'tuple'>\n"
     ]
    }
   ],
   "source": [
    "#18) Create a tuple with a single element\n",
    "\n",
    "#To create a tuple with a single element we need to give a trailing comma at te end of the tuple , \n",
    "# otherwise it is considered as int\n",
    "\n",
    "single_element_tuple = (42,)\n",
    "print(type(single_element_tuple))"
   ]
  },
  {
   "cell_type": "code",
   "execution_count": 7,
   "id": "21654a3e-5129-49f8-9e5e-abdd5063ae79",
   "metadata": {},
   "outputs": [
    {
     "name": "stdout",
     "output_type": "stream",
     "text": [
      "tuple2 is deleted\n"
     ]
    }
   ],
   "source": [
    "#19) Delete a tuple\n",
    "\n",
    "tuple1 = (1, 2, 3)\n",
    "tuple2 = ('a', 'b', 'c')\n",
    "\n",
    "#deleting tuple 2\n",
    "del tuple2\n",
    "\n",
    "try:\n",
    "    print(tuple2)\n",
    "except:\n",
    "    print(\"tuple2 is deleted\")\n",
    "\n"
   ]
  },
  {
   "cell_type": "code",
   "execution_count": 11,
   "id": "0f9593ee-afbb-46b9-acce-40e5f9b2f065",
   "metadata": {},
   "outputs": [
    {
     "name": "stdout",
     "output_type": "stream",
     "text": [
      "Original Tuple: (1, 2, 3, 4, 5, 6, 7, 8, 9)\n",
      "Sliced Tuple: (3, 4, 5)\n"
     ]
    }
   ],
   "source": [
    "#20) Slice a tuple \n",
    "\n",
    "my_tuple = (1, 2, 3, 4, 5, 6, 7, 8, 9)\n",
    "\n",
    "sliced_tuple = my_tuple[2:5]\n",
    "\n",
    "print(\"Original Tuple:\", my_tuple)\n",
    "print(\"Sliced Tuple:\", sliced_tuple)"
   ]
  },
  {
   "cell_type": "code",
   "execution_count": 12,
   "id": "820a6c89-4709-4821-b223-e3426053c25c",
   "metadata": {},
   "outputs": [
    {
     "name": "stdout",
     "output_type": "stream",
     "text": [
      "9\n"
     ]
    }
   ],
   "source": [
    "#21) Find the maximum value in a tuple\n",
    "\n",
    "my_tuple = (1, 2, 3, 4, 5, 6, 7, 8, 9)\n",
    "\n",
    "print(max(my_tuple))"
   ]
  },
  {
   "cell_type": "code",
   "execution_count": 13,
   "id": "472da0a7-5a1b-4db0-982e-57db0233d78e",
   "metadata": {},
   "outputs": [
    {
     "name": "stdout",
     "output_type": "stream",
     "text": [
      "1\n"
     ]
    }
   ],
   "source": [
    "#22) Find the minimum value in a tuple\n",
    "\n",
    "my_tuple = (1, 2, 3, 4, 5, 6, 7, 8, 9)\n",
    "\n",
    "print(min(my_tuple))"
   ]
  },
  {
   "cell_type": "code",
   "execution_count": 14,
   "id": "52acdbbf-e797-4384-bb88-ef2d6ed7bc42",
   "metadata": {},
   "outputs": [
    {
     "name": "stdout",
     "output_type": "stream",
     "text": [
      "String: Hello\n",
      "Tuple of Characters: ('H', 'e', 'l', 'l', 'o')\n"
     ]
    }
   ],
   "source": [
    "#23) Convert a string to a tuple of characters\n",
    "\n",
    "# String\n",
    "my_string = \"Hello\"\n",
    "\n",
    "char_tuple = tuple(my_string)\n",
    "\n",
    "print(\"String:\", my_string)\n",
    "print(\"Tuple of Characters:\", char_tuple)\n"
   ]
  },
  {
   "cell_type": "code",
   "execution_count": 18,
   "id": "e5353d11-4243-466c-9142-3f509c8434b4",
   "metadata": {},
   "outputs": [
    {
     "name": "stdout",
     "output_type": "stream",
     "text": [
      "Tuple: (1, 2, 3, 4, 5, 6, 7, 8, 9)\n",
      "String: 123456789\n"
     ]
    }
   ],
   "source": [
    "#24) Convert a tuple of characters to a string\n",
    "\n",
    "my_tuple = (1, 2, 3, 4, 5, 6, 7, 8, 9)\n",
    "\n",
    "string_char = ''.join(str(i) for i in my_tuple)\n",
    "print(\"Tuple:\",my_tuple)\n",
    "print(\"String:\",string_char)"
   ]
  },
  {
   "cell_type": "code",
   "execution_count": 21,
   "id": "05886c73-f6d2-4d00-90a0-c9c3aa5b611b",
   "metadata": {},
   "outputs": [
    {
     "name": "stdout",
     "output_type": "stream",
     "text": [
      "('apple', 42, 3.14, True)\n"
     ]
    }
   ],
   "source": [
    "#25) Create a tuple from multiple data types\n",
    "\n",
    "# Creating a tuple with multiple data types\n",
    "mixed_tuple = (\"apple\", 42, 3.14, True)\n",
    "\n",
    "# Display the tuple\n",
    "print(mixed_tuple)\n"
   ]
  },
  {
   "cell_type": "code",
   "execution_count": 20,
   "id": "13900055-6b2e-43ed-a76a-a46ebca567d8",
   "metadata": {},
   "outputs": [
    {
     "name": "stdout",
     "output_type": "stream",
     "text": [
      "Tuples are not equal\n"
     ]
    }
   ],
   "source": [
    "#26) Check if two tuples are identical\n",
    "\n",
    "\n",
    "tuple1 = (1, 2, 3)\n",
    "tuple2 = (1, 2, 4)\n",
    "\n",
    "if tuple1 == tuple2:\n",
    "    print(\"Tuples are equal\")\n",
    "else:\n",
    "    print(\"Tuples are not equal\")"
   ]
  },
  {
   "cell_type": "code",
   "execution_count": 22,
   "id": "40f747cf-fb6c-4349-a8ae-f8712be8dfcd",
   "metadata": {},
   "outputs": [
    {
     "name": "stdout",
     "output_type": "stream",
     "text": [
      "[8, 10, 12, 20, 28, 32, 36, 37, 38, 319, 393]\n"
     ]
    }
   ],
   "source": [
    "#27) Sort the elements of a tuple\n",
    "\n",
    "num_list = [12,393,37,28,36,10,32,8,319,38,20]\n",
    "\n",
    "print(sorted(num_list))"
   ]
  },
  {
   "cell_type": "code",
   "execution_count": 23,
   "id": "746f253a-85e4-4456-951d-be82ec83f375",
   "metadata": {},
   "outputs": [
    {
     "name": "stdout",
     "output_type": "stream",
     "text": [
      "Tuple of Integers: (1, 2, 3, 4, 5)\n",
      "Tuple of Strings: ('1', '2', '3', '4', '5')\n"
     ]
    }
   ],
   "source": [
    "#28) Convert a tuple of integers to a tuple of strings\n",
    "\n",
    "int_tuple = (1, 2, 3, 4, 5)\n",
    "\n",
    "str_tuple = tuple(str(i) for i in int_tuple)\n",
    "\n",
    "print(\"Tuple of Integers:\", int_tuple)\n",
    "print(\"Tuple of Strings:\", str_tuple)\n"
   ]
  },
  {
   "cell_type": "code",
   "execution_count": 24,
   "id": "5e871786-fc1b-4b93-994a-b69500cd1dcc",
   "metadata": {},
   "outputs": [
    {
     "name": "stdout",
     "output_type": "stream",
     "text": [
      "Tuple of Strings: ('1', '2', '3', '4', '5')\n",
      "Tuple of Integers: (1, 2, 3, 4, 5)\n"
     ]
    }
   ],
   "source": [
    "#29) Convert a tuple of strings to tuple of integers\n",
    "\n",
    "str_tuple = ('1', '2', '3', '4', '5')\n",
    "\n",
    "int_tuple = tuple(int(s) for s in str_tuple)\n",
    "\n",
    "print(\"Tuple of Strings:\", str_tuple)\n",
    "print(\"Tuple of Integers:\", int_tuple)\n"
   ]
  },
  {
   "cell_type": "code",
   "execution_count": 25,
   "id": "7193875a-f0df-4e14-9542-9e7256cc3ee2",
   "metadata": {},
   "outputs": [
    {
     "name": "stdout",
     "output_type": "stream",
     "text": [
      "Tuple 1: (1, 2, 3)\n",
      "Tuple 2: ('a', 'b', 'c')\n",
      "Merged Tuple: (1, 2, 3, 'a', 'b', 'c')\n"
     ]
    }
   ],
   "source": [
    "#30) Merge two tuples\n",
    "\n",
    "tuple1 = (1, 2, 3)\n",
    "tuple2 = ('a', 'b', 'c')\n",
    "\n",
    "merged_tuple = tuple1 + tuple2\n",
    "\n",
    "print(\"Tuple 1:\", tuple1)\n",
    "print(\"Tuple 2:\", tuple2)\n",
    "print(\"Merged Tuple:\", merged_tuple)\n"
   ]
  },
  {
   "cell_type": "code",
   "execution_count": 26,
   "id": "589083d9-9578-4080-b63c-b7506d27ff6b",
   "metadata": {},
   "outputs": [
    {
     "name": "stdout",
     "output_type": "stream",
     "text": [
      "Nested Tuple: ((1, 2, (3, 4)), 5, (6, (7, 8)))\n",
      "Flattened Tuple: (1, 2, 3, 4, 5, 6, 7, 8)\n"
     ]
    }
   ],
   "source": [
    "#31) Flatten a nested tuple\n",
    "\n",
    "def flatten_tuple(nested_tuple):\n",
    "    flattened_list = []\n",
    "\n",
    "    def flatten_recursive(subtuple):\n",
    "        for element in subtuple:\n",
    "            if isinstance(element, tuple):\n",
    "                flatten_recursive(element)\n",
    "            else:\n",
    "                flattened_list.append(element)\n",
    "\n",
    "    flatten_recursive(nested_tuple)\n",
    "    return tuple(flattened_list)\n",
    "\n",
    "# Nested tuple\n",
    "nested_tuple = ((1, 2, (3, 4)), 5, (6, (7, 8)))\n",
    "\n",
    "# Flatten the nested tuple\n",
    "flattened_tuple = flatten_tuple(nested_tuple)\n",
    "\n",
    "# Display the result\n",
    "print(\"Nested Tuple:\", nested_tuple)\n",
    "print(\"Flattened Tuple:\", flattened_tuple)\n"
   ]
  },
  {
   "cell_type": "code",
   "execution_count": 33,
   "id": "e589aa30-7249-4568-8f35-186666d18402",
   "metadata": {},
   "outputs": [
    {
     "name": "stdout",
     "output_type": "stream",
     "text": [
      "(2, 3, 5, 7, 11)\n"
     ]
    }
   ],
   "source": [
    "#32) Create a tuple of first 5 prime numbers\n",
    "\n",
    "def is_prime(n):\n",
    "    if n < 2:\n",
    "        return False\n",
    "    for i in range(2, int(n**0.5) + 1):\n",
    "        if n % i == 0:\n",
    "            return False\n",
    "    return True\n",
    "\n",
    "first_5_primes = tuple(filter(is_prime, range(2, 20)))[:5]\n",
    "\n",
    "print(first_5_primes)\n",
    "\n"
   ]
  },
  {
   "cell_type": "code",
   "execution_count": 30,
   "id": "b477460a-7761-4222-83ea-2378bdd9c65c",
   "metadata": {},
   "outputs": [
    {
     "name": "stdout",
     "output_type": "stream",
     "text": [
      "True\n",
      "False\n"
     ]
    }
   ],
   "source": [
    "#33) Check if a tuple is palindrome\n",
    "def is_palindrome_tuple(input_tuple):\n",
    "    return input_tuple == input_tuple[::-1]\n",
    "\n",
    "# Example usage\n",
    "palindrome_tuple = (1, 2, 3, 2, 1)\n",
    "non_palindrome_tuple = (1, 2, 3, 4, 5)\n",
    "\n",
    "# Check if the tuples are palindromes\n",
    "print(is_palindrome_tuple(palindrome_tuple))  # True\n",
    "print(is_palindrome_tuple(non_palindrome_tuple))  # False\n"
   ]
  },
  {
   "cell_type": "code",
   "execution_count": 37,
   "id": "781a2a15-5f62-4932-8c4a-bfe75418ccc7",
   "metadata": {},
   "outputs": [
    {
     "name": "stdout",
     "output_type": "stream",
     "text": [
      "(1, 4, 9, 16, 25)\n"
     ]
    }
   ],
   "source": [
    "#34) Create tuple of a squsre of numbers from 1 to 5\n",
    "\n",
    "square_tuple = tuple(map(lambda x: x**2,range(1,6)))\n",
    "print(square_tuple)"
   ]
  },
  {
   "cell_type": "code",
   "execution_count": 38,
   "id": "86d8cdba-e086-4f52-a7d3-e2cf2b7bdcef",
   "metadata": {},
   "outputs": [
    {
     "name": "stdout",
     "output_type": "stream",
     "text": [
      "(2, 4, 6, 8)\n"
     ]
    }
   ],
   "source": [
    "#35) Filter out all even numbers from a tuple\n",
    "\n",
    "my_tuple = (1, 2, 3, 4, 5, 6, 7, 8, 9)\n",
    "even_tuple = tuple(filter(lambda x:x%2==0,my_tuple))\n",
    "print(even_tuple)"
   ]
  },
  {
   "cell_type": "code",
   "execution_count": 39,
   "id": "fb206208-fc05-437a-a2d1-ad1e56f16ff6",
   "metadata": {},
   "outputs": [
    {
     "name": "stdout",
     "output_type": "stream",
     "text": [
      "(2, 4, 6, 8, 10, 12, 14, 16, 18)\n"
     ]
    }
   ],
   "source": [
    "#36) Multiply all elements in a tuple by 2\n",
    "\n",
    "my_tuple = (1, 2, 3, 4, 5, 6, 7, 8, 9)\n",
    "product_tuple = tuple(map(lambda x:x*2,my_tuple))\n",
    "print(product_tuple)"
   ]
  },
  {
   "cell_type": "code",
   "execution_count": 43,
   "id": "df54cc59-982a-4f42-a5ae-5089921c8afe",
   "metadata": {},
   "outputs": [
    {
     "name": "stdout",
     "output_type": "stream",
     "text": [
      "(14, 17, 3, 4, 10)\n"
     ]
    }
   ],
   "source": [
    "#37) Create a tuple of random numbers\n",
    "\n",
    "import random\n",
    "\n",
    "random_tuple = tuple(random.randint(1,20) for _ in range(5))\n",
    "print(random_tuple)"
   ]
  },
  {
   "cell_type": "code",
   "execution_count": 44,
   "id": "4d523d5a-c2be-4b89-b9ef-9a8ad2f4a4a6",
   "metadata": {},
   "outputs": [
    {
     "name": "stdout",
     "output_type": "stream",
     "text": [
      "The tuple is sorted.\n"
     ]
    }
   ],
   "source": [
    "#38) Check if a tuple is sorted\n",
    "\n",
    "def is_sorted(tup):\n",
    "    return tup == tuple(sorted(tup))\n",
    "\n",
    "example_tuple = (1, 2, 3, 4, 5)\n",
    "\n",
    "if is_sorted(example_tuple):\n",
    "    print(\"The tuple is sorted.\")\n",
    "else:\n",
    "    print(\"The tuple is not sorted.\")\n"
   ]
  },
  {
   "cell_type": "code",
   "execution_count": 45,
   "id": "5444b96d-9e6e-4fb7-b186-a99f1c3eb33e",
   "metadata": {},
   "outputs": [
    {
     "name": "stdin",
     "output_type": "stream",
     "text": [
      "Enter the index less than 9 4\n"
     ]
    },
    {
     "name": "stdout",
     "output_type": "stream",
     "text": [
      "(9, 8, 7, 6, 5, 1, 2, 3, 4)\n"
     ]
    }
   ],
   "source": [
    "#39) Rotate to the left by 'n' positions\n",
    "\n",
    "my_tuple = (1, 2, 3, 4, 5, 6, 7, 8, 9)\n",
    "n = int(input(f\"Enter the index less than {len(my_tuple)}\"))\n",
    "rotated_left_tuple = my_tuple[n:][::-1]+my_tuple[:n]\n",
    "print(rotated_left_tuple)"
   ]
  },
  {
   "cell_type": "code",
   "execution_count": 46,
   "id": "c248f8d7-4498-4644-b9ef-49073eb4baba",
   "metadata": {},
   "outputs": [
    {
     "name": "stdin",
     "output_type": "stream",
     "text": [
      "Enter the index less than 9 3\n"
     ]
    },
    {
     "name": "stdout",
     "output_type": "stream",
     "text": [
      "(4, 5, 6, 7, 8, 9, 3, 2, 1)\n"
     ]
    }
   ],
   "source": [
    "#40) Rotate a tuple to right by 'n' position\n",
    "\n",
    "my_tuple = (1, 2, 3, 4, 5, 6, 7, 8, 9)\n",
    "n = int(input(f\"Enter the index less than {len(my_tuple)}\"))\n",
    "rotated_right_tuple = my_tuple[n:]+my_tuple[:n][::-1]\n",
    "print(rotated_right_tuple)\n"
   ]
  },
  {
   "cell_type": "code",
   "execution_count": 47,
   "id": "7b93b09a-bf24-49c1-ac64-e94236ce3adb",
   "metadata": {},
   "outputs": [
    {
     "name": "stdout",
     "output_type": "stream",
     "text": [
      "Fibonacci Tuple: (0, 1, 1, 2, 3)\n"
     ]
    }
   ],
   "source": [
    "#41) Create a tuple of first 5 Fibonacci numbers\n",
    "\n",
    "def generate_fibonacci(n):\n",
    "    fibonacci_sequence = [0, 1]\n",
    "    while len(fibonacci_sequence) < n:\n",
    "        next_number = fibonacci_sequence[-1] + fibonacci_sequence[-2]\n",
    "        fibonacci_sequence.append(next_number)\n",
    "    return tuple(fibonacci_sequence)\n",
    "\n",
    "fibonacci_tuple = generate_fibonacci(5)\n",
    "\n",
    "# Print the result\n",
    "print(\"Fibonacci Tuple:\", fibonacci_tuple)\n",
    "\n"
   ]
  },
  {
   "cell_type": "code",
   "execution_count": 48,
   "id": "4dc27ccb-5e2a-40d3-93bb-4e9230ed8d5f",
   "metadata": {},
   "outputs": [
    {
     "name": "stdin",
     "output_type": "stream",
     "text": [
      "Enter elements separated by commas:  67,45,89,23,67,47\n"
     ]
    },
    {
     "name": "stdout",
     "output_type": "stream",
     "text": [
      "User Tuple: ('67', '45', '89', '23', '67', '47')\n"
     ]
    }
   ],
   "source": [
    "#42) Create a tuple from user input\n",
    "\n",
    "# Take user input for elements of the tuple\n",
    "user_input = input(\"Enter elements separated by commas: \")\n",
    "\n",
    "# Convert the input string into a tuple\n",
    "user_tuple = tuple(user_input.split(','))\n",
    "\n",
    "# Display the resulting tuple\n",
    "print(\"User Tuple:\", user_tuple)"
   ]
  },
  {
   "cell_type": "code",
   "execution_count": 49,
   "id": "9932dc7c-85f1-47f2-8633-848fdb5753ba",
   "metadata": {},
   "outputs": [
    {
     "name": "stdout",
     "output_type": "stream",
     "text": [
      "Original Tuple: (1, 2, 3, 4, 5)\n",
      "Swapped Tuple: (1, 4, 3, 2, 5)\n"
     ]
    }
   ],
   "source": [
    "#43) Swap two elements in a tuple\n",
    "\n",
    "original_tuple = (1, 2, 3, 4, 5)\n",
    "\n",
    "index1 = 1\n",
    "index2 = 3\n",
    "\n",
    "temp_list = list(original_tuple)\n",
    "\n",
    "temp_list[index1], temp_list[index2] = temp_list[index2], temp_list[index1]\n",
    "\n",
    "swapped_tuple = tuple(temp_list)\n",
    "\n",
    "print(\"Original Tuple:\", original_tuple)\n",
    "print(\"Swapped Tuple:\", swapped_tuple)\n"
   ]
  },
  {
   "cell_type": "code",
   "execution_count": 50,
   "id": "5739fd27-5b06-420c-aea3-37c691e63618",
   "metadata": {},
   "outputs": [
    {
     "name": "stdout",
     "output_type": "stream",
     "text": [
      "Original Tuple: (1, 2, 3, 4, 5)\n",
      "Reversed Tuple: (5, 4, 3, 2, 1)\n"
     ]
    }
   ],
   "source": [
    "#44) Reverse the elements of a tuple\n",
    "\n",
    "# Original tuple\n",
    "original_tuple = (1, 2, 3, 4, 5)\n",
    "\n",
    "# Reverse the tuple\n",
    "reversed_tuple = original_tuple[::-1]\n",
    "\n",
    "# Display the original and reversed tuples\n",
    "print(\"Original Tuple:\", original_tuple)\n",
    "print(\"Reversed Tuple:\", reversed_tuple)\n"
   ]
  },
  {
   "cell_type": "code",
   "execution_count": 51,
   "id": "a02745d1-0136-40be-9613-4f12f2cb13c1",
   "metadata": {},
   "outputs": [
    {
     "name": "stdout",
     "output_type": "stream",
     "text": [
      "Tuple of Powers of 2: (2, 4, 8, 16, 32)\n"
     ]
    }
   ],
   "source": [
    "#45) Create a tuple of first 'n' powers of 2\n",
    "\n",
    "n = 5\n",
    "\n",
    "# Create a tuple of the first 'n' powers of 2\n",
    "powers_of_2_tuple = tuple(2**i for i in range(1, n + 1))\n",
    "\n",
    "# Display the tuple\n",
    "print(\"Tuple of Powers of 2:\", powers_of_2_tuple)\n",
    "\n"
   ]
  },
  {
   "cell_type": "code",
   "execution_count": 52,
   "id": "7b2f5c23-c4a0-449b-8daf-71bc3a6e2082",
   "metadata": {},
   "outputs": [
    {
     "name": "stdout",
     "output_type": "stream",
     "text": [
      "Longest String: strawberry\n"
     ]
    }
   ],
   "source": [
    "#46) Find the longest string in a tuple of strings\n",
    "\n",
    "# Sample tuple of strings\n",
    "string_tuple = ('apple', 'banana', 'kiwi', 'strawberry', 'blueberry')\n",
    "\n",
    "# Find the longest string in the tuple\n",
    "longest_string = max(string_tuple, key=len)\n",
    "\n",
    "# Display the result\n",
    "print(\"Longest String:\", longest_string)\n"
   ]
  },
  {
   "cell_type": "code",
   "execution_count": 53,
   "id": "aecfec2b-a6b8-46d8-a33d-302c74b92bc2",
   "metadata": {},
   "outputs": [
    {
     "name": "stdout",
     "output_type": "stream",
     "text": [
      "Shortest String: kiwi\n"
     ]
    }
   ],
   "source": [
    "#47) Find the shortest string in a tuple of string\n",
    "\n",
    "# Sample tuple of strings\n",
    "string_tuple = ('apple', 'banana', 'kiwi', 'strawberry', 'blueberry')\n",
    "\n",
    "# Find the longest string in the tuple\n",
    "shortest_string = min(string_tuple, key=len)\n",
    "\n",
    "# Display the result\n",
    "print(\"Shortest String:\", shortest_string)"
   ]
  },
  {
   "cell_type": "code",
   "execution_count": 1,
   "id": "783ab197-e57a-4408-850b-b2d19fb1bc45",
   "metadata": {},
   "outputs": [
    {
     "name": "stdout",
     "output_type": "stream",
     "text": [
      "Tuple of first 5 triangular numbers: (1, 3, 6, 10, 15)\n"
     ]
    }
   ],
   "source": [
    "#48) Create a tuple of first 'n' triangular numbers\n",
    "\n",
    "def triangular_number(n):\n",
    "    return n * (n + 1) // 2\n",
    "\n",
    "def generate_triangular_numbers(n):\n",
    "    return tuple(triangular_number(i) for i in range(1, n + 1))\n",
    "\n",
    "n = 5\n",
    "\n",
    "triangular_tuple = generate_triangular_numbers(n)\n",
    "\n",
    "# Display the result\n",
    "print(f\"Tuple of first {n} triangular numbers:\", triangular_tuple)\n"
   ]
  },
  {
   "cell_type": "code",
   "execution_count": 2,
   "id": "b42eb965-b1c5-48ae-a579-0fdc87186054",
   "metadata": {},
   "outputs": [
    {
     "name": "stdout",
     "output_type": "stream",
     "text": [
      "The tuple (3, 4, 5) is a subsequence of (1, 2, 3, 4, 5, 6, 7, 8, 9).\n"
     ]
    }
   ],
   "source": [
    "#49) Check if a tuple contains another tuple in subsequence\n",
    "\n",
    "def is_subsequence(subsequence, sequence):\n",
    "    for i in range(len(sequence) - len(subsequence) + 1):\n",
    "        # Check if the current subsequence matches the smaller tuple\n",
    "        if sequence[i:i+len(subsequence)] == subsequence:\n",
    "            return True\n",
    "    return False\n",
    "\n",
    "# Example\n",
    "sequence = (1, 2, 3, 4, 5, 6, 7, 8, 9)\n",
    "subsequence = (3, 4, 5)\n",
    "\n",
    "result = is_subsequence(subsequence, sequence)\n",
    "\n",
    "# Display the result\n",
    "if result:\n",
    "    print(f\"The tuple {subsequence} is a subsequence of {sequence}.\")\n",
    "else:\n",
    "    print(f\"The tuple {subsequence} is not a subsequence of {sequence}.\")\n",
    "\n"
   ]
  },
  {
   "cell_type": "code",
   "execution_count": 4,
   "id": "dafb78f6-279c-4535-bad4-6b8513e89e4c",
   "metadata": {},
   "outputs": [
    {
     "name": "stdout",
     "output_type": "stream",
     "text": [
      "(0, 1, 0, 1, 0, 1, 0, 1)\n"
     ]
    }
   ],
   "source": [
    "#50) Create a tuple of alternating 1's and 0's of length n\n",
    "\n",
    "n = 8  # Replace with your desired length\n",
    "alternating_tuple = tuple(i % 2 for i in range(n))\n",
    "\n",
    "print(alternating_tuple)\n"
   ]
  },
  {
   "cell_type": "markdown",
   "id": "7fcc1ed2-8fd8-4f0c-8c87-854521e475cc",
   "metadata": {},
   "source": [
    "# Set Based Practiced Problem"
   ]
  },
  {
   "cell_type": "code",
   "execution_count": 1,
   "id": "d7d61014-0c4e-4dcb-9746-de017e4e373e",
   "metadata": {},
   "outputs": [
    {
     "name": "stdout",
     "output_type": "stream",
     "text": [
      "{1, 2, 3, 4}\n"
     ]
    }
   ],
   "source": [
    "#1) Create a set with integers from 1 to 5\n",
    "\n",
    "new_set = set(range(1,5))\n",
    "\n",
    "print(new_set)"
   ]
  },
  {
   "cell_type": "code",
   "execution_count": 11,
   "id": "fd2be05b-d177-4fdc-8cc7-dfd4d049a79a",
   "metadata": {},
   "outputs": [
    {
     "name": "stdout",
     "output_type": "stream",
     "text": [
      "{2, 3, 12, 6, 9, 'orange', 'banana', 'apple'}\n"
     ]
    }
   ],
   "source": [
    "#2) Add an element to a set\n",
    "\n",
    "new_set = {3,2,'banana',6,'apple',9,12}\n",
    "\n",
    "new_set.add('orange') #add is used to add an elememt to the end of a set by sorting it\n",
    "print(new_set)"
   ]
  },
  {
   "cell_type": "code",
   "execution_count": 10,
   "id": "aa263677-8e1b-4b9c-b267-2ff3f3d00af7",
   "metadata": {},
   "outputs": [
    {
     "name": "stdout",
     "output_type": "stream",
     "text": [
      "{2, 3, 6, 9, 12, 'banana', 'apple'}\n"
     ]
    }
   ],
   "source": [
    "#3) Remove an element from a set\n",
    "\n",
    "new_set = {2, 3, 12, 6, 9, 'orange', 'banana', 'apple'}\n",
    "new_set.remove('orange') #removes the desired item from the list\n",
    "\n",
    "print(new_set)"
   ]
  },
  {
   "cell_type": "code",
   "execution_count": 16,
   "id": "ba50350d-77ad-47c2-8d6a-1d0cf81db7a2",
   "metadata": {},
   "outputs": [
    {
     "name": "stdin",
     "output_type": "stream",
     "text": [
      "Enter an element you want to search:  3\n"
     ]
    },
    {
     "name": "stdout",
     "output_type": "stream",
     "text": [
      "3 is in new_set\n"
     ]
    }
   ],
   "source": [
    "#4) Check if an element exists in a set\n",
    "\n",
    "new_set = {2, 3, 12, 6, 9, 'orange', 'banana', 'apple'}\n",
    "element = input(\"Enter an element you want to search: \")\n",
    "\n",
    "if element.isnumeric() and int(element) in new_set:\n",
    "        print(f\"{element} is in new_set\")\n",
    "elif element in new_set:\n",
    "        print(f\"{element} in new_set\")\n",
    "else:\n",
    "    print(f\"{element} not in new_set\")\n"
   ]
  },
  {
   "cell_type": "code",
   "execution_count": 18,
   "id": "55023953-4289-4f1e-a806-b6cdb37adb13",
   "metadata": {},
   "outputs": [
    {
     "name": "stdout",
     "output_type": "stream",
     "text": [
      "Length of the set is:  8\n"
     ]
    }
   ],
   "source": [
    "#5) Find the length of a set without using 'len()' function\n",
    "\n",
    "count = 0\n",
    "new_set = {2, 3, 12, 6, 9, 'orange', 'banana', 'apple'}\n",
    "for i in new_set:\n",
    "    count +=1\n",
    "    \n",
    "print(\"Length of the set is: \",count)"
   ]
  },
  {
   "cell_type": "code",
   "execution_count": 21,
   "id": "add00610-ed0a-40b9-a56f-0e34f68a2f41",
   "metadata": {},
   "outputs": [
    {
     "name": "stdout",
     "output_type": "stream",
     "text": [
      "set()\n"
     ]
    }
   ],
   "source": [
    "#6) Clear all elements from a set\n",
    "\n",
    "new_set = {2, 3, 12, 6, 9, 'orange', 'banana', 'apple'}\n",
    "new_set.clear() #clears all elements of all existing elements in a set\n",
    "print(new_set)"
   ]
  },
  {
   "cell_type": "code",
   "execution_count": 22,
   "id": "f5cad60d-d4e9-4cc1-a6ae-240b544b42fb",
   "metadata": {},
   "outputs": [
    {
     "name": "stdout",
     "output_type": "stream",
     "text": [
      "{2, 4, 6, 8, 10}\n"
     ]
    }
   ],
   "source": [
    "#7) Create a set of even numbers from 1 to 10\n",
    "\n",
    "even_set = {i for i in range(1,11) if i%2==0}\n",
    "print(even_set)"
   ]
  },
  {
   "cell_type": "code",
   "execution_count": 23,
   "id": "1847f09b-c3b5-4da7-9547-08466a77110a",
   "metadata": {},
   "outputs": [
    {
     "name": "stdout",
     "output_type": "stream",
     "text": [
      "{1, 3, 5, 7, 9}\n"
     ]
    }
   ],
   "source": [
    "#8) Create a set of odd numbers from 1 to 10\n",
    "\n",
    "odd_set = {i for i in range(1,11) if i%2!=0}\n",
    "print(odd_set)"
   ]
  },
  {
   "cell_type": "code",
   "execution_count": 24,
   "id": "7b24fe0b-e397-42da-a5d8-3d4c322a8689",
   "metadata": {},
   "outputs": [
    {
     "name": "stdout",
     "output_type": "stream",
     "text": [
      "Union using union() method: {1, 2, 3, 4, 5, 6, 7}\n",
      "Union using | operator: {1, 2, 3, 4, 5, 6, 7}\n"
     ]
    }
   ],
   "source": [
    "#9) Find the union of two sets\n",
    "\n",
    "set1 = {1, 2, 3, 4, 5}\n",
    "set2 = {3, 4, 5, 6, 7}\n",
    "\n",
    "#using union method\n",
    "union_result_method = set1.union(set2)\n",
    "print(\"Union using union() method:\", union_result_method)\n",
    "\n",
    "# Using | operator to find union of two sets\n",
    "union_result_operator = set1 | set2\n",
    "print(\"Union using | operator:\", union_result_operator)\n"
   ]
  },
  {
   "cell_type": "code",
   "execution_count": 25,
   "id": "4cbc8ef5-651d-4466-a160-20268c07f539",
   "metadata": {},
   "outputs": [
    {
     "name": "stdout",
     "output_type": "stream",
     "text": [
      "Intersection using intersection() method: {3, 4, 5}\n",
      "Intersection using & operator: {3, 4, 5}\n"
     ]
    }
   ],
   "source": [
    "#10) Find the intersection of two sets\n",
    "\n",
    "set1 = {1, 2, 3, 4, 5}\n",
    "set2 = {3, 4, 5, 6, 7}\n",
    "\n",
    "#using intersection method\n",
    "intersection_result_method = set1.intersection(set2)\n",
    "print(\"Intersection using intersection() method:\", intersection_result_method)\n",
    "\n",
    "# Using & operator\n",
    "intersection_result_operator = set1 & set2\n",
    "print(\"Intersection using & operator:\", intersection_result_operator)\n"
   ]
  },
  {
   "cell_type": "code",
   "execution_count": 26,
   "id": "59325766-7355-421c-9361-faebea96bbd1",
   "metadata": {},
   "outputs": [
    {
     "name": "stdout",
     "output_type": "stream",
     "text": [
      "Difference using difference() method: {1, 2}\n",
      "Difference using - operator: {1, 2}\n"
     ]
    }
   ],
   "source": [
    "#11) Find the difference between two sets\n",
    "\n",
    "set1 = {1, 2, 3, 4, 5}\n",
    "set2 = {3, 4, 5, 6, 7}\n",
    "\n",
    "#using difference method\n",
    "difference_result_method = set1.difference(set2)\n",
    "print(\"Difference using difference() method:\", difference_result_method)\n",
    "\n",
    "# Using - operator\n",
    "difference_result_operator = set1 - set2\n",
    "print(\"Difference using - operator:\", difference_result_operator)"
   ]
  },
  {
   "cell_type": "code",
   "execution_count": 27,
   "id": "6243f071-f4b9-4287-96ed-af42075e3c09",
   "metadata": {},
   "outputs": [
    {
     "name": "stdout",
     "output_type": "stream",
     "text": [
      "Using issubset() method: True\n",
      "Using <= operator: True\n"
     ]
    }
   ],
   "source": [
    "#12) Check if a set is a subset of another set\n",
    "\n",
    "set1 = {1, 2, 3}\n",
    "set2 = {1, 2, 3, 4, 5}\n",
    "\n",
    "is_subset_method = set1.issubset(set2)\n",
    "print(\"Using issubset() method:\", is_subset_method)\n",
    "\n",
    "# Using <= operator\n",
    "is_subset_operator = set1 <= set2\n",
    "print(\"Using <= operator:\", is_subset_operator)\n",
    "\n"
   ]
  },
  {
   "cell_type": "code",
   "execution_count": 28,
   "id": "cfc2b44c-e38b-406f-8f46-c8fd6c686c11",
   "metadata": {},
   "outputs": [
    {
     "name": "stdout",
     "output_type": "stream",
     "text": [
      "Using issuperset() method: True\n",
      "Using >= operator: True\n"
     ]
    }
   ],
   "source": [
    "#13) Check if a set is a superset of another set\n",
    "\n",
    "set1 = {1, 2, 3, 4, 5}\n",
    "set2 = {1, 2, 3}\n",
    "\n",
    "is_superset_method = set1.issuperset(set2)\n",
    "print(\"Using issuperset() method:\", is_superset_method)\n",
    "\n",
    "# Using >= operator\n",
    "is_superset_operator = set1 >= set2\n",
    "print(\"Using >= operator:\", is_superset_operator)\n"
   ]
  },
  {
   "cell_type": "code",
   "execution_count": 29,
   "id": "45e66cba-2d58-4a16-a830-841aae95fdd3",
   "metadata": {},
   "outputs": [
    {
     "name": "stdout",
     "output_type": "stream",
     "text": [
      "{1, 2, 3, 4, 5}\n"
     ]
    }
   ],
   "source": [
    "#14) Create a set from a list\n",
    "\n",
    "my_list = [1, 2, 3, 4, 5]\n",
    "my_set = set(my_list)\n",
    "\n",
    "print(my_set)\n"
   ]
  },
  {
   "cell_type": "code",
   "execution_count": 30,
   "id": "190d10bd-a016-40a0-b97d-1bcfbe5e5d92",
   "metadata": {},
   "outputs": [
    {
     "name": "stdout",
     "output_type": "stream",
     "text": [
      "[1, 2, 3, 4, 5]\n"
     ]
    }
   ],
   "source": [
    "#15) Convert a set to a list\n",
    "\n",
    "set1 = {1, 2, 3, 4, 5}\n",
    "set1_list = list(set1)\n",
    "print(set1_list)"
   ]
  },
  {
   "cell_type": "code",
   "execution_count": 50,
   "id": "dc7e9562-7f40-45f7-ba28-a9c519fa1f11",
   "metadata": {},
   "outputs": [
    {
     "name": "stdout",
     "output_type": "stream",
     "text": [
      "The element chosen randomly: 38\n",
      "Updated set: {'Hello', 1, False, 'Apples', 44.45}\n"
     ]
    }
   ],
   "source": [
    "#16) Remove a random element from a set\n",
    "\n",
    "import random\n",
    "\n",
    "# A set containing elements of different data types\n",
    "set1 = {1, \"Hello\", 38, 44.45, \"Apples\", False}\n",
    "\n",
    "# Choose a random element\n",
    "element = random.choice(list(set1))\n",
    "\n",
    "print(\"The element chosen randomly:\", element)\n",
    "\n",
    "# Remove the chosen element\n",
    "set1.remove(element)\n",
    "\n",
    "print(\"Updated set:\", set1)\n"
   ]
  },
  {
   "cell_type": "code",
   "execution_count": 51,
   "id": "6b956b07-761d-45d2-8e6a-eadc65f60320",
   "metadata": {},
   "outputs": [
    {
     "name": "stdout",
     "output_type": "stream",
     "text": [
      "Popped element: 1\n",
      "Updated set: {2, 3, 4, 5}\n"
     ]
    }
   ],
   "source": [
    "#17) Pop an element from a set\n",
    "\n",
    "# Create a set\n",
    "my_set = {1, 2, 3, 4, 5}\n",
    "\n",
    "# Pop an element\n",
    "popped_element = my_set.pop()\n",
    "\n",
    "print(\"Popped element:\", popped_element)\n",
    "print(\"Updated set:\", my_set)\n"
   ]
  },
  {
   "cell_type": "code",
   "execution_count": 52,
   "id": "35be3b4d-89df-443c-85a3-a10c94432480",
   "metadata": {},
   "outputs": [
    {
     "name": "stdout",
     "output_type": "stream",
     "text": [
      "The sets have no elements in common.\n"
     ]
    }
   ],
   "source": [
    "#18) Check if two sets have no elements in common\n",
    "\n",
    "# Create two sets\n",
    "set1 = {1, 2, 3}\n",
    "set2 = {4, 5, 6}\n",
    "\n",
    "# Check if the sets have no elements in common\n",
    "are_disjoint = set1.isdisjoint(set2)\n",
    "\n",
    "# Display the result\n",
    "if are_disjoint:\n",
    "    print(\"The sets have no elements in common.\")\n",
    "else:\n",
    "    print(\"The sets have at least one common element.\")\n"
   ]
  },
  {
   "cell_type": "code",
   "execution_count": 53,
   "id": "059d13fc-72e6-4e19-ae9e-12c46ac21204",
   "metadata": {},
   "outputs": [
    {
     "name": "stdout",
     "output_type": "stream",
     "text": [
      "The sets have no elements in common.\n"
     ]
    }
   ],
   "source": [
    "#19) Find the symmetric difference between two sets\n",
    "\n",
    "# Create two sets\n",
    "set1 = {1, 2, 3}\n",
    "set2 = {4, 5, 6}\n",
    "\n",
    "# Check if the sets have no elements in common\n",
    "are_disjoint = set1.isdisjoint(set2)\n",
    "\n",
    "# Display the result\n",
    "if are_disjoint:\n",
    "    print(\"The sets have no elements in common.\")\n",
    "else:\n",
    "    print(\"The sets have at least one common element.\")\n"
   ]
  },
  {
   "cell_type": "code",
   "execution_count": 54,
   "id": "727da0b2-0d49-4029-a814-b0df1d4625e7",
   "metadata": {},
   "outputs": [
    {
     "name": "stdout",
     "output_type": "stream",
     "text": [
      "Updated Set: {1, 2, 3, 4, 5}\n"
     ]
    }
   ],
   "source": [
    "#20) Update a set with elements from another set\n",
    "\n",
    "set1 = {1, 2, 3}\n",
    "set2 = {3, 4, 5}\n",
    "\n",
    "# Update set1 with elements from set2\n",
    "set1.update(set2)\n",
    "\n",
    "print(\"Updated Set:\", set1)\n"
   ]
  },
  {
   "cell_type": "code",
   "execution_count": 55,
   "id": "bb0013d2-aa69-4b84-9773-9753c917119d",
   "metadata": {},
   "outputs": [
    {
     "name": "stdout",
     "output_type": "stream",
     "text": [
      "Set of First 5 Prime Numbers: {2, 3, 5, 7, 11, 13, 17, 19}\n"
     ]
    }
   ],
   "source": [
    "#21) Create a set of first 5 prime numbers\n",
    "\n",
    "def is_prime(num):\n",
    "    if num < 2:\n",
    "        return False\n",
    "    for i in range(2, int(num**0.5) + 1):\n",
    "        if num % i == 0:\n",
    "            return False\n",
    "    return True\n",
    "\n",
    "# Create a set of the first 5 prime numbers\n",
    "prime_set = {num for num in range(2, 20) if is_prime(num)}\n",
    "\n",
    "# Display the set of prime numbers\n",
    "print(\"Set of First 5 Prime Numbers:\", prime_set)\n"
   ]
  },
  {
   "cell_type": "code",
   "execution_count": 56,
   "id": "9408222a-c764-4da2-a879-17240d354a11",
   "metadata": {},
   "outputs": [
    {
     "name": "stdout",
     "output_type": "stream",
     "text": [
      "The sets are identical.\n"
     ]
    }
   ],
   "source": [
    "#22) Check if two sets are identical\n",
    "\n",
    "set1 = {1, 2, 3, 4, 5}\n",
    "set2 = {5, 4, 3, 2, 1}\n",
    "\n",
    "if set1 == set2:\n",
    "    print(\"The sets are identical.\")\n",
    "else:\n",
    "    print(\"The sets are not identical.\")\n"
   ]
  },
  {
   "cell_type": "code",
   "execution_count": 58,
   "id": "d8b7867e-4a34-499f-9903-393aa4d12f4d",
   "metadata": {},
   "outputs": [
    {
     "name": "stdout",
     "output_type": "stream",
     "text": [
      "Frozen Set: frozenset({1, 2, 3, 4, 5})\n"
     ]
    }
   ],
   "source": [
    "#23) Create a frozen set\n",
    "\n",
    "my_set = {1, 2, 3, 4, 5}\n",
    "\n",
    "# Create a frozen set from the regular set\n",
    "my_frozen_set = frozenset(my_set)\n",
    "\n",
    "# Display the frozen set\n",
    "print(\"Frozen Set:\", my_frozen_set)\n"
   ]
  },
  {
   "cell_type": "code",
   "execution_count": 59,
   "id": "bb2e5be6-2f09-44cd-b2d2-a38ad642d4b9",
   "metadata": {},
   "outputs": [
    {
     "name": "stdout",
     "output_type": "stream",
     "text": [
      "The sets are disjoint.\n"
     ]
    }
   ],
   "source": [
    "#24) Check if a set is disjoint with another set\n",
    "\n",
    "# Create two sets\n",
    "set1 = {1, 2, 3}\n",
    "set2 = {4, 5, 6}\n",
    "\n",
    "# Check if the sets are disjoint\n",
    "disjoint_status = set1.isdisjoint(set2)\n",
    "\n",
    "# Display the result\n",
    "if disjoint_status:\n",
    "    print(\"The sets are disjoint.\")\n",
    "else:\n",
    "    print(\"The sets have common elements.\")\n"
   ]
  },
  {
   "cell_type": "code",
   "execution_count": 1,
   "id": "f8aba068-f9a5-49b2-bd48-22c7fa56be89",
   "metadata": {},
   "outputs": [
    {
     "name": "stdout",
     "output_type": "stream",
     "text": [
      "{1, 4, 9, 16, 25}\n"
     ]
    }
   ],
   "source": [
    "#25) Create a set of square numbers from 1 to 5\n",
    "\n",
    "squares_set = {i**2 for i in range(1, 6)}\n",
    "\n",
    "print(squares_set)\n"
   ]
  },
  {
   "cell_type": "code",
   "execution_count": 2,
   "id": "80c7526f-5efb-4527-a687-1b53b9cc5cb5",
   "metadata": {},
   "outputs": [
    {
     "name": "stdout",
     "output_type": "stream",
     "text": [
      "{1, 3, 5, 7, 9}\n"
     ]
    }
   ],
   "source": [
    "#26) Filter out all even numbers from a set\n",
    "\n",
    "original_set = {1, 2, 3, 4, 5, 6, 7, 8, 9, 10}\n",
    "\n",
    "filtered_set = {x for x in original_set if x % 2 != 0}\n",
    "\n",
    "# Print the filtered set\n",
    "print(filtered_set)\n"
   ]
  },
  {
   "cell_type": "code",
   "execution_count": 3,
   "id": "f8d0f828-99b8-421f-bb12-2d3b0c0904b4",
   "metadata": {},
   "outputs": [
    {
     "name": "stdout",
     "output_type": "stream",
     "text": [
      "{2, 4, 6, 8, 10}\n"
     ]
    }
   ],
   "source": [
    "#27) Multiply all elements in a set by 2\n",
    "\n",
    "original_set = {1, 2, 3, 4, 5}\n",
    "\n",
    "result_set = set(x * 2 for x in original_set)\n",
    "\n",
    "# Print the result set\n",
    "print(result_set)\n"
   ]
  },
  {
   "cell_type": "code",
   "execution_count": 4,
   "id": "5dbc80ca-551d-4ddc-aa04-a2b72c3f1120",
   "metadata": {},
   "outputs": [
    {
     "name": "stdout",
     "output_type": "stream",
     "text": [
      "{6, 7, 8, 9, 10}\n"
     ]
    }
   ],
   "source": [
    "#28) Create a set of random numbers\n",
    "\n",
    "import random\n",
    "\n",
    "random_set = set(random.sample(range(1, 11), 5))\n",
    "\n",
    "# Print the random set\n",
    "print(random_set)\n"
   ]
  },
  {
   "cell_type": "code",
   "execution_count": 7,
   "id": "bb787a74-ca2e-4d4c-a56a-8444e7a08e96",
   "metadata": {},
   "outputs": [
    {
     "name": "stdout",
     "output_type": "stream",
     "text": [
      "The set is empty.\n",
      "The set is empty.\n"
     ]
    }
   ],
   "source": [
    "#29) Check if a set is empty\n",
    "\n",
    "# Method 1: Using len()\n",
    "my_set = set()\n",
    "if len(my_set) == 0:\n",
    "    print(\"The set is empty.\")\n",
    "\n",
    "# Method 2: Using boolean expression\n",
    "if not my_set:\n",
    "    print(\"The set is empty.\")\n"
   ]
  },
  {
   "cell_type": "code",
   "execution_count": 9,
   "id": "d4f774cf-8f76-4dcb-9b4d-b8de69ddcbb9",
   "metadata": {},
   "outputs": [
    {
     "name": "stdout",
     "output_type": "stream",
     "text": [
      "{frozenset({1, 2, 3}), frozenset({'c', 'a', 'b'})}\n"
     ]
    }
   ],
   "source": [
    "#30) Create a nested set\n",
    "\n",
    "# Create a nested set using frozensets\n",
    "nested_set = {frozenset({1, 2, 3}), frozenset({'a', 'b', 'c'})}\n",
    "\n",
    "# Display the nested set\n",
    "print(nested_set)\n",
    "\n"
   ]
  },
  {
   "cell_type": "code",
   "execution_count": 10,
   "id": "5d69f1df-caac-4cf1-9b71-84187487b8cb",
   "metadata": {},
   "outputs": [
    {
     "name": "stdout",
     "output_type": "stream",
     "text": [
      "{1, 2, 4, 5}\n"
     ]
    }
   ],
   "source": [
    "#31) Remove an element from a set using the discard method\n",
    "\n",
    "# Create a set\n",
    "my_set = {1, 2, 3, 4, 5}\n",
    "\n",
    "# Remove element 3 using discard\n",
    "my_set.discard(3)\n",
    "\n",
    "# Display the updated set\n",
    "print(my_set)\n"
   ]
  },
  {
   "cell_type": "code",
   "execution_count": 11,
   "id": "97b352fc-7022-4f19-83f0-d9151c8e5511",
   "metadata": {},
   "outputs": [
    {
     "name": "stdout",
     "output_type": "stream",
     "text": [
      "Sets are not equal.\n",
      "Set1 is not a subset of set2.\n",
      "Set2 is not a subset of set1.\n"
     ]
    }
   ],
   "source": [
    "#32) Compare two sets\n",
    "\n",
    "set1 = {1, 2, 3, 4, 5}\n",
    "set2 = {3, 4, 5, 6, 7}\n",
    "\n",
    "# Check if set1 is equal to set2\n",
    "if set1 == set2:\n",
    "    print(\"Both sets are equal.\")\n",
    "else:\n",
    "    print(\"Sets are not equal.\")\n",
    "\n",
    "# Check if set1 is a subset of set2\n",
    "if set1.issubset(set2):\n",
    "    print(\"Set1 is a subset of set2.\")\n",
    "else:\n",
    "    print(\"Set1 is not a subset of set2.\")\n",
    "\n",
    "# Check if set2 is a subset of set1\n",
    "if set2.issubset(set1):\n",
    "    print(\"Set2 is a subset of set1.\")\n",
    "else:\n",
    "    print(\"Set2 is not a subset of set1.\")\n"
   ]
  },
  {
   "cell_type": "code",
   "execution_count": 12,
   "id": "8e908ee0-24ec-4a5e-a483-6fe6ca06dbfa",
   "metadata": {},
   "outputs": [
    {
     "name": "stdout",
     "output_type": "stream",
     "text": [
      "{'h', 'o', 'e', 'l'}\n"
     ]
    }
   ],
   "source": [
    "#33) Create a set from a string\n",
    "\n",
    "string_value = \"hello\"\n",
    "set_from_string = set(string_value)\n",
    "\n",
    "# Print the resulting set\n",
    "print(set_from_string)\n"
   ]
  },
  {
   "cell_type": "code",
   "execution_count": 13,
   "id": "069308d4-2e8d-4ce5-83f2-c215e3c0a176",
   "metadata": {},
   "outputs": [
    {
     "name": "stdout",
     "output_type": "stream",
     "text": [
      "{1, 2, 3, 4, 5}\n"
     ]
    }
   ],
   "source": [
    "#34) Convert a set of strings to a set of integers\n",
    "\n",
    "set_of_strings = {'1', '2', '3', '4', '5'}\n",
    "\n",
    "set_of_integers = {int(value) for value in set_of_strings}\n",
    "\n",
    "# Print the resulting set of integers\n",
    "print(set_of_integers)\n"
   ]
  },
  {
   "cell_type": "code",
   "execution_count": 14,
   "id": "c7e61e90-17cb-4b04-8e23-ae07d240871a",
   "metadata": {},
   "outputs": [
    {
     "name": "stdout",
     "output_type": "stream",
     "text": [
      "{'2', '1', '3', '5', '4'}\n"
     ]
    }
   ],
   "source": [
    "#35) convert a set of integers to a set of strings\n",
    "\n",
    "set_of_integers = {1, 2, 3, 4, 5}\n",
    "\n",
    "# Convert the set of integers to a set of strings\n",
    "set_of_strings = {str(value) for value in set_of_integers}\n",
    "\n",
    "# Print the resulting set of strings\n",
    "print(set_of_strings)\n"
   ]
  },
  {
   "cell_type": "code",
   "execution_count": 15,
   "id": "cd9d2b88-cb5e-4e18-8c08-3878cb89169f",
   "metadata": {},
   "outputs": [
    {
     "name": "stdout",
     "output_type": "stream",
     "text": [
      "{1, 2, 3, 4, 5}\n"
     ]
    }
   ],
   "source": [
    "#36) Create a set from a tuple\n",
    "\n",
    "my_tuple = (1, 2, 3, 4, 5)\n",
    "\n",
    "# Convert the tuple to a set\n",
    "my_set = set(my_tuple)\n",
    "\n",
    "# Print the resulting set\n",
    "print(my_set)\n"
   ]
  },
  {
   "cell_type": "code",
   "execution_count": 16,
   "id": "0ac32b97-f681-4b12-8eae-10a873ffd9f3",
   "metadata": {},
   "outputs": [
    {
     "name": "stdout",
     "output_type": "stream",
     "text": [
      "(1, 2, 3, 4, 5)\n"
     ]
    }
   ],
   "source": [
    "#37) Convert a set to a tuple\n",
    "\n",
    "my_set = {1, 2, 3, 4, 5}\n",
    "\n",
    "# Convert the set to a tuple\n",
    "my_tuple = tuple(my_set)\n",
    "\n",
    "# Print the resulting tuple\n",
    "print(my_tuple)\n"
   ]
  },
  {
   "cell_type": "code",
   "execution_count": 17,
   "id": "c23cd83c-625a-4014-a759-c30672ff6d7f",
   "metadata": {},
   "outputs": [
    {
     "name": "stdout",
     "output_type": "stream",
     "text": [
      "Maximum value in the set: 20\n"
     ]
    }
   ],
   "source": [
    "#38) Find the maximum value in a set\n",
    "\n",
    "my_set = {10, 5, 8, 20, 15}\n",
    "\n",
    "# Find the maximum value in the set\n",
    "max_value = max(my_set)\n",
    "\n",
    "# Print the maximum value\n",
    "print(\"Maximum value in the set:\", max_value)\n"
   ]
  },
  {
   "cell_type": "code",
   "execution_count": 18,
   "id": "f4c105f0-101c-4ef8-b079-ebbeaba718b5",
   "metadata": {},
   "outputs": [
    {
     "name": "stdout",
     "output_type": "stream",
     "text": [
      "Minimum value in the set: 5\n"
     ]
    }
   ],
   "source": [
    "#39) Find the minimum value in a set\n",
    "\n",
    "my_set = {10, 5, 8, 20, 15}\n",
    "\n",
    "# Find the minimum value in the set\n",
    "min_value = min(my_set)\n",
    "\n",
    "# Print the minimum value\n",
    "print(\"Minimum value in the set:\", min_value)\n"
   ]
  },
  {
   "cell_type": "code",
   "execution_count": 19,
   "id": "84050cac-8a4a-48b8-b472-7b030fea95f3",
   "metadata": {},
   "outputs": [
    {
     "name": "stdin",
     "output_type": "stream",
     "text": [
      "Enter elements separated by spaces:  pretty woman where are you going to?\n"
     ]
    },
    {
     "name": "stdout",
     "output_type": "stream",
     "text": [
      "Set created from user input: {'you', 'to?', 'are', 'woman', 'pretty', 'where', 'going'}\n"
     ]
    }
   ],
   "source": [
    "#40) Create a set from user input\n",
    "\n",
    "user_input = input(\"Enter elements separated by spaces: \")\n",
    "elements = user_input.split()\n",
    "\n",
    "# Create a set from the elements\n",
    "my_set = set(elements)\n",
    "\n",
    "# Print the resulting set\n",
    "print(\"Set created from user input:\", my_set)\n"
   ]
  },
  {
   "cell_type": "code",
   "execution_count": 20,
   "id": "0b1da557-3580-47a9-887d-39f50dce4864",
   "metadata": {},
   "outputs": [
    {
     "name": "stdout",
     "output_type": "stream",
     "text": [
      "The intersection is not empty.\n"
     ]
    }
   ],
   "source": [
    "#41) Check if the intersection of two set is empty\n",
    "\n",
    "set1 = {1, 2, 3, 4, 5}\n",
    "set2 = {4, 5, 6, 7, 8}\n",
    "\n",
    "# Check if the intersection is empty\n",
    "if set1.isdisjoint(set2):\n",
    "    print(\"The intersection is empty.\")\n",
    "else:\n",
    "    print(\"The intersection is not empty.\")\n"
   ]
  },
  {
   "cell_type": "code",
   "execution_count": 21,
   "id": "2c212274-6c82-4e68-bc23-76437457abdd",
   "metadata": {},
   "outputs": [
    {
     "name": "stdout",
     "output_type": "stream",
     "text": [
      "Fibonacci Set: {0, 1, 2, 3}\n"
     ]
    }
   ],
   "source": [
    "#42) Create a set of first 5 Fibonacci numbers\n",
    "\n",
    "def generate_fibonacci(n):\n",
    "    fibonacci_set = set()\n",
    "    a, b = 0, 1\n",
    "    for _ in range(n):\n",
    "        fibonacci_set.add(a)\n",
    "        a, b = b, a + b\n",
    "    return fibonacci_set\n",
    "\n",
    "# Create a set of the first 5 Fibonacci numbers\n",
    "fibonacci_set = generate_fibonacci(5)\n",
    "\n",
    "# Print the set\n",
    "print(f\"Fibonacci Set: {fibonacci_set}\")\n"
   ]
  },
  {
   "cell_type": "code",
   "execution_count": 22,
   "id": "2b91fc33-27e4-42b2-855b-abd6fe73ce14",
   "metadata": {},
   "outputs": [
    {
     "name": "stdout",
     "output_type": "stream",
     "text": [
      "List after removing duplicates: [3488, 'dfojfo', 'banana', 'fhsuidh', 'mango', 37937, 34898, 344, 'coconut']\n"
     ]
    }
   ],
   "source": [
    "#43) Remove duplicates from a list using sets\n",
    "\n",
    "original_list = ['banana', 'mango', 'coconut', 344, 3488, 'fhsuidh', 'coconut', 'dfojfo', 'coconut', 37937, 34898]\n",
    "\n",
    "# Remove duplicates using set\n",
    "unique_list = list(set(original_list))\n",
    "\n",
    "# Print the unique list\n",
    "print(\"List after removing duplicates:\", unique_list)\n",
    "\n"
   ]
  },
  {
   "cell_type": "code",
   "execution_count": 23,
   "id": "d76e53b3-335d-4242-84db-b2242d8d64ab",
   "metadata": {},
   "outputs": [
    {
     "name": "stdout",
     "output_type": "stream",
     "text": [
      "Both sets have the same elements regardless of count.\n"
     ]
    }
   ],
   "source": [
    "#44) Check if two sets have same elements, regardless of the count\n",
    "\n",
    "set1 = {1, 2, 3, 4, 4, 5}\n",
    "set2 = {5, 4, 3, 2, 1}\n",
    "\n",
    "# Check if sets have the same elements regardless of count\n",
    "if set1 == set2:\n",
    "    print(\"Both sets have the same elements regardless of count.\")\n",
    "else:\n",
    "    print(\"Sets have different elements or different counts.\")\n"
   ]
  },
  {
   "cell_type": "code",
   "execution_count": 24,
   "id": "3a1d6ff5-bea9-45ff-8704-13b476805bf0",
   "metadata": {},
   "outputs": [
    {
     "name": "stdout",
     "output_type": "stream",
     "text": [
      "{1, 2, 4, 8, 16}\n"
     ]
    }
   ],
   "source": [
    "#45) Create a set of first 'n' powers of 2\n",
    "\n",
    "def powers_of_2(n):\n",
    "    return {2 ** i for i in range(n)}\n",
    "\n",
    "# Specify the value of 'n'\n",
    "n = 5\n",
    "\n",
    "# Create a set of the first 'n' powers of 2\n",
    "powers_set = powers_of_2(n)\n",
    "\n",
    "# Display the set\n",
    "print(powers_set)\n"
   ]
  },
  {
   "cell_type": "code",
   "execution_count": 27,
   "id": "fe2e4f5d-7bce-4419-a36d-b4be7047660a",
   "metadata": {},
   "outputs": [
    {
     "name": "stdout",
     "output_type": "stream",
     "text": [
      "Common elements: {3, 4, 5}\n"
     ]
    }
   ],
   "source": [
    "#46) Find the common elements between a set and a list\n",
    "\n",
    "my_set = {1, 2, 3, 4, 5}\n",
    "my_list = [3, 4, 5, 6, 7]\n",
    "\n",
    "# Find common elements\n",
    "common_elements = set(my_list).intersection(my_set)\n",
    "\n",
    "# Display the common elements\n",
    "print(\"Common elements:\", common_elements)\n"
   ]
  },
  {
   "cell_type": "code",
   "execution_count": 28,
   "id": "8efe2d54-b2e5-4f6e-84a1-19ad019a6c54",
   "metadata": {},
   "outputs": [
    {
     "name": "stdout",
     "output_type": "stream",
     "text": [
      "Set of first 5 triangular numbers: {1, 3, 6, 10, 15}\n"
     ]
    }
   ],
   "source": [
    "#47) Create a set of first 'n' triangular numbers\n",
    "\n",
    "def triangular_number(n):\n",
    "    return (n * (n + 1)) // 2\n",
    "\n",
    "# Number of triangular numbers you want to generate\n",
    "n = 5\n",
    "\n",
    "# Create a set of first 'n' triangular numbers\n",
    "triangular_set = {triangular_number(i) for i in range(1, n + 1)}\n",
    "\n",
    "# Display the set of triangular numbers\n",
    "print(\"Set of first\", n, \"triangular numbers:\", triangular_set)\n"
   ]
  },
  {
   "cell_type": "code",
   "execution_count": 29,
   "id": "04dccd1b-a933-47c9-81ef-d60816bd64dd",
   "metadata": {},
   "outputs": [
    {
     "name": "stdout",
     "output_type": "stream",
     "text": [
      "The subset is present in the main set.\n"
     ]
    }
   ],
   "source": [
    "#48) Check if a set contains another subset\n",
    "\n",
    "main_set = {1, 2, 3, 4, 5, 6, 7, 8, 9}\n",
    "\n",
    "# Define a subset\n",
    "subset = {2, 4, 6}\n",
    "\n",
    "# Check if the subset is present in the main set\n",
    "if subset.issubset(main_set):\n",
    "    print(\"The subset is present in the main set.\")\n",
    "else:\n",
    "    print(\"The subset is not present in the main set.\")\n"
   ]
  },
  {
   "cell_type": "code",
   "execution_count": 30,
   "id": "e68876c4-a0d5-4996-be0f-b3914620efcb",
   "metadata": {},
   "outputs": [
    {
     "name": "stdout",
     "output_type": "stream",
     "text": [
      "{0, 1}\n"
     ]
    }
   ],
   "source": [
    "#49) Create a set of alternating 1's and 0's of length 'n'\n",
    "\n",
    "n = 10\n",
    "\n",
    "alternating_set = set()\n",
    "\n",
    "for i in range(n):\n",
    "    alternating_set.add(i % 2)\n",
    "\n",
    "print(alternating_set)\n"
   ]
  },
  {
   "cell_type": "code",
   "execution_count": 31,
   "id": "c73076e5-9f12-47c4-9af1-6f6668a70396",
   "metadata": {},
   "outputs": [
    {
     "name": "stdout",
     "output_type": "stream",
     "text": [
      "Merged Set (using union method): {1, 2, 3, 4, 5, 6, 7}\n",
      "Merged Set (using | operator): {1, 2, 3, 4, 5, 6, 7}\n"
     ]
    }
   ],
   "source": [
    "#50) Merge multiple sets into one\n",
    "\n",
    "set1 = {1, 2, 3}\n",
    "set2 = {3, 4, 5}\n",
    "set3 = {5, 6, 7}\n",
    "\n",
    "# Using union method\n",
    "merged_set = set1.union(set2, set3)\n",
    "print(\"Merged Set (using union method):\", merged_set)\n",
    "\n",
    "# Using | (pipe) operator\n",
    "merged_set_pipe = set1 | set2 | set3\n",
    "print(\"Merged Set (using | operator):\", merged_set_pipe)\n"
   ]
  },
  {
   "cell_type": "code",
   "execution_count": null,
   "id": "5990ee85-d611-45d9-8ce6-9d49f4b2488d",
   "metadata": {},
   "outputs": [],
   "source": []
  }
 ],
 "metadata": {
  "kernelspec": {
   "display_name": "Python 3 (ipykernel)",
   "language": "python",
   "name": "python3"
  },
  "language_info": {
   "codemirror_mode": {
    "name": "ipython",
    "version": 3
   },
   "file_extension": ".py",
   "mimetype": "text/x-python",
   "name": "python",
   "nbconvert_exporter": "python",
   "pygments_lexer": "ipython3",
   "version": "3.10.8"
  }
 },
 "nbformat": 4,
 "nbformat_minor": 5
}
