{
 "cells": [
  {
   "cell_type": "code",
   "execution_count": 1,
   "id": "186b59ae-19f3-4007-8961-bab3cd719a59",
   "metadata": {},
   "outputs": [
    {
     "name": "stdin",
     "output_type": "stream",
     "text": [
      "Enter a positive/negative integer:  7\n"
     ]
    },
    {
     "name": "stdout",
     "output_type": "stream",
     "text": [
      "7 is positive integer\n"
     ]
    }
   ],
   "source": [
    "##1) write a program to check if a number is positive or negative\n",
    "\n",
    "take_input = int(input(\"Enter a positive/negative integer: \"))\n",
    "\n",
    "if take_input<0:\n",
    "    print(str(take_input) + \" is negative integer\")\n",
    "else:\n",
    "    print(str(take_input) + \" is positive integer\")"
   ]
  },
  {
   "cell_type": "code",
   "execution_count": 2,
   "id": "4ac0cc44-af58-41bd-a31a-54fc8f3ac37b",
   "metadata": {},
   "outputs": [
    {
     "name": "stdin",
     "output_type": "stream",
     "text": [
      "Enter your age:  45\n"
     ]
    },
    {
     "name": "stdout",
     "output_type": "stream",
     "text": [
      "You are eligible to vote\n"
     ]
    }
   ],
   "source": [
    "###2) Write a program that determines if a person is eligible to vote in their age\n",
    "\n",
    "age = int(input(\"Enter your age: \"))\n",
    "\n",
    "if age>=18:\n",
    "    print(\"You are eligible to vote\")\n",
    "else:\n",
    "    print(\"You're not eligible to vote\")"
   ]
  },
  {
   "cell_type": "code",
   "execution_count": 4,
   "id": "86346def-826f-4d31-8fcb-2d59ac1285c1",
   "metadata": {},
   "outputs": [
    {
     "name": "stdin",
     "output_type": "stream",
     "text": [
      "Enter first number:  5\n",
      "Enter second number:  23\n"
     ]
    },
    {
     "name": "stdout",
     "output_type": "stream",
     "text": [
      "23 is the maximum of both.\n"
     ]
    }
   ],
   "source": [
    "##3) Write a program that finds th maximum /monimum of two numbers using if else\n",
    "a = int(input(\"Enter first number: \"))\n",
    "b = int(input(\"Enter second number: \"))\n",
    "\n",
    "if b<a:\n",
    "    print(f\"{str(a)} is the maximum of both.\")\n",
    "else:\n",
    "     print(f\"{str(b)} is the maximum of both.\")\n",
    "        "
   ]
  },
  {
   "cell_type": "code",
   "execution_count": 5,
   "id": "afe44417-bb2e-4ec3-b794-e167abc979a5",
   "metadata": {},
   "outputs": [
    {
     "name": "stdin",
     "output_type": "stream",
     "text": [
      "Enter a year:  2024\n"
     ]
    },
    {
     "name": "stdout",
     "output_type": "stream",
     "text": [
      "This is a leap year\n"
     ]
    }
   ],
   "source": [
    "###4) Write a python script to classify a given year as leap year\n",
    "\n",
    "year = int(input(\"Enter a year: \"))\n",
    "\n",
    "if year%4==0:\n",
    "    if year%100 != 0 or year%400 == 0:\n",
    "         print (\"This is a leap year\")\n",
    "    else:\n",
    "        print (\"This is not a leap year\")\n",
    "else:\n",
    "    print (\"This is not a leap year\")\n",
    "\n"
   ]
  },
  {
   "cell_type": "code",
   "execution_count": 6,
   "id": "6b09d870-1756-40ff-a66f-b7f0aeb98692",
   "metadata": {},
   "outputs": [
    {
     "name": "stdin",
     "output_type": "stream",
     "text": [
      "Enter a chracter/alphabet:  h\n"
     ]
    },
    {
     "name": "stdout",
     "output_type": "stream",
     "text": [
      "h is a consonant.\n"
     ]
    }
   ],
   "source": [
    "###5) Create a program to check if a character is vowel or consonat\n",
    "\n",
    "take_input = input(\"Enter a chracter/alphabet: \")\n",
    "\n",
    "if take_input in 'aeiouAEIOU':\n",
    "    print(take_input + \" is a vowel.\")\n",
    "else:\n",
    "    print(take_input + \" is a consonant.\")\n",
    "    \n",
    "    "
   ]
  },
  {
   "cell_type": "code",
   "execution_count": 7,
   "id": "d36d98ac-fb85-405a-83bb-d0d130ff9f73",
   "metadata": {},
   "outputs": [
    {
     "name": "stdin",
     "output_type": "stream",
     "text": [
      "Enter a number:  56\n"
     ]
    },
    {
     "name": "stdout",
     "output_type": "stream",
     "text": [
      "The number is even.\n"
     ]
    }
   ],
   "source": [
    "####6) Implement a program to determine whether a number is even or odd\n",
    "\n",
    "take_input = int(input(\"Enter a number: \"))\n",
    "\n",
    "if take_input%2 == 0:\n",
    "    print(\"The number is even.\")\n",
    "else:\n",
    "    print(\"The number is odd.\")"
   ]
  },
  {
   "cell_type": "code",
   "execution_count": 8,
   "id": "95c16c84-67da-4791-964d-1c2035a27dbb",
   "metadata": {},
   "outputs": [
    {
     "name": "stdin",
     "output_type": "stream",
     "text": [
      "Enter a number:  57\n"
     ]
    },
    {
     "name": "stdout",
     "output_type": "stream",
     "text": [
      "The absolute value of the number is:  57.0\n"
     ]
    }
   ],
   "source": [
    "###7) Write a program that calcultaes the absolute value of a number without using abs() function\n",
    "\n",
    "value = int(input(\"Enter a number: \"))\n",
    "\n",
    "abs_value = ((value ** 2)**0.5)\n",
    "\n",
    "print(\"The absolute value of the number is: \",abs_value)\n"
   ]
  },
  {
   "cell_type": "code",
   "execution_count": 9,
   "id": "1f6bb859-d23e-4a4f-9fa4-dd003c535695",
   "metadata": {},
   "outputs": [
    {
     "name": "stdin",
     "output_type": "stream",
     "text": [
      "Enter thre numbers with space:  56 34 78\n"
     ]
    },
    {
     "name": "stdout",
     "output_type": "stream",
     "text": [
      "The maximum number is :  78\n"
     ]
    }
   ],
   "source": [
    "##8) Develop a program that determines largest of three numbers using if-else statement\n",
    "\n",
    "number_list = list(map(int,input(\"Enter thre numbers with space: \").split(' ')))\n",
    "\n",
    "max_num = 0\n",
    "\n",
    "for i in number_list:\n",
    "    if i>max_num:\n",
    "        max_num = i\n",
    "    elif max_num>i:\n",
    "        i = max_num\n",
    "\n",
    "print(\"The maximum number is : \",max_num)\n",
    "\n"
   ]
  },
  {
   "cell_type": "code",
   "execution_count": 10,
   "id": "2fd69d15-3f30-4fc7-a1b3-464088b6b5b9",
   "metadata": {},
   "outputs": [
    {
     "name": "stdin",
     "output_type": "stream",
     "text": [
      "Enter a string:  ththth\n"
     ]
    },
    {
     "name": "stdout",
     "output_type": "stream",
     "text": [
      "Not a Palindrome\n"
     ]
    }
   ],
   "source": [
    "##9) create a program to check if a given list is palindrome or not\n",
    "\n",
    "string = input(\"Enter a string: \")\n",
    "\n",
    "if(string == string[::-1]):\n",
    "    print(\"String is Palindrome\")\n",
    "else:\n",
    "    print(\"Not a Palindrome\")"
   ]
  },
  {
   "cell_type": "code",
   "execution_count": 11,
   "id": "4128942e-46de-47a1-8a38-112517897541",
   "metadata": {},
   "outputs": [
    {
     "name": "stdout",
     "output_type": "stream",
     "text": [
      "The subject grades are:  {'History': 'B+', 'Geography': 'A', 'Polity': 'B+', 'Physics': 'A', 'Maths': 'A+', 'Chemistry': 'A', 'Biology': 'A'}\n"
     ]
    }
   ],
   "source": [
    "###10) Write a program to calculate the grade based on student's score\n",
    "\n",
    "score = {'History':67,'Geography':77,'Polity':65,'Physics':80,'Maths':85,'Chemistry':78,'Biology':75}\n",
    "\n",
    "grades = []\n",
    "for val in score.values():\n",
    "    if val<40:\n",
    "        grades.append('Fail')\n",
    "    if 40>=val>50:\n",
    "        grades.append('C')\n",
    "    elif 60>=val>=50:\n",
    "        grades.append('B')\n",
    "    elif 70>=val>60:\n",
    "        grades.append('B+')\n",
    "    elif 80>=val>70:\n",
    "        grades.append('A')\n",
    "    elif 90>=val>80:\n",
    "        grades.append('A+')\n",
    "    elif 100>=val>90:\n",
    "        grades.append('E')\n",
    "        \n",
    "subject_grades = dict(zip(list(score.keys()),grades))\n",
    "print(\"The subject grades are: \",subject_grades)\n",
    "        "
   ]
  },
  {
   "cell_type": "markdown",
   "id": "2f878707-c5dc-4bd0-b2eb-24d9c3db4bbe",
   "metadata": {},
   "source": [
    "# Nested If Else statement\n"
   ]
  },
  {
   "cell_type": "code",
   "execution_count": 12,
   "id": "6740a5c5-c57b-4ff8-9249-7ebcd5409ef6",
   "metadata": {},
   "outputs": [
    {
     "name": "stdin",
     "output_type": "stream",
     "text": [
      "Enter first number:  475757\n",
      "Enter second number:  64764\n",
      "Enter third number:  8686\n"
     ]
    },
    {
     "name": "stdout",
     "output_type": "stream",
     "text": [
      "The max of three number is:  475757\n"
     ]
    }
   ],
   "source": [
    "##10) Write a program to find largest among three numbers using nested if-else statement\n",
    "\n",
    "a = int(input(\"Enter first number: \"))\n",
    "b = int(input(\"Enter second number: \"))\n",
    "c = int(input(\"Enter third number: \"))\n",
    "\n",
    "max_num = 0\n",
    "if a>b:\n",
    "    if a>c:\n",
    "        max_num = a\n",
    "elif b>a:\n",
    "    if b>c:\n",
    "        max_num = b\n",
    "elif c>a:\n",
    "    if c>b:\n",
    "        max_num = c\n",
    "\n",
    "print (\"The max of three number is: \",max_num)\n"
   ]
  },
  {
   "cell_type": "code",
   "execution_count": 13,
   "id": "7dbdeee4-7e78-47d4-b1f4-476c81d894bd",
   "metadata": {},
   "outputs": [
    {
     "name": "stdin",
     "output_type": "stream",
     "text": [
      "Enter first side:  45\n",
      "Enter second side:  34\n",
      "Enter third side:  23\n"
     ]
    },
    {
     "name": "stdout",
     "output_type": "stream",
     "text": [
      "It's scalene triangle.\n"
     ]
    }
   ],
   "source": [
    "###11) Implement a program to determine if a triangle is equilateral, iscoceles or scalene\n",
    "\n",
    "x = int(input(\"Enter first side: \"))\n",
    "y = int(input(\"Enter second side: \"))\n",
    "z = int(input(\"Enter third side: \"))\n",
    "\n",
    "if x == y:\n",
    "    if y == z:\n",
    "        print(\"It's equilateral triangle.\")\n",
    "elif y==z or x==y:\n",
    "    print(\"It's isosceles triangle.\")\n",
    "elif y!=x!=z:\n",
    "    print(\"It's scalene triangle.\")\n"
   ]
  },
  {
   "cell_type": "code",
   "execution_count": 14,
   "id": "adfb02c5-6685-4787-925b-7085e9527de6",
   "metadata": {},
   "outputs": [
    {
     "name": "stdout",
     "output_type": "stream",
     "text": [
      "This is a leap year\n"
     ]
    }
   ],
   "source": [
    "###12) write a program that checks if a year is leap year and also if it is centurian\n",
    "\n",
    "def year(year):\n",
    "    if year%4==0:\n",
    "        if year%100 != 0 or year%400 == 0:\n",
    "                return (\"This is a leap year\")\n",
    "        elif year%100 == 0:\n",
    "            return (\"This is a century year\")\n",
    "    else:\n",
    "        return (\"This is neither leap year nor century year\")\n",
    "\n",
    "    \n",
    "print(year(2016))\n",
    "\n",
    "            "
   ]
  },
  {
   "cell_type": "code",
   "execution_count": 15,
   "id": "f1eda124-a6a0-471d-ba3f-fbb92f176999",
   "metadata": {},
   "outputs": [
    {
     "name": "stdin",
     "output_type": "stream",
     "text": [
      "Enter a number positive/negative:  -56\n"
     ]
    },
    {
     "name": "stdout",
     "output_type": "stream",
     "text": [
      "It's a negative number\n"
     ]
    }
   ],
   "source": [
    "###14) Write a program to determine if a number is positive, negative or zero\n",
    "\n",
    "num = int(input(\"Enter a number positive/negative: \"))\n",
    "\n",
    "if(num<0):\n",
    "    print(\"It's a negative number\")\n",
    "elif(num==0):\n",
    "    print(num)\n",
    "else:\n",
    "    print(\"It's a positive number\")\n"
   ]
  },
  {
   "cell_type": "code",
   "execution_count": 18,
   "id": "926c5d07-ae17-4ac6-8669-e3eb0d4925d1",
   "metadata": {},
   "outputs": [
    {
     "name": "stdin",
     "output_type": "stream",
     "text": [
      "Enter the age of the person:  12\n"
     ]
    },
    {
     "name": "stdout",
     "output_type": "stream",
     "text": [
      "Kid\n"
     ]
    }
   ],
   "source": [
    "###15) Write a program to check if a person is teenager(between 13 and 19 years old)\n",
    "\n",
    "age = int(input(\"Enter the age of the person: \"))\n",
    "\n",
    "if(age<13):\n",
    "    print(\"Kid\")\n",
    "elif(13<=age<19):\n",
    "        print(\"Teenager\")\n",
    "else:\n",
    "    print(\"Adult\")\n"
   ]
  },
  {
   "cell_type": "code",
   "execution_count": 19,
   "id": "fead6ad0-df48-486d-bc2e-21c8884c1bec",
   "metadata": {},
   "outputs": [
    {
     "name": "stdin",
     "output_type": "stream",
     "text": [
      "Enter first side:  23\n",
      "Enter second side:  23\n",
      "Enter third side:  23\n"
     ]
    },
    {
     "name": "stdout",
     "output_type": "stream",
     "text": [
      "acute angled triangle\n"
     ]
    }
   ],
   "source": [
    "##16) Develop a program that detrmines the type of angle based on its measure\n",
    "\n",
    "first = int(input(\"Enter first side: \"))\n",
    "second = int(input(\"Enter second side: \"))\n",
    "third = int(input(\"Enter third side: \"))\n",
    "\n",
    "def angle(a,b,c):\n",
    "    if(c**2 == (a**2 + b**2) or a**2==(b**2 + c**2) or b**2==(c**2+a**2)):\n",
    "        return(\"right angled triangle\")\n",
    "    elif(c**2 > (a**2 + b**2) or a**2>(b**2 + c**2) or b**2>(c**2+a**2)):\n",
    "        return(\"obtuse angled triangle\")\n",
    "    elif(c**2 < (a**2 + b**2) or a**2<(b**2 + c**2) or b**2<(c**2+a**2)):\n",
    "        return(\"acute angled triangle\")\n",
    "\n",
    "        \n",
    "print(angle(first,second,third))\n",
    "\n",
    "        \n",
    "    \n"
   ]
  },
  {
   "cell_type": "code",
   "execution_count": 20,
   "id": "c921d8f4-683a-4318-84ed-034e01e934ea",
   "metadata": {},
   "outputs": [
    {
     "name": "stdin",
     "output_type": "stream",
     "text": [
      "Enter a:  7\n",
      "Enter b:  49\n",
      "Enter c:  9\n"
     ]
    },
    {
     "name": "stdout",
     "output_type": "stream",
     "text": [
      "The roots of the equation are -2.642692054002964 and -95.35730794599704\n"
     ]
    }
   ],
   "source": [
    "##17) Write a program to calculate roots of quadratic equation\n",
    "\n",
    "a = int(input('Enter a: '))  \n",
    "b = int(input('Enter b: '))  \n",
    "c = int(input('Enter c: '))  \n",
    "  \n",
    "dis = ((b**2) - (4*a*c))\n",
    "\n",
    "root1 = -b + (dis)**0.5\n",
    "root2 = -b - (dis)**0.5\n",
    "\n",
    "print(f\"The roots of the equation are {root1} and {root2}\")"
   ]
  },
  {
   "cell_type": "code",
   "execution_count": 2,
   "id": "470ae975-5fd1-433e-99ee-86d6f5833e6c",
   "metadata": {},
   "outputs": [
    {
     "name": "stdin",
     "output_type": "stream",
     "text": [
      "Enter a number (1-7) representing the day of the week:  4\n"
     ]
    },
    {
     "name": "stdout",
     "output_type": "stream",
     "text": [
      "The day of the week for the provided number 4 is Thursday.\n"
     ]
    }
   ],
   "source": [
    "## 18) Implement a program to determine the day of the week based on user provided number(1 for Monday, 2 for Tuesday ,etc)\n",
    "\n",
    "def day_of_week(user_input):\n",
    "    days_of_week = [\"Monday\", \"Tuesday\", \"Wednesday\", \"Thursday\", \"Friday\", \"Saturday\", \"Sunday\"]\n",
    "\n",
    "    if user_input < 1 or user_input > 7:\n",
    "        return \"Invalid input. Please enter a number between 1 and 7.\"\n",
    "    day_name = days_of_week[user_input - 1]\n",
    "    \n",
    "    return day_name\n",
    "\n",
    "user_input = int(input(\"Enter a number (1-7) representing the day of the week: \"))\n",
    "\n",
    "result = day_of_week(user_input)\n",
    "\n",
    "print(f\"The day of the week for the provided number {user_input} is {result}.\")\n"
   ]
  },
  {
   "cell_type": "code",
   "execution_count": 1,
   "id": "7f93d20f-fc7f-4f5a-942a-6b9816e2c5b3",
   "metadata": {},
   "outputs": [
    {
     "name": "stdin",
     "output_type": "stream",
     "text": [
      "Enter a year:  2024\n"
     ]
    },
    {
     "name": "stdout",
     "output_type": "stream",
     "text": [
      "2024 is a leap year.\n"
     ]
    }
   ],
   "source": [
    "##19) Create a program to determine if ayear is a leap year and also if it is divisible by 400.\n",
    "\n",
    "def is_leap_year(year):\n",
    "    if (year % 4 == 0 and year % 100 != 0) or (year % 400 == 0):\n",
    "        return True\n",
    "    else:\n",
    "        return False\n",
    "\n",
    "year = int(input(\"Enter a year: \"))\n",
    "\n",
    "if is_leap_year(year):\n",
    "    print(f\"{year} is a leap year.\")\n",
    "else:\n",
    "    print(f\"{year} is not a leap year.\")\n"
   ]
  },
  {
   "cell_type": "code",
   "execution_count": 2,
   "id": "c0b976b7-aeda-42b6-b19f-be0e786586d3",
   "metadata": {},
   "outputs": [
    {
     "name": "stdin",
     "output_type": "stream",
     "text": [
      "Enter a number:  45\n"
     ]
    },
    {
     "name": "stdout",
     "output_type": "stream",
     "text": [
      "45 is not a prime number.\n"
     ]
    }
   ],
   "source": [
    "#20) Develop a program that checks if a given number is prime or not using nested if-else statement\n",
    "\n",
    "def is_prime(number):\n",
    "    if number > 1:\n",
    "        # Check for factors\n",
    "        for i in range(2, int(number**0.5) + 1):\n",
    "            if (number % i) == 0:\n",
    "                return False\n",
    "        else:\n",
    "            return True\n",
    "    else:\n",
    "        return False\n",
    "\n",
    "num = int(input(\"Enter a number: \"))\n",
    "\n",
    "if is_prime(num):\n",
    "    print(f\"{num} is a prime number.\")\n",
    "else:\n",
    "    print(f\"{num} is not a prime number.\")\n"
   ]
  },
  {
   "cell_type": "markdown",
   "id": "eccb3286-fd3b-4711-82d3-98682e11e23d",
   "metadata": {},
   "source": [
    "# Elif Statement"
   ]
  },
  {
   "cell_type": "code",
   "execution_count": 7,
   "id": "2c2c7cc9-4567-4d15-bd41-57f263b1051c",
   "metadata": {},
   "outputs": [
    {
     "name": "stdin",
     "output_type": "stream",
     "text": [
      "Enter the score:  67\n"
     ]
    },
    {
     "name": "stdout",
     "output_type": "stream",
     "text": [
      "The grade for the score 67.0 is: C\n"
     ]
    }
   ],
   "source": [
    "#21) Write a Python program to assign grades based on different ranges of scores using if else statement\n",
    "\n",
    "def assign_grade(score):\n",
    "    if score >= 90:\n",
    "        return 'E'\n",
    "    elif score >= 80:\n",
    "        return 'A'\n",
    "    elif score >= 70:\n",
    "        return 'B'\n",
    "    elif score >= 60:\n",
    "        return 'C'\n",
    "    else:\n",
    "        return 'D'\n",
    "\n",
    "score = float(input(\"Enter the score: \"))\n",
    "\n",
    "if 0 <= score <= 100:\n",
    "    grade = assign_grade(score)\n",
    "    print(f\"The grade for the score {score} is: {grade}\")\n",
    "else:\n",
    "    print(\"Invalid input. Please enter a score between 0 and 100.\")\n"
   ]
  },
  {
   "cell_type": "code",
   "execution_count": 8,
   "id": "d8717df9-75f3-4cb5-914b-f07441cf8b2c",
   "metadata": {},
   "outputs": [
    {
     "name": "stdin",
     "output_type": "stream",
     "text": [
      "Enter the first angle:  45\n",
      "Enter the second angle:  60\n",
      "Enter the third angle:  56\n"
     ]
    },
    {
     "name": "stdout",
     "output_type": "stream",
     "text": [
      "The triangle with angles 45, 60, 56 is a Invalid triangle angles.\n"
     ]
    }
   ],
   "source": [
    "#22) Implement a program to determine the type of a triangle based on its angles\n",
    "\n",
    "def triangle_type(angle1, angle2, angle3):\n",
    "    if angle1 + angle2 + angle3 == 180:\n",
    "        if angle1 == angle2 == angle3:\n",
    "            return \"Equilateral triangle\"\n",
    "        elif angle1 == angle2 or angle1 == angle3 or angle2 == angle3:\n",
    "            return \"Isosceles triangle\"\n",
    "        else:\n",
    "            return \"Scalene triangle\"\n",
    "    else:\n",
    "        return \"Invalid triangle angles\"\n",
    "\n",
    "angle1 = int(input(\"Enter the first angle: \"))\n",
    "angle2 = int(input(\"Enter the second angle: \"))\n",
    "angle3 = int(input(\"Enter the third angle: \"))\n",
    "\n",
    "# Determine the type of triangle and print the result\n",
    "result = triangle_type(angle1, angle2, angle3)\n",
    "print(f\"The triangle with angles {angle1}, {angle2}, {angle3} is a {result}.\")\n",
    "\n"
   ]
  },
  {
   "cell_type": "code",
   "execution_count": 9,
   "id": "32803369-babe-4f3d-9c3e-55452664af2c",
   "metadata": {},
   "outputs": [
    {
     "name": "stdin",
     "output_type": "stream",
     "text": [
      "Enter your weight in kilograms:  56\n",
      "Enter your height in meters:  500\n"
     ]
    },
    {
     "name": "stdout",
     "output_type": "stream",
     "text": [
      "Your BMI is 0.00, and you are categorized as Underweight.\n"
     ]
    }
   ],
   "source": [
    "#23) Develop a program to categorize a given person's BMI into underweight , normal, overweight, or obese using if else.\n",
    "\n",
    "def categorize_bmi(bmi):\n",
    "    if bmi < 18.5:\n",
    "        return \"Underweight\"\n",
    "    elif 18.5 <= bmi < 25:\n",
    "        return \"Normal weight\"\n",
    "    elif 25 <= bmi < 30:\n",
    "        return \"Overweight\"\n",
    "    else:\n",
    "        return \"Obese\"\n",
    "\n",
    "weight = float(input(\"Enter your weight in kilograms: \"))\n",
    "height = float(input(\"Enter your height in meters: \"))\n",
    "\n",
    "bmi = weight / (height ** 2)\n",
    "\n",
    "# Categorize BMI and print the result\n",
    "category = categorize_bmi(bmi)\n",
    "print(f\"Your BMI is {bmi:.2f}, and you are categorized as {category}.\")\n"
   ]
  },
  {
   "cell_type": "code",
   "execution_count": 10,
   "id": "408184b8-08f5-4bde-b051-5e05310a3663",
   "metadata": {},
   "outputs": [
    {
     "name": "stdin",
     "output_type": "stream",
     "text": [
      "Enter a number:  56\n"
     ]
    },
    {
     "name": "stdout",
     "output_type": "stream",
     "text": [
      "56.0 is a positive number.\n"
     ]
    }
   ],
   "source": [
    "#24) Create a program that determines whether a number is positive, negative or zero using if else statement\n",
    "\n",
    "number = float(input(\"Enter a number: \"))\n",
    "\n",
    "if number > 0:\n",
    "    print(f\"{number} is a positive number.\")\n",
    "elif number < 0:\n",
    "    print(f\"{number} is a negative number.\")\n",
    "else:\n",
    "    print(\"The number is zero.\")\n"
   ]
  },
  {
   "cell_type": "code",
   "execution_count": 11,
   "id": "31eaf7d7-5094-4ef6-a806-79645b255038",
   "metadata": {},
   "outputs": [
    {
     "name": "stdin",
     "output_type": "stream",
     "text": [
      "Enter a character:  H\n"
     ]
    },
    {
     "name": "stdout",
     "output_type": "stream",
     "text": [
      "H is an uppercase letter.\n"
     ]
    }
   ],
   "source": [
    "#25) Write a Python script to determine the type of a character (uppercase,lowercase, or special) using elif statement.\n",
    "\n",
    "char = input(\"Enter a character: \")\n",
    "\n",
    "if char.isupper():\n",
    "    print(f\"{char} is an uppercase letter.\")\n",
    "elif char.islower():\n",
    "    print(f\"{char} is a lowercase letter.\")\n",
    "elif char.isnumeric():\n",
    "    print(f\"{char} is a numeric digit.\")\n",
    "else:\n",
    "    print(f\"{char} is a special character.\")\n"
   ]
  },
  {
   "cell_type": "code",
   "execution_count": 12,
   "id": "c4608ae8-e685-4c26-9206-81011b96ccde",
   "metadata": {},
   "outputs": [
    {
     "name": "stdin",
     "output_type": "stream",
     "text": [
      "Enter the purchase amount:  700\n"
     ]
    },
    {
     "name": "stdout",
     "output_type": "stream",
     "text": [
      "Original Price: $700.00\n",
      "Discount Rate: 15.0%\n",
      "Discounted Price: $595.00\n"
     ]
    }
   ],
   "source": [
    "#26) Implement a program to calculate discounted price based on different purchase amounts using elif statement.\n",
    "\n",
    "purchase_amount = float(input(\"Enter the purchase amount: \"))\n",
    "\n",
    "if purchase_amount < 50:\n",
    "    discount_rate = 0\n",
    "elif 50 <= purchase_amount < 100:\n",
    "    discount_rate = 0.05\n",
    "elif 100 <= purchase_amount < 500:\n",
    "    discount_rate = 0.1\n",
    "else:\n",
    "    discount_rate = 0.15\n",
    "\n",
    "# Calculate the discounted price\n",
    "discounted_price = purchase_amount - (purchase_amount * discount_rate)\n",
    "\n",
    "# Print the result\n",
    "print(f\"Original Price: ${purchase_amount:.2f}\")\n",
    "print(f\"Discount Rate: {discount_rate * 100}%\")\n",
    "print(f\"Discounted Price: ${discounted_price:.2f}\")\n"
   ]
  },
  {
   "cell_type": "code",
   "execution_count": 13,
   "id": "e42f3320-cce2-4e10-a53b-c1c044a3613d",
   "metadata": {},
   "outputs": [
    {
     "name": "stdin",
     "output_type": "stream",
     "text": [
      "Enter the electricity consumption in kilowatt-hours (kWh):  600\n"
     ]
    },
    {
     "name": "stdout",
     "output_type": "stream",
     "text": [
      "Electricity Consumption: 600.0 kWh\n",
      "Electricity Rate: $0.25 per kWh\n",
      "Electricity Bill: $150.00\n"
     ]
    }
   ],
   "source": [
    "#27) Develop a program to calculate the electricity bill based on different consumption stabs using elif statement.\n",
    "\n",
    "consumption = float(input(\"Enter the electricity consumption in kilowatt-hours (kWh): \"))\n",
    "\n",
    "if consumption <= 100:\n",
    "    rate = 0.1 \n",
    "elif 100 < consumption <= 300:\n",
    "    rate = 0.15\n",
    "elif 300 < consumption <= 500:\n",
    "    rate = 0.2\n",
    "else:\n",
    "    rate = 0.25\n",
    "\n",
    "bill_amount = consumption * rate\n",
    "\n",
    "# Print the result\n",
    "print(f\"Electricity Consumption: {consumption} kWh\")\n",
    "print(f\"Electricity Rate: ${rate:.2f} per kWh\")\n",
    "print(f\"Electricity Bill: ${bill_amount:.2f}\")\n"
   ]
  },
  {
   "cell_type": "code",
   "execution_count": 14,
   "id": "957e56e0-e0ef-4e35-8df5-6ec5237bb70b",
   "metadata": {},
   "outputs": [
    {
     "name": "stdin",
     "output_type": "stream",
     "text": [
      "Enter a number:  67\n"
     ]
    },
    {
     "name": "stdout",
     "output_type": "stream",
     "text": [
      "67.0 is a positive number.\n"
     ]
    }
   ],
   "source": [
    "#28) Create a program that determines whether a given number is positive, negative or zero using elif statement.\n",
    "\n",
    "number = float(input(\"Enter a number: \"))\n",
    "\n",
    "if number > 0:\n",
    "    print(f\"{number} is a positive number.\")\n",
    "elif number < 0:\n",
    "    print(f\"{number} is a negative number.\")\n",
    "else:\n",
    "    print(\"The number is zero.\")\n"
   ]
  },
  {
   "cell_type": "code",
   "execution_count": 15,
   "id": "93692a39-4eaa-43cf-9042-448101deec7e",
   "metadata": {},
   "outputs": [
    {
     "name": "stdin",
     "output_type": "stream",
     "text": [
      "Enter the month (1-12):  6\n"
     ]
    },
    {
     "name": "stdout",
     "output_type": "stream",
     "text": [
      "The season for month 6 is Spring.\n"
     ]
    }
   ],
   "source": [
    "#29) Write a Python script to determine the season based on user provided month using elif statement.\n",
    "\n",
    "month = int(input(\"Enter the month (1-12): \"))\n",
    "\n",
    "if 1 <= month <= 3:\n",
    "    season = \"Winter\"\n",
    "elif 4 <= month <= 6:\n",
    "    season = \"Spring\"\n",
    "elif 7 <= month <= 9:\n",
    "    season = \"Summer\"\n",
    "elif 10 <= month <= 12:\n",
    "    season = \"Fall\"\n",
    "else:\n",
    "    season = \"Invalid month\"\n",
    "\n",
    "# Print the result\n",
    "if season != \"Invalid month\":\n",
    "    print(f\"The season for month {month} is {season}.\")\n",
    "else:\n",
    "    print(\"Invalid input. Please enter a month between 1 and 12.\")\n"
   ]
  },
  {
   "cell_type": "code",
   "execution_count": 16,
   "id": "cb3c56ca-3f89-4799-ab05-bfccc6f61444",
   "metadata": {},
   "outputs": [
    {
     "name": "stdin",
     "output_type": "stream",
     "text": [
      "Enter the year:  4060\n",
      "Enter the month (1-12):  6\n"
     ]
    },
    {
     "name": "stdout",
     "output_type": "stream",
     "text": [
      "4060 is a Leap year.\n",
      "The month 6 has 30 days.\n"
     ]
    }
   ],
   "source": [
    "#30) Implement a program to determine the type of a year (leap or common) and month(30 or 31 days) using elif statement\n",
    "\n",
    "def is_leap_year(year):\n",
    "    return (year % 4 == 0 and year % 100 != 0) or (year % 400 == 0)\n",
    "\n",
    "year = int(input(\"Enter the year: \"))\n",
    "month = int(input(\"Enter the month (1-12): \"))\n",
    "\n",
    "if is_leap_year(year):\n",
    "    year_type = \"Leap year\"\n",
    "else:\n",
    "    year_type = \"Common year\"\n",
    "\n",
    "# Determine the number of days in the month\n",
    "if month in {1, 3, 5, 7, 8, 10, 12}:\n",
    "    days_in_month = 31\n",
    "elif month in {4, 6, 9, 11}:\n",
    "    days_in_month = 30\n",
    "elif month == 2:\n",
    "    days_in_month = 29 if is_leap_year(year) else 28\n",
    "else:\n",
    "    year_type = \"Invalid month\"\n",
    "    days_in_month = \"Invalid month\"\n",
    "\n",
    "# Print the result\n",
    "if year_type != \"Invalid month\":\n",
    "    print(f\"{year} is a {year_type}.\")\n",
    "    print(f\"The month {month} has {days_in_month} days.\")\n",
    "else:\n",
    "    print(\"Invalid input. Please enter a valid month (1-12).\")\n"
   ]
  },
  {
   "cell_type": "markdown",
   "id": "4ba8cc57-0fa6-4bad-97aa-476214fb34f0",
   "metadata": {},
   "source": [
    "# Basic level assignment question\n"
   ]
  },
  {
   "cell_type": "code",
   "execution_count": 1,
   "id": "508ba8d0-a8b6-41aa-9b6f-de2e32c1e8c8",
   "metadata": {},
   "outputs": [
    {
     "name": "stdin",
     "output_type": "stream",
     "text": [
      "Enter a number:  -34\n"
     ]
    },
    {
     "name": "stdout",
     "output_type": "stream",
     "text": [
      "-34.0 is a negative number.\n"
     ]
    }
   ],
   "source": [
    "#1) Write a Python program that checks if a number is positive negative or zero\n",
    "\n",
    "number = float(input(\"Enter a number: \"))\n",
    "\n",
    "if number > 0:\n",
    "    print(f\"{number} is a positive number.\")\n",
    "elif number < 0:\n",
    "    print(f\"{number} is a negative number.\")\n",
    "else:\n",
    "    print(\"The number is zero.\")\n"
   ]
  },
  {
   "cell_type": "code",
   "execution_count": 2,
   "id": "89316a33-0fab-42a6-9044-4bde4e2e205e",
   "metadata": {},
   "outputs": [
    {
     "name": "stdin",
     "output_type": "stream",
     "text": [
      "Enter your age:  34\n"
     ]
    },
    {
     "name": "stdout",
     "output_type": "stream",
     "text": [
      "You are eligible to vote.\n"
     ]
    }
   ],
   "source": [
    "#2) Create a program to determine if a person is eligible to vote based on their age\n",
    "\n",
    "age = int(input(\"Enter your age: \"))\n",
    "\n",
    "if age >= 18:\n",
    "    print(\"You are eligible to vote.\")\n",
    "else:\n",
    "    print(\"You are not eligible to vote yet.\")\n"
   ]
  },
  {
   "cell_type": "code",
   "execution_count": 3,
   "id": "125d9528-0426-4160-a406-4d5bf6b63d54",
   "metadata": {},
   "outputs": [
    {
     "name": "stdin",
     "output_type": "stream",
     "text": [
      "Enter the first number:  45\n",
      "Enter the second number:  65\n"
     ]
    },
    {
     "name": "stdout",
     "output_type": "stream",
     "text": [
      "The maximum of 45.0 and 65.0 is: 65.0\n"
     ]
    }
   ],
   "source": [
    "#3) Write a program to find the maximum of two given numbers using conditional statements\n",
    "\n",
    "number1 = float(input(\"Enter the first number: \"))\n",
    "number2 = float(input(\"Enter the second number: \"))\n",
    "\n",
    "if number1 > number2:\n",
    "    maximum = number1\n",
    "else:\n",
    "    maximum = number2\n",
    "\n",
    "print(f\"The maximum of {number1} and {number2} is: {maximum}\")\n"
   ]
  },
  {
   "cell_type": "code",
   "execution_count": 4,
   "id": "9f50e52a-6eaf-4cd9-8413-75cc98405ce0",
   "metadata": {},
   "outputs": [
    {
     "name": "stdin",
     "output_type": "stream",
     "text": [
      "Enter the exam score:  45\n"
     ]
    },
    {
     "name": "stdout",
     "output_type": "stream",
     "text": [
      "The student's grade for the exam score 45.0 is: F\n"
     ]
    }
   ],
   "source": [
    "#4) Develop a program that calculates grades of students based on their exam score\n",
    "\n",
    "exam_score = float(input(\"Enter the exam score: \"))\n",
    "\n",
    "if 90 <= exam_score <= 100:\n",
    "    grade = 'A'\n",
    "elif 80 <= exam_score < 90:\n",
    "    grade = 'B'\n",
    "elif 70 <= exam_score < 80:\n",
    "    grade = 'C'\n",
    "elif 60 <= exam_score < 70:\n",
    "    grade = 'D'\n",
    "else:\n",
    "    grade = 'F'\n",
    "\n",
    "# Print the result\n",
    "print(f\"The student's grade for the exam score {exam_score} is: {grade}\")\n"
   ]
  },
  {
   "cell_type": "code",
   "execution_count": 5,
   "id": "dd43e00f-e882-45f8-b19e-a4079ecc89ea",
   "metadata": {},
   "outputs": [
    {
     "name": "stdin",
     "output_type": "stream",
     "text": [
      "Enter a year:  2024\n"
     ]
    },
    {
     "name": "stdout",
     "output_type": "stream",
     "text": [
      "2024 is a leap year.\n"
     ]
    }
   ],
   "source": [
    "#5) Create a program that checks if a year is leap or not\n",
    "\n",
    "year = int(input(\"Enter a year: \"))\n",
    "\n",
    "if (year % 4 == 0 and year % 100 != 0) or (year % 400 == 0):\n",
    "    print(f\"{year} is a leap year.\")\n",
    "else:\n",
    "    print(f\"{year} is not a leap year.\")\n"
   ]
  },
  {
   "cell_type": "code",
   "execution_count": 6,
   "id": "188e6ece-f4b4-462d-be1c-fa0a0f942383",
   "metadata": {},
   "outputs": [
    {
     "name": "stdin",
     "output_type": "stream",
     "text": [
      "Enter the length of side 1:  34\n",
      "Enter the length of side 2:  45\n",
      "Enter the length of side 3:  34\n"
     ]
    },
    {
     "name": "stdout",
     "output_type": "stream",
     "text": [
      "The triangle with side lengths 34.0, 45.0, 34.0 is a Isosceles triangle.\n"
     ]
    }
   ],
   "source": [
    "#6) Write a program to classify a triangle, based on its side's length\n",
    "\n",
    "side1 = float(input(\"Enter the length of side 1: \"))\n",
    "side2 = float(input(\"Enter the length of side 2: \"))\n",
    "side3 = float(input(\"Enter the length of side 3: \"))\n",
    "\n",
    "if side1 == side2 == side3:\n",
    "    triangle_type = \"Equilateral triangle\"\n",
    "elif side1 == side2 or side1 == side3 or side2 == side3:\n",
    "    triangle_type = \"Isosceles triangle\"\n",
    "else:\n",
    "    triangle_type = \"Scalene triangle\"\n",
    "\n",
    "# Print the result\n",
    "print(f\"The triangle with side lengths {side1}, {side2}, {side3} is a {triangle_type}.\")\n"
   ]
  },
  {
   "cell_type": "code",
   "execution_count": 7,
   "id": "d43f2be1-420d-4296-84c4-f95365c88059",
   "metadata": {},
   "outputs": [
    {
     "name": "stdin",
     "output_type": "stream",
     "text": [
      "Enter the first number:  56\n",
      "Enter the second number:  34\n",
      "Enter the third number:  78\n"
     ]
    },
    {
     "name": "stdout",
     "output_type": "stream",
     "text": [
      "The largest of 56.0, 34.0, and 78.0 is: 78.0\n"
     ]
    }
   ],
   "source": [
    "#7) Build a program that determines the largest of three numbers\n",
    "\n",
    "number1 = float(input(\"Enter the first number: \"))\n",
    "number2 = float(input(\"Enter the second number: \"))\n",
    "number3 = float(input(\"Enter the third number: \"))\n",
    "\n",
    "if number1 >= number2 and number1 >= number3:\n",
    "    largest = number1\n",
    "elif number2 >= number1 and number2 >= number3:\n",
    "    largest = number2\n",
    "else:\n",
    "    largest = number3\n",
    "\n",
    "# Print the result\n",
    "print(f\"The largest of {number1}, {number2}, and {number3} is: {largest}\")\n"
   ]
  },
  {
   "cell_type": "code",
   "execution_count": 8,
   "id": "633411fb-7256-41fc-91d3-4d63034bdf2d",
   "metadata": {},
   "outputs": [
    {
     "name": "stdin",
     "output_type": "stream",
     "text": [
      "Enter a character:  f\n"
     ]
    },
    {
     "name": "stdout",
     "output_type": "stream",
     "text": [
      "f is a consonant.\n"
     ]
    }
   ],
   "source": [
    "#8) Develop a program that checks if a charcter is vowel or consonant\n",
    "\n",
    "character = input(\"Enter a character: \")\n",
    "\n",
    "if character.isalpha() and len(character) == 1:\n",
    "    if character.lower() in ['a', 'e', 'i', 'o', 'u']:\n",
    "        print(f\"{character} is a vowel.\")\n",
    "    else:\n",
    "        print(f\"{character} is a consonant.\")\n",
    "else:\n",
    "    print(\"Invalid input. Please enter a single alphabetical character.\")\n"
   ]
  },
  {
   "cell_type": "code",
   "execution_count": 12,
   "id": "5198f7a4-2c8c-44f4-9e49-0c4cbf0aa2c4",
   "metadata": {},
   "outputs": [
    {
     "name": "stdin",
     "output_type": "stream",
     "text": [
      "Enter the number of items in your shopping cart:  4\n",
      "Enter the price of item 1:  450\n",
      "Enter the price of item 2:  340\n",
      "Enter the price of item 3:  230\n",
      "Enter the price of item 4:  560\n"
     ]
    },
    {
     "name": "stdout",
     "output_type": "stream",
     "text": [
      "You qualify for a 10% discount. Your discounted total is: Rs1422.00\n"
     ]
    }
   ],
   "source": [
    "#9) Create a program to calculate the total cost of a shopping cart based on discounts\n",
    "\n",
    "def calculate_total_cost(item_prices):\n",
    "    total_cost = sum(item_prices)\n",
    "\n",
    "    if total_cost >= 1000:\n",
    "        discount_percentage = 10\n",
    "        discount_amount = (discount_percentage / 100) * total_cost\n",
    "        total_cost -= discount_amount\n",
    "        print(f\"You qualify for a {discount_percentage}% discount. Your discounted total is: Rs{total_cost:.2f}\")\n",
    "    else:\n",
    "        print(f\"Your total cost is: ${total_cost:.2f}\")\n",
    "\n",
    "# Get user input for the number of items\n",
    "num_items = int(input(\"Enter the number of items in your shopping cart: \"))\n",
    "\n",
    "# Get user input for each item's price\n",
    "item_prices = []\n",
    "for i in range(num_items):\n",
    "    item_price = float(input(f\"Enter the price of item {i + 1}: \"))\n",
    "    item_prices.append(item_price)\n",
    "\n",
    "# Calculate and print the total cost with discount\n",
    "calculate_total_cost(item_prices)\n"
   ]
  },
  {
   "cell_type": "code",
   "execution_count": 14,
   "id": "dbdcf4b6-fedb-4107-b140-e129dd650b6d",
   "metadata": {},
   "outputs": [
    {
     "name": "stdin",
     "output_type": "stream",
     "text": [
      "Enter a number:  67\n"
     ]
    },
    {
     "name": "stdout",
     "output_type": "stream",
     "text": [
      "67 is an odd number.\n"
     ]
    }
   ],
   "source": [
    "# 10) Write a program that checks if a number is even or not\n",
    "\n",
    "number = int(input(\"Enter a number: \"))\n",
    "\n",
    "if number % 2 == 0:\n",
    "    print(f\"{number} is an even number.\")\n",
    "else:\n",
    "    print(f\"{number} is an odd number.\")\n"
   ]
  },
  {
   "cell_type": "markdown",
   "id": "01e90928-1f40-4225-80bd-97acbfaa49ee",
   "metadata": {},
   "source": [
    "# Intermediate level"
   ]
  },
  {
   "cell_type": "code",
   "execution_count": 1,
   "id": "1bd745b7-f31e-4fbe-a345-8219818a0fdf",
   "metadata": {},
   "outputs": [
    {
     "name": "stdin",
     "output_type": "stream",
     "text": [
      "Enter the coefficient a:  5\n",
      "Enter the coefficient b:  4\n",
      "Enter the coefficient c:  3\n"
     ]
    },
    {
     "name": "stdout",
     "output_type": "stream",
     "text": [
      "The roots of the quadratic equation are complex conjugates: (-0.4+0.6633249580710799j) and (-0.4-0.6633249580710799j)\n"
     ]
    }
   ],
   "source": [
    "# 11) Write a program to calculate the roots of a quadratic equation\n",
    "\n",
    "# Get user input for the coefficients of the quadratic equation (ax^2 + bx + c = 0)\n",
    "a = float(input(\"Enter the coefficient a: \"))\n",
    "b = float(input(\"Enter the coefficient b: \"))\n",
    "c = float(input(\"Enter the coefficient c: \"))\n",
    "\n",
    "# Calculate the discriminant (b^2 - 4ac)\n",
    "discriminant = b**2 - 4*a*c\n",
    "\n",
    "if discriminant > 0:\n",
    "    root1 = (-b + (discriminant ** 0.5)) / (2*a)\n",
    "    root2 = (-b - (discriminant ** 0.5)) / (2*a)\n",
    "    print(f\"The roots of the quadratic equation are real and different: {root1} and {root2}\")\n",
    "elif discriminant == 0:\n",
    "    root = -b / (2*a)\n",
    "    print(f\"The roots of the quadratic equation are real and equal: {root}\")\n",
    "else:\n",
    "    # If discriminant is negative, roots are complex conjugates\n",
    "    real_part = -b / (2*a)\n",
    "    imaginary_part = (abs(discriminant) ** 0.5) / (2*a)\n",
    "    root1 = complex(real_part, imaginary_part)\n",
    "    root2 = complex(real_part, -imaginary_part)\n",
    "    print(f\"The roots of the quadratic equation are complex conjugates: {root1} and {root2}\")\n"
   ]
  },
  {
   "cell_type": "code",
   "execution_count": 2,
   "id": "a4d3f172-db5c-479c-b11e-00f4aa25cd87",
   "metadata": {},
   "outputs": [
    {
     "name": "stdin",
     "output_type": "stream",
     "text": [
      "Enter the day number (1-7):  4\n"
     ]
    },
    {
     "name": "stdout",
     "output_type": "stream",
     "text": [
      "The day corresponding to day number 4 is: Thursday\n"
     ]
    }
   ],
   "source": [
    "#12) Create a program that determines the day of the week based on the day_number\n",
    "\n",
    "def get_day_of_week(day_number):\n",
    "    days_of_week = [\"Monday\", \"Tuesday\", \"Wednesday\", \"Thursday\", \"Friday\", \"Saturday\", \"Sunday\"]\n",
    "\n",
    "    if 1 <= day_number <= 7:\n",
    "        return days_of_week[day_number - 1]\n",
    "    else:\n",
    "        return \"Invalid day number\"\n",
    "\n",
    "day_number = int(input(\"Enter the day number (1-7): \"))\n",
    "\n",
    "# Determine and print the day of the week\n",
    "day_of_week = get_day_of_week(day_number)\n",
    "print(f\"The day corresponding to day number {day_number} is: {day_of_week}\")\n"
   ]
  },
  {
   "cell_type": "code",
   "execution_count": 5,
   "id": "e7507d75-de56-4200-8d30-30eb0ec12266",
   "metadata": {},
   "outputs": [
    {
     "name": "stdin",
     "output_type": "stream",
     "text": [
      "Enter a non-negative integer:  4\n"
     ]
    },
    {
     "name": "stdout",
     "output_type": "stream",
     "text": [
      "The factorial of 4 is: 24\n"
     ]
    }
   ],
   "source": [
    "#13) Develop a program that calculates the factorial of a number using recursion\n",
    "\n",
    "def factorial(n):\n",
    "    if n == 0 or n == 1:\n",
    "        return 1\n",
    "    else:\n",
    "        return n * factorial(n - 1)\n",
    "\n",
    "number = int(input(\"Enter a non-negative integer: \"))\n",
    "\n",
    "# Check if the number is non-negative\n",
    "if number >= 0:\n",
    "    result = factorial(number)\n",
    "    print(f\"The factorial of {number} is: {result}\")\n",
    "else:\n",
    "    print(\"Invalid input. Please enter a non-negative integer.\")\n"
   ]
  },
  {
   "cell_type": "code",
   "execution_count": 6,
   "id": "475f4e25-1f74-4fc9-b6e9-39dbe6e07577",
   "metadata": {},
   "outputs": [
    {
     "name": "stdin",
     "output_type": "stream",
     "text": [
      "Enter the first number:  45\n",
      "Enter the second number:  56\n",
      "Enter the third number:  67\n"
     ]
    },
    {
     "name": "stdout",
     "output_type": "stream",
     "text": [
      "The largest among 45.0, 56.0, and 67.0 is: 67.0\n"
     ]
    }
   ],
   "source": [
    "# 14) Write a program to find the largest among three numbers without using 'max()' function.\n",
    "\n",
    "number1 = float(input(\"Enter the first number: \"))\n",
    "number2 = float(input(\"Enter the second number: \"))\n",
    "number3 = float(input(\"Enter the third number: \"))\n",
    "\n",
    "largest = number1\n",
    "\n",
    "if number2 > largest:\n",
    "    largest = number2\n",
    "\n",
    "if number3 > largest:\n",
    "    largest = number3\n",
    "\n",
    "# Print the result\n",
    "print(f\"The largest among {number1}, {number2}, and {number3} is: {largest}\")\n"
   ]
  },
  {
   "cell_type": "code",
   "execution_count": 7,
   "id": "23f363f7-e863-406c-a172-d02e8f5825ce",
   "metadata": {},
   "outputs": [
    {
     "name": "stdout",
     "output_type": "stream",
     "text": [
      "\n",
      "ATM Menu:\n",
      "1. Check Balance\n",
      "2. Deposit Money\n",
      "3. Withdraw Money\n",
      "4. Quit\n"
     ]
    },
    {
     "name": "stdin",
     "output_type": "stream",
     "text": [
      "Enter your choice (1-4):  5600\n"
     ]
    },
    {
     "name": "stdout",
     "output_type": "stream",
     "text": [
      "Invalid choice. Please enter a number between 1 and 4.\n",
      "\n",
      "ATM Menu:\n",
      "1. Check Balance\n",
      "2. Deposit Money\n",
      "3. Withdraw Money\n",
      "4. Quit\n"
     ]
    },
    {
     "name": "stdin",
     "output_type": "stream",
     "text": [
      "Enter your choice (1-4):  2\n",
      "Enter the amount to deposit: $ 5600\n"
     ]
    },
    {
     "name": "stdout",
     "output_type": "stream",
     "text": [
      "$5600.00 has been deposited. Your new balance is: $6600.00\n",
      "\n",
      "ATM Menu:\n",
      "1. Check Balance\n",
      "2. Deposit Money\n",
      "3. Withdraw Money\n",
      "4. Quit\n"
     ]
    },
    {
     "name": "stdin",
     "output_type": "stream",
     "text": [
      "Enter your choice (1-4):  3\n",
      "Enter the amount to withdraw: $ 1200\n"
     ]
    },
    {
     "name": "stdout",
     "output_type": "stream",
     "text": [
      "$1200.00 has been withdrawn. Your new balance is: $5400.00\n",
      "\n",
      "ATM Menu:\n",
      "1. Check Balance\n",
      "2. Deposit Money\n",
      "3. Withdraw Money\n",
      "4. Quit\n"
     ]
    },
    {
     "name": "stdin",
     "output_type": "stream",
     "text": [
      "Enter your choice (1-4):  1\n"
     ]
    },
    {
     "name": "stdout",
     "output_type": "stream",
     "text": [
      "Your current balance is: $5400.00\n",
      "\n",
      "ATM Menu:\n",
      "1. Check Balance\n",
      "2. Deposit Money\n",
      "3. Withdraw Money\n",
      "4. Quit\n"
     ]
    },
    {
     "name": "stdin",
     "output_type": "stream",
     "text": [
      "Enter your choice (1-4):  4\n"
     ]
    },
    {
     "name": "stdout",
     "output_type": "stream",
     "text": [
      "Thank you for using the ATM. Have a great day!\n"
     ]
    }
   ],
   "source": [
    "#15) Create a program taht simulates a basic ATM transaction menu\n",
    "\n",
    "account_balance = 1000.0\n",
    "\n",
    "def display_menu():\n",
    "    print(\"\\nATM Menu:\")\n",
    "    print(\"1. Check Balance\")\n",
    "    print(\"2. Deposit Money\")\n",
    "    print(\"3. Withdraw Money\")\n",
    "    print(\"4. Quit\")\n",
    "\n",
    "def check_balance():\n",
    "    print(f\"Your current balance is: ${account_balance:.2f}\")\n",
    "\n",
    "def deposit_money():\n",
    "    global account_balance\n",
    "    amount = float(input(\"Enter the amount to deposit: $\"))\n",
    "    account_balance += amount\n",
    "    print(f\"${amount:.2f} has been deposited. Your new balance is: ${account_balance:.2f}\")\n",
    "\n",
    "def withdraw_money():\n",
    "    global account_balance\n",
    "    amount = float(input(\"Enter the amount to withdraw: $\"))\n",
    "    if amount > account_balance:\n",
    "        print(\"Insufficient funds. Withdrawal canceled.\")\n",
    "    else:\n",
    "        account_balance -= amount\n",
    "        print(f\"${amount:.2f} has been withdrawn. Your new balance is: ${account_balance:.2f}\")\n",
    "\n",
    "while True:\n",
    "    display_menu()\n",
    "    choice = input(\"Enter your choice (1-4): \")\n",
    "\n",
    "    if choice == '1':\n",
    "        check_balance()\n",
    "    elif choice == '2':\n",
    "        deposit_money()\n",
    "    elif choice == '3':\n",
    "        withdraw_money()\n",
    "    elif choice == '4':\n",
    "        print(\"Thank you for using the ATM. Have a great day!\")\n",
    "        break\n",
    "    else:\n",
    "        print(\"Invalid choice. Please enter a number between 1 and 4.\")\n"
   ]
  },
  {
   "cell_type": "code",
   "execution_count": 8,
   "id": "99a10874-c538-4c92-839a-172f648ce99c",
   "metadata": {},
   "outputs": [
    {
     "name": "stdin",
     "output_type": "stream",
     "text": [
      "Enter a string:  khfisklhdhs\n"
     ]
    },
    {
     "name": "stdout",
     "output_type": "stream",
     "text": [
      "khfisklhdhs is not a palindrome.\n"
     ]
    }
   ],
   "source": [
    "#16) Build a program that checks if a given string is palindrome or not\n",
    "\n",
    "def is_palindrome(s):\n",
    "    cleaned_string = ''.join(s.split()).lower()\n",
    "    reversed_string = cleaned_string[::-1]\n",
    "    return cleaned_string == reversed_string\n",
    "\n",
    "# Get user input for the string\n",
    "user_string = input(\"Enter a string: \")\n",
    "\n",
    "# Check if the string is a palindrome\n",
    "if is_palindrome(user_string):\n",
    "    print(f\"{user_string} is a palindrome.\")\n",
    "else:\n",
    "    print(f\"{user_string} is not a palindrome.\")\n"
   ]
  },
  {
   "cell_type": "code",
   "execution_count": 11,
   "id": "7ba0d4be-6827-4a89-bb62-0dca783cc2da",
   "metadata": {},
   "outputs": [
    {
     "name": "stdin",
     "output_type": "stream",
     "text": [
      "Enter a list of numbers separated by spaces:  45 67 34 78 38 47 97 27\n"
     ]
    },
    {
     "name": "stdout",
     "output_type": "stream",
     "text": [
      "The average (excluding smallest and largest values) is: 51.5\n"
     ]
    }
   ],
   "source": [
    "#17) Write a program that calculates the average of a list of numbers, excluding smallest and largest value.\n",
    "\n",
    "def calculate_average(numbers):\n",
    "    if len(numbers) < 3:\n",
    "        return \"List must contain at least three numbers.\"\n",
    "\n",
    "    numbers.sort()\n",
    "    excluded_numbers = numbers[1:-1]\n",
    "\n",
    "    average = sum(excluded_numbers) / len(excluded_numbers)\n",
    "    return average\n",
    "\n",
    "# Get user input for the list of numbers\n",
    "user_input = input(\"Enter a list of numbers separated by spaces: \")\n",
    "numbers = [int(x) for x in user_input.split()]\n",
    "\n",
    "# Calculate and print the average (excluding smallest and largest values)\n",
    "result = calculate_average(numbers)\n",
    "print(f\"The average (excluding smallest and largest values) is: {result}\")\n"
   ]
  },
  {
   "cell_type": "code",
   "execution_count": 13,
   "id": "7424d0d7-6383-4f23-a8b3-9bf6a8c864e7",
   "metadata": {},
   "outputs": [
    {
     "name": "stdin",
     "output_type": "stream",
     "text": [
      "Enter the temperature in Celsius:  23\n"
     ]
    },
    {
     "name": "stdout",
     "output_type": "stream",
     "text": [
      "23.0 Celsius is equal to 73.40 Fahrenheit.\n"
     ]
    }
   ],
   "source": [
    "#18) Write a program that converts a given temperature from Celsius to Farenheit\n",
    "\n",
    "def celsius_to_fahrenheit(celsius):\n",
    "\n",
    "    fahrenheit = (celsius * 9/5) + 32\n",
    "    return fahrenheit\n",
    "\n",
    "# Get user input for the temperature in Celsius\n",
    "celsius_temperature = float(input(\"Enter the temperature in Celsius: \"))\n",
    "\n",
    "# Convert Celsius to Fahrenheit\n",
    "fahrenheit_temperature = celsius_to_fahrenheit(celsius_temperature)\n",
    "\n",
    "# Print the result\n",
    "print(f\"{celsius_temperature} Celsius is equal to {fahrenheit_temperature:.2f} Fahrenheit.\")\n",
    "\n"
   ]
  },
  {
   "cell_type": "code",
   "execution_count": 14,
   "id": "91086364-63e4-4732-96cc-e126ffae124e",
   "metadata": {},
   "outputs": [
    {
     "name": "stdout",
     "output_type": "stream",
     "text": [
      "Calculator Menu:\n",
      "1. Addition\n",
      "2. Subtraction\n",
      "3. Multiplication\n",
      "4. Division\n"
     ]
    },
    {
     "name": "stdin",
     "output_type": "stream",
     "text": [
      "Enter the operation number (1-4):  3\n",
      "Enter the first number:  23\n",
      "Enter the second number:  34\n"
     ]
    },
    {
     "name": "stdout",
     "output_type": "stream",
     "text": [
      "23.0 * 34.0 = 782.0\n"
     ]
    }
   ],
   "source": [
    "#19) Create a program that simulates a basic calculator for addition,subtraction, multiplication and division.\n",
    "\n",
    "def add(x, y):\n",
    "    return x + y\n",
    "\n",
    "def subtract(x, y):\n",
    "    return x - y\n",
    "\n",
    "def multiply(x, y):\n",
    "    return x * y\n",
    "\n",
    "def divide(x, y):\n",
    "    if y != 0:\n",
    "        return x / y\n",
    "    else:\n",
    "        return \"Cannot divide by zero\"\n",
    "\n",
    "print(\"Calculator Menu:\")\n",
    "print(\"1. Addition\")\n",
    "print(\"2. Subtraction\")\n",
    "print(\"3. Multiplication\")\n",
    "print(\"4. Division\")\n",
    "\n",
    "# Get user input for operation choice\n",
    "choice = input(\"Enter the operation number (1-4): \")\n",
    "\n",
    "# Get user input for two numbers\n",
    "num1 = float(input(\"Enter the first number: \"))\n",
    "num2 = float(input(\"Enter the second number: \"))\n",
    "\n",
    "if choice == '1':\n",
    "    result = add(num1, num2)\n",
    "    print(f\"{num1} + {num2} = {result}\")\n",
    "elif choice == '2':\n",
    "    result = subtract(num1, num2)\n",
    "    print(f\"{num1} - {num2} = {result}\")\n",
    "elif choice == '3':\n",
    "    result = multiply(num1, num2)\n",
    "    print(f\"{num1} * {num2} = {result}\")\n",
    "elif choice == '4':\n",
    "    result = divide(num1, num2)\n",
    "    print(f\"{num1} / {num2} = {result}\")\n",
    "else:\n",
    "    print(\"Invalid choice. Please enter a number between 1 and 4.\")\n"
   ]
  },
  {
   "cell_type": "code",
   "execution_count": 15,
   "id": "f0403cc1-4e4e-4722-a567-02c0c238e2d5",
   "metadata": {},
   "outputs": [
    {
     "name": "stdin",
     "output_type": "stream",
     "text": [
      "Enter the coefficient a:  4\n",
      "Enter the coefficient b:  3\n",
      "Enter the coefficient c:  2\n",
      "Enter the coefficient d:  5\n"
     ]
    },
    {
     "name": "stdout",
     "output_type": "stream",
     "text": [
      "The roots of the cubic equation are:\n",
      "Root 1: (-1.2006618381871537+0j)\n",
      "Root 2: (0.22533091909357666-0.9951474503504661j)\n",
      "Root 3: (0.22533091909357728+0.9951474503504658j)\n"
     ]
    }
   ],
   "source": [
    "#20) Write a program that determines the roots of a cubic equation using Cardano formula\n",
    "\n",
    "import cmath\n",
    "\n",
    "def solve_cubic_equation(a, b, c, d):\n",
    "    # Calculate discriminant and intermediate values\n",
    "    delta_0 = b**2 - 3*a*c\n",
    "    delta_1 = 2*b**3 - 9*a*b*c + 27*a**2*d\n",
    "    C = ((delta_1 + cmath.sqrt(delta_1**2 - 4*delta_0**3)) / 2)**(1/3)\n",
    "\n",
    "    # Calculate roots using Cardano's formula\n",
    "    root_1 = -1/(3*a) * (b + C + delta_0/C)\n",
    "    root_2 = -1/(3*a) * (b + cmath.exp(2j * cmath.pi/3) * C + delta_0/(C * cmath.exp(2j * cmath.pi/3)))\n",
    "    root_3 = -1/(3*a) * (b + cmath.exp(4j * cmath.pi/3) * C + delta_0/(C * cmath.exp(4j * cmath.pi/3)))\n",
    "\n",
    "    return root_1, root_2, root_3\n",
    "\n",
    "a = float(input(\"Enter the coefficient a: \"))\n",
    "b = float(input(\"Enter the coefficient b: \"))\n",
    "c = float(input(\"Enter the coefficient c: \"))\n",
    "d = float(input(\"Enter the coefficient d: \"))\n",
    "\n",
    "roots = solve_cubic_equation(a, b, c, d)\n",
    "\n",
    "print(\"The roots of the cubic equation are:\")\n",
    "for i, root in enumerate(roots, start=1):\n",
    "    print(f\"Root {i}: {root}\")\n"
   ]
  },
  {
   "cell_type": "markdown",
   "id": "9b44ddd3-310d-43e5-98c6-375e0bb4ce78",
   "metadata": {},
   "source": [
    "# Advanced level"
   ]
  },
  {
   "cell_type": "code",
   "execution_count": 21,
   "id": "58dc9f7b-38f5-444d-bc11-846bec34d42b",
   "metadata": {},
   "outputs": [
    {
     "name": "stdin",
     "output_type": "stream",
     "text": [
      "Enter your annual income: $ 5600000\n"
     ]
    },
    {
     "name": "stdout",
     "output_type": "stream",
     "text": [
      "Your income tax for the year is: $1665000.00\n"
     ]
    }
   ],
   "source": [
    "#21) Create a program that calculates the income tax based on the user's income and tax bracket\n",
    "\n",
    "def calculate_income_tax(income):\n",
    "    # Define tax brackets and rates\n",
    "    brackets = [0, 50000, 100000, 150000]\n",
    "    rates = [0, 0.1, 0.2, 0.3]\n",
    "\n",
    "    tax = 0\n",
    "    for i in range(1, len(brackets)):\n",
    "        if income > brackets[i]:\n",
    "            tax += (brackets[i] - brackets[i-1]) * rates[i]\n",
    "\n",
    "    tax += (income - brackets[-1]) * rates[-1]\n",
    "\n",
    "    return tax\n",
    "\n",
    "# Get user input for income\n",
    "income = float(input(\"Enter your annual income: $\"))\n",
    "\n",
    "# Calculate income tax and print the result\n",
    "income_tax = calculate_income_tax(income)\n",
    "print(f\"Your income tax for the year is: ${income_tax:.2f}\")\n"
   ]
  },
  {
   "cell_type": "code",
   "execution_count": 22,
   "id": "b0d39f23-33b3-4b01-bade-85ae1ef70517",
   "metadata": {},
   "outputs": [
    {
     "name": "stdin",
     "output_type": "stream",
     "text": [
      "Enter your choice (rock, paper, or scissors):  paper\n"
     ]
    },
    {
     "name": "stdout",
     "output_type": "stream",
     "text": [
      "\n",
      "You chose paper\n",
      "Computer chose rock\n",
      "You win!\n"
     ]
    },
    {
     "name": "stdin",
     "output_type": "stream",
     "text": [
      "Do you want to play again? (yes/no):  no\n"
     ]
    },
    {
     "name": "stdout",
     "output_type": "stream",
     "text": [
      "Thanks for playing. Goodbye!\n"
     ]
    }
   ],
   "source": [
    "#22) Write a program that simulates a rock-paper-scissors game against the computer\n",
    "\n",
    "import random\n",
    "\n",
    "def get_user_choice():\n",
    "    user_choice = input(\"Enter your choice (rock, paper, or scissors): \").lower()\n",
    "    while user_choice not in [\"rock\", \"paper\", \"scissors\"]:\n",
    "        print(\"Invalid choice. Please enter rock, paper, or scissors.\")\n",
    "        user_choice = input(\"Enter your choice (rock, paper, or scissors): \").lower()\n",
    "    return user_choice\n",
    "\n",
    "def get_computer_choice():\n",
    "    return random.choice([\"rock\", \"paper\", \"scissors\"])\n",
    "\n",
    "def determine_winner(user_choice, computer_choice):\n",
    "    if user_choice == computer_choice:\n",
    "        return \"It's a tie!\"\n",
    "    elif (user_choice == \"rock\" and computer_choice == \"scissors\") or \\\n",
    "         (user_choice == \"paper\" and computer_choice == \"rock\") or \\\n",
    "         (user_choice == \"scissors\" and computer_choice == \"paper\"):\n",
    "        return \"You win!\"\n",
    "    else:\n",
    "        return \"Computer wins!\"\n",
    "\n",
    "while True:\n",
    "    user_choice = get_user_choice()\n",
    "    computer_choice = get_computer_choice()\n",
    "\n",
    "    print(f\"\\nYou chose {user_choice}\")\n",
    "    print(f\"Computer chose {computer_choice}\")\n",
    "\n",
    "    result = determine_winner(user_choice, computer_choice)\n",
    "    print(result)\n",
    "\n",
    "    play_again = input(\"Do you want to play again? (yes/no): \").lower()\n",
    "    if play_again != \"yes\":\n",
    "        print(\"Thanks for playing. Goodbye!\")\n",
    "        break\n"
   ]
  },
  {
   "cell_type": "code",
   "execution_count": 1,
   "id": "ba0c8a57-c226-419a-b3ea-383ee9014c5a",
   "metadata": {},
   "outputs": [
    {
     "name": "stdin",
     "output_type": "stream",
     "text": [
      "Enter the desired length of the password:  7\n",
      "Include lowercase letters? (yes/no):  yes\n",
      "Include uppercase letters? (yes/no):  yes\n",
      "Include digits? (yes/no):  yes\n",
      "Include special characters? (yes/no):  yes\n"
     ]
    },
    {
     "name": "stdout",
     "output_type": "stream",
     "text": [
      "Generated Password: lh,G0lu\n"
     ]
    }
   ],
   "source": [
    "#23) Develop a program that generates a random password based on user preference\n",
    "\n",
    "import random\n",
    "import string\n",
    "\n",
    "def generate_password(length, use_lowercase, use_uppercase, use_digits, use_special_chars):\n",
    "    characters = ''\n",
    "    \n",
    "    if use_lowercase:\n",
    "        characters += string.ascii_lowercase\n",
    "    if use_uppercase:\n",
    "        characters += string.ascii_uppercase\n",
    "    if use_digits:\n",
    "        characters += string.digits\n",
    "    if use_special_chars:\n",
    "        characters += string.punctuation\n",
    "    \n",
    "    if not characters:\n",
    "        print(\"Error: At least one character set must be selected.\")\n",
    "        return None\n",
    "\n",
    "    generated_password = ''.join(random.choice(characters) for _ in range(length))\n",
    "    return generated_password\n",
    "\n",
    "# Get user preferences for password generation\n",
    "length = int(input(\"Enter the desired length of the password: \"))\n",
    "use_lowercase = input(\"Include lowercase letters? (yes/no): \").lower() == \"yes\"\n",
    "use_uppercase = input(\"Include uppercase letters? (yes/no): \").lower() == \"yes\"\n",
    "use_digits = input(\"Include digits? (yes/no): \").lower() == \"yes\"\n",
    "use_special_chars = input(\"Include special characters? (yes/no): \").lower() == \"yes\"\n",
    "\n",
    "# Generate and print the password\n",
    "password = generate_password(length, use_lowercase, use_uppercase, use_digits, use_special_chars)\n",
    "if password:\n",
    "    print(f\"Generated Password: {password}\")\n"
   ]
  },
  {
   "cell_type": "code",
   "execution_count": 2,
   "id": "8ef71ac6-0d36-4156-b9a0-763d83342914",
   "metadata": {},
   "outputs": [
    {
     "name": "stdout",
     "output_type": "stream",
     "text": [
      "Welcome to the Text Adventure Game!\n",
      "You find yourself in a mysterious forest.\n",
      "Your goal is to reach the treasure at the end of the forest.\n",
      "You start walking through the forest.\n",
      "You come across a fork in the path.\n",
      "Choose your path:\n",
      "1. Take the left path\n",
      "2. Take the right path\n"
     ]
    },
    {
     "name": "stdin",
     "output_type": "stream",
     "text": [
      "Enter the number of your choice:  1\n"
     ]
    },
    {
     "name": "stdout",
     "output_type": "stream",
     "text": [
      "You chose the left path.\n",
      "You enter a dark cave.\n",
      "You see a glowing object at the end of the cave.\n",
      "Choose your path:\n",
      "1. Approach the glowing object\n",
      "2. Leave the cave\n"
     ]
    },
    {
     "name": "stdin",
     "output_type": "stream",
     "text": [
      "Enter the number of your choice:  1\n"
     ]
    },
    {
     "name": "stdout",
     "output_type": "stream",
     "text": [
      "You approach the glowing object and discover it's a magic key.\n",
      "Congratulations! You have reached the treasure!\n",
      "You win!\n"
     ]
    }
   ],
   "source": [
    "#24) Create a program that implements a simple text-based adventure game with branching scenarios\n",
    "\n",
    "import time\n",
    "\n",
    "def introduction():\n",
    "    print(\"Welcome to the Text Adventure Game!\")\n",
    "    print(\"You find yourself in a mysterious forest.\")\n",
    "    time.sleep(1)\n",
    "    print(\"Your goal is to reach the treasure at the end of the forest.\")\n",
    "    time.sleep(1)\n",
    "\n",
    "def make_choice(choices):\n",
    "    print(\"Choose your path:\")\n",
    "    for i, choice in enumerate(choices, start=1):\n",
    "        print(f\"{i}. {choice}\")\n",
    "\n",
    "    while True:\n",
    "        try:\n",
    "            choice_num = int(input(\"Enter the number of your choice: \"))\n",
    "            if 1 <= choice_num <= len(choices):\n",
    "                return choice_num\n",
    "            else:\n",
    "                print(\"Invalid choice. Please enter a valid number.\")\n",
    "        except ValueError:\n",
    "            print(\"Invalid input. Please enter a number.\")\n",
    "\n",
    "def forest_path():\n",
    "    print(\"You start walking through the forest.\")\n",
    "    time.sleep(1)\n",
    "    print(\"You come across a fork in the path.\")\n",
    "\n",
    "    choices = [\"Take the left path\", \"Take the right path\"]\n",
    "    choice_num = make_choice(choices)\n",
    "\n",
    "    if choice_num == 1:\n",
    "        print(\"You chose the left path.\")\n",
    "        time.sleep(1)\n",
    "        return \"cave\"\n",
    "    else:\n",
    "        print(\"You chose the right path.\")\n",
    "        time.sleep(1)\n",
    "        return \"river\"\n",
    "\n",
    "def cave_scenario():\n",
    "    print(\"You enter a dark cave.\")\n",
    "    time.sleep(1)\n",
    "    print(\"You see a glowing object at the end of the cave.\")\n",
    "\n",
    "    choices = [\"Approach the glowing object\", \"Leave the cave\"]\n",
    "    choice_num = make_choice(choices)\n",
    "\n",
    "    if choice_num == 1:\n",
    "        print(\"You approach the glowing object and discover it's a magic key.\")\n",
    "        time.sleep(1)\n",
    "        return \"treasure\"\n",
    "    else:\n",
    "        print(\"You decide to leave the cave.\")\n",
    "        time.sleep(1)\n",
    "        return \"forest\"\n",
    "\n",
    "def river_scenario():\n",
    "    print(\"You reach the bank of a fast-flowing river.\")\n",
    "    time.sleep(1)\n",
    "    print(\"You spot a rickety bridge that leads to the other side.\")\n",
    "\n",
    "    choices = [\"Cross the bridge\", \"Look for another way\"]\n",
    "    choice_num = make_choice(choices)\n",
    "\n",
    "    if choice_num == 1:\n",
    "        print(\"You cautiously cross the bridge.\")\n",
    "        time.sleep(1)\n",
    "        return \"treasure\"\n",
    "    else:\n",
    "        print(\"You decide to look for another way.\")\n",
    "        time.sleep(1)\n",
    "        return \"forest\"\n",
    "\n",
    "def treasure_scenario():\n",
    "    print(\"Congratulations! You have reached the treasure!\")\n",
    "    time.sleep(1)\n",
    "    print(\"You win!\")\n",
    "\n",
    "# Main game loop\n",
    "def main():\n",
    "    introduction()\n",
    "    current_location = \"forest\"\n",
    "\n",
    "    while current_location != \"treasure\":\n",
    "        if current_location == \"forest\":\n",
    "            current_location = forest_path()\n",
    "        elif current_location == \"cave\":\n",
    "            current_location = cave_scenario()\n",
    "        elif current_location == \"river\":\n",
    "            current_location = river_scenario()\n",
    "\n",
    "    treasure_scenario()\n",
    "\n",
    "if __name__ == \"__main__\":\n",
    "    main()\n"
   ]
  },
  {
   "cell_type": "code",
   "execution_count": 6,
   "id": "fa85df6a-fa19-4a9c-947f-92c52178f1dc",
   "metadata": {},
   "outputs": [
    {
     "name": "stdin",
     "output_type": "stream",
     "text": [
      "Enter the coefficient a:  5/7+8\n",
      "Enter the coefficient b:  6-8\n"
     ]
    },
    {
     "name": "stdout",
     "output_type": "stream",
     "text": [
      "The solution for x is: 0.25\n"
     ]
    }
   ],
   "source": [
    "#25) Build a program that solves simple linear equation for x,considering different cases\n",
    "\n",
    "def solve_linear_equation(a, b):\n",
    "    if a == 0:\n",
    "        if b == 0:\n",
    "            return \"Infinite solutions (identity)\"\n",
    "        else:\n",
    "            return \"No solution (contradiction)\"\n",
    "    else:\n",
    "        x = -b / a\n",
    "        return f\"The solution for x is: {x}\"\n",
    "\n",
    "# Get user input for coefficients of the linear equation (ax + b = 0)\n",
    "a = int(eval(input(\"Enter the coefficient a: \"))) #will evaluate any coefficient of x for a \n",
    "b = int(eval(input(\"Enter the coefficient b: \"))) #will evealuate any value of b\n",
    "\n",
    "# Solve the linear equation and print the result\n",
    "result = solve_linear_equation(a, b)\n",
    "print(result)\n",
    "\n",
    "\n"
   ]
  },
  {
   "cell_type": "code",
   "execution_count": 12,
   "id": "5411c73e-e5b4-4e2e-bb42-8d5be49930cf",
   "metadata": {},
   "outputs": [
    {
     "name": "stdout",
     "output_type": "stream",
     "text": [
      "What is the capital of France?\n",
      "1.Paris\n",
      "2.Berlin\n",
      "3.London\n",
      "4.Madrid\n"
     ]
    },
    {
     "name": "stdin",
     "output_type": "stream",
     "text": [
      "Enter your answer number:  1\n"
     ]
    },
    {
     "name": "stdout",
     "output_type": "stream",
     "text": [
      "Correct!\n",
      "\n",
      "Which planet is known as the Red Planet?\n",
      "1.Mars\n",
      "2.Venus\n",
      "3.Jupiter\n",
      "4.Saturn\n"
     ]
    },
    {
     "name": "stdin",
     "output_type": "stream",
     "text": [
      "Enter your answer number:  3\n"
     ]
    },
    {
     "name": "stdout",
     "output_type": "stream",
     "text": [
      "Sorry :( , The correct answer is 1\n",
      "What is the largest mammal in the world?\n",
      "1.Elephant\n",
      "2.Blue Whale\n",
      "3.Giraffe\n",
      "4.Hippopotamus\n"
     ]
    },
    {
     "name": "stdin",
     "output_type": "stream",
     "text": [
      "Enter your answer number:  2\n"
     ]
    },
    {
     "name": "stdout",
     "output_type": "stream",
     "text": [
      "Correct!\n",
      "\n"
     ]
    }
   ],
   "source": [
    "#26) Write a program that simulates a basic quiz game with multiple-choice-questions and scoring\n",
    "\n",
    "class Quiz:\n",
    "    \n",
    "    def __init__(self,question):\n",
    "        self.question = question\n",
    "        \n",
    "    def display_quiz(self,question):\n",
    "        print(question[\"text\"])\n",
    "        for count,option in enumerate(question[\"options\"],start=1):\n",
    "            print(f\"{count}.{option}\")\n",
    "        user_answer=input(\"Enter your answer number: \")\n",
    "        return int(user_answer)\n",
    "    \n",
    "    def run_quiz(self):\n",
    "        for question in self.question:\n",
    "            correct_answer = question[\"correct_option\"]\n",
    "            if correct_answer == self.display_quiz(question):\n",
    "                print(\"Correct!\\n\")\n",
    "            else:\n",
    "                print(f\"Sorry :( , The correct answer is {correct_answer}\")\n",
    "    \n",
    "            \n",
    "        \n",
    "        \n",
    "\n",
    "quiz_questions = [\n",
    "    {\n",
    "        \"text\": \"What is the capital of France?\",\n",
    "        \"options\": [\"Paris\", \"Berlin\", \"London\", \"Madrid\"],\n",
    "        \"correct_option\": 1,\n",
    "    },\n",
    "    {\n",
    "        \"text\": \"Which planet is known as the Red Planet?\",\n",
    "        \"options\": [\"Mars\", \"Venus\", \"Jupiter\", \"Saturn\"],\n",
    "        \"correct_option\": 1,\n",
    "    },\n",
    "    {\n",
    "        \"text\": \"What is the largest mammal in the world?\",\n",
    "        \"options\": [\"Elephant\", \"Blue Whale\", \"Giraffe\", \"Hippopotamus\"],\n",
    "        \"correct_option\": 2,\n",
    "    },\n",
    "]\n",
    "\n",
    "#Driver code\n",
    "\n",
    "my_quiz = Quiz(quiz_questions)\n",
    "my_quiz.run_quiz()\n"
   ]
  },
  {
   "cell_type": "code",
   "execution_count": 14,
   "id": "94772975-4633-462b-ae24-2da73147d7c2",
   "metadata": {},
   "outputs": [
    {
     "name": "stdin",
     "output_type": "stream",
     "text": [
      "Enter a year:  2023\n"
     ]
    },
    {
     "name": "stdout",
     "output_type": "stream",
     "text": [
      "2023 is not a prime year.\n"
     ]
    }
   ],
   "source": [
    "#27) Develop a program that determines whether a given year is prime or not\n",
    "\n",
    "def is_prime(year):\n",
    "    if year < 2:\n",
    "        return False\n",
    "    for i in range(2, int(year**0.5) + 1):\n",
    "        if year % i == 0:\n",
    "            return False\n",
    "    return True\n",
    "\n",
    "year = int(input(\"Enter a year: \"))\n",
    "\n",
    "# Check if the year is prime and print the result\n",
    "if is_prime(year):\n",
    "    print(f\"{year} is a prime year.\")\n",
    "else:\n",
    "    print(f\"{year} is not a prime year.\")\n"
   ]
  },
  {
   "cell_type": "code",
   "execution_count": 15,
   "id": "d849799c-9a78-4c4f-a8af-ce75e5abb17f",
   "metadata": {},
   "outputs": [
    {
     "name": "stdin",
     "output_type": "stream",
     "text": [
      "Enter the first number:  6\n",
      "Enter the second number:  7\n",
      "Enter the third number:  2\n"
     ]
    },
    {
     "name": "stdout",
     "output_type": "stream",
     "text": [
      "Sorted numbers in ascending order: [2.0, 6.0, 7.0]\n"
     ]
    }
   ],
   "source": [
    "#28) Create a program that sorts three numbers in ascending order using conditional statements\n",
    "\n",
    "num1 = float(input(\"Enter the first number: \"))\n",
    "num2 = float(input(\"Enter the second number: \"))\n",
    "num3 = float(input(\"Enter the third number: \"))\n",
    "\n",
    "# Sort the numbers using conditional statements\n",
    "if num1 <= num2 <= num3:\n",
    "    sorted_numbers = [num1, num2, num3]\n",
    "elif num1 <= num3 <= num2:\n",
    "    sorted_numbers = [num1, num3, num2]\n",
    "elif num2 <= num1 <= num3:\n",
    "    sorted_numbers = [num2, num1, num3]\n",
    "elif num2 <= num3 <= num1:\n",
    "    sorted_numbers = [num2, num3, num1]\n",
    "elif num3 <= num1 <= num2:\n",
    "    sorted_numbers = [num3, num1, num2]\n",
    "else:\n",
    "    sorted_numbers = [num3, num2, num1]\n",
    "\n",
    "# Print the sorted numbers\n",
    "print(\"Sorted numbers in ascending order:\", sorted_numbers)\n"
   ]
  },
  {
   "cell_type": "code",
   "execution_count": 16,
   "id": "6674e7cf-51e7-40dd-bb1d-7143e4b0600b",
   "metadata": {},
   "outputs": [
    {
     "name": "stdin",
     "output_type": "stream",
     "text": [
      "Enter the coefficient a:  6\n",
      "Enter the coefficient b:  3\n",
      "Enter the coefficient c:  4\n"
     ]
    },
    {
     "name": "stdout",
     "output_type": "stream",
     "text": [
      "Roots of the quadratic equation are: ((-0.25+0.7772815877574013j), (-0.25-0.7772815877574013j))\n"
     ]
    }
   ],
   "source": [
    "#29) Build a program that determines root of quadratic equation using numerical methods\n",
    "\n",
    "import math\n",
    "\n",
    "def calculate_roots(a, b, c):\n",
    "    discriminant = b**2 - 4*a*c\n",
    "\n",
    "    if discriminant > 0:\n",
    "        root1 = (-b + math.sqrt(discriminant)) / (2*a)\n",
    "        root2 = (-b - math.sqrt(discriminant)) / (2*a)\n",
    "        return root1, root2\n",
    "    elif discriminant == 0:\n",
    "        root = -b / (2*a)\n",
    "        return root,\n",
    "    else:\n",
    "        real_part = -b / (2*a)\n",
    "        imaginary_part = math.sqrt(abs(discriminant)) / (2*a)\n",
    "        root1 = complex(real_part, imaginary_part)\n",
    "        root2 = complex(real_part, -imaginary_part)\n",
    "        return root1, root2\n",
    "\n",
    "# user input for coefficients of the quadratic equation (ax^2 + bx + c = 0)\n",
    "a = float(input(\"Enter the coefficient a: \"))\n",
    "b = float(input(\"Enter the coefficient b: \"))\n",
    "c = float(input(\"Enter the coefficient c: \"))\n",
    "\n",
    "roots = calculate_roots(a, b, c)\n",
    "print(\"Roots of the quadratic equation are:\", roots)\n"
   ]
  },
  {
   "cell_type": "code",
   "execution_count": 20,
   "id": "03502513-59a9-4c3c-8fc6-1b5a2c937df7",
   "metadata": {},
   "outputs": [
    {
     "name": "stdin",
     "output_type": "stream",
     "text": [
      "Enter your weight in kilograms:  57\n",
      "Enter your height in meters:  7\n"
     ]
    },
    {
     "name": "stdout",
     "output_type": "stream",
     "text": [
      "Your BMI is: 1.16\n",
      "Underweight: You may want to consider gaining some weight.\n"
     ]
    }
   ],
   "source": [
    "#30) Write a program that calculates BMI(Body Mass Index) and provides health recommendation based on user's input\n",
    "\n",
    "def calculate_bmi(weight, height):\n",
    "    # Formula to calculate BMI: BMI = weight (kg) / (height (m) ** 2)\n",
    "    bmi = weight / (height ** 2)\n",
    "    return bmi\n",
    "\n",
    "def health_recommendation(bmi):\n",
    "    if bmi < 18.5:\n",
    "        return \"Underweight: You may want to consider gaining some weight.\"\n",
    "    elif 18.5 <= bmi < 25:\n",
    "        return \"Normal weight: Keep up the good work!\"\n",
    "    elif 25 <= bmi < 30:\n",
    "        return \"Overweight: It might be a good idea to focus on a balanced diet and regular exercise.\"\n",
    "    else:\n",
    "        return \"Obese: Consider consulting with a healthcare professional for personalized advice.\"\n",
    "\n",
    "# Get user input for weight (in kilograms) and height (in meters)\n",
    "weight = float(input(\"Enter your weight in kilograms: \"))\n",
    "height = float(input(\"Enter your height in meters: \"))\n",
    "\n",
    "# Calculate BMI\n",
    "bmi = calculate_bmi(weight, height)\n",
    "\n",
    "print(f\"Your BMI is: {bmi:.2f}\")\n",
    "print(health_recommendation(bmi))\n"
   ]
  },
  {
   "cell_type": "markdown",
   "id": "ebd7081a-b35b-4331-88f3-3bea517c72fa",
   "metadata": {},
   "source": [
    "# Challenge Level\n"
   ]
  },
  {
   "cell_type": "code",
   "execution_count": 22,
   "id": "f6b3bd3b-0fa9-4658-a230-d8b1acd981e3",
   "metadata": {},
   "outputs": [
    {
     "name": "stdin",
     "output_type": "stream",
     "text": [
      "Enter your password:  we1c@me78\n"
     ]
    },
    {
     "name": "stdout",
     "output_type": "stream",
     "text": [
      "Password must contain at least one uppercase letter.\n"
     ]
    }
   ],
   "source": [
    "#31) Create a program that validates a password based on complexity rules(length, characters,etc)\n",
    "import re\n",
    "\n",
    "def is_valid_password(password):\n",
    "    # Check if the password meets the specified criteria\n",
    "    if len(password) < 8:\n",
    "        return \"Password must be at least 8 characters long.\"\n",
    "    \n",
    "    if not any(char.isupper() for char in password):\n",
    "        return \"Password must contain at least one uppercase letter.\"\n",
    "\n",
    "    if not any(char.islower() for char in password):\n",
    "        return \"Password must contain at least one lowercase letter.\"\n",
    "\n",
    "    if not any(char.isdigit() for char in password):\n",
    "        return \"Password must contain at least one digit.\"\n",
    "\n",
    "    if not re.search(\"[!@#$%^&*(),.?\\\":{}|<>]\", password):\n",
    "        return \"Password must contain at least one special character.\"\n",
    "\n",
    "    return \"Password is valid.\"\n",
    "\n",
    "# Get user input for the password\n",
    "password = input(\"Enter your password: \")\n",
    "\n",
    "# Validate the password and print the result\n",
    "validation_result = is_valid_password(password)\n",
    "print(validation_result)\n",
    "\n"
   ]
  },
  {
   "cell_type": "code",
   "execution_count": 25,
   "id": "dc3d87bb-35d5-4615-a4d1-f15b2b7b30f6",
   "metadata": {},
   "outputs": [
    {
     "name": "stdin",
     "output_type": "stream",
     "text": [
      "Enter the number of rows for the matrices:  3\n",
      "Enter the number of columns for the matrices:  3\n"
     ]
    },
    {
     "name": "stdout",
     "output_type": "stream",
     "text": [
      "Enter elements for Matrix 1:\n"
     ]
    },
    {
     "name": "stdin",
     "output_type": "stream",
     "text": [
      "Enter element for position (1,1):  45\n",
      "Enter element for position (1,2):  67\n",
      "Enter element for position (1,3):  87\n",
      "Enter element for position (2,1):  35\n",
      "Enter element for position (2,2):  98\n",
      "Enter element for position (2,3):  47\n",
      "Enter element for position (3,1):  68\n",
      "Enter element for position (3,2):  26\n",
      "Enter element for position (3,3):  98\n"
     ]
    },
    {
     "name": "stdout",
     "output_type": "stream",
     "text": [
      "Enter elements for Matrix 2:\n"
     ]
    },
    {
     "name": "stdin",
     "output_type": "stream",
     "text": [
      "Enter element for position (1,1):  56\n",
      "Enter element for position (1,2):  23\n",
      "Enter element for position (1,3):  87\n",
      "Enter element for position (2,1):  45\n",
      "Enter element for position (2,2):  97\n",
      "Enter element for position (2,3):  46\n",
      "Enter element for position (3,1):  76\n",
      "Enter element for position (3,2):  28\n",
      "Enter element for position (3,3):  98\n"
     ]
    },
    {
     "name": "stdout",
     "output_type": "stream",
     "text": [
      "\n",
      "Matrix 1:\n",
      "[45.0, 67.0, 87.0]\n",
      "[35.0, 98.0, 47.0]\n",
      "[68.0, 26.0, 98.0]\n",
      "\n",
      "Matrix 2:\n",
      "[56.0, 23.0, 87.0]\n",
      "[45.0, 97.0, 46.0]\n",
      "[76.0, 28.0, 98.0]\n",
      "\n",
      "Matrix Addition Result:\n",
      "[101.0, 90.0, 174.0]\n",
      "[80.0, 195.0, 93.0]\n",
      "[144.0, 54.0, 196.0]\n",
      "\n",
      "Matrix Subtraction Result:\n",
      "[-11.0, 44.0, 0.0]\n",
      "[-10.0, 1.0, 1.0]\n",
      "[-8.0, -2.0, 0.0]\n"
     ]
    }
   ],
   "source": [
    "#32) Develop a program that performs matrix addition and substraction based on user input\n",
    "\n",
    "def matrix_addition(matrix1, matrix2):\n",
    "    # Check if matrices have the same dimensions\n",
    "    if len(matrix1) != len(matrix2) or len(matrix1[0]) != len(matrix2[0]):\n",
    "        return None\n",
    "\n",
    "    result_matrix = [[0 for _ in range(len(matrix1[0]))] for _ in range(len(matrix1))]\n",
    "\n",
    "    for i in range(len(matrix1)):\n",
    "        for j in range(len(matrix1[0])):\n",
    "            result_matrix[i][j] = matrix1[i][j] + matrix2[i][j]\n",
    "\n",
    "    return result_matrix\n",
    "\n",
    "def matrix_subtraction(matrix1, matrix2):\n",
    "    # Check if matrices have the same dimensions\n",
    "    if len(matrix1) != len(matrix2) or len(matrix1[0]) != len(matrix2[0]):\n",
    "        return None\n",
    "\n",
    "    result_matrix = [[0 for _ in range(len(matrix1[0]))] for _ in range(len(matrix1))]\n",
    "\n",
    "    for i in range(len(matrix1)):\n",
    "        for j in range(len(matrix1[0])):\n",
    "            result_matrix[i][j] = matrix1[i][j] - matrix2[i][j]\n",
    "\n",
    "    return result_matrix\n",
    "\n",
    "def print_matrix(matrix):\n",
    "    for row in matrix:\n",
    "        print(row)\n",
    "\n",
    "rows = int(input(\"Enter the number of rows for the matrices: \"))\n",
    "cols = int(input(\"Enter the number of columns for the matrices: \"))\n",
    "\n",
    "print(\"Enter elements for Matrix 1:\")\n",
    "matrix1 = [[float(input(f\"Enter element for position ({i+1},{j+1}): \")) for j in range(cols)] for i in range(rows)]\n",
    "\n",
    "print(\"Enter elements for Matrix 2:\")\n",
    "matrix2 = [[float(input(f\"Enter element for position ({i+1},{j+1}): \")) for j in range(cols)] for i in range(rows)]\n",
    "\n",
    "# Perform matrix addition\n",
    "addition_result = matrix_addition(matrix1, matrix2)\n",
    "\n",
    "# Perform matrix subtraction\n",
    "subtraction_result = matrix_subtraction(matrix1, matrix2)\n",
    "\n",
    "# Print the results\n",
    "print(\"\\nMatrix 1:\")\n",
    "print_matrix(matrix1)\n",
    "\n",
    "print(\"\\nMatrix 2:\")\n",
    "print_matrix(matrix2)\n",
    "\n",
    "if addition_result is not None:\n",
    "    print(\"\\nMatrix Addition Result:\")\n",
    "    print_matrix(addition_result)\n",
    "else:\n",
    "    print(\"\\nMatrix Addition is not possible due to different dimensions.\")\n",
    "\n",
    "if subtraction_result is not None:\n",
    "    print(\"\\nMatrix Subtraction Result:\")\n",
    "    print_matrix(subtraction_result)\n",
    "else:\n",
    "    print(\"\\nMatrix Subtraction is not possible due to different dimensions.\")\n",
    "\n"
   ]
  },
  {
   "cell_type": "code",
   "execution_count": 26,
   "id": "664fdeff-6118-4640-8bf5-4fc852abf60f",
   "metadata": {},
   "outputs": [
    {
     "name": "stdin",
     "output_type": "stream",
     "text": [
      "Enter the first number:  6\n",
      "Enter the second number:  4\n"
     ]
    },
    {
     "name": "stdout",
     "output_type": "stream",
     "text": [
      "The GCD of 6 and 4 is: 2\n"
     ]
    }
   ],
   "source": [
    "#33) Write a program that calculated the GCD of two numbers using Eucledian algorithm\n",
    "\n",
    "def euclidean_gcd(a, b):\n",
    "    while b != 0:\n",
    "        a, b = b, a % b\n",
    "    return a\n",
    "\n",
    "num1 = int(input(\"Enter the first number: \"))\n",
    "num2 = int(input(\"Enter the second number: \"))\n",
    "\n",
    "# Calculate and print the GCD using the Euclidean algorithm\n",
    "gcd = euclidean_gcd(num1, num2)\n",
    "print(f\"The GCD of {num1} and {num2} is: {gcd}\")\n"
   ]
  },
  {
   "cell_type": "code",
   "execution_count": 27,
   "id": "219f4beb-41e7-4e0f-97e1-47dc79efa9af",
   "metadata": {},
   "outputs": [
    {
     "name": "stdin",
     "output_type": "stream",
     "text": [
      "Enter the number of rows for Matrix 1:  2\n",
      "Enter the number of columns for Matrix 1:  2\n"
     ]
    },
    {
     "name": "stdout",
     "output_type": "stream",
     "text": [
      "Enter elements for Matrix 1:\n"
     ]
    },
    {
     "name": "stdin",
     "output_type": "stream",
     "text": [
      "Enter element for position (1,1):  34\n",
      "Enter element for position (1,2):  45\n",
      "Enter element for position (2,1):  23\n",
      "Enter element for position (2,2):  78\n",
      "Enter the number of rows for Matrix 2:  2\n",
      "Enter the number of columns for Matrix 2:  2\n"
     ]
    },
    {
     "name": "stdout",
     "output_type": "stream",
     "text": [
      "Enter elements for Matrix 2:\n"
     ]
    },
    {
     "name": "stdin",
     "output_type": "stream",
     "text": [
      "Enter element for position (1,1):  45\n",
      "Enter element for position (1,2):  89\n",
      "Enter element for position (2,1):  34\n",
      "Enter element for position (2,2):  45\n"
     ]
    },
    {
     "name": "stdout",
     "output_type": "stream",
     "text": [
      "\n",
      "Matrix 1:\n",
      "[34.0, 45.0]\n",
      "[23.0, 78.0]\n",
      "\n",
      "Matrix 2:\n",
      "[45.0, 89.0]\n",
      "[34.0, 45.0]\n",
      "\n",
      "Matrix Multiplication Result:\n",
      "[3060.0, 5051.0]\n",
      "[3687.0, 5557.0]\n"
     ]
    }
   ],
   "source": [
    "#34) Build a program that performs matrix multiplications using nested lops and conditional statements\n",
    "\n",
    "def matrix_multiplication(matrix1, matrix2):\n",
    "    # Check if matrices can be multiplied\n",
    "    if len(matrix1[0]) != len(matrix2):\n",
    "        return None\n",
    "\n",
    "    result_matrix = [[0 for _ in range(len(matrix2[0]))] for _ in range(len(matrix1))]\n",
    "\n",
    "    for i in range(len(matrix1)):\n",
    "        for j in range(len(matrix2[0])):\n",
    "            for k in range(len(matrix2)):\n",
    "                result_matrix[i][j] += matrix1[i][k] * matrix2[k][j]\n",
    "\n",
    "    return result_matrix\n",
    "\n",
    "def print_matrix(matrix):\n",
    "    for row in matrix:\n",
    "        print(row)\n",
    "\n",
    "# Get user input for matrix dimensions and elements\n",
    "rows1 = int(input(\"Enter the number of rows for Matrix 1: \"))\n",
    "cols1 = int(input(\"Enter the number of columns for Matrix 1: \"))\n",
    "\n",
    "print(\"Enter elements for Matrix 1:\")\n",
    "matrix1 = [[float(input(f\"Enter element for position ({i+1},{j+1}): \")) for j in range(cols1)] for i in range(rows1)]\n",
    "\n",
    "rows2 = int(input(\"Enter the number of rows for Matrix 2: \"))\n",
    "cols2 = int(input(\"Enter the number of columns for Matrix 2: \"))\n",
    "\n",
    "print(\"Enter elements for Matrix 2:\")\n",
    "matrix2 = [[float(input(f\"Enter element for position ({i+1},{j+1}): \")) for j in range(cols2)] for i in range(rows2)]\n",
    "\n",
    "# Perform matrix multiplication\n",
    "multiplication_result = matrix_multiplication(matrix1, matrix2)\n",
    "\n",
    "# Print the results\n",
    "print(\"\\nMatrix 1:\")\n",
    "print_matrix(matrix1)\n",
    "\n",
    "print(\"\\nMatrix 2:\")\n",
    "print_matrix(matrix2)\n",
    "\n",
    "if multiplication_result is not None:\n",
    "    print(\"\\nMatrix Multiplication Result:\")\n",
    "    print_matrix(multiplication_result)\n",
    "else:\n",
    "    print(\"\\nMatrix Multiplication is not possible due to incompatible dimensions.\")\n"
   ]
  },
  {
   "cell_type": "code",
   "execution_count": 29,
   "id": "616b4bc7-2994-4bf1-a550-dbdad5bb1fe2",
   "metadata": {},
   "outputs": [
    {
     "name": "stdout",
     "output_type": "stream",
     "text": [
      "Welcome to Tic-Tac-Toe!\n",
      "  |   |  \n",
      "---------\n",
      "  |   |  \n",
      "---------\n",
      "  |   |  \n",
      "---------\n"
     ]
    },
    {
     "name": "stdin",
     "output_type": "stream",
     "text": [
      "Enter the row number (0, 1, or 2):  2\n",
      "Enter the column number (0, 1, or 2):  2\n"
     ]
    },
    {
     "name": "stdout",
     "output_type": "stream",
     "text": [
      "Computer's move:\n",
      "  |   |  \n",
      "---------\n",
      "O |   |  \n",
      "---------\n",
      "  |   | X\n",
      "---------\n"
     ]
    },
    {
     "name": "stdin",
     "output_type": "stream",
     "text": [
      "Enter the row number (0, 1, or 2):  1\n",
      "Enter the column number (0, 1, or 2):  1\n"
     ]
    },
    {
     "name": "stdout",
     "output_type": "stream",
     "text": [
      "Computer's move:\n",
      "  |   |  \n",
      "---------\n",
      "O | X |  \n",
      "---------\n",
      "O |   | X\n",
      "---------\n"
     ]
    },
    {
     "name": "stdin",
     "output_type": "stream",
     "text": [
      "Enter the row number (0, 1, or 2):  0\n",
      "Enter the column number (0, 1, or 2):  0\n"
     ]
    },
    {
     "name": "stdout",
     "output_type": "stream",
     "text": [
      "X |   |  \n",
      "---------\n",
      "O | X |  \n",
      "---------\n",
      "O |   | X\n",
      "---------\n",
      "Congratulations! You win!\n"
     ]
    }
   ],
   "source": [
    "#35) Create a program that simulates a basic tic-tac-toe game against the computer\n",
    "\n",
    "import random\n",
    "\n",
    "def print_board(board):\n",
    "    for row in board:\n",
    "        print(\" | \".join(row))\n",
    "        print(\"-\" * 9)\n",
    "\n",
    "def check_winner(board, player):\n",
    "    # Check rows, columns, and diagonals for a win\n",
    "    for i in range(3):\n",
    "        if all(cell == player for cell in board[i]) or \\\n",
    "           all(board[j][i] == player for j in range(3)):\n",
    "            return True\n",
    "    if all(board[i][i] == player for i in range(3)) or \\\n",
    "       all(board[i][2 - i] == player for i in range(3)):\n",
    "        return True\n",
    "    return False\n",
    "\n",
    "def is_board_full(board):\n",
    "    return all(cell != \" \" for row in board for cell in row)\n",
    "\n",
    "def get_empty_cells(board):\n",
    "    return [(i, j) for i in range(3) for j in range(3) if board[i][j] == \" \"]\n",
    "\n",
    "def player_move(board):\n",
    "    while True:\n",
    "        try:\n",
    "            row = int(input(\"Enter the row number (0, 1, or 2): \"))\n",
    "            col = int(input(\"Enter the column number (0, 1, or 2): \"))\n",
    "            if 0 <= row <= 2 and 0 <= col <= 2 and board[row][col] == \" \":\n",
    "                return row, col\n",
    "            else:\n",
    "                print(\"Invalid move. Please try again.\")\n",
    "        except ValueError:\n",
    "            print(\"Invalid input. Please enter a number.\")\n",
    "\n",
    "def computer_move(board):\n",
    "    empty_cells = get_empty_cells(board)\n",
    "    return random.choice(empty_cells)\n",
    "\n",
    "def play_tic_tac_toe():\n",
    "    board = [[\" \" for _ in range(3)] for _ in range(3)]\n",
    "    player_symbol = \"X\"\n",
    "    computer_symbol = \"O\"\n",
    "\n",
    "    print(\"Welcome to Tic-Tac-Toe!\")\n",
    "\n",
    "    while True:\n",
    "        print_board(board)\n",
    "\n",
    "        # Player's move\n",
    "        player_row, player_col = player_move(board)\n",
    "        board[player_row][player_col] = player_symbol\n",
    "\n",
    "        # Check for player win\n",
    "        if check_winner(board, player_symbol):\n",
    "            print_board(board)\n",
    "            print(\"Congratulations! You win!\")\n",
    "            break\n",
    "\n",
    "        # Check for a tie\n",
    "        if is_board_full(board):\n",
    "            print_board(board)\n",
    "            print(\"It's a tie!\")\n",
    "            break\n",
    "\n",
    "        # Computer's move\n",
    "        print(\"Computer's move:\")\n",
    "        computer_row, computer_col = computer_move(board)\n",
    "        board[computer_row][computer_col] = computer_symbol\n",
    "\n",
    "        # Check for computer win\n",
    "        if check_winner(board, computer_symbol):\n",
    "            print_board(board)\n",
    "            print(\"Computer wins! Better luck next time.\")\n",
    "            break\n",
    "\n",
    "if __name__ == \"__main__\":\n",
    "    play_tic_tac_toe()\n",
    "\n"
   ]
  },
  {
   "cell_type": "code",
   "execution_count": 30,
   "id": "9591410d-5618-43cd-90c9-48b5729c5ee5",
   "metadata": {},
   "outputs": [
    {
     "name": "stdin",
     "output_type": "stream",
     "text": [
      "Enter the number of terms in the Fibonacci sequence:  7\n"
     ]
    },
    {
     "name": "stdout",
     "output_type": "stream",
     "text": [
      "Fibonacci sequence up to term 7: [0, 1, 1, 2, 3, 5, 8]\n"
     ]
    }
   ],
   "source": [
    "#36) Create a program that generates Fibonacci numbers upto a specified term using iterative method\n",
    "\n",
    "def generate_fibonacci(n):\n",
    "    fibonacci_sequence = [0, 1]\n",
    "\n",
    "    for i in range(2, n):\n",
    "        next_fibonacci = fibonacci_sequence[i-1] + fibonacci_sequence[i-2]\n",
    "        fibonacci_sequence.append(next_fibonacci)\n",
    "\n",
    "    return fibonacci_sequence[:n]\n",
    "\n",
    "n = int(input(\"Enter the number of terms in the Fibonacci sequence: \"))\n",
    "\n",
    "fibonacci_sequence = generate_fibonacci(n)\n",
    "print(f\"Fibonacci sequence up to term {n}: {fibonacci_sequence}\")\n"
   ]
  },
  {
   "cell_type": "code",
   "execution_count": 32,
   "id": "45b0d9ee-8191-4603-8d94-4d2da70bd69e",
   "metadata": {},
   "outputs": [
    {
     "name": "stdin",
     "output_type": "stream",
     "text": [
      "Enter the term (n) of the Fibonacci sequence:  10\n"
     ]
    },
    {
     "name": "stdout",
     "output_type": "stream",
     "text": [
      "The 10-th term of the Fibonacci sequence is: 55\n"
     ]
    }
   ],
   "source": [
    "#37) Develop a program that calculates the nth term of Fibonacci sequence using memoization\n",
    "\n",
    "def fibonacci_memo(n, memo={}):\n",
    "    if n in memo:\n",
    "        return memo[n]\n",
    "\n",
    "    if n <= 1:\n",
    "        result = n\n",
    "    else:\n",
    "        result = fibonacci_memo(n - 1, memo) + fibonacci_memo(n - 2, memo)\n",
    "\n",
    "    memo[n] = result\n",
    "    return result\n",
    "\n",
    "n = int(input(\"Enter the term (n) of the Fibonacci sequence: \"))\n",
    "\n",
    "# Calculate and print the nth term using memoization\n",
    "result = fibonacci_memo(n)\n",
    "print(f\"The {n}-th term of the Fibonacci sequence is: {result}\")\n"
   ]
  },
  {
   "cell_type": "code",
   "execution_count": 33,
   "id": "9893bac0-d411-4554-bc57-c133c4884899",
   "metadata": {},
   "outputs": [
    {
     "name": "stdin",
     "output_type": "stream",
     "text": [
      "Enter the year:  2024\n",
      "Enter the month (1-12):  1\n"
     ]
    },
    {
     "name": "stdout",
     "output_type": "stream",
     "text": [
      "\n",
      "Calendar for January 2024:\n",
      "\n",
      "Mo Tu We Th Fr Sa Su\n",
      "1 2 3 4 5 6 7\n",
      "8 9 10 11 12 13 14\n",
      "15 16 17 18 19 20 21\n",
      "22 23 24 25 26 27 28\n",
      "29 30 31            \n"
     ]
    }
   ],
   "source": [
    "#38) Create a program that generates calendar for a given month and year using conditional statement\n",
    "\n",
    "import calendar\n",
    "\n",
    "def generate_calendar(year, month):\n",
    "    try:\n",
    "        # Check if the provided year and month are within valid ranges\n",
    "        calendar.month(year, month)\n",
    "    except ValueError:\n",
    "        print(\"Invalid year or month.\")\n",
    "        return None\n",
    "\n",
    "    cal = calendar.monthcalendar(year, month)\n",
    "    return cal\n",
    "\n",
    "year = int(input(\"Enter the year: \"))\n",
    "month = int(input(\"Enter the month (1-12): \"))\n",
    "\n",
    "calendar_result = generate_calendar(year, month)\n",
    "if calendar_result is not None:\n",
    "    print(f\"\\nCalendar for {calendar.month_name[month]} {year}:\\n\")\n",
    "    print(\"Mo Tu We Th Fr Sa Su\")\n",
    "    for week in calendar_result:\n",
    "        week_str = ' '.join(str(day) if day != 0 else '  ' for day in week)\n",
    "        print(week_str)\n"
   ]
  },
  {
   "cell_type": "code",
   "execution_count": 35,
   "id": "d5d17c34-c78b-43df-ac2e-3afdbeb9f881",
   "metadata": {},
   "outputs": [
    {
     "name": "stdout",
     "output_type": "stream",
     "text": [
      "Your cards: [2, 7], current score: 9\n",
      "Computer's first card: 4\n"
     ]
    },
    {
     "name": "stdin",
     "output_type": "stream",
     "text": [
      "Type 'y' to get another card, or 'n' to pass:  y\n"
     ]
    },
    {
     "name": "stdout",
     "output_type": "stream",
     "text": [
      "Your cards: [2, 7, 9], current score: 18\n",
      "Computer's first card: 4\n"
     ]
    },
    {
     "name": "stdin",
     "output_type": "stream",
     "text": [
      "Type 'y' to get another card, or 'n' to pass:  y\n"
     ]
    },
    {
     "name": "stdout",
     "output_type": "stream",
     "text": [
      "Your cards: [2, 7, 9, 3], current score: 21\n",
      "Computer's first card: 4\n"
     ]
    },
    {
     "name": "stdin",
     "output_type": "stream",
     "text": [
      "Type 'y' to get another card, or 'n' to pass:  n\n"
     ]
    },
    {
     "name": "stdout",
     "output_type": "stream",
     "text": [
      "\n",
      "Your final hand: [2, 7, 9, 3], final score: 21\n",
      "Computer's final hand: [4, 2, 6, 1, 1, 6], final score: 20\n",
      "You win!\n"
     ]
    }
   ],
   "source": [
    "#39) Build a program that simulates a basic text-based blackjack game against the computer\n",
    "\n",
    "import random\n",
    "\n",
    "def deal_card():\n",
    "    \"\"\"Return a random card from the deck.\"\"\"\n",
    "    cards = [11, 2, 3, 4, 5, 6, 7, 8, 9, 10, 10, 10, 10]\n",
    "    return random.choice(cards)\n",
    "\n",
    "def calculate_score(cards):\n",
    "    \"\"\"Calculate the total value of a hand of cards.\"\"\"\n",
    "    if sum(cards) == 21 and len(cards) == 2:\n",
    "        return 0  # Blackjack\n",
    "    if 11 in cards and sum(cards) > 21:\n",
    "        cards.remove(11)\n",
    "        cards.append(1)\n",
    "    return sum(cards)\n",
    "\n",
    "def compare(user_score, computer_score):\n",
    "    \"\"\"Compare the scores and determine the winner.\"\"\"\n",
    "    if user_score == computer_score:\n",
    "        return \"It's a draw!\"\n",
    "    elif computer_score == 0 or user_score > 21:\n",
    "        return \"You lose!\"\n",
    "    elif user_score == 0 or computer_score > 21 or user_score > computer_score:\n",
    "        return \"You win!\"\n",
    "    else:\n",
    "        return \"You lose!\"\n",
    "\n",
    "def play_game():\n",
    "    user_cards = []\n",
    "    computer_cards = []\n",
    "    game_over = False\n",
    "\n",
    "    for _ in range(2):\n",
    "        user_cards.append(deal_card())\n",
    "        computer_cards.append(deal_card())\n",
    "\n",
    "    while not game_over:\n",
    "        user_score = calculate_score(user_cards)\n",
    "        computer_score = calculate_score(computer_cards)\n",
    "\n",
    "        print(f\"Your cards: {user_cards}, current score: {user_score}\")\n",
    "        print(f\"Computer's first card: {computer_cards[0]}\")\n",
    "\n",
    "        if user_score == 0 or computer_score == 0 or user_score > 21:\n",
    "            game_over = True\n",
    "        else:\n",
    "            should_continue = input(\"Type 'y' to get another card, or 'n' to pass: \")\n",
    "            if should_continue == 'y':\n",
    "                user_cards.append(deal_card())\n",
    "            else:\n",
    "                game_over = True\n",
    "\n",
    "    while computer_score != 0 and computer_score < 17:\n",
    "        computer_cards.append(deal_card())\n",
    "        computer_score = calculate_score(computer_cards)\n",
    "\n",
    "    print(f\"\\nYour final hand: {user_cards}, final score: {user_score}\")\n",
    "    print(f\"Computer's final hand: {computer_cards}, final score: {computer_score}\")\n",
    "    print(compare(user_score, computer_score))\n",
    "\n",
    "# Start the game\n",
    "play_game()\n"
   ]
  },
  {
   "cell_type": "code",
   "execution_count": 36,
   "id": "65f6d9ce-14aa-4a34-8897-a8a423b950e8",
   "metadata": {},
   "outputs": [
    {
     "name": "stdin",
     "output_type": "stream",
     "text": [
      "Enter a number to find its prime factors:  24\n"
     ]
    },
    {
     "name": "stdout",
     "output_type": "stream",
     "text": [
      "Prime factors of 24: [2, 2, 2, 3]\n"
     ]
    }
   ],
   "source": [
    "#40) Write a program that generates prime factor of a given number using trial division\n",
    "\n",
    "def prime_factors(n):\n",
    "    factors = []\n",
    "    divisor = 2\n",
    "\n",
    "    while n > 1:\n",
    "        while n % divisor == 0:\n",
    "            factors.append(divisor)\n",
    "            n //= divisor\n",
    "        divisor += 1\n",
    "\n",
    "    return factors\n",
    "\n",
    "# Get user input for the number\n",
    "number = int(input(\"Enter a number to find its prime factors: \"))\n",
    "\n",
    "# Calculate and print the prime factors\n",
    "result = prime_factors(number)\n",
    "print(f\"Prime factors of {number}: {result}\")\n"
   ]
  },
  {
   "cell_type": "code",
   "execution_count": null,
   "id": "0fe45bcd-5a38-484e-bc6e-43d68a6e80ab",
   "metadata": {},
   "outputs": [],
   "source": []
  }
 ],
 "metadata": {
  "kernelspec": {
   "display_name": "Python 3 (ipykernel)",
   "language": "python",
   "name": "python3"
  },
  "language_info": {
   "codemirror_mode": {
    "name": "ipython",
    "version": 3
   },
   "file_extension": ".py",
   "mimetype": "text/x-python",
   "name": "python",
   "nbconvert_exporter": "python",
   "pygments_lexer": "ipython3",
   "version": "3.10.8"
  }
 },
 "nbformat": 4,
 "nbformat_minor": 5
}
