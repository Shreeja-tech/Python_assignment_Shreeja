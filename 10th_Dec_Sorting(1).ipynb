{
 "cells": [
  {
   "cell_type": "raw",
   "id": "165ac41e-cce5-4e97-a599-bc351c1a794f",
   "metadata": {},
   "source": [
    "# Problem1: Given an array of n numbers, give an algorithm which gives the element appearing maximum number of times."
   ]
  },
  {
   "cell_type": "code",
   "execution_count": 13,
   "id": "d8905e63-7211-4054-8f18-457c3bb47a74",
   "metadata": {},
   "outputs": [
    {
     "name": "stdout",
     "output_type": "stream",
     "text": [
      "2\n"
     ]
    }
   ],
   "source": [
    "def max_count(arr,n):\n",
    "    nums = {}\n",
    "    max_count = 0\n",
    "    max_num = 1\n",
    "    for i in arr:\n",
    "        if i not in nums:\n",
    "            nums[i] = 1\n",
    "        elif i in nums:\n",
    "            nums[i] +=1\n",
    "        \n",
    "        if nums[i]>max_count:\n",
    "            max_count=nums[i]\n",
    "            max_num = i\n",
    "            \n",
    "            \n",
    "    return max_num  \n",
    "        \n",
    "    \n",
    "#Driver code\n",
    "arr = [1,1,2,3,2,3,3,2,2,3,4,2]\n",
    "n = len(arr)\n",
    "print(max_count(arr,n))"
   ]
  },
  {
   "cell_type": "raw",
   "id": "ded746ba-5e35-4869-9af2-ff974117908e",
   "metadata": {},
   "source": [
    "#Problem 2: We are given a list of n-1 integers and these integers are in the range of 1 to n. There are no duplicates in the list. One of the integers is missing in the list. Give an algorithm to find that element."
   ]
  },
  {
   "cell_type": "code",
   "execution_count": 15,
   "id": "9a97a0f2-6ebe-4828-a6df-85de7d7dbfa5",
   "metadata": {},
   "outputs": [
    {
     "name": "stdout",
     "output_type": "stream",
     "text": [
      "5\n"
     ]
    }
   ],
   "source": [
    "def missingNumber(array,n):\n",
    "        if sum(array)== sum(range(1,n+1)):\n",
    "            return -1\n",
    "        else:\n",
    "            return sum(range(1,n+1))-sum(array)\n",
    "        \n",
    "#Driver code:\n",
    "arr = [1,2,4,6,3,7,8]\n",
    "n = 8\n",
    "print(missingNumber(arr,n))\n"
   ]
  },
  {
   "cell_type": "raw",
   "id": "5c4fada2-f2dc-4d51-a4ae-49f547fd9948",
   "metadata": {},
   "source": [
    "#Problem 3: Given an array of n positive numbers. All numbers occurs even number of times except 1 which occurs odd number times. Find that number with O(n) times and O(1) space."
   ]
  },
  {
   "cell_type": "code",
   "execution_count": 1,
   "id": "4ed0f444-6a3a-4deb-85fa-70f7b9f64c41",
   "metadata": {},
   "outputs": [
    {
     "name": "stdout",
     "output_type": "stream",
     "text": [
      "2\n"
     ]
    }
   ],
   "source": [
    "def odd_count(arr):\n",
    "    count = {}\n",
    "    for num in arr:\n",
    "        if num in count:\n",
    "            count[num] += 1\n",
    "        else:\n",
    "            count[num] = 1\n",
    "\n",
    "    for key, value in count.items():\n",
    "        if value % 2 != 0:\n",
    "            return key\n",
    "\n",
    "\n",
    "#Driver code:\n",
    "arr = [1,1,3,2,2,2,3,3,3,5,5]\n",
    "print(odd_count(arr))"
   ]
  },
  {
   "cell_type": "raw",
   "id": "813588b4-5d42-432a-abe9-aa237b349a9d",
   "metadata": {},
   "source": [
    "#Problem 4: Given an array of n elements. Find two elements in the array such that their sum is equal to the given element k."
   ]
  },
  {
   "cell_type": "code",
   "execution_count": 12,
   "id": "324e5532-6d4a-46b9-8979-2671ce716e0d",
   "metadata": {},
   "outputs": [
    {
     "name": "stdout",
     "output_type": "stream",
     "text": [
      "(8, 7)\n"
     ]
    }
   ],
   "source": [
    "#Using two pointer approach\n",
    "def subArraySum(arr, n, s):\n",
    "    \n",
    "    start = 0\n",
    "    end = n-1\n",
    "    mid = 0\n",
    "    while mid<=end and start<=end:\n",
    "        if mid!=start:\n",
    "            # the first pointer is at start index\n",
    "            #second pointer mid traverses all index in between start and end index\n",
    "            if arr[start]+arr[mid]==s:\n",
    "                return(arr[start],arr[mid])\n",
    "            else:\n",
    "                mid +=1\n",
    "        #start index searches for the possible values from beginning till end to satisfy the condition\n",
    "        start+=1\n",
    "\n",
    "    \n",
    "#Driver code\n",
    "S = 15\n",
    "A= [1,2,3,4,5,6,7,8,9,10]\n",
    "N = len(A)\n",
    "print(subArraySum(A, N, S))"
   ]
  },
  {
   "cell_type": "raw",
   "id": "20dc37e7-4638-4349-85ac-baa37bd23c3a",
   "metadata": {},
   "source": [
    "#Problem 5: Given an array of both positive and negative numbers. Find two numbers such that their sum is closest to zero.\n",
    "arr = [1,60,-10,70,-80,85]"
   ]
  },
  {
   "cell_type": "code",
   "execution_count": 2,
   "id": "1b34482a-9f14-44c5-9d36-22708db5733a",
   "metadata": {},
   "outputs": [
    {
     "name": "stdout",
     "output_type": "stream",
     "text": [
      "(-80, 85)\n"
     ]
    }
   ],
   "source": [
    "#Using two pointer approach\n",
    "\n",
    "def sum_close_to_zero(arr,n):\n",
    "    \n",
    "    arr.sort()\n",
    "\n",
    "    # Initialize pointers\n",
    "    left, right = 0, len(arr) - 1\n",
    "\n",
    "    # Initialize variables to track the closest sum and the pair of elements\n",
    "    closest_sum = float('inf')\n",
    "    closest_pair = (None, None)\n",
    "\n",
    "    while left < right:\n",
    "        current_sum = arr[left] + arr[right]\n",
    "\n",
    "        # Update closest sum and pair if the current sum is closer to zero\n",
    "        if abs(current_sum) < abs(closest_sum):\n",
    "            closest_sum = current_sum\n",
    "            closest_pair = (arr[left], arr[right])\n",
    "\n",
    "        # Move pointers based on the current sum\n",
    "        if current_sum < 0:\n",
    "            left += 1\n",
    "        elif current_sum > 0:\n",
    "            right -= 1\n",
    "        else:\n",
    "            # If the sum is zero, we have found the closest pair\n",
    "            return closest_pair\n",
    "\n",
    "    return closest_pair\n",
    "     \n",
    "   \n",
    "    \n",
    "        \n",
    "\n",
    "#Driver code\n",
    "arr = [1,60,-10,70,-80,85]\n",
    "n = len(arr)\n",
    "print(sum_close_to_zero(arr,n))\n"
   ]
  },
  {
   "cell_type": "raw",
   "id": "30a710a8-e869-4496-a84a-43a0a1c58dab",
   "metadata": {},
   "source": [
    "#Problem 6: Given an array of n elements . Find three elemenst whose sum is equal to the given sum.\n"
   ]
  },
  {
   "cell_type": "code",
   "execution_count": 25,
   "id": "f5d6cd4a-cbe6-429a-a842-b7a04c9ae37f",
   "metadata": {},
   "outputs": [
    {
     "name": "stdout",
     "output_type": "stream",
     "text": [
      "(5, 9, 10)\n"
     ]
    }
   ],
   "source": [
    "#With O(n^3) time complexity\n",
    "def sum_of_three(arr,n,k):\n",
    "\n",
    "    for i in range(len(arr)):\n",
    "        for j in range(i+1,len(arr)):\n",
    "            for m in range(j+1,len(arr)):\n",
    "                if k == arr[i]+arr[j]+arr[m]:\n",
    "                    return(arr[i],arr[j],arr[m])\n",
    "    \n",
    "\n",
    "#Driver code\n",
    "S = 24\n",
    "A= [1,2,3,4,5,6,7,8,9,10]\n",
    "N = len(A)\n",
    "print(sum_of_three(A, N, S))"
   ]
  },
  {
   "cell_type": "code",
   "execution_count": 27,
   "id": "9ffabf98-fe38-4841-961e-4da43d8cebbe",
   "metadata": {},
   "outputs": [
    {
     "name": "stdout",
     "output_type": "stream",
     "text": [
      "(3, 4, 5)\n"
     ]
    }
   ],
   "source": [
    "#Problem 7: Given an array of n elemnts. Find three elements i,j,k in array such that i*i +j*j = k*k\n",
    "def triangular(arr,n):\n",
    "\n",
    "    for i in range(len(arr)):\n",
    "        for j in range(i+1,len(arr)):\n",
    "            for m in range(j+1,len(arr)):\n",
    "                if i*i + j*j == m*m:\n",
    "                    return i,j,m\n",
    "    \n",
    "\n",
    "#Driver code\n",
    "A= [1,2,3,4,5,6,7,8,9,10]\n",
    "N = len(A)\n",
    "print(triangular(A, N))"
   ]
  },
  {
   "cell_type": "raw",
   "id": "b0352b5e-9e40-4440-9431-d26c5f5b0d06",
   "metadata": {},
   "source": [
    "#Problem 8: An element is majority if it appears more than n/2 times. Give an algorithm that takes n elements as arguments and identifies the element that appears in majority."
   ]
  },
  {
   "cell_type": "code",
   "execution_count": 5,
   "id": "94934312-e29e-4b68-a4fc-55b72d604529",
   "metadata": {},
   "outputs": [
    {
     "name": "stdout",
     "output_type": "stream",
     "text": [
      "2\n"
     ]
    }
   ],
   "source": [
    "#The below problem is solved using Boyer-Moore Voting algorithm\n",
    "\n",
    "\n",
    "def majority(arr,n):\n",
    "    \n",
    "    candidate = 0\n",
    "    vote = 0\n",
    "    for i in arr:\n",
    "        if vote ==0:\n",
    "            candidate = i\n",
    "            vote = 1\n",
    "        elif candidate == i:\n",
    "            vote +=1\n",
    "        else:\n",
    "            vote -=1\n",
    "            \n",
    "    return candidate\n",
    "\n",
    "#Driver code:\n",
    "arr = [1,1,3,2,2,2,3,3,3,5,2,2]\n",
    "n = len(arr)\n",
    "print(majority(arr,n))"
   ]
  },
  {
   "cell_type": "raw",
   "id": "f440952d-7b40-4e92-b3c1-e63d27f5db92",
   "metadata": {},
   "source": [
    "#Problem 9: Given nxn matrix, and in each row all 1's are followed by 0's. Find the row with the maximum number of zeros."
   ]
  },
  {
   "cell_type": "code",
   "execution_count": 2,
   "id": "8aefeeff-163a-44aa-99b6-6bf27e32d044",
   "metadata": {},
   "outputs": [
    {
     "name": "stdout",
     "output_type": "stream",
     "text": [
      "The row with the maximum number of zeros is row 2.\n"
     ]
    }
   ],
   "source": [
    "def find_max_zeros_row(matrix):\n",
    "    if not matrix or not matrix[0]:\n",
    "        return -1  # No rows in an empty matrix\n",
    "\n",
    "    max_zeros_row = 0\n",
    "    max_zeros_count = 0\n",
    "\n",
    "    for i in range(len(matrix)):\n",
    "        zeros_count = matrix[i].count(0)\n",
    "        \n",
    "        if zeros_count > max_zeros_count:\n",
    "            max_zeros_count = zeros_count\n",
    "            max_zeros_row = i\n",
    "\n",
    "    return max_zeros_row\n",
    "\n",
    "matrix = [\n",
    "    [1, 1, 1, 0],\n",
    "    [1, 1, 0, 0],\n",
    "    [1, 0, 0, 0],\n",
    "    [1, 1, 1, 1]\n",
    "]\n",
    "\n",
    "max_zeros_row_index = find_max_zeros_row(matrix)\n",
    "\n",
    "if max_zeros_row_index != -1:\n",
    "    print(f\"The row with the maximum number of zeros is row {max_zeros_row_index}.\")\n",
    "else:\n",
    "    print(\"Matrix is empty.\")\n"
   ]
  },
  {
   "cell_type": "raw",
   "id": "58a8a39d-adab-4b62-87e5-d41a5bb344f9",
   "metadata": {},
   "source": [
    "#Problem 10: Sort an array of 0's,1's and 2's .Given an array A[] consisting of 0's ,1's and 2's , give an algorithm for sorting A[].\n",
    "Example input: A =[0,1,1,0,1,2,1,2,0,0,0,0,1]\n",
    "Output = [0,0,0,0,0,0,1,1,1,1,1,2,2]\n"
   ]
  },
  {
   "cell_type": "code",
   "execution_count": 23,
   "id": "0a26c654-1dfb-44f2-b827-6ad1c098eebd",
   "metadata": {},
   "outputs": [],
   "source": [
    "def sort012(arr):\n",
    "    \n",
    "    start = 0\n",
    "    end = len(arr)-1\n",
    "    temp = 0\n",
    "    \n",
    "    while temp<=end :\n",
    "        \n",
    "        if arr[temp]==0:\n",
    "            arr[start],arr[temp]=arr[temp],arr[start]\n",
    "            temp+=1\n",
    "            start+=1\n",
    "        elif arr[temp]==1:\n",
    "            temp+=1          \n",
    "        else:\n",
    "            arr[end],arr[temp]=arr[temp],arr[end]\n",
    "            end-=1\n",
    "\n",
    "            \n",
    "                  \n",
    "    return arr\n",
    "            \n",
    "        "
   ]
  },
  {
   "cell_type": "code",
   "execution_count": 24,
   "id": "5928b01c-3d04-4329-9968-58f08a09e8ce",
   "metadata": {},
   "outputs": [
    {
     "name": "stdout",
     "output_type": "stream",
     "text": [
      "[0, 0, 0, 0, 0, 0, 1, 1, 1, 1, 1, 2, 2]\n"
     ]
    }
   ],
   "source": [
    "arr = [0,1,1,0,1,2,1,2,0,0,0,0,1]\n",
    "print(sort012(arr))"
   ]
  }
 ],
 "metadata": {
  "kernelspec": {
   "display_name": "Python 3 (ipykernel)",
   "language": "python",
   "name": "python3"
  },
  "language_info": {
   "codemirror_mode": {
    "name": "ipython",
    "version": 3
   },
   "file_extension": ".py",
   "mimetype": "text/x-python",
   "name": "python",
   "nbconvert_exporter": "python",
   "pygments_lexer": "ipython3",
   "version": "3.10.8"
  }
 },
 "nbformat": 4,
 "nbformat_minor": 5
}
