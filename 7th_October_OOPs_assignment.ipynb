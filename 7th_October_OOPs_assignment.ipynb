{
 "cells": [
  {
   "cell_type": "raw",
   "id": "2f193302-a19d-4688-9b5e-2c6527478f0a",
   "metadata": {},
   "source": [
    "#Problem 1: Bank Account Create a class representing a bank account with attributes like account number, account holder name, and balance. Implement methods to deposit and withdraw money from the account."
   ]
  },
  {
   "cell_type": "code",
   "execution_count": 7,
   "id": "38ded485-0fe7-4417-9506-4a529697c556",
   "metadata": {},
   "outputs": [
    {
     "name": "stdin",
     "output_type": "stream",
     "text": [
      "Enter a amount to withdraw:  600\n"
     ]
    },
    {
     "data": {
      "text/plain": [
       "'600 amount is withdrawn, remaining balance 2400'"
      ]
     },
     "execution_count": 7,
     "metadata": {},
     "output_type": "execute_result"
    }
   ],
   "source": [
    "class Bank_Account:\n",
    "    \n",
    "    def __init__(self,account_number,account_holder_name,balance):\n",
    "        self.account_number = account_number\n",
    "        self.account_holder_name = account_holder_name\n",
    "        self.balance = balance\n",
    "        \n",
    "    def withdraw(self,amount_withdrawn):\n",
    "        self.balance = self.balance - amount_withdrawn\n",
    "        return f\"{amount_withdrawn} amount is withdrawn, remaining balance {self.balance}\"\n",
    "    def deposit(self,amount_deposited):\n",
    "        \n",
    "        self.balance = self.balance  + amount_deposited\n",
    "        return f\"{amount_deposited} amount is deposited, updated balance {self.balance}\"\n",
    "    \n",
    "\n",
    "Myaccount = Bank_Account(173993799,'Raju Bhai',3000) #creating a object\n",
    "\n",
    "amount_withdrawn = int(input(\"Enter a amount to withdraw: \"))\n",
    "Myaccount.withdraw(amount_withdrawn)"
   ]
  },
  {
   "cell_type": "code",
   "execution_count": 8,
   "id": "123fbe40-a114-4af2-822c-234433d2f848",
   "metadata": {},
   "outputs": [
    {
     "name": "stdin",
     "output_type": "stream",
     "text": [
      "Enter a amount to deposit:  2000\n"
     ]
    },
    {
     "data": {
      "text/plain": [
       "'2000 amount is deposited, updated balance 4400'"
      ]
     },
     "execution_count": 8,
     "metadata": {},
     "output_type": "execute_result"
    }
   ],
   "source": [
    "amount_deposited = int(input(\"Enter a amount to deposit: \"))\n",
    "Myaccount.deposit(amount_deposited)"
   ]
  },
  {
   "cell_type": "raw",
   "id": "b1dcba19-04ae-4789-a81b-2e58ad293fe8",
   "metadata": {},
   "source": [
    "#Problem 2: Employee Management Create a class representing an employee with attributes like employee ID, name, and salary. Implement methods to calculate the yearly bonus and display employee details."
   ]
  },
  {
   "cell_type": "code",
   "execution_count": 15,
   "id": "f8f53e45-4a97-49f6-9240-1ab695008470",
   "metadata": {},
   "outputs": [
    {
     "name": "stdin",
     "output_type": "stream",
     "text": [
      "Enter yearly bonus percent of the employee:  40\n"
     ]
    },
    {
     "data": {
      "text/plain": [
       "'Suprabhat,2376,updated salary - 700000.0'"
      ]
     },
     "execution_count": 15,
     "metadata": {},
     "output_type": "execute_result"
    }
   ],
   "source": [
    "class Employee:\n",
    "    def __init__(self,employee_ID,name,salary):\n",
    "        self.employee_ID = employee_ID\n",
    "        self.name = name\n",
    "        self.salary = salary\n",
    "        \n",
    "    def bonus(self,bonus_percent):\n",
    "        self.salary = self.salary + (bonus_percent/100)*self.salary\n",
    "        return f\"{self.name},{self.employee_ID},updated salary - {self.salary}\"\n",
    "    \n",
    "emp_details = Employee(2376,\"Suprabhat\",500000)\n",
    "bonus_percent = int(input(\"Enter yearly bonus percent of the employee: \"))\n",
    "emp_details.bonus(bonus_percent)\n",
    "    "
   ]
  },
  {
   "cell_type": "raw",
   "id": "f4cbfaa9-3de6-4093-885d-bbe3e7c8e833",
   "metadata": {},
   "source": [
    "#Problem 3: Vehicle Rental Create a class representing a vehicle rental system. Implement methods to rent a vehicle, return a vehicle, and display available vehicles."
   ]
  },
  {
   "cell_type": "code",
   "execution_count": 28,
   "id": "8aac60f2-3352-4c86-911a-51852099fad5",
   "metadata": {},
   "outputs": [
    {
     "data": {
      "text/plain": [
       "True"
      ]
     },
     "execution_count": 28,
     "metadata": {},
     "output_type": "execute_result"
    }
   ],
   "source": [
    "class Vehicle:\n",
    "    \n",
    "    def __init__(self):\n",
    "        self.available_vehicles = {}\n",
    "        self.rented_vehicles = {}\n",
    "        \n",
    "    def vehicle_available(self,vehicle_ID,vehicle_name):\n",
    "        if vehicle_ID in self.available_vehicles:\n",
    "            vehicle_name = self.available_vehicles[vehicle_ID]\n",
    "            return True\n",
    "        else:\n",
    "            return False\n",
    "    \n",
    "    def vehicle_rent(self,vehicle_ID,customer_name):\n",
    "        if vehicle_ID in self.available_vehicles:\n",
    "            vehicle_rented = self.available_vehicles.pop(vehicle_ID)\n",
    "            self.rented_vehicles[vehicle_ID]= (customer_name, vehicle_rented)\n",
    "            return f\"{vehicle_rented} is rented by {customer_name}\"\n",
    "        \n",
    "    def vehicle_type(self,vehicle_ID):\n",
    "        if vehicle_ID in self.available_vehicles:\n",
    "            return f\"{vehicle_ID} is {self.available_vehicles[vehicle_ID]}\"\n",
    "        \n",
    "    \n",
    "vehicle = Vehicle()\n",
    "\n",
    "vehicle.available_vehicles = {2357: 'Toyota Innova',\n",
    " 1839: 'Tata Starlite',\n",
    " 2847: 'Suzuki Swift',\n",
    " 3892: 'Honda City',\n",
    " 37897: 'Honda Dwell'}\n",
    "\n",
    "vehicle.available_vehicles\n",
    "\n",
    "vehicle.vehicle_available(2847,'Suzuki Swift')\n"
   ]
  },
  {
   "cell_type": "code",
   "execution_count": 26,
   "id": "f180e89a-9c1e-4b20-a24a-a8b664950e45",
   "metadata": {},
   "outputs": [
    {
     "data": {
      "text/plain": [
       "'Honda City is rented by Farida Jalal'"
      ]
     },
     "execution_count": 26,
     "metadata": {},
     "output_type": "execute_result"
    }
   ],
   "source": [
    "vehicle.vehicle_rent(3892,\"Farida Jalal\")"
   ]
  },
  {
   "cell_type": "code",
   "execution_count": 29,
   "id": "55aeeb94-55b3-426c-9d80-65b5901229d5",
   "metadata": {},
   "outputs": [
    {
     "data": {
      "text/plain": [
       "'2847 is Suzuki Swift'"
      ]
     },
     "execution_count": 29,
     "metadata": {},
     "output_type": "execute_result"
    }
   ],
   "source": [
    "vehicle.vehicle_type(2847)"
   ]
  },
  {
   "cell_type": "raw",
   "id": "3876bc93-a9f6-4e37-8e0f-f7f0712ad0c0",
   "metadata": {},
   "source": [
    "Problem 4: Library Catalog Create classes representing a library and a book. Implement methods to add books to the library, borrow books, and display available books."
   ]
  },
  {
   "cell_type": "code",
   "execution_count": 103,
   "id": "7ea667eb-3cdf-45b0-9227-cf6ab2d0acdd",
   "metadata": {},
   "outputs": [],
   "source": [
    "class Library:\n",
    "    \n",
    "    def __init__(self):\n",
    "        self.books_available = {}\n",
    "        self.books_borrowed = {}\n",
    "    def add_books(self,book,author):\n",
    "        if book not in self.books_available:\n",
    "            self.books_available[book] = author\n",
    "            return f\"{book} by {author} is added to the library \"\n",
    "    \n",
    "    def borrow_books(self,book,author,borrower,date):\n",
    "        if book in self.books_available:\n",
    "            if self.books_available[book]==author:\n",
    "                self.books_available.pop(book)\n",
    "                self.books_borrowed[book]=(author,borrower,date)\n",
    "                return f\"{book} by {author} is borrowed by {borrower} on date {date}\"\n",
    "    \n",
    "    def books_returned(self,book,author,borrower,borrowed_date,returned_date):\n",
    "        if book in self.books_borrowed:\n",
    "            if self.books_borrowed[book] == (author,borrower,borrowed_date):\n",
    "                self.books_borrowed.pop(book)\n",
    "                self.books_available[book]=author\n",
    "                return f\"{book} by {author} is returned by {borrower} on {returned_date}\"\n",
    "                \n",
    "            \n",
    "        "
   ]
  },
  {
   "cell_type": "code",
   "execution_count": 104,
   "id": "62f02d7e-b304-43d5-ab3f-429eaf579048",
   "metadata": {},
   "outputs": [],
   "source": [
    "books = Library()\n",
    "books.books_available = {'Three Musketeers':'Alexander Dumas','The last leaf':'Anton Chekov','The Necklace':'Guy de Maupassant','The Namesake':'Jhumpa Lahiri','God of small things':'Arundhati Roy'}"
   ]
  },
  {
   "cell_type": "code",
   "execution_count": 105,
   "id": "558039d2-24c9-40c2-b2a2-87403fb2b209",
   "metadata": {},
   "outputs": [
    {
     "data": {
      "text/plain": [
       "{'Three Musketeers': 'Alexander Dumas',\n",
       " 'The last leaf': 'Anton Chekov',\n",
       " 'The Necklace': 'Guy de Maupassant',\n",
       " 'The Namesake': 'Jhumpa Lahiri',\n",
       " 'God of small things': 'Arundhati Roy'}"
      ]
     },
     "execution_count": 105,
     "metadata": {},
     "output_type": "execute_result"
    }
   ],
   "source": [
    "books.books_available"
   ]
  },
  {
   "cell_type": "code",
   "execution_count": 106,
   "id": "ad9e27b8-9957-4ffb-aa82-b3ef7e8ed8f6",
   "metadata": {},
   "outputs": [
    {
     "data": {
      "text/plain": [
       "'The Namesake by Jhumpa Lahiri is borrowed by Tilottoma on date 12/06/2022'"
      ]
     },
     "execution_count": 106,
     "metadata": {},
     "output_type": "execute_result"
    }
   ],
   "source": [
    "books.borrow_books('The Namesake','Jhumpa Lahiri','Tilottoma','12/06/2022')"
   ]
  },
  {
   "cell_type": "code",
   "execution_count": 107,
   "id": "4761b07c-2181-41f2-9905-9830fdc40b89",
   "metadata": {},
   "outputs": [
    {
     "data": {
      "text/plain": [
       "{'The Namesake': ('Jhumpa Lahiri', 'Tilottoma', '12/06/2022')}"
      ]
     },
     "execution_count": 107,
     "metadata": {},
     "output_type": "execute_result"
    }
   ],
   "source": [
    "books.books_borrowed"
   ]
  },
  {
   "cell_type": "code",
   "execution_count": 108,
   "id": "e8964636-d030-49a6-8748-23b639eff323",
   "metadata": {},
   "outputs": [
    {
     "data": {
      "text/plain": [
       "{'Three Musketeers': 'Alexander Dumas',\n",
       " 'The last leaf': 'Anton Chekov',\n",
       " 'The Necklace': 'Guy de Maupassant',\n",
       " 'God of small things': 'Arundhati Roy'}"
      ]
     },
     "execution_count": 108,
     "metadata": {},
     "output_type": "execute_result"
    }
   ],
   "source": [
    "books.books_available"
   ]
  },
  {
   "cell_type": "code",
   "execution_count": 109,
   "id": "fe83c614-124c-4878-971b-0df05114dd2a",
   "metadata": {},
   "outputs": [
    {
     "data": {
      "text/plain": [
       "'Campfire by Michael Faustner is added to the library '"
      ]
     },
     "execution_count": 109,
     "metadata": {},
     "output_type": "execute_result"
    }
   ],
   "source": [
    "books.add_books('Campfire','Michael Faustner')"
   ]
  },
  {
   "cell_type": "code",
   "execution_count": 110,
   "id": "3139d87c-5380-41e1-93a3-a53298250517",
   "metadata": {},
   "outputs": [
    {
     "data": {
      "text/plain": [
       "{'Three Musketeers': 'Alexander Dumas',\n",
       " 'The last leaf': 'Anton Chekov',\n",
       " 'The Necklace': 'Guy de Maupassant',\n",
       " 'God of small things': 'Arundhati Roy',\n",
       " 'Campfire': 'Michael Faustner'}"
      ]
     },
     "execution_count": 110,
     "metadata": {},
     "output_type": "execute_result"
    }
   ],
   "source": [
    "books.books_available"
   ]
  },
  {
   "cell_type": "code",
   "execution_count": 111,
   "id": "f3d383ab-e4b2-43ad-ad29-9cd452fbf2e2",
   "metadata": {},
   "outputs": [
    {
     "data": {
      "text/plain": [
       "'The Namesake by Jhumpa Lahiri is returned by Tilottoma on 23/08/2022'"
      ]
     },
     "execution_count": 111,
     "metadata": {},
     "output_type": "execute_result"
    }
   ],
   "source": [
    "books.books_returned('The Namesake','Jhumpa Lahiri','Tilottoma','12/06/2022','23/08/2022')"
   ]
  },
  {
   "cell_type": "code",
   "execution_count": 112,
   "id": "ddf8713f-b5a6-431b-8af8-ce5357122001",
   "metadata": {},
   "outputs": [
    {
     "data": {
      "text/plain": [
       "{'Three Musketeers': 'Alexander Dumas',\n",
       " 'The last leaf': 'Anton Chekov',\n",
       " 'The Necklace': 'Guy de Maupassant',\n",
       " 'God of small things': 'Arundhati Roy',\n",
       " 'Campfire': 'Michael Faustner',\n",
       " 'The Namesake': 'Jhumpa Lahiri'}"
      ]
     },
     "execution_count": 112,
     "metadata": {},
     "output_type": "execute_result"
    }
   ],
   "source": [
    "books.books_available"
   ]
  },
  {
   "cell_type": "raw",
   "id": "98125703-105c-4f3f-a26f-bd2a905669e2",
   "metadata": {},
   "source": [
    "Problem 5: Product Inventory Create classes representing a product and an inventory system. Implement methods to add products to the inventory, update product quantity, and display available products."
   ]
  },
  {
   "cell_type": "code",
   "execution_count": 42,
   "id": "86860170-f179-42f8-8883-08bef2f724c2",
   "metadata": {},
   "outputs": [
    {
     "data": {
      "text/plain": [
       "{'Potato': 20, 'Onion': 20, 'Cauliflower': 10, 'Spinach': 5, 'Tomato': 10}"
      ]
     },
     "execution_count": 42,
     "metadata": {},
     "output_type": "execute_result"
    }
   ],
   "source": [
    "class Inventory:\n",
    "    \n",
    "    def __init__(self):\n",
    "        self.products_available = {}\n",
    "        self.products_sold = {}\n",
    "        \n",
    "    def add_products(self,product,volume):\n",
    "        if product not in self.products_available:\n",
    "            self.products_available[product] = volume\n",
    "            return f\"{product} of {volume} kg is added to inventory\"\n",
    "    \n",
    "    def product_to_sell(self,product,volume):\n",
    "        if product in self.products_available :\n",
    "            if self.products_available[product]>volume:\n",
    "                original_volume = self.products_available.pop(product)\n",
    "                res = original_volume-volume\n",
    "                self.products_available[product] = res\n",
    "                self.products_sold[product]=volume\n",
    "                return f\"{product} is sold of volume {volume} kg\"\n",
    "            else:\n",
    "                return f\"{product} of {volume} kg not available\"\n",
    "        \n",
    "    \n",
    "product = Inventory()\n",
    "product.products_available = {'Potato':20,'Onion':20,'Cauliflower':10,'Spinach':5,'Tomato':10}\n",
    "product.products_available\n",
    "    "
   ]
  },
  {
   "cell_type": "code",
   "execution_count": 43,
   "id": "4c1f85c3-fe47-41ca-bcda-b7a26753a9f4",
   "metadata": {},
   "outputs": [
    {
     "data": {
      "text/plain": [
       "'Cauliflower is sold of volume 3 kg'"
      ]
     },
     "execution_count": 43,
     "metadata": {},
     "output_type": "execute_result"
    }
   ],
   "source": [
    "product.product_to_sell('Cauliflower',3)"
   ]
  },
  {
   "cell_type": "code",
   "execution_count": 44,
   "id": "7656690e-6875-4af9-b7f9-2bcb1b048ca8",
   "metadata": {},
   "outputs": [
    {
     "data": {
      "text/plain": [
       "{'Cauliflower': 3}"
      ]
     },
     "execution_count": 44,
     "metadata": {},
     "output_type": "execute_result"
    }
   ],
   "source": [
    "product.products_sold"
   ]
  },
  {
   "cell_type": "code",
   "execution_count": 45,
   "id": "9108ea0d-682c-4756-a956-a05bcfb313ab",
   "metadata": {},
   "outputs": [
    {
     "data": {
      "text/plain": [
       "{'Potato': 20, 'Onion': 20, 'Spinach': 5, 'Tomato': 10, 'Cauliflower': 7}"
      ]
     },
     "execution_count": 45,
     "metadata": {},
     "output_type": "execute_result"
    }
   ],
   "source": [
    "product.products_available"
   ]
  },
  {
   "cell_type": "code",
   "execution_count": 46,
   "id": "4524973a-aa71-49ee-a599-e7225ac624ea",
   "metadata": {},
   "outputs": [
    {
     "data": {
      "text/plain": [
       "'Turmeric of 20 kg is added to inventory'"
      ]
     },
     "execution_count": 46,
     "metadata": {},
     "output_type": "execute_result"
    }
   ],
   "source": [
    "product.add_products('Turmeric',20)"
   ]
  },
  {
   "cell_type": "code",
   "execution_count": 47,
   "id": "e69efd7b-84f5-4320-b71e-886e279bc667",
   "metadata": {},
   "outputs": [
    {
     "data": {
      "text/plain": [
       "{'Potato': 20,\n",
       " 'Onion': 20,\n",
       " 'Spinach': 5,\n",
       " 'Tomato': 10,\n",
       " 'Cauliflower': 7,\n",
       " 'Turmeric': 20}"
      ]
     },
     "execution_count": 47,
     "metadata": {},
     "output_type": "execute_result"
    }
   ],
   "source": [
    "product.products_available"
   ]
  },
  {
   "cell_type": "code",
   "execution_count": 48,
   "id": "9e285cef-5800-4d70-98b4-7b6bdd148ad1",
   "metadata": {},
   "outputs": [
    {
     "data": {
      "text/plain": [
       "'Potato is sold of volume 5 kg'"
      ]
     },
     "execution_count": 48,
     "metadata": {},
     "output_type": "execute_result"
    }
   ],
   "source": [
    "product.product_to_sell('Potato',5)"
   ]
  },
  {
   "cell_type": "code",
   "execution_count": 49,
   "id": "455f5fa9-dead-48a9-9516-4cc5460d29c2",
   "metadata": {},
   "outputs": [
    {
     "data": {
      "text/plain": [
       "{'Onion': 20,\n",
       " 'Spinach': 5,\n",
       " 'Tomato': 10,\n",
       " 'Cauliflower': 7,\n",
       " 'Turmeric': 20,\n",
       " 'Potato': 15}"
      ]
     },
     "execution_count": 49,
     "metadata": {},
     "output_type": "execute_result"
    }
   ],
   "source": [
    "product.products_available"
   ]
  },
  {
   "cell_type": "code",
   "execution_count": 50,
   "id": "157c7382-2ec8-4ebd-9c72-3c6b84adda5c",
   "metadata": {},
   "outputs": [
    {
     "data": {
      "text/plain": [
       "{'Cauliflower': 3, 'Potato': 5}"
      ]
     },
     "execution_count": 50,
     "metadata": {},
     "output_type": "execute_result"
    }
   ],
   "source": [
    "product.products_sold"
   ]
  },
  {
   "cell_type": "raw",
   "id": "733300e5-9567-4a2a-9604-dac85b9a117f",
   "metadata": {},
   "source": [
    "Problem 6: Shape Calculation Create a class representing a shape with attributes like length, width, and height. Implement methods to calculate the area and perimeter of the shape."
   ]
  },
  {
   "cell_type": "code",
   "execution_count": 52,
   "id": "0c339188-fd5c-45e5-97e1-3f4ec9b5ebad",
   "metadata": {},
   "outputs": [
    {
     "data": {
      "text/plain": [
       "'The perimeter of the shape is 20 cm'"
      ]
     },
     "execution_count": 52,
     "metadata": {},
     "output_type": "execute_result"
    }
   ],
   "source": [
    "class Shape_calculator:\n",
    "    \n",
    "    def __init__(self,length,width,height):\n",
    "        self.length = length\n",
    "        self.width = width\n",
    "        self.height = height\n",
    "        \n",
    "    def calculate_perimeter(self):\n",
    "        if self.height==0:\n",
    "            perimeter = 2*(self.length+self.width)\n",
    "            return f\"The perimeter of the shape is {perimeter} cm\"\n",
    "        else:\n",
    "            perimeter = 4*(self.length + self.width + self.height)\n",
    "            return f\"The perimeter of the cuboid is {perimeter} cm\"\n",
    "    def calculate_area(self):\n",
    "        if self.height == 0:\n",
    "            area = self.length*self.width\n",
    "            return f\"The area of the shape is {area} sqcm\"\n",
    "        else:\n",
    "            area = self.length*self.width*self.height\n",
    "            return f\"The area of the cuboid is {area} sqcm\"\n",
    "            \n",
    "\n",
    "shape = Shape_calculator(5,5,0)\n",
    "\n",
    "shape.calculate_perimeter()"
   ]
  },
  {
   "cell_type": "code",
   "execution_count": 53,
   "id": "64672580-bd02-4097-babd-c6ee97036aa2",
   "metadata": {},
   "outputs": [
    {
     "data": {
      "text/plain": [
       "'The area of the shape is 25 sqcm'"
      ]
     },
     "execution_count": 53,
     "metadata": {},
     "output_type": "execute_result"
    }
   ],
   "source": [
    "shape.calculate_area()"
   ]
  },
  {
   "cell_type": "code",
   "execution_count": 55,
   "id": "e4fa5756-2cdb-476b-851d-026d61c73527",
   "metadata": {},
   "outputs": [
    {
     "data": {
      "text/plain": [
       "'The perimeter of the cuboid is 40 cm'"
      ]
     },
     "execution_count": 55,
     "metadata": {},
     "output_type": "execute_result"
    }
   ],
   "source": [
    "shape = Shape_calculator(5,3,2)\n",
    "shape.calculate_perimeter()\n"
   ]
  },
  {
   "cell_type": "code",
   "execution_count": 56,
   "id": "e0156e12-bf37-499d-968a-e6a97b7293ba",
   "metadata": {},
   "outputs": [
    {
     "data": {
      "text/plain": [
       "'The area of the cuboid is 30 sqcm'"
      ]
     },
     "execution_count": 56,
     "metadata": {},
     "output_type": "execute_result"
    }
   ],
   "source": [
    "shape.calculate_area()"
   ]
  },
  {
   "cell_type": "raw",
   "id": "e46579cd-bd93-45a9-bb02-9a825fd535f7",
   "metadata": {},
   "source": [
    "Problem 7: Student Management Create a class representing a student with attributes like student ID, name, and grades. Implement methods to calculate the average grade and display student details."
   ]
  },
  {
   "cell_type": "code",
   "execution_count": 1,
   "id": "2ee200e4-c373-4376-85d6-c626faf83b43",
   "metadata": {},
   "outputs": [],
   "source": [
    "class Student:\n",
    "    def __init__(self, student_id, name):\n",
    "        self.student_id = student_id\n",
    "        self.name = name\n",
    "        self.grades = []\n",
    "\n",
    "    def add_grade(self, grade):\n",
    "        \"\"\"Add a grade to the student's record.\"\"\"\n",
    "        self.grades.append(grade)\n",
    "\n",
    "    def calculate_average_grade(self):\n",
    "        \"\"\"Calculate and return the average grade of the student.\"\"\"\n",
    "        if not self.grades:\n",
    "            return 0.0\n",
    "        return sum(self.grades) / len(self.grades)\n",
    "\n",
    "    def display_details(self):\n",
    "        \"\"\"Display student details, including ID, name, and average grade.\"\"\"\n",
    "        print(f\"Student ID: {self.student_id}\")\n",
    "        print(f\"Name: {self.name}\")\n",
    "        print(f\"Average Grade: {self.calculate_average_grade():.2f}\")\n"
   ]
  },
  {
   "cell_type": "code",
   "execution_count": 2,
   "id": "42726d9f-0220-4771-8b72-042d7689225d",
   "metadata": {},
   "outputs": [
    {
     "name": "stdout",
     "output_type": "stream",
     "text": [
      "Student ID: S001\n",
      "Name: Alice\n",
      "Average Grade: 89.00\n"
     ]
    }
   ],
   "source": [
    "#displaying the average grade of a particular student input\n",
    "    student1 = Student(\"S001\", \"Alice\")\n",
    "\n",
    "    student1.add_grade(90)\n",
    "    student1.add_grade(85)\n",
    "    student1.add_grade(92)\n",
    "\n",
    "    # Display student details\n",
    "    student1.display_details()\n"
   ]
  },
  {
   "cell_type": "raw",
   "id": "1090a7ed-d784-46dc-9729-e14b08b3da5d",
   "metadata": {},
   "source": [
    "Problem 8: Email Management Create a class representing an email with attributes like sender, recipient, and subject. Implement methods to send an email and display email details."
   ]
  },
  {
   "cell_type": "code",
   "execution_count": 11,
   "id": "3ec3e655-0e99-46c8-9e74-c78314e49978",
   "metadata": {},
   "outputs": [],
   "source": [
    "class Email:\n",
    "    \n",
    "    def __init__(self,sender,recipient,subject):\n",
    "        self.sender = sender\n",
    "        self.recipient = recipient\n",
    "        self.subject = subject\n",
    "        \n",
    "    def send_email(self):\n",
    "        print(f\"Sender : {self.sender}\")\n",
    "        print(f\"Receiver : {self.recipient}\")\n",
    "        print(f\"Subject : {self.subject}\")\n",
    "        \n",
    "    "
   ]
  },
  {
   "cell_type": "code",
   "execution_count": 12,
   "id": "517cb00a-74b4-4c3c-90af-f40097fa49ca",
   "metadata": {},
   "outputs": [
    {
     "name": "stdout",
     "output_type": "stream",
     "text": [
      "Sender : sender@example.com\n",
      "Receiver : recipient@example.com\n",
      "Subject : Hello,This is a test email.\n"
     ]
    }
   ],
   "source": [
    "\n",
    "email1 = Email(\"sender@example.com\", \"recipient@example.com\", \"Hello,This is a test email.\")\n",
    "\n",
    "email1.send_email()\n"
   ]
  },
  {
   "cell_type": "raw",
   "id": "682d457d-33e2-43f5-891e-de02e1cd8f5e",
   "metadata": {},
   "source": [
    "Problem 9: Social Media Profile Create a class representing a social media profile with attributes like username and posts. Implement methods to add posts, display posts, and search for posts by keyword."
   ]
  },
  {
   "cell_type": "code",
   "execution_count": 18,
   "id": "f4e39cb8-4eb6-4ef0-88c4-334ca4967182",
   "metadata": {},
   "outputs": [],
   "source": [
    "class Profile:\n",
    "    \n",
    "    def __init__(self,username):\n",
    "        self.username=username\n",
    "        self.posts = []\n",
    "        \n",
    "    def add_posts(self,post):\n",
    "        self.posts.append(post)\n",
    "        print(post)\n",
    "    \n",
    "    def search_posts(self,keyword):\n",
    "        for i in self.posts:\n",
    "            if keyword in i:\n",
    "                print(i,\"\\n\")\n",
    "          "
   ]
  },
  {
   "cell_type": "code",
   "execution_count": 19,
   "id": "1c3323a3-785b-42d1-86ab-8bb2a0b10e4d",
   "metadata": {},
   "outputs": [
    {
     "name": "stdout",
     "output_type": "stream",
     "text": [
      "This is my new profile\n",
      "I got a feeling\n",
      "This night is gonna be a good night\n",
      "It is gonna be a good good night\n"
     ]
    }
   ],
   "source": [
    "my_profile = Profile(\"Dude\")\n",
    "my_profile.add_posts(\"This is my new profile\")\n",
    "my_profile.add_posts(\"I got a feeling\")\n",
    "my_profile.add_posts(\"This night is gonna be a good night\")\n",
    "my_profile.add_posts(\"It is gonna be a good good night\")"
   ]
  },
  {
   "cell_type": "code",
   "execution_count": 20,
   "id": "80e8fe82-20dc-4693-a606-4f2729b8781b",
   "metadata": {},
   "outputs": [
    {
     "name": "stdout",
     "output_type": "stream",
     "text": [
      "This night is gonna be a good night \n",
      "\n",
      "It is gonna be a good good night \n",
      "\n"
     ]
    }
   ],
   "source": [
    "my_profile.search_posts(\"good\")"
   ]
  },
  {
   "cell_type": "raw",
   "id": "9bf2ba66-a17a-439c-aded-29a36d1bb7f2",
   "metadata": {},
   "source": [
    "Problem 10: ToDo List Create a class representing a ToDo list with attributes like tasks and due dates. Implement methods to add tasks, mark tasks as completed, and display pending tasks."
   ]
  },
  {
   "cell_type": "code",
   "execution_count": 40,
   "id": "cd41b3f3-ad9d-45ef-a7f7-9833087e087c",
   "metadata": {},
   "outputs": [],
   "source": [
    "class ToDo:\n",
    "    \n",
    "    def __init__(self):\n",
    "        self.task_list = {}\n",
    "        \n",
    "    def add_tasks(self,tasks,due_dates):\n",
    "        self.task_list[tasks] = due_dates\n",
    "        print(self.task_list)\n",
    "    def mark_tasks(self,tasks,date):\n",
    "        if self.task_list[tasks]>=date:\n",
    "            self.task_list[tasks]=\"completed\"\n",
    "            print(self.task_list)\n",
    "        else:\n",
    "            self.task_list[tasks]=\"pending\"\n",
    "        \n",
    "    def pending_tasks(self,tasks,date):\n",
    "         if self.task_list[tasks]<date:\n",
    "            self.task_list[tasks]=\"pending\"\n",
    "            print(self.task_list)\n",
    "            \n"
   ]
  },
  {
   "cell_type": "code",
   "execution_count": 41,
   "id": "79d94312-849f-4f53-93f1-10d3f8d42b00",
   "metadata": {},
   "outputs": [
    {
     "name": "stdout",
     "output_type": "stream",
     "text": [
      "{'Need to water the plants': 5.09}\n",
      "{'Need to water the plants': 5.09, 'Get the groceries': 10.09}\n",
      "{'Need to water the plants': 5.09, 'Get the groceries': 10.09, 'Mid-month kharcha': 15.09}\n"
     ]
    }
   ],
   "source": [
    "new_tasks = ToDo()\n",
    "new_tasks.add_tasks(\"Need to water the plants\",5.09)\n",
    "new_tasks.add_tasks(\"Get the groceries\",10.09)\n",
    "new_tasks.add_tasks(\"Mid-month kharcha\",15.09)"
   ]
  },
  {
   "cell_type": "code",
   "execution_count": 42,
   "id": "dbcbe722-e61c-43cc-a308-86206bed070d",
   "metadata": {},
   "outputs": [
    {
     "name": "stdout",
     "output_type": "stream",
     "text": [
      "{'Need to water the plants': 5.09, 'Get the groceries': 'completed', 'Mid-month kharcha': 15.09}\n"
     ]
    }
   ],
   "source": [
    "new_tasks.mark_tasks(\"Get the groceries\",7.09)"
   ]
  },
  {
   "cell_type": "code",
   "execution_count": 43,
   "id": "6eaea74d-15fa-445c-960c-d85e158235e3",
   "metadata": {},
   "outputs": [
    {
     "name": "stdout",
     "output_type": "stream",
     "text": [
      "{'Need to water the plants': 5.09, 'Get the groceries': 'completed', 'Mid-month kharcha': 'pending'}\n"
     ]
    }
   ],
   "source": [
    "new_tasks.pending_tasks(\"Mid-month kharcha\",20.09)"
   ]
  },
  {
   "cell_type": "code",
   "execution_count": 44,
   "id": "67e755dc-b12a-47af-a063-1c367ae895a9",
   "metadata": {},
   "outputs": [
    {
     "data": {
      "text/plain": [
       "{'Need to water the plants': 5.09,\n",
       " 'Get the groceries': 'completed',\n",
       " 'Mid-month kharcha': 'pending'}"
      ]
     },
     "execution_count": 44,
     "metadata": {},
     "output_type": "execute_result"
    }
   ],
   "source": [
    "new_tasks.task_list"
   ]
  },
  {
   "cell_type": "code",
   "execution_count": null,
   "id": "34c84ced-469b-471d-8d1c-e2edef52653d",
   "metadata": {},
   "outputs": [],
   "source": []
  }
 ],
 "metadata": {
  "kernelspec": {
   "display_name": "Python 3 (ipykernel)",
   "language": "python",
   "name": "python3"
  },
  "language_info": {
   "codemirror_mode": {
    "name": "ipython",
    "version": 3
   },
   "file_extension": ".py",
   "mimetype": "text/x-python",
   "name": "python",
   "nbconvert_exporter": "python",
   "pygments_lexer": "ipython3",
   "version": "3.10.8"
  }
 },
 "nbformat": 4,
 "nbformat_minor": 5
}
