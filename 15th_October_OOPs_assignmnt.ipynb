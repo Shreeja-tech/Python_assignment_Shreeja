{
 "cells": [
  {
   "cell_type": "markdown",
   "id": "ad8f5798-c4e9-4cca-9639-117886a14612",
   "metadata": {},
   "source": [
    "# Constructor"
   ]
  },
  {
   "cell_type": "raw",
   "id": "d4009c9a-97df-4b12-a636-124ff57dcfd9",
   "metadata": {},
   "source": [
    "1) What is a constructor in Python ? Explain its purpose and usage\n",
    "\n",
    "Ans. In Python, a constructor is a special method that is automatically called when an object of a class is created. It is used to initialize the attributes of the object. Constructors are defined using the __init__ method, which is a reserved method in Python.\n",
    "\n",
    "The main purpose of using a contsructor in a class is to initialize an attribute of an object. When an object is created from a class, the __init__ method is automatically invoked, allowing one to set the initial state of the object.\n",
    "Constructors can accept arguments to customize the initialization of objects. These arguments are typically passed when creating an object. This allows one to create objects with different initial states.\n",
    "\n"
   ]
  },
  {
   "cell_type": "code",
   "execution_count": 1,
   "id": "d460ee9e-0460-43a8-8572-9d0a3f4d3309",
   "metadata": {},
   "outputs": [
    {
     "name": "stdout",
     "output_type": "stream",
     "text": [
      "Alice 30\n",
      "Bob 25\n"
     ]
    }
   ],
   "source": [
    "#Example\n",
    "class Person:\n",
    "    def __init__(self, name, age):\n",
    "        self.name = name\n",
    "        self.age = age\n",
    "\n",
    "# Creating objects and using the constructor\n",
    "person1 = Person(\"Alice\", 30)\n",
    "person2 = Person(\"Bob\", 25)\n",
    "\n",
    "print(person1.name, person1.age) \n",
    "print(person2.name, person2.age) "
   ]
  },
  {
   "cell_type": "raw",
   "id": "61cb487a-dab7-4730-b2e1-8cdf09695c70",
   "metadata": {},
   "source": [
    "2) Differentiate between a parameterless constructor and a parameterized constructor in Python.\n",
    "\n",
    "Ans. Parameterless constructor - A parameterless constructor is a constructor that does not accept any parameters. It is defined using the __init__ method with no additional parameters except self.\n",
    "It is used to initialize the attributes of an object with default values or perform other initialization tasks.\n",
    "\n",
    "Parametrized constructor - A parameterized constructor is a constructor that accepts one or more parameters in addition to self. It is defined using the __init__ method with parameters that allow you to initialize the attributes of an object based on the provided values.\n",
    "It is used to initialize the attributes with values passed during object creation, making it possible to create objects with different initial states.\n"
   ]
  },
  {
   "cell_type": "code",
   "execution_count": 2,
   "id": "cde51bad-2c34-4ba5-976d-d0f83f13c0c1",
   "metadata": {},
   "outputs": [],
   "source": [
    "#Example of parameterless constructor\n",
    "\n",
    "class Person:\n",
    "    def __init__(self):\n",
    "        self.name = \"Unknown\"\n",
    "        self.age = 0\n",
    "\n"
   ]
  },
  {
   "cell_type": "code",
   "execution_count": 3,
   "id": "c486a056-05de-40d2-857f-ff0e281d5ed5",
   "metadata": {},
   "outputs": [],
   "source": [
    "#Example of parameterized constructor\n",
    "\n",
    "class Person:\n",
    "    def __init__(self, name, age):\n",
    "        self.name = name\n",
    "        self.age = age\n"
   ]
  },
  {
   "cell_type": "raw",
   "id": "a4a80cbd-ad3c-47b9-b451-9e34ba3b1aa0",
   "metadata": {},
   "source": [
    "3) Describe the role of '__init__' method in Python and its role in constructor.\n",
    "\n",
    "Ans. The __init__ method in Python is a special method, also known as a \"magic\" or \"dunder\" method (short for \"double underscore\"), that serves as a constructor for a class. The __init__ method is automatically called when an object of the class is created. Its primary role is to initialize the attributes (or properties) of the object.\n"
   ]
  },
  {
   "cell_type": "code",
   "execution_count": 4,
   "id": "5e834cc5-61cb-44f1-a4f8-b205e897cf13",
   "metadata": {},
   "outputs": [
    {
     "name": "stdout",
     "output_type": "stream",
     "text": [
      "Alice 30\n",
      "Bob 25\n"
     ]
    }
   ],
   "source": [
    "#Example\n",
    "class Person:\n",
    "    def __init__(self, name, age):\n",
    "        self.name = name\n",
    "        self.age = age\n",
    "\n",
    "# Creating objects and using the constructor\n",
    "person1 = Person(\"Alice\", 30)\n",
    "person2 = Person(\"Bob\", 25)\n",
    "\n",
    "print(person1.name, person1.age)                                                                                                                                                    \n",
    "print(person2.name, person2.age) \n"
   ]
  },
  {
   "cell_type": "code",
   "execution_count": 5,
   "id": "6945523b-22a9-4ba7-927f-d5110395bb3c",
   "metadata": {},
   "outputs": [],
   "source": [
    "# 4) In a class named 'Person', create a constructor that initializes the 'name' and 'age' attributes. Provide an example of creating an object of this class.\n",
    "\n",
    "class Person:\n",
    "    \n",
    "    def __init__(self):\n",
    "        self.age = 0\n",
    "        self.name = ''\n",
    "        \n",
    "first = Person()\n",
    "#assigning values to the constructors created in People\n",
    "first.age = 20\n",
    "first.name = 'Jibon'"
   ]
  },
  {
   "cell_type": "code",
   "execution_count": 8,
   "id": "ca63af7a-0c6f-4073-8452-7b29264bd33b",
   "metadata": {},
   "outputs": [
    {
     "data": {
      "text/plain": [
       "20"
      ]
     },
     "execution_count": 8,
     "metadata": {},
     "output_type": "execute_result"
    }
   ],
   "source": [
    "first.age\n"
   ]
  },
  {
   "cell_type": "code",
   "execution_count": 9,
   "id": "2764af31-a16c-4926-a0b4-35fa0b6adb20",
   "metadata": {},
   "outputs": [
    {
     "data": {
      "text/plain": [
       "'Jibon'"
      ]
     },
     "execution_count": 9,
     "metadata": {},
     "output_type": "execute_result"
    }
   ],
   "source": [
    "first.name"
   ]
  },
  {
   "cell_type": "raw",
   "id": "11d62fbf-c6be-4cf5-befd-b8b8cc6acdee",
   "metadata": {},
   "source": [
    "#5) How can you call a constructor explecitly in a Python? Give example.\n",
    "\n",
    "Ans. In Python, constructors, including the __init__ method, are typically called automatically when an object of a class is created. However, one can also call a constructor explicitly. \n",
    "\n"
   ]
  },
  {
   "cell_type": "code",
   "execution_count": 17,
   "id": "6fd3bf00-45ac-4fcb-9ad2-a6ef635f3a1b",
   "metadata": {},
   "outputs": [
    {
     "name": "stdout",
     "output_type": "stream",
     "text": [
      "42\n"
     ]
    }
   ],
   "source": [
    "#Example\n",
    "\n",
    "class MyClass:\n",
    "    def __init__(self, value):\n",
    "        self.value = value\n",
    "\n",
    "# Explicitly calling the constructor\n",
    "obj = MyClass.__new__(MyClass)  \n",
    "obj.__init__(42)  # Initialize the object\n",
    "\n",
    "# Accessing the attribute\n",
    "print(obj.value) \n",
    "\n",
    "\n"
   ]
  },
  {
   "cell_type": "raw",
   "id": "c8c7649f-0a55-4102-b5d8-c27989ca1b21",
   "metadata": {},
   "source": [
    "#6) What is the significance of 'self' parameter in Python constructor? Explain with an example.\n",
    "\n",
    "Ans. In Python, the self parameter in a constructor (or any method) represents the instance of the class. It allows you to refer to the attributes and methods of that instance within the class. The name self is a convention, and you could technically use any name, but self is widely accepted and used.\n",
    "\n",
    "By using self, one can set the instance's attributes, making them specific to that instance.\n",
    "We can use self to access attributes and call methods of the instance within the constructor. This allows us to work with the unique data and behavior of the instance.\n"
   ]
  },
  {
   "cell_type": "code",
   "execution_count": 18,
   "id": "a6e94ef9-5c20-44c6-9e16-fd0dc378f4d4",
   "metadata": {},
   "outputs": [
    {
     "name": "stdout",
     "output_type": "stream",
     "text": [
      "Alice\n",
      "25\n",
      "Hello, my name is Alice, and I am 30 years old.\n"
     ]
    }
   ],
   "source": [
    "#Example\n",
    "\n",
    "class Person:\n",
    "    def __init__(self, name, age):\n",
    "        self.name = name\n",
    "        self.age = age\n",
    "\n",
    "    def introduce(self):\n",
    "        return f\"Hello, my name is {self.name}, and I am {self.age} years old.\"\n",
    "\n",
    "# Creating objects of the 'Person' class\n",
    "person1 = Person(\"Alice\", 30)\n",
    "person2 = Person(\"Bob\", 25)\n",
    "\n",
    "# Accessing attributes and calling methods using 'self'\n",
    "print(person1.name) \n",
    "print(person2.age)  \n",
    "\n",
    "# Calling the 'introduce' method\n",
    "print(person1.introduce()) "
   ]
  },
  {
   "cell_type": "raw",
   "id": "5b486641-743b-44b6-a1c3-9f8408f2ac43",
   "metadata": {},
   "source": [
    "#7) Discuss the concept of default constructors in Python .When are they used?\n",
    "\n",
    "Ans. In Python, default constructors, often referred to as parameterless constructors, are special methods used to initialize objects of a class with default values. These constructors are used when we want to ensure that objects of a class have a specific initial state, even when no explicit arguments are provided during object creation.\n",
    "\n",
    "Default constructors are not explicitly defined in Python; instead, they are provided by the default behavior of the __init__ method.\n",
    "\n"
   ]
  },
  {
   "cell_type": "raw",
   "id": "393626ef-3163-43ad-a2c0-08c33b233e90",
   "metadata": {},
   "source": [
    "#8) Create a Python class called 'Rectangle' with a constructor that initializes the 'width' and 'height' attributes. Please provide a method to calculate area of the rectangle.\n"
   ]
  },
  {
   "cell_type": "code",
   "execution_count": 21,
   "id": "b7080e90-7cce-4316-919a-2f3e923acc65",
   "metadata": {},
   "outputs": [],
   "source": [
    "class Rectangle:\n",
    "    \n",
    "    def __init__(self,width,height):\n",
    "        self.width = width\n",
    "        self.height = height\n",
    "        \n",
    "    def area(self):\n",
    "        area = self.width*self.height\n",
    "        print(f'The area of the rectangle in {area} sq cm')\n",
    "              \n"
   ]
  },
  {
   "cell_type": "code",
   "execution_count": 23,
   "id": "d7c16a02-eff3-4e23-8b69-c3c7772f9399",
   "metadata": {},
   "outputs": [
    {
     "name": "stdout",
     "output_type": "stream",
     "text": [
      "The area of the rectangle in 1904 sq cm\n"
     ]
    }
   ],
   "source": [
    "shape = Rectangle(34,56)\n",
    "shape.area() #calculates the area with the given attributes length and width"
   ]
  },
  {
   "cell_type": "raw",
   "id": "11ce9880-76f1-48a3-a7b7-3f0e9a999824",
   "metadata": {},
   "source": [
    "#9) How can you have multiple constructors in a Python class. Explain with example.\n",
    "\n",
    "Ans. In Python, we can have multiple constructors in a class by using method overloading. Method overloading allows us to define multiple methods with the same name but with different parameter lists. The specific constructor to be called is determined based on the number and types of arguments passed during object creation. \n"
   ]
  },
  {
   "cell_type": "code",
   "execution_count": 1,
   "id": "a7b9e09d-be1c-4a27-9380-0661a8a4f75f",
   "metadata": {},
   "outputs": [
    {
     "name": "stdout",
     "output_type": "stream",
     "text": [
      "Unknown 0\n",
      "Alice 30\n",
      "Bob 0\n",
      "Unknown 25\n"
     ]
    }
   ],
   "source": [
    "#Example\n",
    "\n",
    "class Person:\n",
    "    def __init__(self, name=\"Unknown\", age=0):\n",
    "        self.name = name\n",
    "        self.age = age\n",
    "\n",
    "    @classmethod\n",
    "    def create_person_with_name(cls, name):\n",
    "        return cls(name=name)\n",
    "\n",
    "    @classmethod\n",
    "    def create_person_with_age(cls, age):\n",
    "        return cls(age=age)\n",
    "\n",
    "# Creating objects using different constructors\n",
    "person1 = Person()\n",
    "person2 = Person(\"Alice\", 30)\n",
    "\n",
    "person3 = Person.create_person_with_name(\"Bob\")\n",
    "person4 = Person.create_person_with_age(25)\n",
    "\n",
    "# Accessing attributes\n",
    "print(person1.name, person1.age) \n",
    "print(person2.name, person2.age)  \n",
    "print(person3.name, person3.age) \n",
    "print(person4.name, person4.age)  \n"
   ]
  },
  {
   "cell_type": "raw",
   "id": "93da8797-5514-4a86-beef-d6fc04962e1c",
   "metadata": {},
   "source": [
    "#10) What is method overloading and how it is related to constructors in Python?\n",
    "\n",
    "Ans. Method overloading is a feature in object-oriented programming that allows a class to have multiple methods with the same name but different parameter lists. Each method may perform a different task or have different behavior based on the number or types of arguments passed to it.\n",
    "\n",
    "When it comes to constructors in Python, method overloading is directly related to creating multiple constructors with different parameter lists. In the context of constructors, it allows you to define various ways to initialize objects of a class. For example : __init__() method is used to create multiple attributes of a class.\n",
    "\n"
   ]
  },
  {
   "cell_type": "raw",
   "id": "b004bd5b-40d6-4515-bf17-724a9357d074",
   "metadata": {},
   "source": [
    "#11) Explain the use of super() function in python constructor. Provide an example.\n",
    "\n",
    "Ans. In Python, a super() function is called by the child class to inherit a pre defined parameter in the parent class or a method , such that the child class can reassign the parameter and the initial value of the parameter in parent class remains intact. It is often used in constructors to invoke the constructor of the parent class, allowing us to reuse and extend the behavior of the parent class's constructor in the child class's constructor.\n",
    "\n"
   ]
  },
  {
   "cell_type": "code",
   "execution_count": 15,
   "id": "1f93281a-bbea-4845-8b7a-057e933b1543",
   "metadata": {},
   "outputs": [],
   "source": [
    "#Example\n",
    "\n",
    "class A:\n",
    "    \n",
    "    def __init__(self,name,age):\n",
    "        self.name = name\n",
    "        self.age = age\n",
    "    \n",
    "    def show_info(self):\n",
    "        print(self.name, self.age)\n",
    "        \n",
    "class B(A):\n",
    "    \n",
    "    def __init__(self,name,age):\n",
    "        super().__init__(name,age) #invoking parent class A with the parameters name,age\n",
    "        self.age = age\n",
    "    \n",
    "    def eligible_to_vote(self):\n",
    "        if self.age >=18:\n",
    "            print(\"Eligible to vote\")\n",
    "        else:\n",
    "            print(\"Not eligible to vote\")\n",
    "            \n",
    "      "
   ]
  },
  {
   "cell_type": "code",
   "execution_count": 19,
   "id": "1ea400e3-0cd6-405f-a839-957c0d9a29aa",
   "metadata": {},
   "outputs": [],
   "source": [
    "obj = A(\"Atul\",12)"
   ]
  },
  {
   "cell_type": "code",
   "execution_count": 20,
   "id": "8fc1f8d7-8cd4-4ffc-aa95-6216c3f4ce5e",
   "metadata": {},
   "outputs": [],
   "source": [
    "obj2 = B(\"Shankar\",13)"
   ]
  },
  {
   "cell_type": "code",
   "execution_count": 21,
   "id": "edff28b2-8057-45b0-89c9-ae84c6876208",
   "metadata": {},
   "outputs": [
    {
     "name": "stdout",
     "output_type": "stream",
     "text": [
      "Not eligible to vote\n"
     ]
    }
   ],
   "source": [
    "obj2.eligible_to_vote()"
   ]
  },
  {
   "cell_type": "code",
   "execution_count": 23,
   "id": "034afeaf-405b-4ebc-b1f3-f67f126994b0",
   "metadata": {},
   "outputs": [
    {
     "name": "stdout",
     "output_type": "stream",
     "text": [
      "Atul 12\n"
     ]
    }
   ],
   "source": [
    "obj.show_info() #the parent class variable remains intact in value"
   ]
  },
  {
   "cell_type": "raw",
   "id": "df0e17d8-d60e-436a-9b61-5dfe4d6a534f",
   "metadata": {},
   "source": [
    "#12) Create a class called 'Book' with a constructor that initializes the 'title','author', and 'published_year' attributes. Provide a method to display book details."
   ]
  },
  {
   "cell_type": "code",
   "execution_count": 28,
   "id": "ae990c67-f6d7-45d3-822d-8bb4826a296b",
   "metadata": {},
   "outputs": [],
   "source": [
    "class Book:\n",
    "    \n",
    "    def __init__(self,title,author,published_year):\n",
    "        self.title = title\n",
    "        self.author = author\n",
    "        self.published_year = published_year\n",
    "        \n",
    "    def book_details(self):\n",
    "        print(f'\\'{self.title}\\' , written by {self.author}, published on {self.published_year}')\n",
    "\n",
    "new_book = Book(\"The old man and the sea\",\"Ernest Hemingway\",1952)\n",
    "\n"
   ]
  },
  {
   "cell_type": "code",
   "execution_count": 29,
   "id": "a5e4b407-2d00-427f-828d-950662480428",
   "metadata": {},
   "outputs": [
    {
     "name": "stdout",
     "output_type": "stream",
     "text": [
      "'The old man and the sea' , written by Ernest Hemingway, published on 1952\n"
     ]
    }
   ],
   "source": [
    "new_book.book_details()"
   ]
  },
  {
   "cell_type": "raw",
   "id": "09d04ce4-07d2-4365-b11c-d3bb17d83d36",
   "metadata": {},
   "source": [
    "#13) Discuss the difference between constructor and regular method in Python class\n",
    "\n",
    "Ans: Constructor - \n",
    "\n",
    "The primary purpose of a constructor is to initialize the attributes (or properties) of an object when it is created. Constructors are automatically called when an object is instantiated from the class. The most common constructor in Python is the __init__ method.\n",
    "\n",
    "Constructors typically have special names, such as __init__, which is the most common constructor in Python. However, you can create multiple constructors with different names by defining methods.\n",
    "\n",
    "Other methods - \n",
    "\n",
    "Regular methods are used to perform actions, manipulate data, or provide behavior for objects. They do not necessarily perform initialization tasks and have to be called explicitly on an object.\n",
    "\n",
    "Regular methods can have any valid name following Python's naming conventions.\n",
    "    \n",
    "    "
   ]
  },
  {
   "cell_type": "raw",
   "id": "98765f05-d0ee-4ee6-aeff-61a34d6e6325",
   "metadata": {},
   "source": [
    "#14) Explain the role of 'self' parameter in instance variable initialization within a constructor\n",
    "\n",
    "\n",
    "Ans. Inside a constructor, such as the __init__ method, we use self to initialize instance variables to assign a particular value to it . Instance variables are attributes that are specific to each instance of the class.\n",
    "The self parameter is the conventional name for the first parameter in Python instance methods, including constructors, though we can technically use any valid variable name.\n"
   ]
  },
  {
   "cell_type": "raw",
   "id": "bb0a9932-e849-4995-98ee-e2bc2d6171c1",
   "metadata": {},
   "source": [
    "#15) How do you prevent a class from having multiple instances by using constructors in Python? Provide an example.\n",
    "\n",
    "Ans. By implementing Singleton design pattern, we can implement techniques to enforce a single instance pattern.\n",
    "\n",
    "The Singleton design pattern ensures that the class has only one instance throughout the program execution.\n"
   ]
  },
  {
   "cell_type": "code",
   "execution_count": 7,
   "id": "0e19eb23-4210-4f2b-ba0b-b099d6e5a8a1",
   "metadata": {},
   "outputs": [
    {
     "name": "stdout",
     "output_type": "stream",
     "text": [
      "True\n",
      "Data 2\n",
      "Data 2\n"
     ]
    }
   ],
   "source": [
    "#Example\n",
    "\n",
    "class Singleton:\n",
    "    _instance = None  # Class variable to store the single instance\n",
    "\n",
    "    def __new__(cls):\n",
    "        if cls._instance is None:\n",
    "            cls._instance = super(Singleton, cls).__new__(cls)\n",
    "        return cls._instance\n",
    "\n",
    "    def init_singleton(self, data):\n",
    "        self.data = data\n",
    "\n",
    "singleton1 = Singleton()\n",
    "singleton1.data = \"Data 1\"\n",
    "singleton2 = Singleton()\n",
    "singleton2.data = \"Data 2\"\n",
    "\n",
    "print(singleton1 is singleton2)  \n",
    "\n",
    "# Accessing data\n",
    "print(singleton1.data) \n",
    "print(singleton2.data)\n"
   ]
  },
  {
   "cell_type": "raw",
   "id": "89ea0cbd-b944-47ce-83e1-e243c8199e30",
   "metadata": {},
   "source": [
    "#17) Create a class called 'Student' with a constructor that takes a list of subjects as parameter and initializes 'subjects' as attributes."
   ]
  },
  {
   "cell_type": "code",
   "execution_count": 16,
   "id": "651fa504-f6ff-4e53-b8ab-bce85faaf1cc",
   "metadata": {},
   "outputs": [],
   "source": [
    "class Student:\n",
    "    \n",
    "    def __init__(self,subjects):\n",
    "        self.subjects = subjects\n",
    "        \n",
    "    def print_subjects(self):\n",
    "        for i in self.subjects:\n",
    "            print(i)\n",
    "        \n",
    "    \n",
    "test1 = Student([\"History\",\"Geography\",\"Maths\",\"Science\",\"Arts\",\"Philosophy\"])"
   ]
  },
  {
   "cell_type": "code",
   "execution_count": 17,
   "id": "e3120403-ca96-4053-8ceb-0b1b77317ec7",
   "metadata": {},
   "outputs": [
    {
     "name": "stdout",
     "output_type": "stream",
     "text": [
      "History\n",
      "Geography\n",
      "Maths\n",
      "Science\n",
      "Arts\n",
      "Philosophy\n"
     ]
    }
   ],
   "source": [
    "test1.print_subjects()"
   ]
  },
  {
   "cell_type": "raw",
   "id": "6f6b2a84-97ec-4b8d-8a5a-3bfb4b643b9c",
   "metadata": {},
   "source": [
    "#18) What is the purpose of '__del__' method in Python classes, and how do you relate it to constructors ?\n",
    "\n",
    "Ans. The __del__ method in Python is a special method used to define the destructor for a class. It is called when an object is about to be destroyed or deallocated. The primary purpose of the __del__ method is to perform cleanup and resource release operations before an object is removed from memory.\n",
    "\n",
    "Here's how it is related to a constructor :\n",
    "\n",
    "Constructor (__init__):\n",
    "\n",
    "Initializes object attributes.\n",
    "Sets up the object's initial state.\n",
    "Called when an object is created.\n",
    "\n",
    "Destructor (`del):\n",
    "\n",
    "Performs cleanup operations.\n",
    "Releases resources, if needed.\n",
    "Called when an object is about to be destroyed.\n",
    "\n",
    "The __del__ method is not commonly used in Python because most resource management and cleanup are handled automatically by Python's garbage collector. The explicit use of __del__ is generally discouraged, and it should be used with caution.\n"
   ]
  },
  {
   "cell_type": "code",
   "execution_count": 19,
   "id": "657158a6-08f0-440e-ae5a-ccaa6ce70299",
   "metadata": {},
   "outputs": [
    {
     "name": "stdout",
     "output_type": "stream",
     "text": [
      "File 'example.txt' is closed.\n"
     ]
    }
   ],
   "source": [
    "#Example:\n",
    "\n",
    "class FileHandler:\n",
    "    def __init__(self, filename):\n",
    "        self.filename = filename\n",
    "        self.file = open(filename, 'w')\n",
    "\n",
    "    def write(self, data):\n",
    "        self.file.write(data)\n",
    "\n",
    "    def __del__(self):\n",
    "        self.file.close()\n",
    "        print(f\"File '{self.filename}' is closed.\")\n",
    "\n",
    "file_handler = FileHandler(\"example.txt\")\n",
    "\n",
    "file_handler.write(\"Hello, world!\")\n",
    "\n",
    "# At the end of the script or when the object goes out of scope, the destructor is called\n",
    "# and it closes the file.\n"
   ]
  },
  {
   "cell_type": "raw",
   "id": "0848c394-5174-4fc5-9f78-938c23983ee7",
   "metadata": {},
   "source": [
    "#19) Explain the use of constructor chaining in Python. Provide a practical example.\n",
    "\n",
    "Ans. Constructor chaining in Python refers to the process of one constructor (usually in a subclass) calling another constructor (usually in a superclass) to reuse and extend the initialization logic of the parent class.\n",
    "\n",
    "To achieve constructor chaining, we need to use the super() function to call the constructor of the parent class. \n"
   ]
  },
  {
   "cell_type": "code",
   "execution_count": 20,
   "id": "658b782f-f394-4a51-96ca-946f0493a5b1",
   "metadata": {},
   "outputs": [
    {
     "name": "stdout",
     "output_type": "stream",
     "text": [
      "Alice\n",
      "30\n",
      "E12345\n",
      "Hello, my name is Alice. I am an employee with ID E12345.\n"
     ]
    }
   ],
   "source": [
    "#Example\n",
    "\n",
    "class Person:\n",
    "    def __init__(self, name, age):\n",
    "        self.name = name\n",
    "        self.age = age\n",
    "\n",
    "    def greet(self):\n",
    "        return f\"Hello, my name is {self.name}.\"\n",
    "\n",
    "class Employee(Person):\n",
    "    def __init__(self, name, age, employee_id):\n",
    "        super().__init__(name, age)  # Call the parent class constructors\n",
    "        self.employee_id = employee_id\n",
    "\n",
    "    def get_employee_info(self):\n",
    "        return f\"{self.greet()} I am an employee with ID {self.employee_id}.\"\n",
    "\n",
    "employee = Employee(\"Alice\", 30, \"E12345\")\n",
    "\n",
    "print(employee.name)  \n",
    "print(employee.age)   \n",
    "print(employee.employee_id)  \n",
    "print(employee.get_employee_info())  \n"
   ]
  },
  {
   "cell_type": "raw",
   "id": "738f0cc9-41ef-43b3-8b43-5c8f6bbf127a",
   "metadata": {},
   "source": [
    "#20) Create a Python class 'Car' with a default constructor that initializes 'make' and 'model' attributes. Provide a method to display car information."
   ]
  },
  {
   "cell_type": "code",
   "execution_count": 21,
   "id": "6b10489d-87e7-4a35-adde-5419021d069d",
   "metadata": {},
   "outputs": [],
   "source": [
    "class Car:\n",
    "    \n",
    "    def __init__(self,make,model):\n",
    "        self.make = make\n",
    "        self.model = model\n",
    "        \n",
    "    def show_info(self):\n",
    "        print(f'This model , {self.model} is made on {self.make}')\n",
    "        \n",
    "car1 = Car(\"2023\",\"Innova\")"
   ]
  },
  {
   "cell_type": "code",
   "execution_count": 22,
   "id": "763d732b-f64d-4e00-9c20-de6c8549297f",
   "metadata": {},
   "outputs": [
    {
     "name": "stdout",
     "output_type": "stream",
     "text": [
      "This model , Innova is made on 2023\n"
     ]
    }
   ],
   "source": [
    "car1.show_info()"
   ]
  },
  {
   "cell_type": "markdown",
   "id": "c9877b42-0dde-4e51-ab50-64640bd2c351",
   "metadata": {},
   "source": [
    "# Inheritance"
   ]
  },
  {
   "cell_type": "raw",
   "id": "d86e585a-0f8d-46b4-852e-b9e9e7e78fff",
   "metadata": {},
   "source": [
    "#1) What is Inheritance in Python ? Explin its significance in OOPs.\n",
    "\n",
    "Ans. Inheritance is a fundamental concept in object-oriented programming (OOP), and it allows one class to inherit the attributes and methods of another class. In Python, as in many other OOP languages, classes can be organized into hierarchies, with child classes inheriting properties and behaviors from parent classes. \n",
    "\n",
    "Importances of inheitance:\n",
    "\n",
    "Inheritance promotes code reuse. We can create a new class by inheriting the attributes and methods of an existing class. This reduces redundancy and allows one to build on existing code, saving time and effort.\n",
    "\n",
    "Inheritance helps in structuring classes into hierarchies that reflect real-world relationships.\n",
    "\n",
    "Subclasses can override (redefine) methods inherited from the superclass to provide custom behavior. This is known as method overriding, and it allows you to adapt the behavior of the superclass to the specific needs of the subclass.\n",
    "\n",
    "Inheritance makes it easier to maintain code. Changes made to the superclass are automatically reflected in all its subclasses, reducing the need for repetitive modifications.\n"
   ]
  },
  {
   "cell_type": "code",
   "execution_count": 23,
   "id": "2993be8c-00aa-497e-b26e-910b21760161",
   "metadata": {},
   "outputs": [
    {
     "name": "stdout",
     "output_type": "stream",
     "text": [
      "Buddy says Woof!\n",
      "Whiskers says Meow!\n"
     ]
    }
   ],
   "source": [
    "#Example\n",
    "\n",
    "class Animal:\n",
    "    def __init__(self, name):\n",
    "        self.name = name\n",
    "\n",
    "    def speak(self):\n",
    "        pass\n",
    "\n",
    "class Dog(Animal):\n",
    "    def speak(self):\n",
    "        return f\"{self.name} says Woof!\" #Implements method overriding\n",
    "\n",
    "class Cat(Animal):\n",
    "    def speak(self):\n",
    "        return f\"{self.name} says Meow!\" #Implements method overriding\n",
    "\n",
    "\n",
    "dog = Dog(\"Buddy\")\n",
    "cat = Cat(\"Whiskers\")\n",
    "\n",
    "\n",
    "print(dog.speak())  \n",
    "print(cat.speak())  \n"
   ]
  },
  {
   "cell_type": "raw",
   "id": "6734170f-e96f-4024-9516-4cc07fd61ede",
   "metadata": {},
   "source": [
    "#2) Differentiate between single inheritance and multiple inheritance in Python.\n",
    "   Provide example for each.\n",
    "\n",
    "Ans. Single Inheritance- Single Inheritance refers to a class inheriting attributes from only a single parent class. It creates a linear or a one dimentional hierarchy of a class.\n",
    "\n",
    "Multiple Inheritance - Multiple inheritance refers to a class inheriting attributes and methods from more than one parent class.In a multiple inheritance scenario, a subclass can have multiple immediate superclasses.\n"
   ]
  },
  {
   "cell_type": "raw",
   "id": "55700ebf-82b2-4e3f-b97c-334eb710b82e",
   "metadata": {},
   "source": [
    "#3) Create a Python class called 'Vehicle' with attributes 'color' and 'speed'. Then create a child class called 'Car' that inherits from vehicle and adds a 'brand' attribute. Provide an example of creating a 'Car' object."
   ]
  },
  {
   "cell_type": "code",
   "execution_count": 24,
   "id": "9500d028-ce77-4ba6-86da-11956d15bc49",
   "metadata": {},
   "outputs": [],
   "source": [
    "class Vehicle:\n",
    "    \n",
    "    def __init__(self,color,speed):\n",
    "        self.color = color\n",
    "        self.speed = speed\n",
    "        \n",
    "    def show_info(self):\n",
    "        print(self.color,self.speed)\n",
    "        \n",
    "class Car(Vehicle):\n",
    "    \n",
    "    def __init__(self,color,speed,brand):\n",
    "        super().__init__(color,speed)\n",
    "        self.brand = brand\n",
    "        \n",
    "    def show_info(self):\n",
    "        print(f\"Properties : Color = {self.color}, Speed = {self.speed}, Brand = {self.brand}\")\n",
    "        \n",
    "\n",
    "new_vehicle = Vehicle(\"Red\",\"270 km/hr\")\n",
    "new_car = Car(\"Yellow\",\"350 km/hr\",\"Lamborghini\")\n"
   ]
  },
  {
   "cell_type": "code",
   "execution_count": 25,
   "id": "43e02c60-47f9-4796-9b2d-5a60510b33af",
   "metadata": {},
   "outputs": [
    {
     "name": "stdout",
     "output_type": "stream",
     "text": [
      "Red 270 km/hr\n"
     ]
    }
   ],
   "source": [
    "new_vehicle.show_info() #calls the function show_info in Vehicle class with its attribute values "
   ]
  },
  {
   "cell_type": "code",
   "execution_count": 26,
   "id": "d8ad0fbe-85b4-4511-b159-fcd0a5bfb7c8",
   "metadata": {},
   "outputs": [
    {
     "name": "stdout",
     "output_type": "stream",
     "text": [
      "Properties : Color = Yellow, Speed = 350 km/hr, Brand = Lamborghini\n"
     ]
    }
   ],
   "source": [
    "new_car.show_info() #calls the function show_info in Car class with its defined attribute values "
   ]
  },
  {
   "cell_type": "raw",
   "id": "3f209c8b-6a0a-42f8-a98d-4e3ffc2cde3b",
   "metadata": {},
   "source": [
    "#4) Explain the concept of method overriding in inheritance. Provide a practical example.\n",
    "\n",
    "Ans. Method overriding allows a subclass to provide a specific implementation of a method that is already defined in its superclass. Method overriding is used to customize or specialize the behavior of a subclass, and it ensures that the subclass's version of the method is called when the method is invoked on objects of the subclass."
   ]
  },
  {
   "cell_type": "code",
   "execution_count": 27,
   "id": "fd30b5b7-58c4-467a-b0c5-b6c9fd4ee9b0",
   "metadata": {},
   "outputs": [
    {
     "name": "stdout",
     "output_type": "stream",
     "text": [
      "Area of circle1: 78.53975\n",
      "Area of circle2: 28.27431\n"
     ]
    }
   ],
   "source": [
    "#Example\n",
    "\n",
    "class Shape:\n",
    "    def area(self):\n",
    "        return 0\n",
    "\n",
    "class Circle(Shape):\n",
    "    def __init__(self, radius):\n",
    "        self.radius = radius\n",
    "\n",
    "    def area(self):\n",
    "        return 3.14159 * self.radius ** 2 #calling method of class Shape , with method overriding\n",
    "\n",
    "\n",
    "circle1 = Circle(5)\n",
    "circle2 = Circle(3)\n",
    "\n",
    "print(\"Area of circle1:\", circle1.area())\n",
    "print(\"Area of circle2:\", circle2.area())\n"
   ]
  },
  {
   "cell_type": "raw",
   "id": "cf37bf3b-1dfb-44c8-afd4-59634483518b",
   "metadata": {},
   "source": [
    "#5) How can you access the methods and attributes of a parent class from a child class in Python? Give an example.\n",
    "\n",
    "Ans. In Python, we can access the methods and attributes of a parent class from a child class using the super() function. The super() function allows us to refer to the parent class and call its methods and access its attributes within the child class. "
   ]
  },
  {
   "cell_type": "code",
   "execution_count": 29,
   "id": "586e2353-8a89-4fe2-90fb-b4e8f762e991",
   "metadata": {},
   "outputs": [
    {
     "name": "stdout",
     "output_type": "stream",
     "text": [
      "Child's name: Alice\n",
      "Hello, I am Alice. My hobby is Painting.\n"
     ]
    }
   ],
   "source": [
    "#Example\n",
    "\n",
    "class Parent:\n",
    "    def __init__(self, name):\n",
    "        self.name = name\n",
    "\n",
    "    def greet(self):\n",
    "        return f\"Hello, I am {self.name}.\"\n",
    "\n",
    "class Child(Parent):\n",
    "    def __init__(self, name, hobby):\n",
    "        super().__init__(name)  # Call the constructor of the Parent class\n",
    "        self.hobby = hobby\n",
    "\n",
    "    def introduce(self):\n",
    "        parent_greeting = super().greet()  # Call the 'greet' method of the Parent class\n",
    "        return f\"{parent_greeting} My hobby is {self.hobby}.\"\n",
    "\n",
    "# Creating an object of the Child class\n",
    "child = Child(\"Alice\", \"Painting\")\n",
    "\n",
    "\n",
    "print(\"Child's name:\", child.name)\n",
    "\n",
    "\n",
    "print(child.introduce()) \n"
   ]
  },
  {
   "cell_type": "raw",
   "id": "452b48b2-d218-42ac-8fd3-110243ae603f",
   "metadata": {},
   "source": [
    "#6) Discuss the use of 'super()' function in Python inheritance. When and why it is used? Provide an example.\n",
    "\n",
    "Ans. The super() function in Python is used to access and call methods or attributes of a parent class (superclass) from within a child class (subclass). It is typically used in the context of inheritance when you want to extend or override the behavior of a parent class in the child class while still making use of the parent class's functionality.\n",
    "\n",
    "Usage of super() method:\n",
    "Method Overriding: When we override a method in a child class, we may want to invoke the parent class's version of the method within the overridden method.\n",
    "\n",
    "Constructor Chaining: When the child class has its own constructor (__init__) and we want to call the constructor of the parent class to initialize attributes inherited from the parent class.\n",
    "\n",
    "Accessing Parent Class Attributes: When we want to access attributes or methods of the parent class from within the child class.\n",
    "\n"
   ]
  },
  {
   "cell_type": "code",
   "execution_count": 31,
   "id": "c5e85742-7ddf-46e2-b450-a4945bf2f6af",
   "metadata": {},
   "outputs": [
    {
     "name": "stdout",
     "output_type": "stream",
     "text": [
      "Hello, I am Alice. My hobby is Painting.\n"
     ]
    }
   ],
   "source": [
    "#Example\n",
    "\n",
    "class Parent:\n",
    "    def __init__(self, name):\n",
    "        self.name = name\n",
    "\n",
    "    def greet(self):\n",
    "        return f\"Hello, I am {self.name}.\"\n",
    "\n",
    "class Child(Parent):\n",
    "    def __init__(self, name, hobby):\n",
    "        super().__init__(name)  # Call the constructor of the Parent class\n",
    "        self.hobby = hobby\n",
    "\n",
    "    def introduce(self):\n",
    "        parent_greeting = super().greet()  # Call the 'greet' method of the Parent class\n",
    "        return f\"{parent_greeting} My hobby is {self.hobby}.\"\n",
    "\n",
    "# Creating an object of the Child class\n",
    "child = Child(\"Alice\", \"Painting\")\n",
    "\n",
    "# Calling the 'introduce' method of the Child class\n",
    "print(child.introduce())\n"
   ]
  },
  {
   "cell_type": "raw",
   "id": "abd43416-80af-4769-afb0-31cd2f1e85d2",
   "metadata": {},
   "source": [
    "#7) Create a Python class called 'Animal', with a method 'speak()'. Then create child classes 'Dog' and 'Cat' that inherit from 'Animal' and override the 'speak()' method. Provide and example of using these three classes."
   ]
  },
  {
   "cell_type": "code",
   "execution_count": 34,
   "id": "3e8ef0c4-689e-48b4-b886-73fab24c9a03",
   "metadata": {},
   "outputs": [],
   "source": [
    "class Animal:\n",
    "           \n",
    "    def speak(self):\n",
    "        print(\"Animal sounds\")\n",
    "    \n",
    "class Dog(Animal):\n",
    "    \n",
    "    def speak(self):  #overrides the method speak() in class Animal\n",
    "        print(\"Bark\")\n",
    "        \n",
    "class Cat(Animal):\n",
    "    \n",
    "    def speak(self):  #overrides the method speak() in class Animal\n",
    "        print(\"Meow\")"
   ]
  },
  {
   "cell_type": "code",
   "execution_count": 35,
   "id": "fe0398ea-186c-4966-86f2-81834ccc83e6",
   "metadata": {},
   "outputs": [
    {
     "name": "stdout",
     "output_type": "stream",
     "text": [
      "Bark\n"
     ]
    }
   ],
   "source": [
    "dog = Dog()\n",
    "dog.speak()"
   ]
  },
  {
   "cell_type": "code",
   "execution_count": 36,
   "id": "d2b6c8f9-a2e9-48a4-a41e-e284864f3758",
   "metadata": {},
   "outputs": [
    {
     "name": "stdout",
     "output_type": "stream",
     "text": [
      "Meow\n"
     ]
    }
   ],
   "source": [
    "cat = Cat()\n",
    "cat.speak()"
   ]
  },
  {
   "cell_type": "raw",
   "id": "f0ca728f-4cd1-4a9a-802b-23d2cf39c2e9",
   "metadata": {},
   "source": [
    "#8) Explain the role of 'isinstance()' function in python and how it relates to inheritance.\n",
    "\n",
    "Ans. The isinstance() function is used to determine whether an object is an instance of a specified class or a tuple of classes. It returns True if the object is an instance of the specified class or a subclass thereof; otherwise, it returns False.\n",
    "In the context of inheritance, the isinstance() function is often used to check if an object is an instance of a particular class or its subclasses.\n"
   ]
  },
  {
   "cell_type": "code",
   "execution_count": 38,
   "id": "3bead9d0-5436-4d75-904e-40384ed8e487",
   "metadata": {},
   "outputs": [
    {
     "name": "stdout",
     "output_type": "stream",
     "text": [
      "True\n",
      "True\n"
     ]
    }
   ],
   "source": [
    "#Example\n",
    "\n",
    "class Animal:\n",
    "    pass\n",
    "\n",
    "class Dog(Animal):\n",
    "    pass\n",
    "\n",
    "class Cat(Animal):\n",
    "    pass\n",
    "\n",
    "# Creating instances of Dog and Cat\n",
    "dog = Dog()\n",
    "cat = Cat()\n",
    "\n",
    "# Checking if objects are instances of specific classes\n",
    "print(isinstance(dog, Animal)) \n",
    "print(isinstance(cat, Animal)) \n"
   ]
  },
  {
   "cell_type": "raw",
   "id": "da9c9d73-2be3-41e6-8d38-5a3889f26525",
   "metadata": {},
   "source": [
    "#9) What is the purpose of 'issubclass()' function in Python and how it relates to inheritance ?\n",
    "\n",
    "Ans. The issubclass() function in Python is used to determine whether a given class is a subclass of another class or a tuple of classes. It checks the relationship between classes and is particularly useful when working with inheritance. \n",
    "\n",
    "The issubclass() function is particularly useful when working with inheritance, where classes are organized into hierarchical structures. It allows you to verify and assert the parent-child relationships between classes.\n"
   ]
  },
  {
   "cell_type": "code",
   "execution_count": 39,
   "id": "1a7a03a7-35e7-4e14-899e-0fc9c1cbd721",
   "metadata": {},
   "outputs": [
    {
     "name": "stdout",
     "output_type": "stream",
     "text": [
      "True\n",
      "True\n",
      "True\n",
      "False\n"
     ]
    }
   ],
   "source": [
    "#Example\n",
    "\n",
    "class Animal:\n",
    "    pass\n",
    "\n",
    "class Mammal(Animal):\n",
    "    pass\n",
    "\n",
    "class Bird(Animal):\n",
    "    pass\n",
    "\n",
    "class Dog(Mammal):\n",
    "    pass\n",
    "\n",
    "# Check if one class is a subclass of another\n",
    "print(issubclass(Mammal, Animal))\n",
    "print(issubclass(Bird, Animal)) \n",
    "print(issubclass(Dog, Mammal)) \n",
    "print(issubclass(Bird, Mammal))   \n"
   ]
  },
  {
   "cell_type": "raw",
   "id": "023f8bda-57f9-4d9f-831a-095b988c3e8d",
   "metadata": {},
   "source": [
    "#10) Discuss the concept of constructor inheritance in Python. How are constructors inherited in child classes?\n",
    "\n",
    "Ans. In Python, constructors are special methods in a class that are used to initialize the attributes of objects created from that class. When a child class is created, it inherits the constructor of the parent class. This means that the child class can utilize the parent class's constructor to initialize the attributes defined in the parent class.\n",
    "\n",
    "To inherit a constructor of the parent class, it should call the constructor of the parent class explicitly using super().__init__() to ensure that the parent class's attributes are properly initialized.\n",
    "If a child class defines its own constructor without explicitly calling the parent class's constructor using super(), the parent class's constructor will not be automatically called. This is known as constructor overriding. In such cases, the child class is responsible for initializing its own attributes, and the parent class's constructor is not automatically invoked.\n"
   ]
  },
  {
   "cell_type": "code",
   "execution_count": 1,
   "id": "1c2cc8bb-f3d0-4ef6-84e3-a201e8e52ffe",
   "metadata": {},
   "outputs": [
    {
     "name": "stdout",
     "output_type": "stream",
     "text": [
      "Child's name: Alice\n",
      "Child's age: 10\n"
     ]
    }
   ],
   "source": [
    "#Example\n",
    "class Parent:\n",
    "    def __init__(self, name):\n",
    "        self.name = name\n",
    "\n",
    "class Child(Parent):\n",
    "    def __init__(self, name, age):\n",
    "        super().__init__(name)  # Call the constructor of the Parent class\n",
    "        self.age = age\n",
    "\n",
    "# Creating an object of the Child class\n",
    "child = Child(\"Alice\", 10)\n",
    "\n",
    "# Accessing attributes\n",
    "print(\"Child's name:\", child.name)  # Output: Child's name: Alice\n",
    "print(\"Child's age:\", child.age)    # Output: Child's age: 10\n"
   ]
  },
  {
   "cell_type": "raw",
   "id": "bcc5d607-4c20-46bd-a4ac-8eb818ea41e3",
   "metadata": {},
   "source": [
    "#11) Create a Python class called \"Shape\" with a method \"area()\" that calculates area of a shape. Then create child classes \"Circle\" and \"Rectangle\" that inherit from \"Shape\" and implements \"area()\" method accordingly. Provide example."
   ]
  },
  {
   "cell_type": "code",
   "execution_count": 5,
   "id": "a0a3568f-4b4f-41f0-9ba8-9ab8f00eb2e0",
   "metadata": {},
   "outputs": [],
   "source": [
    "class Shape:\n",
    "          \n",
    "    def area(self):\n",
    "        pass\n",
    "        \n",
    "\n",
    "class Circle(Shape):\n",
    "    \n",
    "    def __init__(self,radius):\n",
    "        self.radius = radius\n",
    "        \n",
    "    def area(self):\n",
    "        print(f\"Area of the circle is {3.1428*self.radius} sqcm\")\n",
    "        \n",
    "class Rectangle(Shape):\n",
    "    \n",
    "    def __init__(self,length,breadth):\n",
    "        self.length=length\n",
    "        self.breadth = breadth\n",
    "        \n",
    "    def area(self):\n",
    "        print(f\"Area of the rectangle is {self.length*self.breadth} sqcm\")\n",
    "        \n",
    "\n",
    "        "
   ]
  },
  {
   "cell_type": "code",
   "execution_count": 6,
   "id": "dca3d975-8f7f-4807-9140-74aacf0c6636",
   "metadata": {},
   "outputs": [
    {
     "name": "stdout",
     "output_type": "stream",
     "text": [
      "Area of the circle is 69.1416 sqcm\n"
     ]
    }
   ],
   "source": [
    "circle = Circle(22)\n",
    "circle.area()"
   ]
  },
  {
   "cell_type": "code",
   "execution_count": 7,
   "id": "e016b667-7be9-44e2-9852-e3964870a3bc",
   "metadata": {},
   "outputs": [
    {
     "name": "stdout",
     "output_type": "stream",
     "text": [
      "Area of the rectangle is 408 sqcm\n"
     ]
    }
   ],
   "source": [
    "rectangle = Rectangle(24,17)\n",
    "rectangle.area()"
   ]
  },
  {
   "cell_type": "raw",
   "id": "acd74146-edb4-497e-a93d-9499705d7a88",
   "metadata": {},
   "source": [
    "#12) Explain the use of abstract base classes (ABCs) in Python and how are they related to inheritance. Provide an example using 'abc' module.\n",
    "\n",
    "Ans. Abstract Base Classes(ABCs) in Python is used to define a set of methods in the parent class that must be implemented in the derived class. ABC provides a blueprint to define attribute and methods that will be derived by the subclass, and it provides a structure to the code.\n",
    "\n",
    "When a class inherits from an ABC,it must implement all abstract methods defined under the ABC.This enforces that subclasses adhere to the expected behavior."
   ]
  },
  {
   "cell_type": "code",
   "execution_count": 8,
   "id": "a9242709-1ee8-4852-8af4-873d621b6eb6",
   "metadata": {},
   "outputs": [],
   "source": [
    "#Example\n",
    "\n",
    "from abc import ABC, abstractmethod\n",
    "\n",
    "# Define an abstract base class (ABC)\n",
    "class Shape(ABC):\n",
    "    \n",
    "    @abstractmethod\n",
    "    def area(self):\n",
    "        pass\n",
    "    \n",
    "    @abstractmethod\n",
    "    def perimeter(self):\n",
    "        pass\n",
    "    \n",
    "# Create a concrete subclass\n",
    "class Rectangle(Shape):\n",
    "    def __init__(self, width, height):\n",
    "        self.width = width\n",
    "        self.height = height\n",
    "\n",
    "    def area(self):\n",
    "        return self.width * self.height\n",
    "\n",
    "    def perimeter(self):\n",
    "        return 2 * (self.width + self.height)\n",
    "    \n",
    "    "
   ]
  },
  {
   "cell_type": "code",
   "execution_count": 9,
   "id": "42897535-2724-4fe1-9af5-a0e4fba243ba",
   "metadata": {},
   "outputs": [
    {
     "name": "stdout",
     "output_type": "stream",
     "text": [
      "Can't instantiate abstract class Shape with abstract methods area, perimeter\n"
     ]
    }
   ],
   "source": [
    "#Attempt to create an object instance for abstract base class will raise TypeError\n",
    "\n",
    "try:\n",
    "    shape = Shape()\n",
    "except TypeError as e:\n",
    "    print(e)"
   ]
  },
  {
   "cell_type": "code",
   "execution_count": 10,
   "id": "4f83cebf-c054-4ba9-9388-c276ac9c633b",
   "metadata": {},
   "outputs": [
    {
     "data": {
      "text/plain": [
       "20"
      ]
     },
     "execution_count": 10,
     "metadata": {},
     "output_type": "execute_result"
    }
   ],
   "source": [
    "rectangle = Rectangle(5, 4)\n",
    "rectangle.area()"
   ]
  },
  {
   "cell_type": "code",
   "execution_count": 11,
   "id": "b5756b5f-2a64-42b1-9e68-f5a09c4e340b",
   "metadata": {},
   "outputs": [
    {
     "data": {
      "text/plain": [
       "18"
      ]
     },
     "execution_count": 11,
     "metadata": {},
     "output_type": "execute_result"
    }
   ],
   "source": [
    "rectangle.perimeter()"
   ]
  },
  {
   "cell_type": "raw",
   "id": "ac79e60b-f2cb-416d-9cdf-ee3ae131522f",
   "metadata": {},
   "source": [
    "#13) How can you prevent a child class from modifying attributes or methods inherited from a parent class in Python ? Give example.\n",
    "\n",
    "Ans. By using super() method in the child class to derive the attributes and methods of parent class , we can prevent the child class to reinitialize the attributes of the parent class.\n",
    "\n"
   ]
  },
  {
   "cell_type": "code",
   "execution_count": 18,
   "id": "994ffe2d-7fa8-44e2-b8f3-c07792b5b08d",
   "metadata": {},
   "outputs": [
    {
     "name": "stdout",
     "output_type": "stream",
     "text": [
      "Hello, I am Alice.\n"
     ]
    }
   ],
   "source": [
    "#Example\n",
    "\n",
    "class Parent:\n",
    "    def __init__(self, name):\n",
    "        self.name = name\n",
    "\n",
    "    def greet(self):\n",
    "        return f\"Hello, I am {self.name}.\"\n",
    "\n",
    "class Child(Parent):\n",
    "    def __init__(self,name,hobby):\n",
    "        super().__init__(name)  # Calling the parent class attribute without reassigning \n",
    "        self.hobby = hobby      #initializing ne attribute of child class\n",
    "\n",
    "    def introduce(self):\n",
    "        return super().greet()  # Calls the 'greet' method of the Parent class and returns it\n",
    "\n",
    "# Creating an object of the Parent class\n",
    "parent = Parent(\"Alice\")\n",
    "parent.greet()\n",
    "# Creating an object of the Child class\n",
    "child = Child(\"Alice\", \"Painting\")\n",
    "\n",
    "# Calling the 'introduce' method of the Child class\n",
    "print(child.introduce())\n"
   ]
  },
  {
   "cell_type": "raw",
   "id": "fa91ad84-de53-49b5-9622-af6bc52f92f6",
   "metadata": {},
   "source": [
    "#14) Create a Python class called 'Employees' with attributes 'name' and 'salary'. Then create a child class 'Manager' that inherits from employee and adds attribute 'department' .Provide an example."
   ]
  },
  {
   "cell_type": "code",
   "execution_count": 19,
   "id": "87601934-f2ce-4684-bd42-becf975831b2",
   "metadata": {},
   "outputs": [],
   "source": [
    "class Employee:\n",
    "    \n",
    "    def __init__(self,name,salary):\n",
    "        self.name = name\n",
    "        self.salary = salary\n",
    "        \n",
    "    def show_info(self):\n",
    "        print(f\"Name : {self.name}, Salary: {self.salary}\")\n",
    "        \n",
    "    \n",
    "class Manager(Employee):\n",
    "    \n",
    "    def __init__(self,name,salary,department):\n",
    "        \n",
    "        super().__init__(name,salary)\n",
    "        self.department = department\n",
    "        \n",
    "        \n",
    "    def manager_info(self):\n",
    "        print(f\"Department: {self.department}, Manager of {self.name}\")\n"
   ]
  },
  {
   "cell_type": "code",
   "execution_count": 20,
   "id": "38e04c91-54bb-425d-b719-15abab55cce8",
   "metadata": {},
   "outputs": [],
   "source": [
    "new_emp = Employee(\"Manoj\",4200000)"
   ]
  },
  {
   "cell_type": "code",
   "execution_count": 21,
   "id": "8d7ca430-140e-459d-84ce-df126e2e1054",
   "metadata": {},
   "outputs": [
    {
     "name": "stdout",
     "output_type": "stream",
     "text": [
      "Name : Manoj, Salary: 4200000\n"
     ]
    }
   ],
   "source": [
    "new_emp.show_info()"
   ]
  },
  {
   "cell_type": "code",
   "execution_count": 22,
   "id": "c2cd25e3-a57c-405d-b59b-e849d9983743",
   "metadata": {},
   "outputs": [],
   "source": [
    "emp_manager = Manager(\"Manoj\",4200000,\"IT\")"
   ]
  },
  {
   "cell_type": "code",
   "execution_count": 23,
   "id": "98a55aee-a88e-4f7b-8dca-c45e5118a779",
   "metadata": {},
   "outputs": [
    {
     "name": "stdout",
     "output_type": "stream",
     "text": [
      "Department: IT, Manager of Manoj\n"
     ]
    }
   ],
   "source": [
    "emp_manager.manager_info()"
   ]
  },
  {
   "cell_type": "raw",
   "id": "cd82b5b1-3a9a-4146-9714-6dac37eddfda",
   "metadata": {},
   "source": [
    "#15) Discuss the concept of method overloading in Python. How is it different from method overriding ?\n",
    "\n",
    "Ans. Method overloading and Method overriding are two distinct concepts in python programming, and they serve as different purpose. \n",
    "\n",
    "Method overloading:\n",
    "Method overloading is a class property in some programming languages which allows the class to have more than one method of same name if they have different parameter lists. In Python, method overloading is not directly supported .However, Python allows a flexible approach to implement it by using default arguments and variable-length argument list.\n"
   ]
  },
  {
   "cell_type": "code",
   "execution_count": 24,
   "id": "25d10527-3c23-4ee5-b339-9f26c3fb98d4",
   "metadata": {},
   "outputs": [
    {
     "name": "stdout",
     "output_type": "stream",
     "text": [
      "5\n",
      "10\n"
     ]
    }
   ],
   "source": [
    "#Example of Method overloading\n",
    "\n",
    "class Calculator:\n",
    "    def add(self, a, b=0):\n",
    "        return a + b\n",
    "\n",
    "# Creating an instance of the Calculator class\n",
    "calc = Calculator()\n",
    "\n",
    "# Calling the 'add' method with one or two arguments\n",
    "result1 = calc.add(5)\n",
    "result2 = calc.add(3, 7)\n",
    "\n",
    "print(result1) \n",
    "print(result2)  \n",
    "\n",
    "#In this example, the add method in the Calculator class has two parameters, but the second parameter has a default value of 0. \n",
    "#This allows us to call the method with one or two arguments.\n"
   ]
  },
  {
   "cell_type": "raw",
   "id": "b1339fed-c8b7-45d9-bb9d-3544c914a1d9",
   "metadata": {},
   "source": [
    "Method overriding :\n",
    "Method overriding is a concept where a subclass provides a specific implementation of a method that is already defined in its superclass (parent class). The overriding method in the subclass has the same name and parameters as the method in the parent class, but it provides a different or more specialized behavior.\n"
   ]
  },
  {
   "cell_type": "code",
   "execution_count": 25,
   "id": "d33584cb-303c-4d70-9eb3-0ea90877b9a0",
   "metadata": {},
   "outputs": [
    {
     "name": "stdout",
     "output_type": "stream",
     "text": [
      "Dog barks\n"
     ]
    }
   ],
   "source": [
    "#Example of method overriding\n",
    "\n",
    "class Animal:\n",
    "    def speak(self):\n",
    "        return \"Animal speaks\"\n",
    "\n",
    "class Dog(Animal):\n",
    "    def speak(self):\n",
    "        return \"Dog barks\"\n",
    "\n",
    "# Creating an instance of the Dog class\n",
    "dog = Dog()\n",
    "\n",
    "# Calling the 'speak' method with child class instance\n",
    "result = dog.speak()\n",
    "\n",
    "print(result)\n"
   ]
  },
  {
   "cell_type": "raw",
   "id": "c439bc51-ab78-4a0c-89cc-49e259a628e5",
   "metadata": {},
   "source": [
    "#16) Explain the purpose of the '__init__' method in Python inheritance and how it is utilized in child class?\n",
    "\n",
    "Ans. The __init__ method in Python is a special method that is used to initialize the attributes of an object created from a class. It is often called a constructor because it is automatically invoked when an object of the class is created.\n",
    "\n",
    "Inheritance in Python means that a child class inherits the attributes and methods of its parent class. The __init__ method in the child class can be used to initialize its own attributes, as well as to invoke the __init__ method of the parent class to ensure that the attributes inherited from the parent class are initialized correctly.\n",
    "\n",
    "\n",
    "Utilization of the __init__ Method in Child Classes:\n",
    "\n",
    "Attribute Initialization: The child class's __init__ method can initialize its own attributes, which are specific to the child class.\n",
    "\n",
    "Superclass Initialization: To ensure that the attributes inherited from the parent class are properly initialized, the child class should call the parent class's __init__ method using super().__init__(). This initializes the parent class's attributes.\n"
   ]
  },
  {
   "cell_type": "code",
   "execution_count": 26,
   "id": "4d3330ec-8837-463e-8e03-57fd56795452",
   "metadata": {},
   "outputs": [
    {
     "name": "stdout",
     "output_type": "stream",
     "text": [
      "Child's name: Alice\n",
      "Child's age: 10\n"
     ]
    }
   ],
   "source": [
    "#Example\n",
    "\n",
    "class Parent:\n",
    "    def __init__(self, name):\n",
    "        self.name = name\n",
    "\n",
    "class Child(Parent):\n",
    "    def __init__(self, name, age):\n",
    "        super().__init__(name)  # Call the constructor of the Parent class\n",
    "        self.age = age\n",
    "\n",
    "# Creating an object of the Child class\n",
    "child = Child(\"Alice\", 10)\n",
    "\n",
    "# Accessing attributes\n",
    "print(\"Child's name:\", child.name) \n",
    "print(\"Child's age:\", child.age) \n"
   ]
  },
  {
   "cell_type": "raw",
   "id": "eb3c7508-9c79-4096-9331-caefc6273e0e",
   "metadata": {},
   "source": [
    "#17) Create a Python class 'Bird' with a method 'fly()'. Then create child classes 'Eagle' and 'Sparrow' that inherit from bird and implement 'fly()' method differently. Provide an example of using this classes."
   ]
  },
  {
   "cell_type": "code",
   "execution_count": 27,
   "id": "ebfd1210-368a-4951-a17d-2cb18d0c7583",
   "metadata": {},
   "outputs": [],
   "source": [
    "class Bird:\n",
    "    def fly(self):\n",
    "        print(\"All birds can fly other than Penguins\")\n",
    "        \n",
    "class Eagle(Bird):\n",
    "    \n",
    "    def fly(self):\n",
    "        print(\"Eagles fly near the prey\")\n",
    "        \n",
    "class Sparrow(Bird):\n",
    "    \n",
    "    def fly(self):\n",
    "        print(\"Sparrows fly everywhere\")\n",
    "    "
   ]
  },
  {
   "cell_type": "code",
   "execution_count": 29,
   "id": "c47fcd7a-9156-43dc-ba40-8cead1bc9a27",
   "metadata": {},
   "outputs": [
    {
     "name": "stdout",
     "output_type": "stream",
     "text": [
      "All birds can fly other than Penguins\n"
     ]
    }
   ],
   "source": [
    "bird = Bird() #assigning instance of parent class\n",
    "bird.fly()"
   ]
  },
  {
   "cell_type": "code",
   "execution_count": 30,
   "id": "4db52830-1a4f-4f31-b9d9-ec64983a2ba2",
   "metadata": {},
   "outputs": [
    {
     "name": "stdout",
     "output_type": "stream",
     "text": [
      "Eagles fly near the prey\n"
     ]
    }
   ],
   "source": [
    "eagle = Eagle()\n",
    "eagle.fly()"
   ]
  },
  {
   "cell_type": "code",
   "execution_count": 31,
   "id": "aec06f57-2d1e-457f-85f8-a977d71467b1",
   "metadata": {},
   "outputs": [
    {
     "name": "stdout",
     "output_type": "stream",
     "text": [
      "Sparrows fly everywhere\n"
     ]
    }
   ],
   "source": [
    "sparrow = Sparrow()\n",
    "sparrow.fly()"
   ]
  },
  {
   "cell_type": "raw",
   "id": "f2ef1093-44b7-4139-a053-bd093757bb4a",
   "metadata": {},
   "source": [
    "#18) What is the \"diamond problem\" in multiple inheritance and how does Python address it ?\n",
    "\n",
    "Ans. The \"diamond problem\" is a challenge or ambiguity that can occur in programming languages that support multiple inheritance. It arises when a class inherits from two or more classes, which, in turn, inherit from a common base class. This creates a diamond-shaped inheritance hierarchy. The problem occurs when a method or attribute from the common base class is called on an object of the derived class. \n",
    "\n"
   ]
  },
  {
   "cell_type": "code",
   "execution_count": 15,
   "id": "df60ee2d-bd3c-491f-81ca-f2325948af85",
   "metadata": {},
   "outputs": [
    {
     "name": "stdout",
     "output_type": "stream",
     "text": [
      "Method from class B\n"
     ]
    }
   ],
   "source": [
    "class A:\n",
    "    def method(self):\n",
    "        print(\"Method from class A\")\n",
    "\n",
    "class B(A):\n",
    "    def method(self):\n",
    "        print(\"Method from class B\")\n",
    "\n",
    "class C(A):\n",
    "    def method(self):\n",
    "        print(\"Method from class C\")\n",
    "\n",
    "class D(B,C):\n",
    "    def method(self):\n",
    "        super().method()\n",
    "\n",
    "d = D()\n",
    "d.method() \n",
    "\n",
    "#The ambuiguity in this case is which d.method() gets called , the one from class B or class C, since both classes inherits from A.\n"
   ]
  },
  {
   "cell_type": "raw",
   "id": "1366f0da-fc2a-4d69-a2d6-68bd8f8b9f33",
   "metadata": {},
   "source": [
    "For the diamond problem ambiguity in class inheritance , Python addresses the problem by implementing Method Resolution Order (MRO) and C3 linearization algorithm. This algorithm decides the order in which the base classes has to be considered to invoke a method .\n",
    "\n",
    "In the Method Resolution Order algorithm , the method of common name is called from the first parent class by default.\n",
    "\n",
    "To choose which method to invoke from a specific parent class, we have to mention the specific parent class explicitly to implement the particular method in it. \n",
    "\n"
   ]
  },
  {
   "cell_type": "code",
   "execution_count": 23,
   "id": "f1fbb635-abc2-435f-a0e6-b141c45b258b",
   "metadata": {},
   "outputs": [
    {
     "name": "stdout",
     "output_type": "stream",
     "text": [
      "Method from class C\n"
     ]
    }
   ],
   "source": [
    "#Example\n",
    "\n",
    "class D(B, C):\n",
    "    def method(self):\n",
    "        C.method(self) # Calls method from class C\n",
    "\n",
    "d = D()\n",
    "d.method()  # Output: Method from class C\n"
   ]
  },
  {
   "cell_type": "raw",
   "id": "9ee7cb58-ef41-4fa9-ac19-987fc1e88aa3",
   "metadata": {},
   "source": [
    "#19) Discuss the concept of \"is-a\" and \"has-a\" relationship in inheritance ,a nd provide examples of each.\n",
    "\n",
    "Ans. \"Is-a\" and \"has-a\" concept in object oriented programming, detremines the relationship between different classes and how it is used to model real life entities.\n",
    "\n",
    "\"Is-a\" relationship:\n",
    "The \"is-a\" relationship refers to \"subclassing\" or \"derivation\" of a child class from a parent class. It determines whether one class is a specialized version of another class, represented by additional attributes of the parent class.\n",
    "\n",
    "In the \"is-a\" relationship, a subclass (child class) is said to be a type of its superclass (parent class). This implies that objects of the subclass can be used wherever objects of the superclass are expected, but the subclass may have additional or specialized features.\n"
   ]
  },
  {
   "cell_type": "code",
   "execution_count": 26,
   "id": "730beeec-7298-4c0c-a767-0264ed2aa7f8",
   "metadata": {},
   "outputs": [],
   "source": [
    "#Example of \"is-a\" relationship\n",
    "\n",
    "class Vehicle:\n",
    "    def move(self):\n",
    "        print(\"Vehicle is moving\")\n",
    "\n",
    "class Car(Vehicle):\n",
    "    def fuel_up(self):\n",
    "        print(\"Fueling up the car\")\n",
    "\n",
    "class Bicycle(Vehicle):\n",
    "    def pedal(self):\n",
    "        print(\"Pedaling the bicycle\")\n",
    "\n",
    "#In this example, Car and Bicycle are subclasses of Vehicle, \n",
    "#and they inherit the move method from the Vehicle class. They are specialized types of vehicles."
   ]
  },
  {
   "cell_type": "raw",
   "id": "9b86e594-94b1-4f56-9d33-7b996eec1fe5",
   "metadata": {},
   "source": [
    "\"Has-a\" relationship :\n",
    "\n",
    "The \"has-a\" relationship is also called \"composition\" or \"aggregation\", implies where one class has the attribute or method of another class , where no inheriance is involved. \n",
    "In the \"has-a\" relationship, a class has one or more objects of another class as components or parts, and it can delegate tasks to those objects. This allows for more flexible and modular designs.\n"
   ]
  },
  {
   "cell_type": "code",
   "execution_count": 27,
   "id": "3968b688-489f-4d4f-9a21-cb4c6cf87ecb",
   "metadata": {},
   "outputs": [],
   "source": [
    "#Example\n",
    "\n",
    "class Address:\n",
    "    def __init__(self, street, city, zip_code):\n",
    "        self.street = street\n",
    "        self.city = city\n",
    "        self.zip_code = zip_code\n",
    "\n",
    "class Person:\n",
    "    def __init__(self, name, age, address):\n",
    "        self.name = name\n",
    "        self.age = age\n",
    "        self.address = address\n",
    "\n",
    "    def display_info(self):\n",
    "        print(f\"Name: {self.name}, Age: {self.age}\")\n",
    "        print(f\"Address: {self.address.street}, {self.address.city}, {self.address.zip_code}\")\n",
    "\n",
    "# In this example, the Person class has a \"has-a\" relationship with the Address class.\n",
    "# A Person has an Address as one of its attributes which it calls from the address class."
   ]
  },
  {
   "cell_type": "raw",
   "id": "609b516d-5700-473f-a170-1d2952c4f152",
   "metadata": {},
   "source": [
    "#20) Create a Python class hierarchy for a university system. Start with a base class 'Person' and create child classes 'Student' and 'Professor', each with their own attributes and methods . Provide an example of using these classes in a university context."
   ]
  },
  {
   "cell_type": "code",
   "execution_count": 10,
   "id": "fb6e788c-7016-4b2a-962e-a5bebbd827d1",
   "metadata": {},
   "outputs": [],
   "source": [
    "class Person:\n",
    "    \n",
    "    def __init__(self,name,age):\n",
    "        self.name = name\n",
    "        self.age = age\n",
    "        \n",
    "        \n",
    "    def info(self):\n",
    "        print(f\"Name: {self.name}, Age: {self.age}\")\n",
    "        \n",
    "class Student(Person):\n",
    "    \n",
    "    def __init__(self,name,age,roll_number,section,department):\n",
    "        super().__init__(name,age)\n",
    "        self.roll_number = roll_number\n",
    "        self.section = section\n",
    "        self.department = department\n",
    "        \n",
    "    def student_info(self):\n",
    "        print(f\"Student name: {self.name}, Age: {self.age}, roll_number: {self.roll_number}, Department:{self.department}, Section: {self.section}\")\n",
    "  \n",
    "              \n",
    "            \n"
   ]
  },
  {
   "cell_type": "code",
   "execution_count": 11,
   "id": "bfcc6b30-db5e-4471-9a22-e4e87c172b5d",
   "metadata": {},
   "outputs": [
    {
     "name": "stdout",
     "output_type": "stream",
     "text": [
      "Name: Tom, Age: 21\n"
     ]
    }
   ],
   "source": [
    "person = Person(\"Tom\",21)\n",
    "person.info()"
   ]
  },
  {
   "cell_type": "code",
   "execution_count": 12,
   "id": "fb7c7a05-51e0-4b64-bdec-7156f71e2c07",
   "metadata": {},
   "outputs": [
    {
     "name": "stdout",
     "output_type": "stream",
     "text": [
      "Student name: Tom, Age: 21, roll_number: 1471, Department:Physiology, Section: Section-3\n"
     ]
    }
   ],
   "source": [
    "student = Student(\"Tom\",21,1471,\"Section-3\",\"Physiology\")\n",
    "student.student_info()"
   ]
  },
  {
   "cell_type": "markdown",
   "id": "33a2740b-62ee-493b-8933-c594b5b7e43e",
   "metadata": {},
   "source": [
    "# Encapsulation"
   ]
  },
  {
   "cell_type": "raw",
   "id": "e7bb07ee-2d92-4788-a0f7-c5415ed1afe4",
   "metadata": {},
   "source": [
    "#1) Explain the concept of encapsulation in Python. What is its role in object oriented programming?\n",
    "\n",
    "Ans. Encapsulation is one of the most fundamental principal of object oriented programming. It is the property by which it allows the class to hide the details of the object or methods, and provides a controlled way to access and modify its state. \n",
    "\n",
    "The advantage of Encapsulation in class:\n",
    "\n",
    "Data Protection - Encapsulation helps in protecting the integrity of an object's data by controlling access to it. By defining access modifiers like public, private, and protected, we can restrict the visibility and modification of data.\n",
    "\n",
    "Abstraction - It provides a level of abstraction, allowing us to interact with an object without needing to understand its internal workings. We can use the object's public interface (methods) to perform actions on the data.\n",
    "\n",
    "Code Organization: Encapsulation promotes better code organization. Grouping data and the methods that operate on it within a class makes the code more organized and maintainable.\n",
    "\n",
    "Modularity - It allows the class objects to be maintained, developed and tested independently."
   ]
  },
  {
   "cell_type": "raw",
   "id": "2b734353-b499-440b-93f9-e275512e2bba",
   "metadata": {},
   "source": [
    "#2) Describe the key principal of encapsulation, including 'access control' and 'data hiding' .\n",
    "\n",
    "Ans. Access control : Access control is the fundmental principal of encapsulation , which defines whoch class attributes can be accessed outside the class and which parts are hidden from external access. Access control is a way to manage and restrict the interaction of the data inside the class.\n",
    "\n",
    "There are typically three levels of access control:\n",
    "\n",
    "Public - Public attributes and methods can be accessed from anywhere , both from inside and outside the class.\n",
    "\n",
    "Private - Private attributes are meant to be accessed from inside the class and shouldn't be accessed externally. In many programming languages, including Python, private members are indicated by prefixing their names with double underscores (e.g., __variable or __method()).\n",
    "\n",
    "Protected - Protected methods and attributes are accessible within the class and its subclass.  In Python, protected members are indicated by prefixing their names with a single underscore (e.g., _variable or _method()). \n",
    "\n",
    "Data hiding - Data hiding is the practice of hiding the method and attribute details inside a class, to ensure that the objects are not mishandled externally . The purpose of data hiding is to prevent exteranal modification of the data and to maintain consistency and corectness of it. \n",
    "In many programming languages, data hiding is achieved by marking attributes as private or protected and providing controlled access to them through getter and setter methods. Getter methods allow reading the values of private attributes, and setter methods enable the modification of those values in a controlled manner. This allows the class to encapsulate the internal data while providing a well-defined interface for external code to interact with the object.\n",
    "\n"
   ]
  },
  {
   "cell_type": "raw",
   "id": "51709817-e6d9-4c31-b086-e8f1b728efea",
   "metadata": {},
   "source": [
    "#3) How can you achieve encapsulation in Python class ?\n",
    "\n",
    "Ans. Encapsulation in Python can be achieved through a combination of access control and data hiding. Here are the key techniques for achieving encapsulation in a Python class:\n",
    "\n",
    "Access Control:\n",
    "\n",
    "Public Access: By default, all attributes and methods in a Python class are public, meaning they can be accessed from anywhere, both within and outside the class. Public members have no access restrictions.\n",
    "\n",
    "Protected Access: We can indicate that an attribute or method is protected by prefixing its name with a single underscore (e.g., _variable or _method()). This is a convention and signifies that the member should not be accessed from outside the class. While Python does not enforce strict access control, it is a signal to other developers that these members are intended for internal use or for use by subclasses.\n",
    "\n",
    "Private Access: To make an attribute or method private, you can prefix its name with a double underscore (e.g., __variable or __method()). Like protected members, this is also a convention. It indicates that the member should not be accessed or modified directly from outside the class. Python performs name mangling for private members, making them less accessible, but it is still possible to access them with some effort.\n",
    "\n",
    "Data Hiding:\n",
    "Data hiding involves restricting direct access to the attributes of a class and providing controlled access through getter and setter methods. This allows the class to encapsulate its internal data.\n",
    "\n",
    "Getter Methods: These methods provide read access to private class attributes and methods upon calling , without directly accessing the class attributes.\n",
    "\n",
    "Setter Methods :This allows to modify the class attributes upon calling and access it in a controlled way. \n",
    "\n"
   ]
  },
  {
   "cell_type": "code",
   "execution_count": 14,
   "id": "dc904ab2-a45d-48ac-bf00-15aae2211875",
   "metadata": {},
   "outputs": [
    {
     "name": "stdout",
     "output_type": "stream",
     "text": [
      "Alice\n",
      "Bob\n",
      "30\n",
      "Age must be non-negative.\n",
      "30\n"
     ]
    }
   ],
   "source": [
    "class Person:\n",
    "    def __init__(self, name, age):\n",
    "        self._name = name  # Protected attribute\n",
    "        self.__age = age  # Private attribute\n",
    "\n",
    "    def get_name(self):  # Getter for name\n",
    "        return self._name\n",
    "\n",
    "    def set_name(self, name):  # Setter for name\n",
    "        self._name = name\n",
    "\n",
    "    def get_age(self):  # Getter for age\n",
    "        return self.__age\n",
    "\n",
    "    def set_age(self, age):  # Setter for age\n",
    "        if age >= 0:\n",
    "            self.__age = age\n",
    "        else:\n",
    "            print(\"Age must be non-negative.\")\n",
    "\n",
    "# Create a Person object\n",
    "person = Person(\"Alice\", 30)\n",
    "\n",
    "# Access and modify attributes using getter and setter methods\n",
    "print(person.get_name()) \n",
    "person.set_name(\"Bob\") \n",
    "print(person.get_name())  \n",
    "\n",
    "print(person.get_age()) \n",
    "person.set_age(-5) \n",
    "print(person.get_age())\n"
   ]
  },
  {
   "cell_type": "raw",
   "id": "fd01c6d2-b1e0-494a-86e6-a81077427582",
   "metadata": {},
   "source": [
    "#4) Discuss between private, public and protected access modifiers in Python.\n",
    "\n",
    "Ans. In Python, access modifiers are used to control the visibility and accessibility of class members (attributes and methods). There are three main access modifiers: public, protected, and private.\n",
    "\n",
    "Public Access (No Modifier):\n",
    "\n",
    "In Python, by default, all attributes and methods within a class are considered public, which means they can be accessed from anywhere, both within and outside the class.\n",
    "\n",
    "There are no naming conventions for public members. We simply define them without any prefixes.\n",
    "\n",
    "Public members have no access restrictions, and they can be freely accessed, modified, or invoked from any part of the code.\n",
    "\n"
   ]
  },
  {
   "cell_type": "code",
   "execution_count": 15,
   "id": "a6e435ae-dc46-42e2-bd2b-107cd7654b3c",
   "metadata": {},
   "outputs": [
    {
     "name": "stdout",
     "output_type": "stream",
     "text": [
      "This is a public method\n"
     ]
    }
   ],
   "source": [
    "#Example:\n",
    "\n",
    "class MyClass:\n",
    "    def my_method(self):\n",
    "        return \"This is a public method\"\n",
    "\n",
    "obj = MyClass()\n",
    "print(obj.my_method())  # Accessing a public method\n"
   ]
  },
  {
   "cell_type": "raw",
   "id": "c5e610f4-4e2d-46cc-8240-3cad7877e966",
   "metadata": {},
   "source": [
    "Protected Access (Single Underscore Prefix):\n",
    "\n",
    "In Python, we can indicate that an attribute or method is protected by prefixing its name with a single underscore (e.g., _variable or _method()).\n",
    "\n",
    "This is a convention, not a strict access control mechanism. It signals to other developers that the member should not be accessed directly from outside the class. However, it is still possible to access protected members from external code.\n",
    "\n",
    "The primary purpose of protected members is to suggest that they are intended for internal use within the class or for use by subclasses.\n"
   ]
  },
  {
   "cell_type": "code",
   "execution_count": 16,
   "id": "0e66063d-9dc1-4032-924c-ff0240282de5",
   "metadata": {},
   "outputs": [
    {
     "name": "stdout",
     "output_type": "stream",
     "text": [
      "42\n",
      "This is a protected method\n"
     ]
    }
   ],
   "source": [
    "class MyClass:\n",
    "    def __init__(self):\n",
    "        self._protected_var = 42  # Protected attribute\n",
    "\n",
    "    def _protected_method(self):\n",
    "        return \"This is a protected method\"\n",
    "\n",
    "obj = MyClass()\n",
    "print(obj._protected_var)  # Accessing a protected attribute \n",
    "print(obj._protected_method())  # Accessing a protected method \n"
   ]
  },
  {
   "cell_type": "raw",
   "id": "2c783d62-f64d-44ac-b9fe-f5c069c33a32",
   "metadata": {},
   "source": [
    "Private Access (Double Underscore Prefix):\n",
    "\n",
    "In Python, you can make an attribute or method private by prefixing its name with a double underscore (e.g., __variable or __method()).\n",
    "\n",
    "Like protected access, this is also a convention and not a strict access control mechanism. However, Python performs name mangling to make it more challenging to access private members from outside the class.\n",
    "\n",
    "Private members are primarily used to indicate that they should not be accessed or modified directly from outside the class."
   ]
  },
  {
   "cell_type": "code",
   "execution_count": 17,
   "id": "7c3141c1-b0f8-47a7-b08a-a5fcbf96c13a",
   "metadata": {},
   "outputs": [
    {
     "name": "stdout",
     "output_type": "stream",
     "text": [
      "42\n",
      "This is a private method\n"
     ]
    }
   ],
   "source": [
    "#Example\n",
    "\n",
    "class MyClass:\n",
    "    def __init__(self):\n",
    "        self.__private_var = 42  # Private attribute\n",
    "\n",
    "    def __private_method(self):\n",
    "        return \"This is a private method\"\n",
    "\n",
    "obj = MyClass()\n",
    "\n",
    "print(obj._MyClass__private_var)  # Accessing a private attribute (not allowed)\n",
    "print(obj._MyClass__private_method())  # Accessing a private method (not allowed)\n"
   ]
  },
  {
   "cell_type": "raw",
   "id": "1b1f2293-aec6-4089-a947-d29422284508",
   "metadata": {},
   "source": [
    "#5) Create a Python class called 'Person' with a private attribute '__name'.Provide methods to get and set the name attribute."
   ]
  },
  {
   "cell_type": "code",
   "execution_count": 9,
   "id": "06152c80-17d6-4602-ada5-159391b80771",
   "metadata": {},
   "outputs": [],
   "source": [
    "class Person:\n",
    "    \n",
    "    def __init__(self,name):\n",
    "        self.__name = name #assigning name as a private attribute\n",
    "        \n",
    "    \n",
    "    def set_name(self,name):\n",
    "        self.__name = None if name=='' else name\n",
    "        #assigning values to name attribute\n",
    "        \n",
    "    def get_name(self):\n",
    "        return self.__name #returns the assigned attribute value , assigned by set method\n",
    "    \n",
    "    def __str__(self):\n",
    "        return(\"This is a private object\")\n",
    "    \n",
    "    \n",
    "new_person = Person(\"Riya\")"
   ]
  },
  {
   "cell_type": "code",
   "execution_count": 10,
   "id": "dabae412-bd12-4dd4-904c-72a327f709b6",
   "metadata": {},
   "outputs": [],
   "source": [
    "new_person.set_name(\"Rahul\") #sets the name to new parameter"
   ]
  },
  {
   "cell_type": "code",
   "execution_count": 11,
   "id": "bb7447b9-7507-4e58-84e8-2b686fa80c7d",
   "metadata": {},
   "outputs": [
    {
     "data": {
      "text/plain": [
       "'Rahul'"
      ]
     },
     "execution_count": 11,
     "metadata": {},
     "output_type": "execute_result"
    }
   ],
   "source": [
    "new_person.get_name()"
   ]
  },
  {
   "cell_type": "code",
   "execution_count": 12,
   "id": "7a5378c4-8326-4c11-8755-9783439b2b63",
   "metadata": {},
   "outputs": [
    {
     "name": "stdout",
     "output_type": "stream",
     "text": [
      "This is a private object\n"
     ]
    }
   ],
   "source": [
    "print(new_person) #object definition"
   ]
  },
  {
   "cell_type": "raw",
   "id": "6e944da2-3f7c-451b-ad43-6a3fbb33b8d5",
   "metadata": {},
   "source": [
    "#6) Explain the purpose of getter and setter methods in encapsulation. Provide example.\n",
    "\n",
    "Ans. Getter and Setter , also known as accessor and mutators in a class is used to control and manage access of attributes in a class.\n",
    "\n",
    "Getter Method(Accessor):\n",
    "\n",
    "Getter method provides read access to the private and protected attributes in a class, with a consistent approach . A getter method can also contain logical operations , if needed. Getters specify thet attributes are read-only from external code, which protects the data from external modification.\n",
    "\n",
    "Setters (Mutator Methods):\n",
    "\n",
    "Setters are methods that provide write access to the private or protected attributes of a class. They allow external code to modify the values of these attributes in a controlled manner.\n",
    "They are valuable for validation and data consistency and can check the new value and ensure that it meets certain criteria or constraints.\n",
    "Setters enable encapsulation by encapsulating the logic for modifying attributes within the class, making it easier to change the internal representation of data without affecting external code.\n"
   ]
  },
  {
   "cell_type": "code",
   "execution_count": 13,
   "id": "92832cbb-99d4-437d-be5c-d06192e8bbc5",
   "metadata": {},
   "outputs": [
    {
     "name": "stdout",
     "output_type": "stream",
     "text": [
      "Alice\n",
      "Bob\n",
      "30\n",
      "Age must be non-negative.\n",
      "30\n"
     ]
    }
   ],
   "source": [
    "#Example\n",
    "\n",
    "class Person:\n",
    "    def __init__(self, name, age):\n",
    "        self._name = name  # Protected attribute\n",
    "        self.__age = age  # Private attribute\n",
    "\n",
    "    def get_name(self):  # Getter for name\n",
    "        return self._name\n",
    "\n",
    "    def set_name(self, name):  # Setter for name\n",
    "        self._name = name\n",
    "\n",
    "    def get_age(self):  # Getter for age\n",
    "        return self.__age\n",
    "\n",
    "    def set_age(self, age):  # Setter for age with validation\n",
    "        if age >= 0:\n",
    "            self.__age = age\n",
    "        else:\n",
    "            print(\"Age must be non-negative.\")\n",
    "\n",
    "# Create a Person object\n",
    "person = Person(\"Alice\", 30)\n",
    "\n",
    "# Access and modify attributes using getter and setter methods\n",
    "print(person.get_name())  # Accessing name\n",
    "person.set_name(\"Bob\")  # Modifying name\n",
    "print(person.get_name())  # Accessing modified name\n",
    "\n",
    "print(person.get_age())  # Accessing age\n",
    "person.set_age(-5)  # Attempting to set a negative age\n",
    "print(person.get_age())  # Age remains unchanged\n"
   ]
  },
  {
   "cell_type": "raw",
   "id": "028c2ca9-fe10-4578-ac0a-8f24213ecdf6",
   "metadata": {},
   "source": [
    "#7) What is name mangling in Python and how does it affect encapsulation?\n",
    "\n",
    "Ans. Name mangling is a mechanism in Python that slightly obfuscates the names of attributes in a class to make them less accessible from outside the class. It is often associated with attributes marked as private (those with double underscores, e.g., __variable).\n",
    "\n",
    "The purpose of name mangling is to discourage direct access to private attributes from external code, but it doesn't provide strict access control. Instead, it makes it more challenging to accidentally access or override private attributes. Name mangling is applied by modifying the name of a private attribute in a way that includes the class name as a prefix.\n"
   ]
  },
  {
   "cell_type": "code",
   "execution_count": 15,
   "id": "69f97a1f-3457-4422-aba3-b0df6270a58d",
   "metadata": {},
   "outputs": [
    {
     "name": "stdout",
     "output_type": "stream",
     "text": [
      "42\n"
     ]
    }
   ],
   "source": [
    "#Example:\n",
    "\n",
    "class MyClass:\n",
    "    def __init__(self):\n",
    "        self.__private_var = 42  # Private attribute\n",
    "\n",
    "class AnotherClass:\n",
    "    def access_private_var(self, obj):\n",
    "        # Accessing the private attribute with name mangling\n",
    "        return obj._MyClass__private_var\n",
    "\n",
    "my_obj = MyClass()\n",
    "another_obj = AnotherClass()\n",
    "\n",
    "# Attempting to access the private attribute directly (not recommended)\n",
    "#print(my_obj.__private_var)  # This will raise an AttributeError\n",
    "\n",
    "# Accessing the private attribute using name mangling\n",
    "print(another_obj.access_private_var(my_obj)) \n"
   ]
  },
  {
   "cell_type": "raw",
   "id": "98553700-fb62-49d3-9592-20ca2d18c8a7",
   "metadata": {},
   "source": [
    "#8) Create a Python class called 'Bank Account' with private attributes for the account balance('__balance') and account number ('__acount_number'). Provide methods for depositing and withdrawing money."
   ]
  },
  {
   "cell_type": "code",
   "execution_count": 25,
   "id": "55fdbf0e-c808-4898-8736-888ef2682afe",
   "metadata": {},
   "outputs": [],
   "source": [
    "class Bank_Account:\n",
    "    \n",
    "    def __init__(self,balance,account_number):\n",
    "        self.__balance = balance\n",
    "        self.__account_number = account_number\n",
    "        \n",
    "    \n",
    "    def deposit(self,amount):\n",
    "        self.__balance = self.__balance+ amount\n",
    "        print(f\"Your balance after depositing {amount} to A/C no. {self.__account_number} is {self.__balance}\")\n",
    "        \n",
    "    def withdraw(self,amount):\n",
    "        self.__balance = self.__balance - amount\n",
    "        print(f\"Your balance after withdrawing {amount} to A/C no. {self.__account_number} is {self.__balance}\")"
   ]
  },
  {
   "cell_type": "code",
   "execution_count": 26,
   "id": "765381b6-0621-409e-92e9-9a9bea197a14",
   "metadata": {},
   "outputs": [
    {
     "name": "stdout",
     "output_type": "stream",
     "text": [
      "Your balance after depositing 35000 to A/C no. 891376482589 is 485000\n"
     ]
    }
   ],
   "source": [
    "check_balance = Bank_Account(450000,891376482589)\n",
    "check_balance.deposit(35000)"
   ]
  },
  {
   "cell_type": "code",
   "execution_count": 27,
   "id": "fb21f222-a89d-4ae1-acb8-ec231d68a249",
   "metadata": {},
   "outputs": [
    {
     "name": "stdout",
     "output_type": "stream",
     "text": [
      "Your balance after withdrawing 25000 to A/C no. 891376482589 is 460000\n"
     ]
    }
   ],
   "source": [
    "check_balance.withdraw(25000)"
   ]
  },
  {
   "cell_type": "code",
   "execution_count": 28,
   "id": "266bbda1-f54d-489e-9cf5-7d63aa662b86",
   "metadata": {},
   "outputs": [
    {
     "name": "stdout",
     "output_type": "stream",
     "text": [
      "Your balance after withdrawing 25000 to A/C no. 891376482589 is 435000\n"
     ]
    }
   ],
   "source": [
    "check_balance.withdraw(25000)"
   ]
  },
  {
   "cell_type": "raw",
   "id": "0f7c6097-cba8-49a5-a6eb-8e3d2b492c74",
   "metadata": {},
   "source": [
    "#9) Explain the advantages of encapsulation in terms of code maintainability and security.\n",
    "\n",
    "Ans. Encapsulation offers several advantages in terms of code maintainability and security in object-oriented programming (OOP). Here are some of the key benefits:\n",
    "\n",
    "1. Code Maintainability:\n",
    "\n",
    "Encapsulation encourages the organization of code into self-contained units, i.e., classes. Classes and objects can be developed, tested, and maintained independently. This modularity makes it easier to update or extend functionality without affecting the rest of the codebase.When an issue arises, encapsulation helps narrow down the search for problems to a specific class or module, which simplifies debugging.\n",
    "\n",
    "2. Data Security:\n",
    "\n",
    "Encapsulation allows you to restrict access to the internal state (attributes) of a class. By marking attributes as private or protected, you control who can read or modify the data. This helps prevent unauthorized or unintended access.\n",
    "\n",
    "3. Code Security:\n",
    "\n",
    "Encapsulation of Sensitive Information: Sensitive data can be encapsulated within a class, making it inaccessible from outside the class. For example, passwords or cryptographic keys can be stored in private attributes, reducing the risk of exposure.\n",
    "\n",
    "Reduced Risk of Unauthorized Modifications: By controlling access to data through setter methods and maintaining data integrity, you reduce the risk of unauthorized or unintended modifications, which could compromise security.\n",
    "\n",
    "4. Adaptability and Scalability:\n",
    "\n",
    "Flexibility for Internal Changes: Encapsulation allows you to make changes to the internal implementation of a class without affecting external code that relies on the class's public interface. This flexibility is essential for adapting to new requirements and scaling your application.\n",
    "\n",
    "5. Encapsulation as a Barrier:\n",
    "\n",
    "Encapsulation serves as a barrier between the external world and the internal workings of a class. This barrier hides implementation details and provides a well-defined contract (public methods) for interacting with the class. This separation is essential for both security and maintainability.\n",
    "\n"
   ]
  },
  {
   "cell_type": "raw",
   "id": "d7732908-eaaf-4d27-aebd-1b36d4c0c66d",
   "metadata": {},
   "source": [
    "#10) How can you access private attributes in Python? Provide an example demonstrating the use of name mangling\n",
    "\n",
    "Ans. In Python, private attributes can be accessed using name mangling, which involves modifying the attribute name by adding the class name as a prefix to the attribute name. This mechanism is used to make it more challenging to access private attributes from outside the class, but it does not provide strict access control. Here's how we can access private attributes using name mangling:\n"
   ]
  },
  {
   "cell_type": "code",
   "execution_count": 1,
   "id": "b748a16d-1b2c-4366-b78a-d125205cb71b",
   "metadata": {},
   "outputs": [],
   "source": [
    "#Example\n",
    "\n",
    "class Myclass:\n",
    "    \n",
    "    def __init__(self):\n",
    "        self.__private_attribute=42 #assigning private attribute\n"
   ]
  },
  {
   "cell_type": "code",
   "execution_count": 3,
   "id": "4b9d6d30-44cb-4494-97fa-09a5817571a5",
   "metadata": {},
   "outputs": [
    {
     "data": {
      "text/plain": [
       "42"
      ]
     },
     "execution_count": 3,
     "metadata": {},
     "output_type": "execute_result"
    }
   ],
   "source": [
    "new_obj = Myclass()\n",
    "new_obj._Myclass__private_attribute #accessing private attribute through name mangling\n",
    "\n",
    "#In this example, __private_var is a private attribute, \n",
    "# and it is accessed using the name-mangled version _MyClass__private_var. \n",
    "# This allows external code to access the private attribute, but it is discouraged as it goes against the principle of encapsulation."
   ]
  },
  {
   "cell_type": "raw",
   "id": "e4c32049-9c99-4be2-8c94-837de06e7790",
   "metadata": {},
   "source": [
    "#11) Create a Python class hierarchy for a school system, including classes fro students, teachers and courses and implement encapsulation principles to protect sensitive information."
   ]
  },
  {
   "cell_type": "code",
   "execution_count": 13,
   "id": "6577524b-edee-49e7-b6e3-112160a93bfa",
   "metadata": {},
   "outputs": [],
   "source": [
    "class Person:\n",
    "    def __init__(self, name, age):\n",
    "        self._name = name  \n",
    "        self.__age = age \n",
    "\n",
    "    def get_name(self):\n",
    "        return self._name\n",
    "\n",
    "    def set_name(self, name):\n",
    "        self._name = name\n",
    "\n",
    "    def get_age(self):\n",
    "        return self.__age\n",
    "\n",
    "    def set_age(self, age):\n",
    "        if age >= 0:\n",
    "            self.__age = age\n",
    "        else:\n",
    "            print(\"Age must be non-negative.\")\n",
    "\n",
    "\n",
    "class Student(Person):\n",
    "    def __init__(self, name, age, student_id):\n",
    "        super().__init__(name, age)\n",
    "        self._student_id = student_id\n",
    "\n",
    "    def get_student_id(self):\n",
    "        return self._student_id\n",
    "\n",
    "\n",
    "class Teacher(Person):\n",
    "    def __init__(self, name, age, employee_id):\n",
    "        super().__init__(name, age)\n",
    "        self._employee_id = employee_id\n",
    "\n",
    "    def get_employee_id(self):\n",
    "        return self._employee_id\n",
    "\n",
    "\n",
    "class Course:\n",
    "    def __init__(self, course_code, course_name, teacher):\n",
    "        self._course_code = course_code\n",
    "        self._course_name = course_name\n",
    "        self._teacher = teacher\n",
    "\n",
    "    def get_course_code(self):\n",
    "        return self._course_code\n",
    "\n",
    "    def get_course_name(self):\n",
    "        return self._course_name\n",
    "\n",
    "    def get_teacher(self):\n",
    "        return self._teacher.get_name()\n",
    "\n"
   ]
  },
  {
   "cell_type": "code",
   "execution_count": 14,
   "id": "62c77bc7-b77c-451a-91ff-e8a6db3d9264",
   "metadata": {},
   "outputs": [],
   "source": [
    "# Create objects for students, teachers, and courses\n",
    "student1 = Student(\"Alice\", 18, \"S001\")\n",
    "teacher1 = Teacher(\"Mr. Smith\", 35, \"T001\")\n",
    "course1 = Course(\"C101\", \"Mathematics\", teacher1)\n"
   ]
  },
  {
   "cell_type": "code",
   "execution_count": 15,
   "id": "44384377-f6ab-4644-ab5f-094817f3593f",
   "metadata": {},
   "outputs": [
    {
     "name": "stdout",
     "output_type": "stream",
     "text": [
      "Alice\n",
      "Bob\n"
     ]
    }
   ],
   "source": [
    "# Access and modify attributes using getter and setter methods\n",
    "print(student1.get_name())\n",
    "student1.set_name(\"Bob\")\n",
    "print(student1.get_name())"
   ]
  },
  {
   "cell_type": "code",
   "execution_count": 16,
   "id": "e0968144-4852-4b52-85ff-53ba83773b2e",
   "metadata": {},
   "outputs": [
    {
     "name": "stdout",
     "output_type": "stream",
     "text": [
      "Mr. Smith\n",
      "Mrs. Johnson\n"
     ]
    }
   ],
   "source": [
    "print(teacher1.get_name())\n",
    "teacher1.set_name(\"Mrs. Johnson\")\n",
    "print(teacher1.get_name())"
   ]
  },
  {
   "cell_type": "code",
   "execution_count": 17,
   "id": "e917f647-d0b5-44e7-b49e-4c99bd555c7b",
   "metadata": {},
   "outputs": [
    {
     "name": "stdout",
     "output_type": "stream",
     "text": [
      "C101\n",
      "Mathematics\n",
      "Mrs. Johnson\n"
     ]
    }
   ],
   "source": [
    "print(course1.get_course_code())\n",
    "print(course1.get_course_name())\n",
    "print(course1.get_teacher())\n"
   ]
  },
  {
   "cell_type": "code",
   "execution_count": 18,
   "id": "2b8704be-60e5-4f5a-bf71-a594969cf824",
   "metadata": {},
   "outputs": [
    {
     "name": "stdout",
     "output_type": "stream",
     "text": [
      "18\n",
      "S001\n",
      "T001\n"
     ]
    }
   ],
   "source": [
    "# Access sensitive attributes (age, student_id, employee_id) through getters\n",
    "print(student1.get_age())\n",
    "print(student1.get_student_id())\n",
    "print(teacher1.get_employee_id())"
   ]
  },
  {
   "cell_type": "raw",
   "id": "3fc6746c-ce6f-4baf-b571-5a196c6daf7b",
   "metadata": {},
   "source": [
    "#12) Explain the concept of property decorator in Python and how they relate to encapsulation ?\n",
    "\n",
    "Ans. In Python, the property decorator is a feature that allows you to control the access and modification of class attributes. It plays a crucial role in encapsulation by encapsulating the behavior of attribute access and modification.\n",
    "\n",
    "Getter Method with @property: To create a read-only attribute (getter), we can use the @property decorator above a method. This method, typically named with the same name as the attribute you want to access, is executed when we try to access the attribute.\n",
    "\n",
    "Setter Method with @attribute_name.setter: To create a setter method for an attribute, we use a method with the same name as the attribute, followed by .setter as a decorator. This method is executed when we try to modify the attribute.\n",
    "\n",
    "Deleter Method with @attribute_name.deleter: You can also create a deleter method for an attribute using the @attribute_name.deleter decorator. This method is executed when you use the del statement to delete the attribute.\n",
    "\n",
    "Relation with Encapsulation:\n",
    "The property decorator enhances encapsulation by allowing us to control and customize the behavior of attribute access and modification. It hides the internal implementation details of attribute access, promoting data integrity and security.\n",
    "\n",
    "With property, we can ensure that external code adheres to a predefined interface for accessing and modifying attributes, enabling us to maintain data consistency.\n"
   ]
  },
  {
   "cell_type": "code",
   "execution_count": 19,
   "id": "1600e8f8-4894-4617-8448-c27a0fa1ab97",
   "metadata": {},
   "outputs": [
    {
     "name": "stdout",
     "output_type": "stream",
     "text": [
      "Alice\n",
      "Bob\n",
      "20\n",
      "Age must be non-negative.\n",
      "20\n",
      "Age attribute deleted.\n",
      "None\n"
     ]
    }
   ],
   "source": [
    "#Example\n",
    "\n",
    "class Student:\n",
    "    def __init__(self, name, age):\n",
    "        self._name = name  # Protected attribute\n",
    "        self.__age = age  # Private attribute\n",
    "\n",
    "    @property\n",
    "    def name(self):\n",
    "        return self._name\n",
    "\n",
    "    @name.setter\n",
    "    def name(self, new_name):\n",
    "        self._name = new_name\n",
    "\n",
    "    @property\n",
    "    def age(self):\n",
    "        return self.__age\n",
    "\n",
    "    @age.setter\n",
    "    def age(self, new_age):\n",
    "        if new_age >= 0:\n",
    "            self.__age = new_age\n",
    "        else:\n",
    "            print(\"Age must be non-negative.\")\n",
    "\n",
    "    @age.deleter\n",
    "    def age(self):\n",
    "        print(\"Age attribute deleted.\")\n",
    "        self.__age = None\n",
    "\n",
    "# Create a Student object\n",
    "student = Student(\"Alice\", 20)\n",
    "\n",
    "# Access and modify attributes using property decorators\n",
    "print(student.name)  # Accessing name\n",
    "student.name = \"Bob\"  # Modifying name\n",
    "print(student.name)  # Accessing modified name\n",
    "\n",
    "print(student.age)  # Accessing age\n",
    "student.age = -5  # Attempting to set a negative age\n",
    "print(student.age)  # Age remains unchanged\n",
    "\n",
    "del student.age  # Deleting the age attribute\n",
    "print(student.age)  # Age is now None\n",
    "\n"
   ]
  },
  {
   "cell_type": "raw",
   "id": "f8aae373-ecbd-4de6-9c75-f6e04cad74c6",
   "metadata": {},
   "source": [
    "#13) What is data hiding and why is it important in encapsulation? Provide examples.\n",
    "\n",
    "Ans. Data hiding is a fundamental concept in encapsulation and object-oriented programming that involves restricting direct access to the internal attributes of an object, with the goal of preventing unauthorized or unintended modifications\n",
    "\n",
    "Importance of data hiding:\n",
    "1) Data hiding allows a class to control how its internal data is accessed and modified. It provides a well-defined interface for interacting with the class, ensuring that attributes are accessed and modified according to specified rules and constraints.\n",
    "\n",
    "2) By hiding the internal details of a class and its data, you can protect sensitive information and prevent unauthorized access. This is crucial for maintaining the integrity and security of an object's state.\n",
    "\n",
    "3) Data hiding enables us to change the internal representation of data or the implementation of methods without affecting external code that relies on the class's public interface. "
   ]
  },
  {
   "cell_type": "code",
   "execution_count": 20,
   "id": "a798027b-9e83-4fc6-89e2-e97b83b65612",
   "metadata": {},
   "outputs": [
    {
     "name": "stdout",
     "output_type": "stream",
     "text": [
      "12345\n",
      "1000\n",
      "1500\n",
      "1200\n"
     ]
    }
   ],
   "source": [
    "#Example\n",
    "\n",
    "class BankAccount:\n",
    "    def __init__(self, account_number, balance):\n",
    "        self._account_number = account_number  # Protected attribute\n",
    "        self.__balance = balance  # Private attribute\n",
    "\n",
    "    # Public methods for controlled access\n",
    "    def get_account_number(self):\n",
    "        return self._account_number\n",
    "\n",
    "    def get_balance(self):\n",
    "        return self.__balance\n",
    "\n",
    "    def deposit(self, amount):\n",
    "        if amount > 0:\n",
    "            self.__balance += amount\n",
    "        else:\n",
    "            print(\"Deposit amount must be positive.\")\n",
    "\n",
    "    def withdraw(self, amount):\n",
    "        if amount > 0 and amount <= self.__balance:\n",
    "            self.__balance -= amount\n",
    "        else:\n",
    "            print(\"Withdrawal amount must be positive and within the balance.\")\n",
    "\n",
    "# Create a BankAccount object\n",
    "account = BankAccount(\"12345\", 1000)\n",
    "\n",
    "# Access and modify attributes using controlled methods\n",
    "print(account.get_account_number())  # Accessing account number\n",
    "print(account.get_balance())  # Accessing balance\n",
    "\n",
    "account.deposit(500)  # Depositing money\n",
    "print(account.get_balance())  # Checking updated balance\n",
    "\n",
    "account.withdraw(300)  # Withdrawing money\n",
    "print(account.get_balance())  # Checking updated balance\n"
   ]
  },
  {
   "cell_type": "raw",
   "id": "a2d9a9ad-689f-417f-8667-c9d129646395",
   "metadata": {},
   "source": [
    "#14) Create a Python class called 'Employee' with private attributes for ('__salary') and employee ID ('__employee_id'). Provide a method to calculate yearly bonuses."
   ]
  },
  {
   "cell_type": "code",
   "execution_count": 32,
   "id": "2f2dad81-122d-4f9d-89cb-313719ee85f6",
   "metadata": {},
   "outputs": [],
   "source": [
    "class Employee:\n",
    "    \n",
    "    def __init__(self,salary,employee_id):\n",
    "        self.__salary = salary\n",
    "        self.__employee_id = employee_id\n",
    "        \n",
    "    def yearly_bonus(self,employee_id,bonus,salary):\n",
    "        new_salary = self.__salary + (self.__salary*(bonus/100))\n",
    "        print(f\"Employee ID of {self.__employee_id} is credited with a bonus of {bonus}% , incremented salary is {new_salary}\")\n",
    "    "
   ]
  },
  {
   "cell_type": "code",
   "execution_count": 33,
   "id": "a570ca10-b6a4-497e-8b6d-2c7c1ccb8127",
   "metadata": {},
   "outputs": [
    {
     "name": "stdout",
     "output_type": "stream",
     "text": [
      "Employee ID of 1845 is credited with a bonus of 20% , incremented salary is 540000.0\n"
     ]
    }
   ],
   "source": [
    "year_bonus = Employee(450000,1845)\n",
    "year_bonus.yearly_bonus(1845,20,450000)"
   ]
  },
  {
   "cell_type": "raw",
   "id": "9a38662b-d2ee-4230-96ca-ec27b5a48cf4",
   "metadata": {},
   "source": [
    "#15) Discuss the use of accessors and mutators in encapsulation. How do they help maintain control over attribute access?\n",
    "\n",
    "Ans. Accessors (Getter Methods):\n",
    "\n",
    "Purpose: Accessors, often referred to as getter methods, are used to retrieve the values of object attributes. They provide read-only access to an attribute, allowing external code to retrieve its value without directly accessing the attribute.\n",
    "Benefits:\n",
    "Data security: Accessors enable controlled access, preventing unauthorized modifications.\n",
    "Validation: They can include validation or formatting logic when returning the attribute value.\n",
    "Abstraction: They hide the internal representation of the attribute, promoting abstraction.\n",
    "Flexibility: Accessors allow you to change the attribute's representation without affecting external code.\n",
    "\n",
    "Mutators (Setter Methods):\n",
    "\n",
    "Purpose: Mutators, often referred to as setter methods, are used to modify the values of object attributes. They provide a controlled way to change the attribute's value and apply validation or constraints.\n",
    "Benefits:\n",
    "Data integrity: Mutators ensure that attribute modifications follow predefined rules.\n",
    "Validation: They can validate new values before allowing modifications.\n",
    "Encapsulation: Mutators encapsulate the behavior of attribute modification, promoting controlled access.\n",
    "Consistency: They help maintain consistent object states by enforcing constraints.\n",
    "\n"
   ]
  },
  {
   "cell_type": "raw",
   "id": "a7449225-239b-4759-848e-c93f08be0b6b",
   "metadata": {},
   "source": [
    "#16) What are the potential drawbacks of using encapsulation in Python?\n",
    "\n",
    "Ans. While encapsulation is a fundamental concept in object-oriented programming that offers many benefits, including data security and maintainability, there are also potential drawbacks to using encapsulation in Python:\n",
    "\n",
    "Complexity: Encapsulation may introduce additional complexity to the code, especially when a large number of accessor and mutator methods need to be defined for each attribute. This can make the code harder to read and maintain.\n",
    "\n",
    "Overhead: Accessing attributes through getter and setter methods can introduce some overhead compared to direct attribute access. In some cases, the performance impact may be negligible, but in performance-critical applications, it can be a concern.\n",
    "\n",
    "Reduced Code Readability: Excessive use of accessor and mutator methods can make code less readable, especially for attributes that are straightforward and not subject to validation or special logic.\n",
    "\n",
    "Tight Coupling: Encapsulation can lead to tight coupling between classes. When multiple classes depend on each other's accessor and mutator methods, changes to one class may have a ripple effect on other classes.\n",
    "\n",
    "Limited Enforcement: While encapsulation can prevent accidental or unauthorized access, it does not provide strict access control. In Python, the privacy of attributes is based on naming conventions (e.g., prefixing with underscores) rather than enforced access control. Developers can still access private attributes if they really want to."
   ]
  },
  {
   "cell_type": "raw",
   "id": "36b0ea71-377a-4430-a780-23262c1fac7e",
   "metadata": {},
   "source": [
    "#17) Create a Python class for library system that encapsulates book information, including titles, authors and availability status.\n"
   ]
  },
  {
   "cell_type": "code",
   "execution_count": 111,
   "id": "c2b3bcdf-ac2c-443f-83b3-6e49c3bae160",
   "metadata": {},
   "outputs": [],
   "source": [
    "class Book:\n",
    "    def __init__(self, title, author):\n",
    "        self._title = title  # Protected attribute for the book title\n",
    "        self._author = author  # Protected attribute for the book author\n",
    "        self._available = True  # Protected attribute for availability status\n",
    "\n",
    "    # Getter methods\n",
    "    def get_title(self):\n",
    "        return self._title\n",
    "\n",
    "    def get_author(self):\n",
    "        return self._author\n",
    "\n",
    "    def is_available(self):\n",
    "        return self._available\n",
    "\n",
    "    # Setter method to mark the book as borrowed\n",
    "    def borrow_book(self):\n",
    "        if self._available:\n",
    "            self._available = False\n",
    "            return \"Book successfully borrowed.\"\n",
    "        else:\n",
    "            return \"Book is currently unavailable.\"\n",
    "\n",
    "    # Setter method to mark the book as returned\n",
    "    def return_book(self):\n",
    "        if not self._available:\n",
    "            self._available = True\n",
    "            return \"Book successfully returned.\"\n",
    "        else:\n",
    "            return \"Book is already available.\"\n",
    "\n"
   ]
  },
  {
   "cell_type": "code",
   "execution_count": 112,
   "id": "94d900ef-26e8-4cdd-a834-2909ed825de6",
   "metadata": {},
   "outputs": [],
   "source": [
    "# Create Book objects\n",
    "book1 = Book(\"Introduction to Python\", \"John Doe\")\n",
    "book2 = Book(\"Data Structures and Algorithms\", \"Alice Smith\")"
   ]
  },
  {
   "cell_type": "code",
   "execution_count": 113,
   "id": "4107d36d-89b8-45dc-b315-9549a3c3a083",
   "metadata": {},
   "outputs": [
    {
     "name": "stdout",
     "output_type": "stream",
     "text": [
      "Book 1 Title: Introduction to Python\n",
      "Book 1 Author: John Doe\n",
      "Book 1 Availability: Available\n"
     ]
    }
   ],
   "source": [
    "# Display book information and availability\n",
    "print(\"Book 1 Title:\", book1.get_title())\n",
    "print(\"Book 1 Author:\", book1.get_author())\n",
    "print(\"Book 1 Availability:\", \"Available\" if book1.is_available() else \"Borrowed\")\n"
   ]
  },
  {
   "cell_type": "code",
   "execution_count": 114,
   "id": "64b52c2e-6348-4337-9e9c-208265c164ed",
   "metadata": {},
   "outputs": [
    {
     "name": "stdout",
     "output_type": "stream",
     "text": [
      "Book 2 Title: Data Structures and Algorithms\n",
      "Book 2 Author: Alice Smith\n",
      "Book 2 Availability: Available\n"
     ]
    }
   ],
   "source": [
    "print(\"Book 2 Title:\", book2.get_title())\n",
    "print(\"Book 2 Author:\", book2.get_author())\n",
    "print(\"Book 2 Availability:\", \"Available\" if book2.is_available() else \"Borrowed\")\n"
   ]
  },
  {
   "cell_type": "code",
   "execution_count": 115,
   "id": "e4052aeb-2e24-4f59-8a7a-db15bac4f0f9",
   "metadata": {},
   "outputs": [
    {
     "name": "stdout",
     "output_type": "stream",
     "text": [
      "Book successfully borrowed.\n",
      "Book successfully returned.\n"
     ]
    }
   ],
   "source": [
    "print(book1.borrow_book())\n",
    "print(book1.return_book())\n"
   ]
  },
  {
   "cell_type": "code",
   "execution_count": 116,
   "id": "6aef1a99-4a2d-4002-a5ab-21545f3f3984",
   "metadata": {},
   "outputs": [
    {
     "name": "stdout",
     "output_type": "stream",
     "text": [
      "Book successfully borrowed.\n",
      "Book 1 Availability: Borrowed\n"
     ]
    }
   ],
   "source": [
    "# Attempt to borrow a book that is already borrowed\n",
    "print(book1.borrow_book())\n",
    "\n",
    "# Display updated availability\n",
    "print(\"Book 1 Availability:\", \"Available\" if book1.is_available() else \"Borrowed\")"
   ]
  },
  {
   "cell_type": "raw",
   "id": "5d17df4d-57df-48c1-a411-7a92e22d96db",
   "metadata": {},
   "source": [
    "#18) Explain how encapsulation enhances code reusability and modularity in Python programs.\n",
    "\n",
    "Ans. Encapsulation enhances code reusability and modularity in Python programs by promoting the development of well-structured, self-contained, and easily maintainable code. Here's how encapsulation contributes to these aspects:\n",
    "\n",
    "Modularity:\n",
    "\n",
    "Encapsulation encourages the creation of self-contained and independent modules or classes that can be developed and tested in isolation.\n",
    "Each class can encapsulate its attributes and methods, providing a clear interface to interact with the class. This separation of concerns makes the code more modular and easier to manage.\n",
    "\n",
    "Code Reusability:\n",
    "\n",
    "Encapsulated classes with well-defined interfaces can be reused in multiple parts of a program or across different programs without modification.\n",
    "When you encapsulate code, you create a self-contained and reusable component that can be easily integrated into different contexts, reducing the need to rewrite or duplicate code."
   ]
  },
  {
   "cell_type": "raw",
   "id": "86afb760-ff6d-4408-b41c-570e3fd7bd1b",
   "metadata": {},
   "source": [
    "#19) Describe the concept of information hiding in encapsulation.\n",
    "\n",
    "Ans. In the context of encapsulation, information hiding is a fundamental concept that relates to the control and management of information within an object or class. Information hiding ensures that the internal details of an object, including its attributes and implementation, are hidden from external code.\n",
    "This concept is often referred to as \"data encapsulation\" or \"information encapsulation.\" \n"
   ]
  },
  {
   "cell_type": "raw",
   "id": "4b0461af-cfcb-4eec-bacd-0882284d0e4e",
   "metadata": {},
   "source": [
    "#20) Create a Python class called 'Customer' with private attributes for customer details like name, address and contact information. Implement encapsulation to ensure data integrity and security."
   ]
  },
  {
   "cell_type": "code",
   "execution_count": 121,
   "id": "3b70dbba-bd0d-4029-86f9-991ea01385ff",
   "metadata": {},
   "outputs": [],
   "source": [
    "class Customer:\n",
    "    \n",
    "    def __init__(self,name,address,contact_info):\n",
    "        self.__name = name\n",
    "        self.__address = address\n",
    "        self.__contact = contact_info\n",
    "        \n",
    "    def set_name(self,name):\n",
    "        self.__name = name\n",
    "        \n",
    "    def get_name(self):\n",
    "        return(self.__name)\n",
    "        \n",
    "    def set_address(self,address):\n",
    "        self.__address = address\n",
    "        \n",
    "    def get_address(self):\n",
    "        return(self.__address)\n",
    "        \n",
    "    def set_contact_info(self,contact_info):\n",
    "        self.__contact = contact_info\n",
    "        \n",
    "    def get_contact(self):\n",
    "        return(self.__contact)"
   ]
  },
  {
   "cell_type": "code",
   "execution_count": 122,
   "id": "9eda1aa9-7a5f-4fd2-b80f-14219ad8f35b",
   "metadata": {},
   "outputs": [],
   "source": [
    "customer1 = Customer(\"John Doe\", \"123 Main St, City\", \"johndoe@email.com\")\n"
   ]
  },
  {
   "cell_type": "code",
   "execution_count": 123,
   "id": "0e5d97f5-cb65-4707-b89b-4436f56d997f",
   "metadata": {},
   "outputs": [
    {
     "name": "stdout",
     "output_type": "stream",
     "text": [
      "Customer Name: John Doe\n",
      "Customer Address: 123 Main St, City\n",
      "Customer Contact Info: johndoe@email.com\n"
     ]
    }
   ],
   "source": [
    "# Access customer details using getters\n",
    "print(\"Customer Name:\", customer1.get_name())\n",
    "print(\"Customer Address:\", customer1.get_address())\n",
    "print(\"Customer Contact Info:\", customer1.get_contact())"
   ]
  },
  {
   "cell_type": "markdown",
   "id": "5268d40f-16db-4a19-81dc-12e319458453",
   "metadata": {},
   "source": [
    "# Polymorphism"
   ]
  },
  {
   "cell_type": "raw",
   "id": "80e47b88-c593-45e0-a20a-8073c67cfafb",
   "metadata": {},
   "source": [
    "#1) What is polymorphism in Python. Explain how it is related to OOPs ?\n",
    "\n",
    "Ans. Polymorphism is a fundamental concept in object-oriented programming (OOP) that allows objects of different classes to be treated as objects of a common base class. It enables you to write code that can work with objects of different types in a consistent way. Polymorphism is one of the four fundamental principles of OOP, along with encapsulation, inheritance, and abstraction.\n",
    "\n",
    "Polymorphism is related to OOP in the following ways:\n",
    "\n",
    "Abstraction: Polymorphism promotes abstraction by allowing you to work with objects at a higher level of generality, ignoring the specific details of their types. This simplifies code and reduces complexity.\n",
    "\n",
    "Flexibility: Polymorphism provides flexibility in the design of a system. You can create new classes that conform to a common interface, making it easy to extend the system with new functionality.\n",
    "\n",
    "Reusability: Code that uses polymorphism is more reusable because it can work with any object that adheres to a particular interface or follows a common base class.\n",
    "\n",
    "Maintainability: Polymorphism can enhance code maintainability. When changes are made to a class, if it still adheres to the same interface, the code that uses it does not need to be modified. This reduces the risk of introducing errors during maintenance."
   ]
  },
  {
   "cell_type": "raw",
   "id": "2695c8c8-1e7b-4586-b28f-ec1dfb1353df",
   "metadata": {},
   "source": [
    "#2) Explain the difference between compile time polymorphism and run time polymorphism.\n",
    "\n",
    "Ans. Compile-Time Polymorphism (Static Binding):\n",
    "\n",
    "     Compile-time polymorphism is typically associated with method overloading, where multiple methods in the same class have the same name but different parameter lists.\n",
    "     The choice of method to call is made at compile time, and it is fixed during execution.\n",
    "     The correct method to be called is determined at compile time based on the method's signature (the method name and parameter types).\n",
    "     \n",
    "     \n",
    "     Run-Time Polymorphism (Dynamic Binding):\n",
    "     \n",
    "     Run-time polymorphism is typically associated with method overriding, where a derived class provides its own implementation of a method defined in a base class.\n",
    "     The choice of method to call is dynamic and can vary at runtime based on the type of object.\n",
    "     The correct method to be called is determined at runtime based on the actual type of the object being referred to, rather than the reference or pointer type.\n",
    "     \n",
    "     "
   ]
  },
  {
   "cell_type": "raw",
   "id": "88a8ee9c-a6b7-4cb5-89cd-632e7093b551",
   "metadata": {},
   "source": [
    "#3) Create Python class hierarchy for shapes (e.g circle,square,triangle) and demonstrate polymorphism through a common method such as 'calculate_area()'."
   ]
  },
  {
   "cell_type": "code",
   "execution_count": 9,
   "id": "a49de7be-5537-4e14-b08f-fcac503e4dd1",
   "metadata": {},
   "outputs": [],
   "source": [
    "class Shapes:\n",
    "    \n",
    "    def calculate_area(self):\n",
    "        pass\n",
    "\n",
    "class Triangle:\n",
    "    \n",
    "    def __init__(self,base,height):\n",
    "        self.base=base\n",
    "        self.height = height\n",
    "    \n",
    "    def calculate_area(self):\n",
    "        return ('The area of the triangle is: ',0.5*self.base*self.height)\n",
    "    \n",
    "class Square:\n",
    "    \n",
    "    def __init__(self,length):\n",
    "        self.length = length\n",
    "    \n",
    "    def calculate_area(self):\n",
    "        return('The area of the square is: ',self.length**2)\n",
    "    \n",
    "class Circle:\n",
    "    \n",
    "    def __init__(self,radius):\n",
    "        self.radius =radius\n",
    "        \n",
    "    def calculate_area(self):\n",
    "        return('The area of the circle is: ',3.14*self.radius**2)\n",
    "    \n"
   ]
  },
  {
   "cell_type": "code",
   "execution_count": 10,
   "id": "a3a18d76-27e2-4f0c-b2aa-903f0621d1b7",
   "metadata": {},
   "outputs": [],
   "source": [
    "# Create objects of different shapes\n",
    "circle = Circle(5)\n",
    "square = Square(4)\n",
    "triangle = Triangle(3, 6)\n"
   ]
  },
  {
   "cell_type": "code",
   "execution_count": 11,
   "id": "f5699eda-4f4d-406b-90ed-ba2f62c20f51",
   "metadata": {},
   "outputs": [
    {
     "name": "stdout",
     "output_type": "stream",
     "text": [
      "('The area of the circle is: ', 78.5)\n",
      "('The area of the square is: ', 16)\n",
      "('The area of the triangle is: ', 9.0)\n"
     ]
    }
   ],
   "source": [
    "# Calculate and print the areas of these shapes\n",
    "shapes = [circle, square, triangle]\n",
    "\n",
    "for shape in shapes:\n",
    "    area = shape.calculate_area()\n",
    "    if isinstance(shape, Circle):\n",
    "        print(shape.calculate_area())\n",
    "    elif isinstance(shape,Square):\n",
    "        print(shape.calculate_area())\n",
    "    elif isinstance(shape,Triangle):\n",
    "        print(shape.calculate_area())\n"
   ]
  },
  {
   "cell_type": "raw",
   "id": "420dbe19-af01-429b-b4ec-effc7131ef7a",
   "metadata": {},
   "source": [
    "#4) Explain the concept of method overriding in polymorphism. Provide an example.\n",
    "\n",
    "Ans. Method overriding is a fundamental concept in object-oriented programming (OOP) and polymorphism. It allows a subclass to provide a specific implementation for a method that is already defined in its superclass. This enables you to customize the behavior of the inherited method in the derived class while maintaining a common interface.\n",
    "\n"
   ]
  },
  {
   "cell_type": "code",
   "execution_count": 12,
   "id": "a6c2731f-9ee4-40c4-b2a7-14dba0c36264",
   "metadata": {},
   "outputs": [
    {
     "name": "stdout",
     "output_type": "stream",
     "text": [
      "A dog barks\n",
      "A cat meows\n"
     ]
    }
   ],
   "source": [
    "#Example\n",
    "\n",
    "class Animal:\n",
    "    def speak(self):\n",
    "        pass\n",
    "\n",
    "class Dog(Animal):\n",
    "    def speak(self):\n",
    "        print(\"A dog barks\")\n",
    "\n",
    "class Cat(Animal):\n",
    "    def speak(self):\n",
    "        print(\"A cat meows\")\n",
    "\n",
    "# Create instances of subclasses\n",
    "dog = Dog()\n",
    "cat = Cat()\n",
    "\n",
    "# Call the overridden method\n",
    "dog.speak()  \n",
    "cat.speak() \n"
   ]
  },
  {
   "cell_type": "raw",
   "id": "5a8ecc72-dc42-4523-acd9-377f203341a9",
   "metadata": {},
   "source": [
    "#5) How is polymorphism different from method overloading in Python? Provide example for both.\n",
    "\n",
    "Ans. Polymorphism and method overloading are related concepts in Python, but they serve different purposes and are implemented differently.\n",
    "\n",
    "Polymorphism:\n",
    "\n",
    "Polymorphism allows objects of different classes to be treated as objects of a common base class. It allows you to write code that can work with objects of different types in a consistent way.\n",
    "\n",
    "In polymorphism, a subclass can provide a specific implementation for a method that is already defined in its superclass. The method in the subclass overrides the method in the superclass.\n",
    "\n",
    "Polymorphism is about changing the behavior of a method in the derived class, making it specific to that class.\n",
    "It is typically associated with method overriding.\n",
    "\n",
    "Method resolution occurs at runtime, and the correct method to be called is determined by the actual type of the object.\n",
    "\n",
    "Method Overloading:\n",
    "\n",
    "Method overloading allows a class to have multiple methods with the same name but different parameter lists (number of parameters or parameter types).\n",
    "\n",
    "In method overloading, you can have multiple methods with the same name in the same class, each with a different set of parameters.\n",
    "\n",
    "Method overloading is about providing multiple ways to call a method with different argument lists.\n",
    "It is typically used when you want to perform different operations based on the number or types of arguments passed to the method.\n",
    "\n",
    "Method resolution occurs at compile time based on the number and types of arguments provided when calling the method."
   ]
  },
  {
   "cell_type": "raw",
   "id": "700a85f1-2b3b-408f-82bf-c70704fe7bf8",
   "metadata": {},
   "source": [
    "#6) Create a Python class called 'Animal' with a method 'speak()'. Then create a child classes called 'Dog','Cat' and 'Bird' each with their own 'speak()' method and objects of different subclasses.\n"
   ]
  },
  {
   "cell_type": "code",
   "execution_count": 15,
   "id": "59f4a810-8ae0-407b-a224-6b53f8c91021",
   "metadata": {},
   "outputs": [],
   "source": [
    "class Animal:\n",
    "    def speak(self):\n",
    "        pass\n",
    "\n",
    "class Dog(Animal):\n",
    "    def speak(self):\n",
    "        print(\"A dog barks\")\n",
    "\n",
    "class Cat(Animal):\n",
    "    def speak(self):\n",
    "        print(\"A cat meows\")\n",
    "        \n",
    "class Bird(Animal):\n",
    "    def speak(self):\n",
    "        print(\"A bird chirps\")"
   ]
  },
  {
   "cell_type": "code",
   "execution_count": 16,
   "id": "a740d67e-cdce-47ac-a047-697cfbb82060",
   "metadata": {},
   "outputs": [
    {
     "name": "stdout",
     "output_type": "stream",
     "text": [
      "A dog barks\n",
      "A cat meows\n",
      "A bird chirps\n"
     ]
    }
   ],
   "source": [
    "# Create instances of subclasses\n",
    "dog = Dog()\n",
    "cat = Cat()\n",
    "bird = Bird()\n",
    "\n",
    "# Call the overridden method\n",
    "dog.speak()  \n",
    "cat.speak() \n",
    "bird.speak()"
   ]
  },
  {
   "cell_type": "raw",
   "id": "5781b479-25e6-409f-b4f0-511f7711f7f6",
   "metadata": {},
   "source": [
    "#7) Discuss the use of abstract method and classes in achieving polymorphism in python. Provide an example using 'abc' methods.\n",
    "\n",
    "Ans. In Python, abstract classes and methods are implemented using the abc (Abstract Base Classes) module. Abstract classes cannot be instantiated, and they serve as a blueprint for derived classes to ensure that certain methods are implemented.\n",
    "\n"
   ]
  },
  {
   "cell_type": "code",
   "execution_count": 20,
   "id": "2738ac22-144e-4540-8ef0-47c8f07e983b",
   "metadata": {},
   "outputs": [],
   "source": [
    "#Example\n",
    "\n",
    "from abc import ABC,abstractmethod\n",
    "\n",
    "#defining abstarct class with abstract method\n",
    "class Shape(ABC):\n",
    "    \n",
    "    @abstractmethod\n",
    "    def calculate_area(self):\n",
    "        pass\n",
    "    \n",
    "# Circle class\n",
    "class Circle(Shape):\n",
    "    def __init__(self, radius):\n",
    "        self.radius = radius\n",
    "\n",
    "    def calculate_area(self):\n",
    "        return 3.14159 * self.radius**2\n",
    "\n",
    "# Square class\n",
    "class Square(Shape):\n",
    "    def __init__(self, side_length):\n",
    "        self.side_length = side_length\n",
    "\n",
    "    def calculate_area(self):\n",
    "        return self.side_length**2\n",
    "    \n",
    "    "
   ]
  },
  {
   "cell_type": "code",
   "execution_count": 21,
   "id": "efd8922a-db41-474e-81fb-b3f7f231f607",
   "metadata": {},
   "outputs": [
    {
     "name": "stdout",
     "output_type": "stream",
     "text": [
      "Area of Circle: 78.53975\n",
      "Area of Square: 16\n"
     ]
    }
   ],
   "source": [
    "# Create a list of shape objects\n",
    "shapes = [Circle(5), Square(4)]\n",
    "\n",
    "# Calculate and print the areas of these shapes\n",
    "for shape in shapes:\n",
    "    area = shape.calculate_area()\n",
    "    if isinstance(shape, Circle):\n",
    "        shape_type = \"Circle\"\n",
    "    elif isinstance(shape, Square):\n",
    "        shape_type = \"Square\"\n",
    "    print(f\"Area of {shape_type}: {area}\")\n",
    "\n",
    "\n"
   ]
  },
  {
   "cell_type": "raw",
   "id": "b0a20a6d-33f0-42e7-8a4e-6ef8233e1e18",
   "metadata": {},
   "source": [
    "#7) Discuss a Python class hierarchy for a vehicle system (eg,car,bicycle,boat) and implement a polymorphic 'start()' method that prints the message specific to each vehicle type."
   ]
  },
  {
   "cell_type": "code",
   "execution_count": 1,
   "id": "fa0b6717-a3e9-49a1-ac5e-9d81fdc87ac5",
   "metadata": {},
   "outputs": [],
   "source": [
    "class Vehicle:\n",
    "    \n",
    "    def start(self):\n",
    "        pass\n",
    "\n",
    "class Car(Vehicle):\n",
    "    \n",
    "    def start(self):\n",
    "        print(\"The Car is started\")\n",
    "        \n",
    "class Bicycle(Vehicle):\n",
    "    \n",
    "    def start(self):\n",
    "        print(\"The bike is started\")\n",
    "        \n",
    "class Boat(Vehicle):\n",
    "    \n",
    "    def start(self):\n",
    "        print(\"The Boat is started\")\n",
    "\n"
   ]
  },
  {
   "cell_type": "code",
   "execution_count": 2,
   "id": "cf9d48a5-9f6c-49f4-b659-65c1f3028c54",
   "metadata": {},
   "outputs": [],
   "source": [
    "car = Car()\n",
    "cycle = Bicycle()\n",
    "boat = Boat()\n"
   ]
  },
  {
   "cell_type": "code",
   "execution_count": 3,
   "id": "c0706a8a-58c6-41f1-98d1-dff0fbe4cc2e",
   "metadata": {},
   "outputs": [
    {
     "name": "stdout",
     "output_type": "stream",
     "text": [
      "The Car is started\n",
      "The bike is started\n",
      "The Boat is started\n"
     ]
    }
   ],
   "source": [
    "vehicles = [car,cycle,boat]\n",
    "\n",
    "for vehicle in vehicles:\n",
    "    vehicle.start()"
   ]
  },
  {
   "cell_type": "raw",
   "id": "dc206ca5-a45a-4ee0-bb8e-9760bbef8d3c",
   "metadata": {},
   "source": [
    "#9) Explain the significance of the 'isinstance()' and 'issubclass()' functions in Python implementation.\n",
    "\n",
    "Ans. The isinstance() and issubclass() functions in Python are important tools for type checking and object-oriented programming. They help you determine the type or class hierarchy of objects and classes, respectively. \n",
    "\n",
    "isinstance(object, class_or_tuple):\n",
    "\n",
    "isinstance() is used to check if an object belongs to a specific class or is an instance of any of the classes in a tuple.\n",
    "It helps in type checking and ensuring that an object is of the expected type before performing operations on it.\n",
    "\n",
    "Significance:\n",
    "\n",
    "It allows us to write more robust and error-resistant code by verifying the type of an object before performing operations on it, preventing unexpected errors.\n",
    "It's particularly useful for implementing polymorphism, where we need to determine the actual type of an object and call the appropriate method.\n",
    "\n",
    "issubclass(class, classinfo):\n",
    "\n",
    "issubclass() is used to check if a class is a subclass of a particular class or if it's a subclass of any of the classes in a tuple.\n",
    "It helps in verifying class relationships in class hierarchies and ensuring that a class inherits from the expected superclass.\n",
    "\n",
    "Significance:\n",
    "\n",
    "It's crucial for establishing class hierarchies and verifying that classes adhere to expected inheritance structures.\n",
    "It's useful when we need to create abstract base classes and want to confirm that derived classes provide specific implementations.\n"
   ]
  },
  {
   "cell_type": "code",
   "execution_count": 5,
   "id": "3d787aca-c8ae-48b5-9796-7d35177e2a55",
   "metadata": {},
   "outputs": [
    {
     "name": "stdout",
     "output_type": "stream",
     "text": [
      "x is an integer\n",
      "fruits is a list or tuple\n"
     ]
    }
   ],
   "source": [
    "#Example of isinstance() method on an inbuilt class object\n",
    "\n",
    "x = 5\n",
    "if isinstance(x, int):\n",
    "    print(\"x is an integer\")\n",
    "\n",
    "fruits = [\"apple\", \"banana\", \"cherry\"]\n",
    "if isinstance(fruits, (list, tuple)):\n",
    "    print(\"fruits is a list or tuple\")\n"
   ]
  },
  {
   "cell_type": "code",
   "execution_count": 7,
   "id": "621b48e5-05a9-41e9-b122-e6c86f5fd798",
   "metadata": {},
   "outputs": [
    {
     "name": "stdout",
     "output_type": "stream",
     "text": [
      "Dog is a subclass of Animal\n",
      "Cat is a subclass of Animal or object\n"
     ]
    }
   ],
   "source": [
    "#Example of issubclass() method\n",
    "\n",
    "class Animal:\n",
    "    pass\n",
    "\n",
    "class Dog(Animal):\n",
    "    def sound(self):\n",
    "        print(\"Bark\")\n",
    "\n",
    "class Cat:\n",
    "    def sound(self):\n",
    "        print(\"Meow\")\n",
    "\n",
    "if issubclass(Dog, Animal):\n",
    "    print(\"Dog is a subclass of Animal\")\n",
    "\n",
    "if issubclass(Cat, (Animal, object)):\n",
    "    print(\"Cat is a subclass of Animal or object\")\n"
   ]
  },
  {
   "cell_type": "code",
   "execution_count": 8,
   "id": "568e63e3-6d9f-4036-9abd-88ff0193c3a3",
   "metadata": {},
   "outputs": [
    {
     "name": "stdout",
     "output_type": "stream",
     "text": [
      "obj1 is an object of the class Dog\n"
     ]
    }
   ],
   "source": [
    "# Example of isinstance() method of userdefined class\n",
    "obj1 = Dog()\n",
    "\n",
    "if isinstance(obj1,Dog):\n",
    "    print(\"obj1 is an object of the class Dog\")"
   ]
  },
  {
   "cell_type": "raw",
   "id": "9b64cde7-526a-4e0b-8a2e-ee97c4fc1776",
   "metadata": {},
   "source": [
    "#10) What is the role of the '@abstractmethod' decorator in achieving polymorphism in Python? Provide an example.\n",
    "\n",
    "Ans.The @abstractmethod decorator is a key element in achieving polymorphism in Python through the use of abstract classes and methods. It is part of the abc (Abstract Base Classes) module and helps ensure that certain methods in a base class are overridden by concrete subclasses. This encourages a common interface while allowing different implementations in derived classes. The Abstract Base class and abstractmethod specifies a particular structure of class definition , which is followed inturn by its subclasses.\n",
    "\n",
    "Here's the role of the @abstractmethod decorator in achieving polymorphism, along with an example:\n",
    "\n",
    "Defining an Abstract Base Class (ABC): To create a base class that enforces a common interface for its subclasses, we define abstract methods using the @abstractmethod decorator. These methods are marked as abstract because they don't provide an implementation in the base class.\n",
    "\n",
    "Enforcing Method Overrides: Subclasses of the abstract base class are required to provide concrete implementations for the abstract methods. This ensures that all derived classes adhere to a consistent interface, even though the specific behavior may vary.\n"
   ]
  },
  {
   "cell_type": "raw",
   "id": "346b3c27-636d-49e3-b25c-0c0836d641f8",
   "metadata": {},
   "source": [
    "#11) Implememnt a Python class called \"Shape\" with apolymorphic method area() that calculates the area oof differentt shapes (eg,'Circle','Rectangle','Triangle')."
   ]
  },
  {
   "cell_type": "code",
   "execution_count": 14,
   "id": "0f87cb93-9dfb-482b-841b-767a042bcf0e",
   "metadata": {},
   "outputs": [],
   "source": [
    "from abc import ABC,abstractmethod\n",
    "    \n",
    "class Shape(ABC):\n",
    "        \n",
    "        @abstractmethod\n",
    "        def area(self):\n",
    "            pass\n",
    "        \n",
    "class Circle(Shape):\n",
    "        \n",
    "        def area(self,radius):\n",
    "            print(f\"Area of the circle is {3.14*radius**2} sqcm\")\n",
    "            \n",
    "class Rectangle(Shape):\n",
    "        \n",
    "        def area(self,breadth,length):\n",
    "            print(f\"Area of the rectangle is {breadth*length} sqcm\")\n",
    "            \n",
    "class Triangle(Shape):\n",
    "        \n",
    "        def area(self,base,height):\n",
    "            print(f\"Area of the traingle is {0.5*base*height} sqcm\")\n",
    "        \n",
    "   "
   ]
  },
  {
   "cell_type": "code",
   "execution_count": 15,
   "id": "b53f2218-e029-436d-8b9c-e684da4e8308",
   "metadata": {},
   "outputs": [
    {
     "name": "stdout",
     "output_type": "stream",
     "text": [
      "Area of the circle is 1962.5 sqcm\n"
     ]
    }
   ],
   "source": [
    "circle = Circle()\n",
    "circle.area(25)"
   ]
  },
  {
   "cell_type": "code",
   "execution_count": 16,
   "id": "a0f4132a-84e1-4b5e-a557-c74f9543a102",
   "metadata": {},
   "outputs": [
    {
     "name": "stdout",
     "output_type": "stream",
     "text": [
      "Area of the rectangle is 260 sqcm\n"
     ]
    }
   ],
   "source": [
    "rectangle = Rectangle()\n",
    "rectangle.area(13,20)"
   ]
  },
  {
   "cell_type": "code",
   "execution_count": 17,
   "id": "effe5697-966b-464c-9e7a-6bbb569b0d4c",
   "metadata": {},
   "outputs": [
    {
     "name": "stdout",
     "output_type": "stream",
     "text": [
      "Area of the traingle is 150.0 sqcm\n"
     ]
    }
   ],
   "source": [
    "triangle = Triangle()\n",
    "triangle.area(20,15)"
   ]
  },
  {
   "cell_type": "raw",
   "id": "92d4f2be-ead9-4add-9c69-2e4d92e9b24b",
   "metadata": {},
   "source": [
    "#12) Discuss the benefits of polymorphism in terms of code reusability and flexibility in Python program.\n",
    "\n",
    "Ans.Polymorphism is a fundamental concept in object-oriented programming, and it offers several benefits in terms of code reusability and flexibility in Python programs:\n",
    "\n",
    "Code Reusability:\n",
    "\n",
    "Polymorphism allows you to create a common interface (such as a method name) that can be implemented differently in various classes.\n",
    "This common interface enables code reusability, as we can write generic code that works with objects of different types as long as they adhere to the common interface.\n",
    "\n",
    "Flexibility:\n",
    "\n",
    "Polymorphism provides flexibility in design and extensibility of code.\n",
    "New classes can be added to the codebase without modifying existing code as long as they adhere to the common interface. This makes it easier to accommodate future changes and new requirements.\n",
    "\n",
    "Testing and Debugging:\n",
    "\n",
    "Polymorphism simplifies testing and debugging by allowing us to write generic test cases and debugging tools that work with various objects.\n",
    "We can create unit tests that cover a broad range of object types by testing them against a common interface.\n"
   ]
  },
  {
   "cell_type": "raw",
   "id": "111f7026-bd4a-454c-a5df-2ac59b330638",
   "metadata": {},
   "source": [
    "#13) Explain the use of \"super()\" function in Python polymorphism. How does it help call methods of parent class ?\n",
    "\n",
    "Ans. The super() function in Python is a powerful tool for achieving polymorphism and for calling methods of a parent class within a derived class. It plays a significant role in method overriding, allowing us to extend the behavior of a method from a base class while still incorporating that behavior.\n",
    "\n"
   ]
  },
  {
   "cell_type": "code",
   "execution_count": 19,
   "id": "2b62c48c-5fc0-4b90-a19b-c2661912ebc5",
   "metadata": {},
   "outputs": [
    {
     "name": "stdout",
     "output_type": "stream",
     "text": [
      "Message from the Parent class\n",
      "Message from the Child class\n"
     ]
    }
   ],
   "source": [
    "#Example of implementing super() class in function overriding\n",
    "\n",
    "class Parent:\n",
    "    def show_message(self):\n",
    "        print(\"Message from the Parent class\")\n",
    "\n",
    "class Child(Parent):\n",
    "    def show_message(self):\n",
    "        super().show_message()  # Call the parent class's method\n",
    "        print(\"Message from the Child class\")\n",
    "\n",
    "# Create an instance of the Child class\n",
    "child = Child()\n",
    "\n",
    "# Call the show_message method of the Child class\n",
    "child.show_message()\n"
   ]
  },
  {
   "cell_type": "raw",
   "id": "920b631f-d74b-4388-88e2-fdd9a5db496b",
   "metadata": {},
   "source": [
    "#14) Create a Python class hierarchy for a banking system with various account types (eg. savings, checkings, credit card) and demonstrate polymorphism by implementing \"withdraw()\" method."
   ]
  },
  {
   "cell_type": "code",
   "execution_count": 20,
   "id": "40b3f4b4-dddf-4487-95d2-98890f9bf19e",
   "metadata": {},
   "outputs": [],
   "source": [
    "class BankAccount:\n",
    "    def __init__(self, account_number, balance):\n",
    "        self.account_number = account_number\n",
    "        self.balance = balance\n",
    "\n",
    "    def withdraw(self, amount):\n",
    "        if amount > 0 and amount <= self.balance:\n",
    "            self.balance -= amount\n",
    "            print(f\"Withdrew ${amount:.2f} from account {self.account_number}\")\n",
    "        else:\n",
    "            print(f\"Unable to withdraw ${amount:.2f} from account {self.account_number}\")\n",
    "\n",
    "    def display_balance(self):\n",
    "        print(f\"Account {self.account_number}: Balance ${self.balance:.2f}\")\n",
    "\n",
    "\n",
    "class SavingsAccount(BankAccount):\n",
    "    def __init__(self, account_number, balance, interest_rate):\n",
    "        super().__init__(account_number, balance)\n",
    "        self.interest_rate = interest_rate\n",
    "\n",
    "    def withdraw(self, amount):\n",
    "        super().withdraw(amount)  # Call the parent class's withdraw method\n",
    "        print(f\"Interest rate: {self.interest_rate * 100}%\")\n",
    "\n",
    "    def display_balance(self):\n",
    "        super().display_balance()\n",
    "        print(f\"Interest rate: {self.interest_rate * 100}%\")\n",
    "\n",
    "\n",
    "class CheckingAccount(BankAccount):\n",
    "    def __init__(self, account_number, balance, overdraft_limit):\n",
    "        super().__init__(account_number, balance)\n",
    "        self.overdraft_limit = overdraft_limit\n",
    "\n",
    "    def withdraw(self, amount):\n",
    "        if amount <= self.balance + self.overdraft_limit:\n",
    "            self.balance -= amount\n",
    "            print(f\"Withdrew ${amount:.2f} from account {self.account_number}\")\n",
    "        else:\n",
    "            print(f\"Unable to withdraw ${amount:.2f} from account {self.account_number}\")\n",
    "\n",
    "    def display_balance(self):\n",
    "        super().display_balance()\n",
    "        print(f\"Overdraft limit: ${self.overdraft_limit:.2f}\")\n",
    "\n",
    "\n",
    "class CreditCardAccount(BankAccount):\n",
    "    def __init__(self, account_number, balance, credit_limit):\n",
    "        super().__init__(account_number, balance)\n",
    "        self.credit_limit = credit_limit\n",
    "\n",
    "    def withdraw(self, amount):\n",
    "        if amount <= self.balance + self.credit_limit:\n",
    "            self.balance -= amount\n",
    "            print(f\"Withdrew ${amount:.2f} from account {self.account_number}\")\n",
    "        else:\n",
    "            print(f\"Unable to withdraw ${amount:.2f} from account {self.account_number}\")\n",
    "\n",
    "    def display_balance(self):\n",
    "        super().display_balance()\n",
    "        print(f\"Credit limit: ${self.credit_limit:.2f}\")\n"
   ]
  },
  {
   "cell_type": "code",
   "execution_count": 21,
   "id": "b8384103-f924-407d-b807-dffdca273ca1",
   "metadata": {},
   "outputs": [],
   "source": [
    "# Create instances of different account types\n",
    "savings_account = SavingsAccount(\"SA123\", 1000.0, 0.02)\n",
    "checking_account = CheckingAccount(\"CA456\", 500.0, 200.0)\n",
    "credit_card_account = CreditCardAccount(\"CC789\", -1000.0, 2000.0)\n"
   ]
  },
  {
   "cell_type": "code",
   "execution_count": 22,
   "id": "a5494ae2-1b56-49c6-82e1-f5dff2b733d8",
   "metadata": {},
   "outputs": [
    {
     "name": "stdout",
     "output_type": "stream",
     "text": [
      "Withdrew $200.00 from account SA123\n",
      "Interest rate: 2.0%\n",
      "Account SA123: Balance $800.00\n",
      "Interest rate: 2.0%\n",
      "\n",
      "Withdrew $200.00 from account CA456\n",
      "Account CA456: Balance $300.00\n",
      "Overdraft limit: $200.00\n",
      "\n",
      "Withdrew $200.00 from account CC789\n",
      "Account CC789: Balance $-1200.00\n",
      "Credit limit: $2000.00\n",
      "\n"
     ]
    }
   ],
   "source": [
    "# Demonstrate polymorphism by calling the withdraw method on various account types\n",
    "accounts = [savings_account, checking_account, credit_card_account]\n",
    "\n",
    "for account in accounts:\n",
    "    account.withdraw(200.0)\n",
    "    account.display_balance()\n",
    "    print()"
   ]
  },
  {
   "cell_type": "raw",
   "id": "9f4e9254-af69-473b-98d5-394ab23ae22d",
   "metadata": {},
   "source": [
    "#15) Describe the concept of operator overloading in Python and how it relates to polymorphism. Provide examples using operators like '+' and '*'.\n",
    "\n",
    "Ans. Operator overloading in Python is a feature that allows you to define custom behavior for operators such as +, -, *, /, ==, !=, and more, depending on the operands' types. It relates to polymorphism because it enables objects of different types to use the same operator while performing operations specific to their types. This allows you to achieve polymorphism by creating custom, type-specific behavior for operators in different classes.\n"
   ]
  },
  {
   "cell_type": "code",
   "execution_count": 23,
   "id": "8ed03eba-f61e-49ee-a915-d37c48f0cba9",
   "metadata": {},
   "outputs": [],
   "source": [
    "#1. Operator Overloading with '+' (Addition):\n",
    "\n",
    "class ComplexNumber:\n",
    "    def __init__(self, real, imag):\n",
    "        self.real = real\n",
    "        self.imag = imag\n",
    "\n",
    "    def __add__(self, other):\n",
    "        if isinstance(other, ComplexNumber):\n",
    "            return ComplexNumber(self.real + other.real, self.imag + other.imag)\n",
    "        elif isinstance(other, int) or isinstance(other, float):\n",
    "            return ComplexNumber(self.real + other, self.imag)\n",
    "\n",
    "    def __str__(self):\n",
    "        return f\"{self.real} + {self.imag}i\"\n",
    "\n",
    "\n"
   ]
  },
  {
   "cell_type": "code",
   "execution_count": 24,
   "id": "915ad896-850c-4fb9-a0b4-c4bc1b30af80",
   "metadata": {},
   "outputs": [
    {
     "name": "stdout",
     "output_type": "stream",
     "text": [
      "3 + 7i\n"
     ]
    }
   ],
   "source": [
    "# Usage of the ComplexNumber class with operator overloading\n",
    "c1 = ComplexNumber(2, 3)\n",
    "c2 = ComplexNumber(1, 4)\n",
    "result = c1 + c2 \n",
    "print(result) "
   ]
  },
  {
   "cell_type": "code",
   "execution_count": 25,
   "id": "e3658a76-3959-4a9a-b036-9ceed5aec211",
   "metadata": {},
   "outputs": [],
   "source": [
    "#2. Operator Overloading with '*' (Multiplication):\n",
    "\n",
    "class Vector:\n",
    "    def __init__(self, elements):\n",
    "        self.elements = elements\n",
    "\n",
    "    def __mul__(self, other):\n",
    "        if isinstance(other, Vector) and len(self.elements) == len(other.elements):\n",
    "            result_elements = [a * b for a, b in zip(self.elements, other.elements)]\n",
    "            return Vector(result_elements)\n",
    "        elif isinstance(other, int) or isinstance(other, float):\n",
    "            result_elements = [a * other for a in self.elements]\n",
    "            return Vector(result_elements)\n",
    "\n",
    "    def __str__(self):\n",
    "        return str(self.elements)\n"
   ]
  },
  {
   "cell_type": "code",
   "execution_count": 26,
   "id": "944cc9f1-11b7-47eb-81c3-170119134594",
   "metadata": {},
   "outputs": [
    {
     "name": "stdout",
     "output_type": "stream",
     "text": [
      "[4, 10, 18]\n"
     ]
    }
   ],
   "source": [
    "# Usage of the Vector class with operator overloading\n",
    "v1 = Vector([1, 2, 3])\n",
    "v2 = Vector([4, 5, 6])\n",
    "result = v1 * v2  \n",
    "print(result)  "
   ]
  },
  {
   "cell_type": "raw",
   "id": "7c96d16e-6671-4b6f-83ae-05d3d75d0735",
   "metadata": {},
   "source": [
    "#16) What is dynamic polymorphism and how it is achieved in Python?\n",
    "\n",
    "Ans. Dynamic polymorphism, also known as runtime polymorphism, is a fundamental concept in object-oriented programming that allows different classes to be treated as instances of a common base class.\n",
    "\n",
    "In Python, dynamic polymorphism is achieved through method overriding, where a subclass provides a specific implementation of a method defined in its parent (base) class. Dynamic polymorphism allows you to write code that can work with objects of various derived classes through a common interface, even when the actual class of an object is determined at runtime.\n",
    "\n",
    "Here are the key aspects of dynamic polymorphism in Python:\n",
    "\n",
    "Inheritance: Dynamic polymorphism is closely tied to inheritance. Subclasses inherit methods and attributes from their parent (base) classes. If a subclass provides its own implementation of a method, it overrides the parent class's method.\n",
    "\n",
    "Method Overriding: To achieve dynamic polymorphism, you need to override a method in a derived class. The overridden method in the derived class provides a specific implementation of the method defined in the base class.\n",
    "\n",
    "Common Interface: Dynamic polymorphism relies on a common interface provided by the base class. This common interface defines the method names and their parameters, allowing code to be written in a way that interacts with objects through this interface.\n",
    "\n",
    "Runtime Determination: The determination of which method to call occurs at runtime, based on the actual class of the object. This allows for the selection of the appropriate method for a given object, even when the code is written to work with the common interface.\n"
   ]
  },
  {
   "cell_type": "raw",
   "id": "dad9a857-c10d-4f0f-b249-64261b205f8f",
   "metadata": {},
   "source": [
    "#17) Create a Python class hierarchy for employees in a company (eg. manager,developer,designer) and implement polymorphismm through a common 'calculate_salary()' method. "
   ]
  },
  {
   "cell_type": "code",
   "execution_count": 30,
   "id": "91ebc5ab-0bcb-4d3a-808d-5636cf6a54d6",
   "metadata": {},
   "outputs": [],
   "source": [
    "class Employee:\n",
    "    def __init__(self, name, employee_id):\n",
    "        self.name = name\n",
    "        self.employee_id = employee_id\n",
    "\n",
    "    def calculate_salary(self):\n",
    "        pass\n",
    "\n",
    "\n",
    "class Manager(Employee):\n",
    "    def __init__(self, name, employee_id, salary, bonus):\n",
    "        super().__init__(name, employee_id)\n",
    "        self.salary = salary\n",
    "        self.bonus = bonus\n",
    "\n",
    "    def calculate_salary(self):\n",
    "        return self.name,self.salary + self.bonus\n",
    "\n",
    "class Developer(Employee):\n",
    "    def __init__(self, name, employee_id, hourly_rate, hours_worked):\n",
    "        super().__init__(name, employee_id)\n",
    "        self.hourly_rate = hourly_rate\n",
    "        self.hours_worked = hours_worked\n",
    "\n",
    "    def calculate_salary(self):\n",
    "        return self.name,self.hourly_rate * self.hours_worked\n",
    "\n",
    "class Designer(Employee):\n",
    "    def __init__(self, name, employee_id, monthly_salary):\n",
    "        super().__init__(name, employee_id)\n",
    "        self.monthly_salary = monthly_salary\n",
    "\n",
    "    def calculate_salary(self):\n",
    "        return self.name,self.monthly_salary\n"
   ]
  },
  {
   "cell_type": "code",
   "execution_count": 31,
   "id": "0ebed9f1-efe4-4bfd-ace5-28a113f76a28",
   "metadata": {},
   "outputs": [
    {
     "name": "stdout",
     "output_type": "stream",
     "text": [
      "Calculated Salary: $('Alice', 6000)\n",
      "\n",
      "Calculated Salary: $('Bob', 8000)\n",
      "\n",
      "Calculated Salary: $('Carol', 4000)\n",
      "\n"
     ]
    }
   ],
   "source": [
    "\n",
    "# Usage of the Employee class hierarchy with polymorphism\n",
    "manager = Manager(\"Alice\", 101, 5000, 1000)\n",
    "developer = Developer(\"Bob\", 102, 50, 160)\n",
    "designer = Designer(\"Carol\", 103, 4000)\n",
    "\n",
    "employees = [manager, developer, designer]\n",
    "\n",
    "for employee in employees:\n",
    "    print(f\"Calculated Salary: ${employee.calculate_salary()}\\n\")\n"
   ]
  },
  {
   "cell_type": "raw",
   "id": "4b325de6-d836-4d8e-b8bd-bda308c15313",
   "metadata": {},
   "source": [
    "#18) Discuss the concept of function pointers and how can they be used to achieve polymorphism in Python ?\n",
    "\n",
    "Ans. Function pointers, often referred to as first-class functions or function references, are a concept from languages like C or C++ that allow you to store references to functions in variables and pass them as arguments to other functions. In Python, the concept of function pointers is not explicitly used since Python has a more dynamic approach to function references and polymorphism.\n",
    "\n",
    "In Python, functions are first-class citizens, meaning they can be assigned to variables, passed as arguments to other functions, and returned from functions. This dynamic feature allows you to achieve polymorphism without explicitly using function pointers. \n",
    "\n",
    "Here's how polymorphism can be achieved in Python using the dynamic nature of functions:"
   ]
  },
  {
   "cell_type": "code",
   "execution_count": 32,
   "id": "2977da12-c87d-471d-b2cb-29ee718a8377",
   "metadata": {},
   "outputs": [
    {
     "name": "stdout",
     "output_type": "stream",
     "text": [
      "8\n",
      "2\n"
     ]
    }
   ],
   "source": [
    "#Example\n",
    "\n",
    "# Define functions with different behaviors\n",
    "def add(a, b):\n",
    "    return a + b\n",
    "\n",
    "def subtract(a, b):\n",
    "    return a - b\n",
    "\n",
    "# A higher-order function that takes a function as an argument\n",
    "def calculate(operation, a, b):\n",
    "    return operation(a, b)\n",
    "\n",
    "# Demonstrate polymorphism with the calculate function\n",
    "result1 = calculate(add, 5, 3)       \n",
    "result2 = calculate(subtract, 5, 3)  \n",
    "\n",
    "print(result1)  \n",
    "print(result2) \n"
   ]
  },
  {
   "cell_type": "raw",
   "id": "c5ef0154-331c-4b49-b2ae-699d08c57097",
   "metadata": {},
   "source": [
    "#19) Explain the role of interface and abstract classes in polymorphism, drawing coomparisoon between them.\n",
    "\n",
    "Ans. In the context of polymorphism and object-oriented programming, both interfaces and abstract classes are used to define a common contract that classes must adhere to. They enable polymorphism by allowing different classes to implement the same set of methods with different behaviors. However, there are some key differences between interfaces and abstract classes:\n",
    "\n",
    "Abstract Classes:\n",
    "\n",
    "An abstract class is a class that cannot be instantiated on its own. It serves as a blueprint for other classes, providing common functionality and possibly some concrete methods.\n",
    "Abstract classes can have both abstract methods (methods without a body) and concrete methods (methods with a body).\n",
    "Subclasses that inherit from an abstract class are required to implement all the abstract methods defined in the abstract class.\n",
    "Abstract classes can have instance variables and constructors.\n",
    "Abstract classes can include code that provides a common implementation for methods, which can be shared among subclasses.\n",
    "\n",
    "Interfaces:\n",
    "\n",
    "An interface is a pure abstract class, meaning it consists only of abstract method declarations without any concrete methods or attributes.\n",
    "Python doesn't have a built-in interface keyword, but you can create interfaces by using abstract base classes and the @abstractmethod decorator to declare methods without implementation.\n",
    "Classes that implement an interface must provide concrete implementations for all the methods defined in the interface."
   ]
  },
  {
   "cell_type": "code",
   "execution_count": 33,
   "id": "f5a371d2-82ab-463e-b637-5e6b99840e27",
   "metadata": {},
   "outputs": [],
   "source": [
    "#Here's an example of an interface using Python's abstract base class\n",
    "\n",
    "from abc import ABC, abstractmethod\n",
    "\n",
    "class Shape(ABC):\n",
    "    @abstractmethod\n",
    "    def calculate_area(self):\n",
    "        pass\n",
    "\n",
    "class Circle(Shape):\n",
    "    def __init__(self, radius):\n",
    "        self.radius = radius\n",
    "\n",
    "    def calculate_area(self):\n",
    "        return 3.14159 * self.radius ** 2\n",
    "\n",
    "class Rectangle(Shape):\n",
    "    def __init__(self, width, height):\n",
    "        self.width = width\n",
    "        self.height = height\n",
    "\n",
    "    def calculate_area(self):\n",
    "        return self.width * self.height\n",
    "\n"
   ]
  },
  {
   "cell_type": "code",
   "execution_count": 34,
   "id": "53ed9b47-da17-49af-a713-eca5b146ca56",
   "metadata": {},
   "outputs": [
    {
     "name": "stdout",
     "output_type": "stream",
     "text": [
      "Area: 78.53975\n",
      "Area: 24\n"
     ]
    }
   ],
   "source": [
    "circle = Circle(5)\n",
    "rectangle = Rectangle(4, 6)\n",
    "\n",
    "shapes = [circle, rectangle]\n",
    "\n",
    "for shape in shapes:\n",
    "    print(f\"Area: {shape.calculate_area()}\")\n"
   ]
  },
  {
   "cell_type": "raw",
   "id": "017256bf-980c-4f0e-8e04-107e9227a358",
   "metadata": {},
   "source": [
    "#20) Create a Python class for a zoo simulation, demonstrating polymorphism with different animal types (eg. birds, mammal,reptiles,etc) and their behaviour (eg, eating, sleeping, making sounds)."
   ]
  },
  {
   "cell_type": "code",
   "execution_count": 39,
   "id": "9b3ec678-e1ec-4139-9f0d-46b2126cd318",
   "metadata": {},
   "outputs": [],
   "source": [
    "class Zoo:\n",
    "    def __init__(self, name, species):\n",
    "        self.name = name\n",
    "        self.species = species\n",
    "\n",
    "    def eat(self):\n",
    "        pass\n",
    "\n",
    "    def sleep(self):\n",
    "        pass\n",
    "\n",
    "    def make_sound(self):\n",
    "        pass\n",
    "    \n",
    "\n",
    "class Bird(Zoo):\n",
    "    def eat(self):\n",
    "        return f\"{self.name} the {self.species} bird is eating seeds.\"\n",
    "\n",
    "    def sleep(self):\n",
    "        return f\"{self.name} the {self.species} bird is roosting in its nest.\"\n",
    "\n",
    "    def make_sound(self):\n",
    "        return f\"{self.name} the {self.species} bird is singing.\"\n",
    "    \n",
    "\n",
    "class Mammal(Zoo):\n",
    "    def eat(self):\n",
    "        return f\"{self.name} the {self.species} mammal is grazing.\"\n",
    "\n",
    "    def sleep(self):\n",
    "        return f\"{self.name} the {self.species} mammal is napping.\"\n",
    "\n",
    "    def make_sound(self):\n",
    "        return f\"{self.name} the {self.species} mammal is vocalizing.\"\n",
    "    \n",
    "class Reptile(Zoo):\n",
    "    def eat(self):\n",
    "        return f\"{self.name} the {self.species} reptile is hunting for prey.\"\n",
    "\n",
    "    def sleep(self):\n",
    "        return f\"{self.name} the {self.species} reptile is basking in the sun.\"\n",
    "\n",
    "    def make_sound(self):\n",
    "        return f\"{self.name} the {self.species} reptile is hissing.\"\n"
   ]
  },
  {
   "cell_type": "code",
   "execution_count": 40,
   "id": "7bd6b797-94a0-470c-a73c-d437e7d6f5de",
   "metadata": {},
   "outputs": [
    {
     "name": "stdout",
     "output_type": "stream",
     "text": [
      "Polly the parrot bird is eating seeds.\n",
      "Polly the parrot bird is roosting in its nest.\n",
      "Polly the parrot bird is singing.\n",
      "\n",
      "Simba the lion mammal is grazing.\n",
      "Simba the lion mammal is napping.\n",
      "Simba the lion mammal is vocalizing.\n",
      "\n",
      "Slithy the snake reptile is hunting for prey.\n",
      "Slithy the snake reptile is basking in the sun.\n",
      "Slithy the snake reptile is hissing.\n",
      "\n"
     ]
    }
   ],
   "source": [
    "#Create instances of different animals\n",
    "parrot = Bird(\"Polly\", \"parrot\")\n",
    "lion = Mammal(\"Simba\", \"lion\")\n",
    "snake = Reptile(\"Slithy\", \"snake\")\n",
    "\n",
    "zoo = [parrot, lion, snake]\n",
    "\n",
    "# Simulate the zoo\n",
    "for animal in zoo:\n",
    "    print(animal.eat())\n",
    "    print(animal.sleep())\n",
    "    print(animal.make_sound())\n",
    "    print()"
   ]
  },
  {
   "cell_type": "markdown",
   "id": "c9f2e1e9-df48-4f93-a302-2e5e6b7af206",
   "metadata": {},
   "source": [
    "# Abstraction"
   ]
  },
  {
   "cell_type": "raw",
   "id": "5b983c69-78bf-4db1-a014-61ccc081d5f2",
   "metadata": {},
   "source": [
    "#1) What is abstraction in Python and how does it relate to object oriented programming?\n",
    "\n",
    "Ans. Abstraction is one of the fundamental concepts in object-oriented programming (OOP), and it plays a crucial role in organizing and simplifying complex systems. Abstraction is the process of simplifying complex reality by modeling classes based on the essential attributes and behaviors of real-world entities. \n",
    "\n",
    "In Python, abstraction is related to OOP in the following ways:\n",
    "\n",
    "Abstract Classes and Methods: Python allows you to define abstract classes and methods using the abc (Abstract Base Classes) module. An abstract class is a class that cannot be instantiated and may have abstract methods (methods without a body). Abstract classes define a common interface that subclasses must implement. Abstract methods serve as placeholders, and their implementation is deferred to the subclasses."
   ]
  },
  {
   "cell_type": "code",
   "execution_count": 1,
   "id": "c0d82fef-bf5c-4ca3-96d0-8c472e514fd3",
   "metadata": {},
   "outputs": [],
   "source": [
    "#Example\n",
    "\n",
    "from abc import ABC, abstractmethod\n",
    "\n",
    "class Shape(ABC):\n",
    "    @abstractmethod\n",
    "    def calculate_area(self):\n",
    "        pass\n"
   ]
  },
  {
   "cell_type": "raw",
   "id": "9841b204-930d-4f58-9340-89eaadadbeba",
   "metadata": {},
   "source": [
    "#2) Describe the benefit of abstraction in terms of code organiztion and complexity reduction.\n",
    "\n",
    "Ans. Abstraction offers several significant benefits in terms of code organization and complexity reduction:\n",
    "\n",
    "Simplification of Complex Systems: Abstraction allows you to model complex systems by focusing on the essential attributes and behaviors of objects, making the system easier to understand and manage. It helps you break down intricate systems into smaller, more manageable components.\n",
    "\n",
    "Code Organization: Abstraction promotes a structured and organized codebase. By defining abstract classes and interfaces, you establish a clear hierarchy and structure for your code. This makes it easier to locate, modify, and extend specific components.\n",
    "\n",
    "Reduced Code Redundancy: Abstraction encourages code reuse by defining common interfaces that can be implemented by multiple classes. This reduces redundancy, as you can avoid duplicating code for similar behaviors in different parts of your application.\n",
    "\n",
    "Modularity: Abstraction encourages modular design, where each component of your system has a well-defined and isolated responsibility. This modularity makes it easier to develop, test, and maintain individual parts of your code without affecting the rest of the system.\n",
    "\n",
    "Improved Maintainability: Abstraction simplifies code maintenance. When you need to make changes or improvements to a system, you can focus on specific abstract classes or interfaces, ensuring that modifications in one place have the desired impact on all related implementations.\n",
    "\n",
    "Ease of Collaboration: Abstraction enhances collaboration among developers. When multiple team members work on a project, abstract interfaces provide a clear contract, allowing developers to implement different parts of the system independently as long as they adhere to the agreed-upon interface.\n",
    "\n",
    "Scalability: Abstraction helps in building scalable systems. You can add new implementations or extend the system's functionality by creating new classes that conform to existing abstract interfaces without affecting the core codebase.\n",
    "\n",
    "Code Readability: Abstraction leads to more readable code. By defining clear, abstract interfaces, you provide self-documentation for your code, making it easier for developers (including yourself) to understand the purpose and usage of various components.\n",
    "\n",
    "Easier Testing: Abstract classes and interfaces simplify testing. You can create mock implementations for testing purposes, ensuring that different parts of your application behave as expected while adhering to the defined interface."
   ]
  },
  {
   "cell_type": "raw",
   "id": "39180a7a-7df3-485d-a496-1b4fa1c96136",
   "metadata": {},
   "source": [
    "#3) Create a Python class \"Shape\" with an abstract method \"calculate_area()\". Then create a child class (eg. 'Circle','Rectangle') that implements \"calculate_area()\" method. Provide and example."
   ]
  },
  {
   "cell_type": "code",
   "execution_count": 4,
   "id": "1b46b90c-32e0-4ff3-8cc0-eacb8deab383",
   "metadata": {},
   "outputs": [],
   "source": [
    "from abc import ABC, abstractmethod\n",
    "import math\n",
    "\n",
    "class Shape(ABC):\n",
    "    @abstractmethod\n",
    "    def calculate_area(self):\n",
    "        pass\n",
    "\n",
    "class Circle(Shape):\n",
    "    def __init__(self, radius):\n",
    "        self.radius = radius\n",
    "\n",
    "    def calculate_area(self):\n",
    "        return math.pi * self.radius ** 2\n",
    "\n",
    "class Rectangle(Shape):\n",
    "    def __init__(self, width, height):\n",
    "        self.width = width\n",
    "        self.height = height\n",
    "\n",
    "    def calculate_area(self):\n",
    "        return self.width * self.height\n",
    "\n"
   ]
  },
  {
   "cell_type": "code",
   "execution_count": 5,
   "id": "0198daf0-735b-4b36-b16c-271f217ac0b3",
   "metadata": {},
   "outputs": [],
   "source": [
    "# Create instances of Circle and Rectangle\n",
    "circle = Circle(5)\n",
    "rectangle = Rectangle(4, 6)\n"
   ]
  },
  {
   "cell_type": "code",
   "execution_count": 6,
   "id": "b758509a-3c27-4882-8b1f-cc32786032af",
   "metadata": {},
   "outputs": [
    {
     "name": "stdout",
     "output_type": "stream",
     "text": [
      "Area of the Circle: 78.54\n",
      "Area of the Rectangle: 24\n"
     ]
    }
   ],
   "source": [
    "# Calculate and print areas\n",
    "print(f\"Area of the Circle: {circle.calculate_area():.2f}\")\n",
    "print(f\"Area of the Rectangle: {rectangle.calculate_area()}\")\n"
   ]
  },
  {
   "cell_type": "raw",
   "id": "e8b84ac8-f4f4-46d2-b4dc-cf0f44fdb8c8",
   "metadata": {},
   "source": [
    "#4) Explain the concept of abstract class in Python and how they are defined using the 'abc' module. Provide an example.\n",
    "\n",
    "Ans. An abstract class in Python is a class that cannot be instantiated on its own. It serves as a blueprint for other classes, providing a common interface and, often, some shared functionality that subclasses are expected to implement. Abstract classes are useful for defining a contract that specifies the methods a subclass must provide, promoting consistency and code structure.\n",
    "\n",
    "To define abstract classes and methods in Python, you can use the abc (Abstract Base Classes) module. Here's how it works with an example:"
   ]
  },
  {
   "cell_type": "code",
   "execution_count": 7,
   "id": "b47b073a-0c9a-4ea3-b882-f278bf8065a6",
   "metadata": {},
   "outputs": [],
   "source": [
    "from abc import ABC, abstractmethod\n",
    "\n",
    "class MyAbstractClass(ABC):\n",
    "    @abstractmethod\n",
    "    def my_abstract_method(self):\n",
    "        pass\n",
    "\n",
    "class MyConcreteClass(MyAbstractClass):\n",
    "    def my_abstract_method(self):\n",
    "        return \"This is a concrete implementation of my_abstract_method.\"\n",
    "\n"
   ]
  },
  {
   "cell_type": "code",
   "execution_count": 8,
   "id": "d1a24636-cbd1-46b6-b8d9-9314b795109a",
   "metadata": {},
   "outputs": [
    {
     "name": "stdout",
     "output_type": "stream",
     "text": [
      "This is a concrete implementation of my_abstract_method.\n"
     ]
    }
   ],
   "source": [
    "# Attempt to create an instance of the abstract class (will raise an error)\n",
    "# my_abstract_instance = MyAbstractClass()  # This will result in a TypeError\n",
    "\n",
    "# Create an instance of the concrete class\n",
    "my_concrete_instance = MyConcreteClass()\n",
    "result = my_concrete_instance.my_abstract_method()\n",
    "\n",
    "print(result)\n"
   ]
  },
  {
   "cell_type": "raw",
   "id": "966482a6-40b5-4ad0-906c-cb424292bd40",
   "metadata": {},
   "source": [
    "#5) Create a Python class for bank account and demonstrate abstraction by hiding the account balance and providing methods to deposit and withdraw funds."
   ]
  },
  {
   "cell_type": "code",
   "execution_count": 11,
   "id": "a272a6fc-2bbd-491e-9065-3d24efd8c588",
   "metadata": {},
   "outputs": [],
   "source": [
    "from abc import ABC, abstractmethod\n",
    "\n",
    "class BankAccount(ABC):\n",
    "    def __init__(self, account_number, account_holder):\n",
    "        self.account_number = account_number\n",
    "        self.account_holder = account_holder\n",
    "        self.balance = 0  # The account balance is hidden\n",
    "\n",
    "    @abstractmethod\n",
    "    def deposit(self, amount):\n",
    "        pass\n",
    "\n",
    "    @abstractmethod\n",
    "    def withdraw(self, amount):\n",
    "        pass\n",
    "\n",
    "class SavingsAccount(BankAccount):\n",
    "    def deposit(self, amount):\n",
    "        if amount > 0:\n",
    "            self.balance += amount\n",
    "            return f\"Deposited ${amount:.2f}. New balance: ${self.balance:.2f}\"\n",
    "        else:\n",
    "            return \"Invalid deposit amount.\"\n",
    "\n",
    "    def withdraw(self, amount):\n",
    "        if amount > 0 and self.balance >= amount:\n",
    "            self.balance -= amount\n",
    "            return f\"Withdrew ${amount:.2f}. New balance: ${self.balance:.2f}\"\n",
    "        elif amount <= 0:\n",
    "            return \"Invalid withdrawal amount.\"\n",
    "        else:\n",
    "            return \"Insufficient funds.\"\n",
    "\n",
    "class CheckingAccount(BankAccount):\n",
    "    def deposit(self, amount):\n",
    "        if amount > 0:\n",
    "            self.balance += amount\n",
    "            return f\"Deposited ${amount:.2f}. New balance: ${self.balance:.2f}\"\n",
    "        else:\n",
    "            return \"Invalid deposit amount.\"\n",
    "\n",
    "    def withdraw(self, amount):\n",
    "        if amount > 0 and self.balance >= amount:\n",
    "            self.balance -= amount\n",
    "            return f\"Withdrew ${amount:.2f}. New balance: ${self.balance:.2f}\"\n",
    "        elif amount <= 0:\n",
    "            return \"Invalid withdrawal amount.\"\n",
    "        else:\n",
    "            return \"Insufficient funds.\"\n",
    "\n"
   ]
  },
  {
   "cell_type": "code",
   "execution_count": 12,
   "id": "2fa0d62c-734c-4015-9b8f-db97f64da6ff",
   "metadata": {},
   "outputs": [],
   "source": [
    "# Create instances of SavingsAccount and CheckingAccount\n",
    "savings_account = SavingsAccount(\"SA12345\", \"Alice\")\n",
    "checking_account = CheckingAccount(\"CA67890\", \"Bob\")\n"
   ]
  },
  {
   "cell_type": "code",
   "execution_count": 13,
   "id": "813f68c2-b8e4-4e43-897a-6c171a91d409",
   "metadata": {},
   "outputs": [
    {
     "name": "stdout",
     "output_type": "stream",
     "text": [
      "Deposited $1000.00. New balance: $1000.00\n",
      "Withdrew $500.00. New balance: $500.00\n",
      "Deposited $1500.00. New balance: $1500.00\n",
      "Insufficient funds.\n"
     ]
    }
   ],
   "source": [
    "# Deposit and withdraw funds\n",
    "print(savings_account.deposit(1000))\n",
    "print(savings_account.withdraw(500))\n",
    "print(checking_account.deposit(1500))\n",
    "print(checking_account.withdraw(2000))\n"
   ]
  },
  {
   "cell_type": "raw",
   "id": "746bfc28-4cff-467c-a77e-f5b4167a42b4",
   "metadata": {},
   "source": [
    "#7) Discuss the concept of inheritance classes in Python and their role in acieving abstraction.\n",
    "\n",
    "Ans.  Inheritance allows us to create new classes based on existing classes, inheriting their attributes and methods. Here's how inheritance and classes in Python contribute to abstraction:\n",
    "\n",
    "Base Class (Parent Class): Inheritance begins with the creation of a base class, also known as a parent class or superclass. The base class defines a common structure or behavior that is shared by a group of related objects. It serves as a blueprint for derived classes.\n",
    "\n",
    "Derived Class (Child Class): Derived classes, also known as child classes or subclasses, are created by inheriting from the base class. Derived classes inherit all the attributes and methods defined in the base class. This inheritance allows for code reuse and the establishment of a common foundation for related objects.\n",
    "\n",
    "Specialization: Derived classes can specialize or customize the behavior inherited from the base class. They can provide their own implementations of methods, add new methods, or introduce additional attributes. This specialization allows you to model specific aspects of objects while maintaining a consistent interface.\n",
    "\n",
    "Abstraction through Inheritance: Inheritance helps achieve abstraction by providing a way to define and enforce a common interface (in the form of methods) for a group of related objects. Abstract methods and properties can be defined in the base class, requiring derived classes to implement them. This enforces a contract or protocol that ensures conformity among objects.\n",
    "\n",
    "Code Organization: Inheritance organizes code in a hierarchical structure. Base classes encapsulate the core attributes and behaviors shared by a group of objects. Derived classes encapsulate specialized features. This hierarchical organization promotes modularity, making it easier to understand, maintain, and extend the codebase.\n",
    "\n",
    "Polymorphism: Inheritance supports polymorphism, allowing objects of derived classes to be treated as objects of the base class. This means that you can work with objects at a higher level of abstraction, using common interfaces, while benefiting from specific implementations provided by derived classes."
   ]
  },
  {
   "cell_type": "code",
   "execution_count": 15,
   "id": "f652c211-4a1f-41fe-8812-d72b01fd385b",
   "metadata": {},
   "outputs": [],
   "source": [
    "#Example\n",
    "\n",
    "class Animal:\n",
    "    def __init__(self, name):\n",
    "        self.name = name\n",
    "\n",
    "    def speak(self):\n",
    "        pass\n",
    "\n",
    "class Dog(Animal):\n",
    "    def speak(self):\n",
    "        return f\"{self.name} says Woof!\"\n",
    "\n",
    "class Cat(Animal):\n",
    "    def speak(self):\n",
    "        return f\"{self.name} says Meow!\"\n",
    "\n"
   ]
  },
  {
   "cell_type": "code",
   "execution_count": 16,
   "id": "9720c587-ae96-4d27-b42b-dd790c87977a",
   "metadata": {},
   "outputs": [
    {
     "name": "stdout",
     "output_type": "stream",
     "text": [
      "Buddy says Woof!\n",
      "Whiskers says Meow!\n"
     ]
    }
   ],
   "source": [
    "# Abstraction and polymorphism in action\n",
    "animals = [Dog(\"Buddy\"), Cat(\"Whiskers\")]\n",
    "\n",
    "for animal in animals:\n",
    "    print(animal.speak())"
   ]
  },
  {
   "cell_type": "raw",
   "id": "5023e9d7-ecb0-4744-b424-6301810ca9cb",
   "metadata": {},
   "source": [
    "#8) Create a Python class hierarchy for animals and implement abstaraction by defining common methods (e.g 'eat()', 'sleep()') in an abstract class."
   ]
  },
  {
   "cell_type": "code",
   "execution_count": 17,
   "id": "535c3fb0-1e9b-4c5f-b20f-cf397379e879",
   "metadata": {},
   "outputs": [],
   "source": [
    "from abc import ABC, abstractmethod\n",
    "\n",
    "class Animal(ABC):\n",
    "    def __init__(self, name):\n",
    "        self.name = name\n",
    "\n",
    "    @abstractmethod\n",
    "    def speak(self):\n",
    "        pass\n",
    "\n",
    "    @abstractmethod\n",
    "    def eat(self):\n",
    "        pass\n",
    "\n",
    "    @abstractmethod\n",
    "    def sleep(self):\n",
    "        pass\n",
    "\n",
    "class Dog(Animal):\n",
    "    def speak(self):\n",
    "        return f\"{self.name} says Woof!\"\n",
    "\n",
    "    def eat(self):\n",
    "        return f\"{self.name} is eating dog food.\"\n",
    "\n",
    "    def sleep(self):\n",
    "        return f\"{self.name} is sleeping in a dog bed.\"\n",
    "\n",
    "class Cat(Animal):\n",
    "    def speak(self):\n",
    "        return f\"{self.name} says Meow!\"\n",
    "\n",
    "    def eat(self):\n",
    "        return f\"{self.name} is eating cat food.\"\n",
    "\n",
    "    def sleep(self):\n",
    "        return f\"{self.name} is napping on a sunny windowsill.\"\n"
   ]
  },
  {
   "cell_type": "code",
   "execution_count": 18,
   "id": "649c99d8-e783-4714-b088-d67c82187c99",
   "metadata": {},
   "outputs": [
    {
     "name": "stdout",
     "output_type": "stream",
     "text": [
      "Buddy says Woof!\n",
      "Buddy is eating dog food.\n",
      "Buddy is sleeping in a dog bed.\n",
      "\n",
      "Whiskers says Meow!\n",
      "Whiskers is eating cat food.\n",
      "Whiskers is napping on a sunny windowsill.\n",
      "\n"
     ]
    }
   ],
   "source": [
    "\n",
    "# Abstraction in action\n",
    "animals = [Dog(\"Buddy\"), Cat(\"Whiskers\")]\n",
    "\n",
    "for animal in animals:\n",
    "    print(animal.speak())\n",
    "    print(animal.eat())\n",
    "    print(animal.sleep())\n",
    "    print()\n"
   ]
  },
  {
   "cell_type": "raw",
   "id": "1a7ec094-1a5a-4ddd-b1fd-14c58907aba9",
   "metadata": {},
   "source": [
    "#9) Explain the significance of Encapsulation in achieving abstraction.\n",
    "\n",
    "Ans. Encapsulation and abstraction are closely related concepts in object-oriented programming. Encapsulation plays a significant role in achieving abstraction, and here's why it's important:\n",
    "\n",
    "Data Hiding: Encapsulation involves the bundling of data (attributes) and methods (functions) that operate on that data into a single unit, known as a class. By marking attributes as private (using naming conventions like \"_private\" or \"__private\") and providing public methods to access or modify them, encapsulation hides the internal details of the class from the outside world. This data hiding is a fundamental aspect of achieving abstraction. It allows the class to define an interface through which external code interacts with it.\n",
    "\n",
    "Abstraction through Interfaces: Encapsulation defines the public interface of a class. This interface represents a higher-level view of the class's functionality, focusing on what the class does rather than how it does it. By exposing only essential methods and attributes and keeping implementation details private, encapsulation allows you to abstract the complexity of the underlying logic.\n",
    "\n",
    "Information Hiding: Encapsulation enforces information hiding by preventing direct access to an object's internal state. This separation between the public interface and the private implementation details promotes abstraction. It enables you to change the internal implementation of a class without affecting the code that uses it. As long as the public interface remains consistent, the abstraction is preserved.\n",
    "\n",
    "Modularity: Encapsulation contributes to code modularity. Each class can be seen as a self-contained module with a well-defined interface. This modularity simplifies the design and maintenance of complex systems. It allows developers to work on individual classes without needing an in-depth understanding of the entire system.\n",
    "\n",
    "Code Reusability: Encapsulation promotes code reusability by encapsulating specific functionality within classes. These classes can be reused in different parts of an application or even in entirely different projects. This reuse of encapsulated code helps achieve abstraction at a higher level by treating classes as building blocks.\n",
    "\n",
    "Security and Access Control: By encapsulating data and providing controlled access through methods, you can enforce security and access control. This is especially important when dealing with sensitive or critical data. Encapsulation allows you to define who can read or modify the data, reinforcing the principle of abstraction by defining clear boundaries for data access.\n"
   ]
  },
  {
   "cell_type": "raw",
   "id": "7e0d104e-0534-4a3b-ace6-75260db3f0bb",
   "metadata": {},
   "source": [
    "#10) What is the purpose of abstract methods and how to enforce abstraction in Python class?\n",
    "\n",
    "Ans. Abstract methods are methods defined in an abstract class that have no implementation in the base class. Their purpose is to provide a common interface that derived classes must implement. Abstract methods are used to enforce abstraction by defining a contract that derived classes must adhere to.\n",
    "\n",
    "In Python, you can enforce abstraction using the following steps:\n",
    "\n",
    "Define an abstract base class: Create an abstract base class by inheriting from the ABC (Abstract Base Class) class from the abc module.\n",
    "\n",
    "Define abstract methods: Within the abstract base class, define abstract methods by using the @abstractmethod decorator. Abstract methods have no implementation; they raise the NotImplementedError exception. These methods define a contract that derived classes must fulfill.\n",
    "\n",
    "Create derived classes: Create one or more derived classes that inherit from the abstract base class. These derived classes are required to provide concrete implementations of the abstract methods defined in the base class.\n",
    "\n",
    "Implement abstract methods: In each derived class, implement the abstract methods according to the specific behavior of that class. This enforces the abstraction, as it ensures that each derived class provides its own implementation while adhering to the common interface.\n"
   ]
  },
  {
   "cell_type": "raw",
   "id": "7fdf803e-3153-480e-af97-b4cb69c7f84c",
   "metadata": {},
   "source": [
    "#11) Create a Python class for a vehicle system and demonstrate abstraction by defining common methods (eg. 'start()', 'stop()') in an abstract base class."
   ]
  },
  {
   "cell_type": "code",
   "execution_count": 22,
   "id": "3fde6644-9e7b-44c1-92e1-65e8a8de28d3",
   "metadata": {},
   "outputs": [],
   "source": [
    "from abc import ABC, abstractmethod\n",
    "\n",
    "class Vehicle(ABC):\n",
    "    def __init__(self, make, model):\n",
    "        self.make = make\n",
    "        self.model = model\n",
    "        self.is_running = False\n",
    "\n",
    "    @abstractmethod\n",
    "    def start(self):\n",
    "        pass\n",
    "\n",
    "    @abstractmethod\n",
    "    def stop(self):\n",
    "        pass\n",
    "\n",
    "class Car(Vehicle):\n",
    "    def start(self):\n",
    "        if not self.is_running:\n",
    "            self.is_running = True\n",
    "            return f\"{self.make} {self.model} engine is started.\"\n",
    "        else:\n",
    "            return f\"{self.make} {self.model} engine is already running.\"\n",
    "\n",
    "    def stop(self):\n",
    "        if self.is_running:\n",
    "            self.is_running = False\n",
    "            return f\"{self.make} {self.model} engine is stopped.\"\n",
    "        else:\n",
    "            return f\"{self.make} {self.model} engine is already stopped.\"\n",
    "\n",
    "class Motorcycle(Vehicle):\n",
    "    def start(self):\n",
    "        if not self.is_running:\n",
    "            self.is_running = True\n",
    "            return f\"{self.make} {self.model} engine is started.\"\n",
    "        else:\n",
    "            return f\"{self.make} {self.model} engine is already running.\"\n",
    "\n",
    "    def stop(self):\n",
    "        if self.is_running:\n",
    "            self.is_running = False\n",
    "            return f\"{self.make} {self.model} engine is stopped.\"\n",
    "        else:\n",
    "            return f\"{self.make} {self.model} engine is already stopped.\"\n"
   ]
  },
  {
   "cell_type": "code",
   "execution_count": 23,
   "id": "17feb724-e3cf-41ca-ad90-f117e1323924",
   "metadata": {},
   "outputs": [
    {
     "name": "stdout",
     "output_type": "stream",
     "text": [
      "Toyota Camry engine is started.\n",
      "Harley-Davidson Sportster engine is started.\n",
      "Toyota Camry engine is stopped.\n",
      "Harley-Davidson Sportster engine is stopped.\n"
     ]
    }
   ],
   "source": [
    "\n",
    "# Abstraction in action\n",
    "car = Car(\"Toyota\", \"Camry\")\n",
    "motorcycle = Motorcycle(\"Harley-Davidson\", \"Sportster\")\n",
    "\n",
    "print(car.start())\n",
    "print(motorcycle.start())\n",
    "print(car.stop())\n",
    "print(motorcycle.stop())\n"
   ]
  },
  {
   "cell_type": "raw",
   "id": "08827ae9-efb1-4a75-be3f-e8e4b85261b6",
   "metadata": {},
   "source": [
    "#12) Describe the use of abstract properties in Python and how they can be employed in abstract class.\n",
    "\n",
    "Ans. In Python, abstract properties are properties declared in an abstract base class (ABC) without providing an implementation. Abstract properties enforce derived classes to implement these properties, ensuring a consistent interface across multiple classes. Abstract properties are defined using the @property decorator and the @abstractmethod decorator.\n",
    "\n"
   ]
  },
  {
   "cell_type": "code",
   "execution_count": 1,
   "id": "98e76af7-2f54-4fac-9f52-b26ee898dc81",
   "metadata": {},
   "outputs": [],
   "source": [
    "#Example\n",
    "\n",
    "from abc import ABC, abstractmethod\n",
    "\n",
    "class Shape(ABC):\n",
    "    @property\n",
    "    @abstractmethod\n",
    "    def area(self):\n",
    "        pass\n",
    "\n",
    "    @property\n",
    "    @abstractmethod\n",
    "    def perimeter(self):\n",
    "        pass\n",
    "\n",
    "class Circle(Shape):\n",
    "    def __init__(self, radius):\n",
    "        self._radius = radius\n",
    "\n",
    "    @property\n",
    "    def area(self):\n",
    "        return 3.14 * self._radius**2\n",
    "\n",
    "    @property\n",
    "    def perimeter(self):\n",
    "        return 2 * 3.14 * self._radius\n",
    "\n",
    "class Square(Shape):\n",
    "    def __init__(self, side_length):\n",
    "        self._side_length = side_length\n",
    "\n",
    "    @property\n",
    "    def area(self):\n",
    "        return self._side_length**2\n",
    "\n",
    "    @property\n",
    "    def perimeter(self):\n",
    "        return 4 * self._side_length\n"
   ]
  },
  {
   "cell_type": "code",
   "execution_count": 2,
   "id": "9972c3df-8887-47bd-ac1d-da9ab33a8b3a",
   "metadata": {},
   "outputs": [
    {
     "name": "stdout",
     "output_type": "stream",
     "text": [
      "Circle Area: 78.5, Perimeter: 31.400000000000002\n",
      "Square Area: 16, Perimeter: 16\n"
     ]
    }
   ],
   "source": [
    "# Creating instances\n",
    "circle = Circle(5)\n",
    "square = Square(4)\n",
    "\n",
    "# Accessing abstract properties\n",
    "print(f\"Circle Area: {circle.area}, Perimeter: {circle.perimeter}\")\n",
    "print(f\"Square Area: {square.area}, Perimeter: {square.perimeter}\")\n"
   ]
  },
  {
   "cell_type": "raw",
   "id": "1bffcec3-3d8a-46c5-81ba-f3b8eaae5374",
   "metadata": {},
   "source": [
    "#13) Create a Python class hierarchhy for employees in a company (eg. manager, developer, designer) and implement abstraction by defining a common 'get_salary()' method.\n"
   ]
  },
  {
   "cell_type": "code",
   "execution_count": 3,
   "id": "332de17b-eac0-4151-9326-add5a7772303",
   "metadata": {},
   "outputs": [],
   "source": [
    "from abc import ABC, abstractmethod\n",
    "\n",
    "class Employee(ABC):\n",
    "    def __init__(self, name, employee_id):\n",
    "        self.name = name\n",
    "        self.employee_id = employee_id\n",
    "\n",
    "    @abstractmethod\n",
    "    def get_salary(self):\n",
    "        pass\n",
    "\n",
    "class Manager(Employee):\n",
    "    def __init__(self, name, employee_id, bonus_percentage):\n",
    "        super().__init__(name, employee_id)\n",
    "        self.bonus_percentage = bonus_percentage\n",
    "\n",
    "    def get_salary(self):\n",
    "        base_salary = 50000  # Assuming a base salary for managers\n",
    "        bonus = base_salary * (self.bonus_percentage / 100)\n",
    "        total_salary = base_salary + bonus\n",
    "        return total_salary\n",
    "\n",
    "class Developer(Employee):\n",
    "    def __init__(self, name, employee_id, programming_language):\n",
    "        super().__init__(name, employee_id)\n",
    "        self.programming_language = programming_language\n",
    "\n",
    "    def get_salary(self):\n",
    "        base_salary = 60000  # Assuming a base salary for developers\n",
    "        bonus = 0  # Developers may not have a bonus in this example\n",
    "        total_salary = base_salary + bonus\n",
    "        return total_salary\n",
    "\n",
    "class Designer(Employee):\n",
    "    def __init__(self, name, employee_id, years_of_experience):\n",
    "        super().__init__(name, employee_id)\n",
    "        self.years_of_experience = years_of_experience\n",
    "\n",
    "    def get_salary(self):\n",
    "        base_salary = 55000  # Assuming a base salary for designers\n",
    "        bonus = 0  # Designers may not have a bonus in this example\n",
    "        experience_bonus = self.years_of_experience * 1000\n",
    "        total_salary = base_salary + bonus + experience_bonus\n",
    "        return total_salary\n",
    "\n",
    "\n"
   ]
  },
  {
   "cell_type": "code",
   "execution_count": 4,
   "id": "d23e41a1-e300-4a25-b322-9ea1045cbfd6",
   "metadata": {},
   "outputs": [
    {
     "name": "stdout",
     "output_type": "stream",
     "text": [
      "John Smith's salary: $55000.0\n",
      "Alice Johnson's salary: $60000\n",
      "Bob Williams's salary: $60000\n"
     ]
    }
   ],
   "source": [
    "# Example usage\n",
    "manager = Manager(\"John Smith\", \"M123\", 10)\n",
    "developer = Developer(\"Alice Johnson\", \"D456\", \"Python\")\n",
    "designer = Designer(\"Bob Williams\", \"D789\", 5)\n",
    "\n",
    "# Getting salaries\n",
    "print(f\"{manager.name}'s salary: ${manager.get_salary()}\")\n",
    "print(f\"{developer.name}'s salary: ${developer.get_salary()}\")\n",
    "print(f\"{designer.name}'s salary: ${designer.get_salary()}\")"
   ]
  },
  {
   "cell_type": "raw",
   "id": "27496b7a-bef7-42e0-923e-298bd8f399a3",
   "metadata": {},
   "source": [
    "#14) Discuss the differences between abstract classes and concrete classes in Python, including their instantiation.\n",
    "\n",
    "Ans. In Python, abstract classes and concrete classes serve different purposes in object-oriented programming. Here are the key differences between them, including their instantiation:\n",
    "\n",
    "Abstract Class: An abstract class is a class that cannot be instantiated on its own. It typically contains one or more abstract methods that must be implemented by its concrete subclasses. Abstract classes are defined using the ABC (Abstract Base Class) module and the @abstractmethod decorator.\n",
    "\n",
    "\n",
    "Concrete Class: A concrete class is a class that can be instantiated directly. It may or may not inherit from an abstract class. Concrete classes provide concrete implementations for all abstract methods defined in their abstract base class (if any).\n",
    "\n",
    "\n",
    "Instantiation:\n",
    "\n",
    "Abstract Class: Abstract classes cannot be instantiated directly. Attempting to create an instance of an abstract class will result in a TypeError. The purpose of an abstract class is to provide a common interface and enforce certain methods that must be implemented by its subclasses.\n",
    "\n",
    "\n",
    "Concrete Class: Concrete classes can be instantiated directly using the ClassName() syntax. They provide specific implementations for all methods, including any abstract methods inherited from abstract base classes.\n",
    "\n",
    "Purpose:\n",
    "\n",
    "Abstract Class: The primary purpose of an abstract class is to define a common interface for a group of related classes. It establishes a contract that its concrete subclasses must adhere to by implementing certain methods. Abstract classes are useful for creating a hierarchy of related classes that share common behavior.\n",
    "\n",
    "\n",
    "Concrete Class: Concrete classes provide actual implementations for methods defined in the class hierarchy. They can be instantiated to create objects with specific behavior. Concrete classes may inherit from abstract classes to reuse common functionality."
   ]
  },
  {
   "cell_type": "raw",
   "id": "1490fbac-3948-43c2-b45e-4f4d1d93601f",
   "metadata": {},
   "source": [
    "#15) Explain the concept of abstract data types (ADTs) and their role in achieving abstraction in Python.\n",
    "\n",
    "Ans. Abstract Data Types (ADTs) are a high-level conceptual model for representing data structures and the operations that can be performed on them. The key idea behind ADTs is to separate the logical properties of a data structure from its implementation details, providing a clear and abstract interface for users. This separation helps achieve abstraction in programming.\n",
    "\n",
    "Data Abstraction:\n",
    "\n",
    "Definition: Data abstraction is the process of hiding the implementation details of data structures and exposing only the essential features and behaviors to the user.\n",
    "Role in Python: ADTs allow developers to define abstract interfaces for data structures without revealing the underlying implementation. Users interact with the abstract interface, which provides a high-level view of the data structure's functionality.\n",
    "\n",
    "Encapsulation:\n",
    "\n",
    "Definition: Encapsulation involves bundling the data and the methods that operate on the data into a single unit, often called a class. This unit serves as a capsule, and the internal details are hidden from the outside world.\n",
    "Role in Python: Classes in Python are a common way to implement encapsulation. ADTs often use classes to encapsulate data and operations. Users interact with the class's public interface, and the internal details are encapsulated within the class.\n",
    "\n",
    "Interface and Implementation:\n",
    "\n",
    "Definition: The interface of an ADT defines the set of operations that can be performed on the data structure, abstracting away the details of how these operations are implemented. The implementation refers to the actual code that executes these operations.\n",
    "Role in Python: In Python, the interface of an ADT is often defined using classes and methods. The methods represent the operations that can be performed, and the implementation of these methods is encapsulated within the class.\n",
    "\n",
    "Code Reusability:\n",
    "\n",
    "Definition: Code reusability is the ability to use existing code in new contexts, reducing the need to rewrite similar functionality.\n",
    "Role in Python: By encapsulating the implementation details within classes, ADTs promote code reusability. Users can reuse the abstract interface across different parts of their program without concerning themselves with how the operations are implemented internally.\n",
    "\n",
    "Abstraction Levels:\n",
    "\n",
    "Definition: ADTs allow for different levels of abstraction. Users interact with the high-level interface, abstracted from the low-level details of the implementation.\n",
    "Role in Python: Python provides the flexibility to define abstract interfaces at different levels. For example, a stack ADT can be implemented using lists in a high-level way, abstracting away the details of list manipulation.\n",
    "Data Integrity and Security:\n",
    "\n",
    "Definition: ADTs can provide a level of data integrity by enforcing constraints on how data is accessed and modified. This helps prevent unintended misuse.\n",
    "Role in Python: By defining methods and controlling access to data through encapsulation, ADTs in Python contribute to data integrity and security. Users interact with the data through controlled interfaces, reducing the risk of accidental misuse."
   ]
  },
  {
   "cell_type": "raw",
   "id": "788f621e-32a7-4d1c-b195-4ffdcdff1924",
   "metadata": {},
   "source": [
    "#16) Create a Python class for a computer system demonstrating abstraction by defining common methods (eg 'powwer_on()', 'shutdown()') in an abstract base class."
   ]
  },
  {
   "cell_type": "code",
   "execution_count": 5,
   "id": "ae0b2b5c-e20d-49a7-99c0-ae3337e18447",
   "metadata": {},
   "outputs": [],
   "source": [
    "from abc import ABC, abstractmethod\n",
    "\n",
    "# Abstract base class for Computer\n",
    "class Computer(ABC):\n",
    "    def __init__(self, brand, model):\n",
    "        self.brand = brand\n",
    "        self.model = model\n",
    "        self.is_powered_on = False\n",
    "\n",
    "    @abstractmethod\n",
    "    def power_on(self):\n",
    "        pass\n",
    "\n",
    "    @abstractmethod\n",
    "    def shutdown(self):\n",
    "        pass\n",
    "\n",
    "# Concrete class for Desktop Computer\n",
    "class DesktopComputer(Computer):\n",
    "    def __init__(self, brand, model, monitor_type):\n",
    "        super().__init__(brand, model)\n",
    "        self.monitor_type = monitor_type\n",
    "\n",
    "    def power_on(self):\n",
    "        if not self.is_powered_on:\n",
    "            print(f\"{self.brand} {self.model} Desktop Computer is powering on.\")\n",
    "            # Additional actions specific to powering on a desktop computer\n",
    "            self.is_powered_on = True\n",
    "        else:\n",
    "            print(\"Computer is already powered on.\")\n",
    "\n",
    "    def shutdown(self):\n",
    "        if self.is_powered_on:\n",
    "            print(f\"{self.brand} {self.model} Desktop Computer is shutting down.\")\n",
    "            # Additional actions specific to shutting down a desktop computer\n",
    "            self.is_powered_on = False\n",
    "        else:\n",
    "            print(\"Computer is already powered off.\")\n",
    "\n",
    "# Concrete class for Laptop Computer\n",
    "class LaptopComputer(Computer):\n",
    "    def __init__(self, brand, model, battery_life):\n",
    "        super().__init__(brand, model)\n",
    "        self.battery_life = battery_life\n",
    "\n",
    "    def power_on(self):\n",
    "        if not self.is_powered_on:\n",
    "            print(f\"{self.brand} {self.model} Laptop is powering on.\")\n",
    "            # Additional actions specific to powering on a laptop\n",
    "            self.is_powered_on = True\n",
    "        else:\n",
    "            print(\"Computer is already powered on.\")\n",
    "\n",
    "    def shutdown(self):\n",
    "        if self.is_powered_on:\n",
    "            print(f\"{self.brand} {self.model} Laptop is shutting down.\")\n",
    "            # Additional actions specific to shutting down a laptop\n",
    "            self.is_powered_on = False\n",
    "        else:\n",
    "            print(\"Computer is already powered off.\")\n",
    "\n"
   ]
  },
  {
   "cell_type": "code",
   "execution_count": 6,
   "id": "a5a58f8a-0c13-4210-83f2-c724bc47c95b",
   "metadata": {},
   "outputs": [
    {
     "name": "stdout",
     "output_type": "stream",
     "text": [
      "Dell Inspiron Desktop Computer is powering on.\n",
      "Dell Inspiron Desktop Computer is shutting down.\n",
      "HP Pavilion Laptop is powering on.\n",
      "HP Pavilion Laptop is shutting down.\n"
     ]
    }
   ],
   "source": [
    "# Example usage\n",
    "desktop = DesktopComputer(\"Dell\", \"Inspiron\", \"LED\")\n",
    "laptop = LaptopComputer(\"HP\", \"Pavilion\", \"6 hours\")\n",
    "\n",
    "desktop.power_on()\n",
    "desktop.shutdown()\n",
    "\n",
    "laptop.power_on()\n",
    "laptop.shutdown()\n"
   ]
  },
  {
   "cell_type": "raw",
   "id": "3d1df97d-a9ab-4a23-b993-d022d6b899fc",
   "metadata": {},
   "source": [
    "#17) Discuss the benefits of abstraction in large-scale software development project.\n",
    "\n",
    "Ans. Abstraction plays a crucial role in large-scale software development projects, offering several benefits that contribute to the efficiency, maintainability, and scalability of the software. Here are some key advantages of abstraction in large-scale software development:\n",
    "\n",
    "Modularity and Reusability: By abstracting functionalities into modules, developers can focus on creating well-defined and reusable components. This leads to cleaner code organization, reduces redundancy, and facilitates code reuse, saving time and effort in development.\n",
    "\n",
    "Code Maintainability: Developers can update or modify the implementation of a module without impacting the rest of the system. This makes it easier to fix bugs, add new features, or optimize code without causing widespread disruptions.\n",
    "\n",
    "Reduced Complexity: Large-scale projects often involve numerous components and interactions. Abstraction allows developers to focus on high-level concepts and interactions, making the codebase more comprehensible. This reduction in complexity enhances the overall understanding of the software.\n"
   ]
  },
  {
   "cell_type": "raw",
   "id": "ac7e43d8-47b5-42be-9f68-18580843b084",
   "metadata": {},
   "source": [
    "#18) Create a Python class for a library system, implementing abstraction by defining common methods (eg. 'add_book()', 'borrow_book()') in an abstract base class.\n"
   ]
  },
  {
   "cell_type": "code",
   "execution_count": 1,
   "id": "e480ecdd-763b-47b8-a240-2a57cf72ed4a",
   "metadata": {},
   "outputs": [],
   "source": [
    "from abc import ABC, abstractmethod\n",
    "\n",
    "# Abstract base class for Library\n",
    "class LibrarySystem(ABC):\n",
    "    def __init__(self):\n",
    "        self.books = {}\n",
    "\n",
    "    @abstractmethod\n",
    "    def add_book(self, title, author):\n",
    "        pass\n",
    "\n",
    "    @abstractmethod\n",
    "    def borrow_book(self, title, borrower):\n",
    "        pass\n",
    "\n",
    "    @abstractmethod\n",
    "    def return_book(self, title):\n",
    "        pass\n",
    "\n",
    "    def display_books(self):\n",
    "        print(\"Library Catalog:\")\n",
    "        for title, author in self.books.items():\n",
    "            print(f\"{title} by {author}\")\n",
    "\n",
    "# Concrete class for Library Implementation\n",
    "class MyLibrary(LibrarySystem):\n",
    "    def add_book(self, title, author):\n",
    "        if title not in self.books:\n",
    "            self.books[title] = author\n",
    "            print(f\"Added '{title}' by {author} to the library.\")\n",
    "        else:\n",
    "            print(f\"Book '{title}' already exists in the library.\")\n",
    "\n",
    "    def borrow_book(self, title, borrower):\n",
    "        if title in self.books:\n",
    "            del self.books[title]\n",
    "            print(f\"{borrower} borrowed '{title}' from the library.\")\n",
    "        else:\n",
    "            print(f\"Book '{title}' is not available in the library.\")\n",
    "\n",
    "    def return_book(self, title):\n",
    "        if title not in self.books:\n",
    "            self.books[title] = \"Unknown Author\"\n",
    "            print(f\"Returned '{title}' to the library.\")\n",
    "        else:\n",
    "            print(f\"Book '{title}' was not borrowed from the library.\")\n"
   ]
  },
  {
   "cell_type": "code",
   "execution_count": 3,
   "id": "12e6b0d4-0150-4b8e-a5fc-cf35e12b9a49",
   "metadata": {},
   "outputs": [
    {
     "name": "stdout",
     "output_type": "stream",
     "text": [
      "Added 'The Great Gatsby' by F. Scott Fitzgerald to the library.\n",
      "Added 'To Kill a Mockingbird' by Harper Lee to the library.\n",
      "Added '1984' by George Orwell to the library.\n"
     ]
    }
   ],
   "source": [
    "\n",
    "# Example usage\n",
    "library_system = MyLibrary()\n",
    "\n",
    "library_system.add_book(\"The Great Gatsby\", \"F. Scott Fitzgerald\")\n",
    "library_system.add_book(\"To Kill a Mockingbird\", \"Harper Lee\")\n",
    "library_system.add_book(\"1984\", \"George Orwell\")\n"
   ]
  },
  {
   "cell_type": "code",
   "execution_count": 4,
   "id": "98d5918c-ca0d-423a-9b5b-ca0af9211b7a",
   "metadata": {},
   "outputs": [
    {
     "name": "stdout",
     "output_type": "stream",
     "text": [
      "Library Catalog:\n",
      "The Great Gatsby by F. Scott Fitzgerald\n",
      "To Kill a Mockingbird by Harper Lee\n",
      "1984 by George Orwell\n"
     ]
    }
   ],
   "source": [
    "library_system.display_books()\n"
   ]
  },
  {
   "cell_type": "code",
   "execution_count": 5,
   "id": "990b1e87-a809-4216-ab6e-ea1bf6903c28",
   "metadata": {},
   "outputs": [
    {
     "name": "stdout",
     "output_type": "stream",
     "text": [
      "Alice borrowed 'To Kill a Mockingbird' from the library.\n",
      "Book 'The Catcher in the Rye' is not available in the library.\n"
     ]
    }
   ],
   "source": [
    "library_system.borrow_book(\"To Kill a Mockingbird\", \"Alice\")\n",
    "library_system.borrow_book(\"The Catcher in the Rye\", \"Bob\")  # Book not in the library\n"
   ]
  },
  {
   "cell_type": "code",
   "execution_count": 6,
   "id": "9928b4a1-b964-4939-9b23-c45e2c651454",
   "metadata": {},
   "outputs": [
    {
     "name": "stdout",
     "output_type": "stream",
     "text": [
      "Library Catalog:\n",
      "The Great Gatsby by F. Scott Fitzgerald\n",
      "1984 by George Orwell\n"
     ]
    }
   ],
   "source": [
    "library_system.display_books()"
   ]
  },
  {
   "cell_type": "code",
   "execution_count": 7,
   "id": "89740797-50a9-4d29-a671-dd358608922e",
   "metadata": {},
   "outputs": [
    {
     "name": "stdout",
     "output_type": "stream",
     "text": [
      "Returned 'To Kill a Mockingbird' to the library.\n",
      "Book 'The Great Gatsby' was not borrowed from the library.\n",
      "Library Catalog:\n",
      "The Great Gatsby by F. Scott Fitzgerald\n",
      "1984 by George Orwell\n",
      "To Kill a Mockingbird by Unknown Author\n"
     ]
    }
   ],
   "source": [
    "\n",
    "library_system.return_book(\"To Kill a Mockingbird\")\n",
    "library_system.return_book(\"The Great Gatsby\")  # Book not borrowed\n",
    "\n",
    "library_system.display_books()"
   ]
  },
  {
   "cell_type": "raw",
   "id": "4cb3310a-921c-413f-a43d-ef99f8803f3b",
   "metadata": {},
   "source": [
    "#20) Describe the concept of method abstraction in Python and how it relates to polymorphism ?\n",
    "\n",
    "Ans. Method abstraction in Python is closely related to polymorphism and involves the use of abstract methods within abstract classes or interfaces. This concept allows you to define a method signature (name and parameters) in an abstract class without providing its implementation. Subclasses that inherit from the abstract class must then provide their own implementations for these abstract methods.\n",
    "\n",
    "Here's how method abstraction and polymorphism are connected:\n",
    "\n",
    "Abstract classes in Python are created using the ABC (Abstract Base Class) module. An abstract class can have both abstract methods (methods without implementation) and concrete methods (methods with implementation).\n",
    "Abstract methods are defined using the @abstractmethod decorator. These methods serve as placeholders for functionality that must be implemented by subclasses.\n",
    "\n",
    "Abstract methods, being devoid of implementation in the abstract class, allow for a common method signature to be shared among different subclasses.\n",
    "Subclasses are required to provide their own implementations for these abstract methods, adhering to the method signature specified in the abstract class."
   ]
  },
  {
   "cell_type": "markdown",
   "id": "3349a76d-77b4-4b55-b8ac-a1b8cf2267a3",
   "metadata": {},
   "source": [
    "# Composition"
   ]
  },
  {
   "cell_type": "raw",
   "id": "7087e5d7-631e-4b7c-bb41-5a57b86538bc",
   "metadata": {},
   "source": [
    "#1) Explain the concept of composition in Python and how it is used to build complex objects from simpler ones.\n",
    "\n",
    "Ans.  Composition in Python is a design concept where complex objects are built by combining simpler objects. It involves creating relationships between objects to achieve a higher level of abstraction and code reuse. Instead of relying on inheritance (as in the case of object-oriented inheritance), composition promotes building objects by assembling or composing them from other objects.\n"
   ]
  },
  {
   "cell_type": "code",
   "execution_count": 8,
   "id": "1404e66d-e3b2-4bcf-afcb-7bea6d9d6a4f",
   "metadata": {},
   "outputs": [
    {
     "name": "stdout",
     "output_type": "stream",
     "text": [
      "Driving: Engine started\n"
     ]
    }
   ],
   "source": [
    "#Example\n",
    "\n",
    "class Engine:\n",
    "    def start(self):\n",
    "        return \"Engine started\"\n",
    "\n",
    "class Car:\n",
    "    def __init__(self):\n",
    "        self.engine = Engine()\n",
    "\n",
    "    def drive(self):\n",
    "        return f\"Driving: {self.engine.start()}\" \n",
    "    #here object of class Engine is called inside class Car without using inheritance, but using composition\n",
    "\n",
    "# Using composition\n",
    "my_car = Car()\n",
    "print(my_car.drive())\n",
    "\n"
   ]
  },
  {
   "cell_type": "raw",
   "id": "67e51f98-c3fd-4362-a873-ba01f96eddaa",
   "metadata": {},
   "source": [
    "#2) Describe the difference between composition and inheritance in object oriented programming.\n",
    "\n",
    "Ans. Composition and inheritance are two fundamental concepts in object-oriented programming (OOP), and they represent different ways to achieve code reuse and structure relationships between classes. Here are the key differences between composition and inheritance:\n",
    "\n",
    "Relationship Type:\n",
    "\n",
    "Inheritance: Represents an \"is-a\" relationship. It allows a class to inherit attributes and methods from another class, forming a hierarchy.\n",
    "Composition: Represents a \"has-a\" relationship. It involves combining objects from different classes to create a new, more complex object.\n",
    "\n",
    "Code Reuse:\n",
    "\n",
    "Inheritance: Code is reused by inheriting attributes and behaviors from a base class. Subclasses can extend or override methods of the base class.\n",
    "Composition: Code is reused by creating instances of other classes within a class. The composed class uses the functionality of the other classes through aggregation.\n",
    "\n",
    "Flexibility:\n",
    "\n",
    "Inheritance: Can lead to a rigid class hierarchy, and changes to the base class can affect all subclasses. It provides less flexibility at runtime.\n",
    "Composition: Provides more flexibility as objects can be composed and recomposed dynamically. Changes to one class do not necessarily affect other classes in the composition.\n",
    "\n",
    "Depth of Hierarchy:\n",
    "\n",
    "Inheritance: Can lead to deep class hierarchies, especially in complex systems, which may become hard to manage.\n",
    "Composition: Allows for shallower class hierarchies. Complex functionality is achieved by composing objects from simpler classes."
   ]
  },
  {
   "cell_type": "raw",
   "id": "b7af8048-ec89-462f-9a34-e22d4eb5ae84",
   "metadata": {},
   "source": [
    "#3) Create a Python class called 'Author' with attributes for name and birthdate. Then create a 'Book' class that contains instance of 'Author' as a composition. Provide an example of creating a 'Book' object."
   ]
  },
  {
   "cell_type": "code",
   "execution_count": 21,
   "id": "867f9528-4fce-452b-9b65-c48b49b46076",
   "metadata": {},
   "outputs": [],
   "source": [
    "class Author:\n",
    "    \n",
    "    def __init__(self,name,birthdate):\n",
    "        self.name = name\n",
    "        self.birthdate = birthdate\n",
    "        \n",
    "    def info_author(self):\n",
    "        return f\"{self.name}, born on {self.birthdate}\"\n",
    "        \n",
    "class Book:\n",
    "    \n",
    "    def __init__(self,bookname,author):\n",
    "        self.bookname=bookname\n",
    "        self.author = author\n",
    "        \n",
    "    def info(self):\n",
    "        print(f\"{self.bookname} is written by {self.author.info_author()}\")\n",
    "        \n",
    "\n"
   ]
  },
  {
   "cell_type": "code",
   "execution_count": 22,
   "id": "b57c3d7f-5074-49d6-bf40-c3beb971d7a0",
   "metadata": {},
   "outputs": [
    {
     "name": "stdout",
     "output_type": "stream",
     "text": [
      "Song of Fireflies is written by Yoko Sanchez, born on 1942\n"
     ]
    }
   ],
   "source": [
    "author_details = Author(\"Yoko Sanchez\",1942)\n",
    "new_book = Book(\"Song of Fireflies\",author_details) \n",
    "#assigning the Author object to the object instance of class Book\n",
    "new_book.info() #calling info function of Book object"
   ]
  },
  {
   "cell_type": "raw",
   "id": "0e3d7ade-6187-4af4-9c20-2cac5a8463bb",
   "metadata": {},
   "source": [
    "#3) Discuss the benefit of using composition over inheritance in Python in terms of code flexibility and reusability.\n",
    "\n",
    "Ans. Using composition over inheritance in Python can offer several benefits in terms of code flexibility and reusability. Here are some key advantages:\n",
    "\n",
    "Flexibility:\n",
    "\n",
    "Inheritance Limitations: Inheritance can lead to a rigid class hierarchy, making it challenging to modify or extend the system dynamically.\n",
    "Composition Flexibility: Composition allows for more flexibility in combining and recombining objects at runtime. You can change the behavior of a class by altering the objects it is composed of.\n",
    "\n",
    "Reduced Coupling:\n",
    "\n",
    "Inheritance Coupling: Inheritance can create tight coupling between base and derived classes. Changes to the base class can affect all its subclasses.\n",
    "Composition Loose Coupling: Composition tends to result in looser coupling between classes. Objects are composed and interact through well-defined interfaces, reducing dependencies.\n",
    "\n",
    "Code Reusability:\n",
    "\n",
    "Inheritance Code Sharing: Inheritance allows code reuse by inheriting attributes and methods, but it may lead to a deep hierarchy and code duplication.\n",
    "Composition Code Reusability: Composition promotes code reuse by combining objects from different classes. Objects can be reused in various contexts, making the system more modular.\n"
   ]
  },
  {
   "cell_type": "raw",
   "id": "827135ce-2734-4877-b0b3-dc724e2719e0",
   "metadata": {},
   "source": [
    "#5) How can you implement composition in Python class? Provide examples of using composition to create complex object.\n",
    "\n",
    "Ans. Composition in Python involves creating relationships between classes by including instances of other classes as attributes. This allows you to build complex objects by combining simpler ones. \n"
   ]
  },
  {
   "cell_type": "code",
   "execution_count": 23,
   "id": "15a9d213-26e1-4ad0-bb9a-12308bdb8173",
   "metadata": {},
   "outputs": [],
   "source": [
    "# Simple classes to be used in composition\n",
    "\n",
    "class Engine:\n",
    "    def start(self):\n",
    "        return \"Engine started\"\n",
    "\n",
    "class Wheels:\n",
    "    def rotate(self):\n",
    "        return \"Wheels rotating\"\n",
    "\n",
    "# Complex object created using composition\n",
    "\n",
    "class Car:\n",
    "    def __init__(self, engine, wheels):\n",
    "        self.engine = engine  # Composition: Car has an object of  Engine\n",
    "        self.wheels = wheels  # Composition: Car has object of Wheels\n",
    "\n",
    "    def drive(self):\n",
    "        engine_status = self.engine.start()\n",
    "        wheels_status = self.wheels.rotate()\n",
    "        return f\"Driving: {engine_status}, {wheels_status}\"\n"
   ]
  },
  {
   "cell_type": "code",
   "execution_count": 24,
   "id": "e86c6d3b-997b-4a84-b473-b1134329bacc",
   "metadata": {},
   "outputs": [
    {
     "name": "stdout",
     "output_type": "stream",
     "text": [
      "Driving: Engine started, Wheels rotating\n"
     ]
    }
   ],
   "source": [
    "# Creating instances of simple classes\n",
    "car_engine = Engine()\n",
    "car_wheels = Wheels()\n",
    "\n",
    "# Creating a complex object using composition\n",
    "my_car = Car(engine=car_engine, wheels=car_wheels)\n",
    "\n",
    "# Using the complex object\n",
    "print(my_car.drive())"
   ]
  },
  {
   "cell_type": "raw",
   "id": "d2be63e9-2ec0-422b-9e81-ddc997ad4d06",
   "metadata": {},
   "source": [
    "#6) Create a class hierarchy for a music player system, using composition to represent playlists and songs."
   ]
  },
  {
   "cell_type": "code",
   "execution_count": 1,
   "id": "92f82f27-09a8-4be0-8156-e318545f8436",
   "metadata": {},
   "outputs": [],
   "source": [
    "class Song:\n",
    "    def __init__(self, title, artist, duration):\n",
    "        self.title = title\n",
    "        self.artist = artist\n",
    "        self.duration = duration\n",
    "\n",
    "    def play(self):\n",
    "        return f\"Now playing: {self.title} by {self.artist}\"\n",
    "\n",
    "class Playlist:\n",
    "    def __init__(self, name):\n",
    "        self.name = name\n",
    "        self.songs = []  # Composition: Playlist has a list of Song objects\n",
    "\n",
    "    def add_song(self, song):\n",
    "        self.songs.append(song)\n",
    "\n",
    "    def play_all(self):\n",
    "        playlist_info = f\"Playlist: {self.name}\\n\"\n",
    "        song_info = \"\\n\".join([f\"{i + 1}. {song.title} - {song.artist}\" for i, song in enumerate(self.songs)])\n",
    "        return f\"{playlist_info}{song_info}\"\n",
    "\n",
    "\n"
   ]
  },
  {
   "cell_type": "code",
   "execution_count": 2,
   "id": "d1f74214-ce38-4dd2-ad64-f2a4cee81cfd",
   "metadata": {},
   "outputs": [],
   "source": [
    "# Creating songs\n",
    "song1 = Song(title=\"Song 1\", artist=\"Artist 1\", duration=\"3:45\")\n",
    "song2 = Song(title=\"Song 2\", artist=\"Artist 2\", duration=\"4:20\")\n",
    "song3 = Song(title=\"Song 3\", artist=\"Artist 3\", duration=\"3:30\")\n",
    "\n",
    "# Creating a playlist and adding songs using composition\n",
    "my_playlist = Playlist(name=\"My Favorites\")\n",
    "my_playlist.add_song(song1)\n",
    "my_playlist.add_song(song2)\n",
    "my_playlist.add_song(song3)\n",
    "\n",
    "#"
   ]
  },
  {
   "cell_type": "code",
   "execution_count": 3,
   "id": "06f42a59-1817-4476-98fe-c687101ed579",
   "metadata": {},
   "outputs": [
    {
     "name": "stdout",
     "output_type": "stream",
     "text": [
      "Now playing: Song 1 by Artist 1\n",
      "Now playing: Song 2 by Artist 2\n",
      "Playlist: My Favorites\n",
      "1. Song 1 - Artist 1\n",
      "2. Song 2 - Artist 2\n",
      "3. Song 3 - Artist 3\n"
     ]
    }
   ],
   "source": [
    " #Playing individual songs\n",
    "print(song1.play())\n",
    "print(song2.play())\n",
    "\n",
    "# Playing the entire playlist\n",
    "print(my_playlist.play_all())"
   ]
  },
  {
   "cell_type": "raw",
   "id": "9f504e6c-9f2e-41ef-8176-fa7f19f09485",
   "metadata": {},
   "source": [
    "#7) Explain the concept of \"has-a\" relationship in composition and how it helps design software systems.\n",
    "\n",
    "Ans. The \"has-a\" relationship in composition is a concept in object-oriented programming (OOP) where one class contains an object of another class as a part of its state. This relationship is established by including instances of other classes as attributes within a class. The \"has-a\" relationship is a form of composition, allowing you to build more complex objects by combining simpler ones.\n",
    "\n",
    "The \"has-a\" relationship promotes flexibility in design by allowing the combination and recombination of objects at runtime.\n",
    "It makes systems more maintainable as changes to one part of the system do not necessarily impact other parts."
   ]
  },
  {
   "cell_type": "raw",
   "id": "79ae3341-0a15-4d0e-8d85-8ab7c8f34fcb",
   "metadata": {},
   "source": [
    "#8) Create a Python class for a computer system using composition to represent components like CPU, RAM and storage devices."
   ]
  },
  {
   "cell_type": "code",
   "execution_count": 5,
   "id": "c8ad1cdd-732b-4baf-b530-fe274ce30599",
   "metadata": {},
   "outputs": [],
   "source": [
    "class CPU:\n",
    "    def __init__(self, brand, speed):\n",
    "        self.brand = brand\n",
    "        self.speed = speed\n",
    "\n",
    "    def process_data(self):\n",
    "        return \"Processing data...\"\n",
    "\n",
    "class RAM:\n",
    "    def __init__(self, capacity):\n",
    "        self.capacity = capacity\n",
    "\n",
    "    def store_data(self):\n",
    "        return \"Storing data in RAM...\"\n",
    "\n",
    "class Storage:\n",
    "    def __init__(self, capacity, type):\n",
    "        self.capacity = capacity\n",
    "        self.type = type\n",
    "\n",
    "    def read_data(self):\n",
    "        return \"Reading data from storage...\"\n",
    "\n",
    "class Computer:\n",
    "    def __init__(self, cpu, ram, storage):\n",
    "        self.cpu = cpu  # Composition: Computer has a CPU\n",
    "        self.ram = ram  # Composition: Computer has RAM\n",
    "        self.storage = storage  # Composition: Computer has a Storage\n",
    "\n",
    "    def execute_program(self):\n",
    "        cpu_result = self.cpu.process_data()\n",
    "        ram_result = self.ram.store_data()\n",
    "        storage_result = self.storage.read_data()\n",
    "        return f\"Executing program: {cpu_result} {ram_result} {storage_result}\"\n"
   ]
  },
  {
   "cell_type": "code",
   "execution_count": 6,
   "id": "148eb4cd-063d-4c1e-b002-1a6317ac6d30",
   "metadata": {},
   "outputs": [],
   "source": [
    "\n",
    "# Creating components\n",
    "my_cpu = CPU(brand=\"Intel\", speed=\"2.4 GHz\")\n",
    "my_ram = RAM(capacity=\"8 GB\")\n",
    "my_storage = Storage(capacity=\"512 GB\", type=\"SSD\")\n"
   ]
  },
  {
   "cell_type": "code",
   "execution_count": 7,
   "id": "d939c13d-5f18-4b9e-b504-460c4aeca738",
   "metadata": {},
   "outputs": [
    {
     "name": "stdout",
     "output_type": "stream",
     "text": [
      "Executing program: Processing data... Storing data in RAM... Reading data from storage...\n"
     ]
    }
   ],
   "source": [
    "\n",
    "# Creating a computer using composition\n",
    "my_computer = Computer(cpu=my_cpu, ram=my_ram, storage=my_storage)\n",
    "\n",
    "# Using the computer\n",
    "print(my_computer.execute_program())\n"
   ]
  },
  {
   "cell_type": "raw",
   "id": "b67e5d7b-2bba-4e05-a595-fa4771955ff7",
   "metadata": {},
   "source": [
    "#9) Describe the concept of delegation in composition and how it simplifies the design of complex systems.\n",
    "\n",
    "Ans. Delegation in composition is a design concept where an object passes the responsibility for a particular task to another object. This is achieved by including an instance of another class as an attribute within the delegating class. Delegation simplifies the design of complex systems by allowing objects to collaborate, share responsibilities, and achieve modularity.\n",
    "\n",
    "Responsibility Transfer:\n",
    "\n",
    "In delegation, an object delegates a specific task or responsibility to another object.\n",
    "The delegating object retains high-level control but relies on another object to perform a particular function.\n",
    "\n",
    "Collaboration and Modularity:\n",
    "\n",
    "Delegation promotes collaboration between objects, allowing them to work together to achieve a common goal.\n",
    "It enhances modularity by breaking down complex systems into smaller, more manageable components.\n",
    "\n",
    "Flexibility and Reusability:\n",
    "\n",
    "Delegation makes the system more flexible as objects can be replaced or extended without affecting the overall structure.\n",
    "It encourages reusability, as objects with specific functionalities can be reused in different contexts."
   ]
  },
  {
   "cell_type": "code",
   "execution_count": 10,
   "id": "296f76b4-8ccf-4362-9622-95f197d865db",
   "metadata": {},
   "outputs": [],
   "source": [
    "\n",
    "#Example\n",
    "\n",
    "class Worker:\n",
    "    def work(self):\n",
    "        return \"Working hard\"\n",
    "\n",
    "class Manager:\n",
    "    def __init__(self, worker):\n",
    "        self.worker = worker  # Delegation: Manager delegates work to a Worker\n",
    "\n",
    "    def delegate_work(self):\n",
    "        return self.worker.work()\n",
    "\n"
   ]
  },
  {
   "cell_type": "code",
   "execution_count": 11,
   "id": "c6371b4a-7248-4498-832f-ddf62d44923e",
   "metadata": {},
   "outputs": [
    {
     "name": "stdout",
     "output_type": "stream",
     "text": [
      "Working hard\n"
     ]
    }
   ],
   "source": [
    "\n",
    "# Creating objects\n",
    "worker = Worker()\n",
    "manager = Manager(worker)\n",
    "\n",
    "# Using delegation to simplify the design\n",
    "result = manager.delegate_work()\n",
    "print(result)"
   ]
  },
  {
   "cell_type": "raw",
   "id": "873e8bb5-5306-403c-9262-2f35b11e825a",
   "metadata": {},
   "source": [
    "#10) Create a Python class for a Car, using composition to represent components like engine, wheels and transmission."
   ]
  },
  {
   "cell_type": "code",
   "execution_count": 12,
   "id": "10d836ce-b4d1-4bd2-99c2-c458d210a627",
   "metadata": {},
   "outputs": [],
   "source": [
    "class Engine:\n",
    "    def start(self):\n",
    "        return \"Engine started\"\n",
    "\n",
    "    def stop(self):\n",
    "        return \"Engine stopped\"\n",
    "\n",
    "class Wheels:\n",
    "    def rotate(self):\n",
    "        return \"Wheels rotating\"\n",
    "\n",
    "class Transmission:\n",
    "    def shift_gear(self):\n",
    "        return \"Gear shifted\"\n",
    "\n",
    "class Car:\n",
    "    def __init__(self, engine, wheels, transmission):\n",
    "        self.engine = engine  # Composition: Car has an Engine\n",
    "        self.wheels = wheels  # Composition: Car has Wheels\n",
    "        self.transmission = transmission  # Composition: Car has a Transmission\n",
    "\n",
    "    def drive(self):\n",
    "        engine_result = self.engine.start()\n",
    "        wheels_result = self.wheels.rotate()\n",
    "        transmission_result = self.transmission.shift_gear()\n",
    "        return f\"Driving: {engine_result} {wheels_result} {transmission_result}\"\n",
    "\n",
    "    def park(self):\n",
    "        engine_result = self.engine.stop()\n",
    "        wheels_result = self.wheels.rotate()\n",
    "        return f\"Parking: {engine_result} {wheels_result}\"\n"
   ]
  },
  {
   "cell_type": "code",
   "execution_count": 13,
   "id": "900ef036-ae3d-45ce-9f38-8be0ecae3d54",
   "metadata": {},
   "outputs": [
    {
     "name": "stdout",
     "output_type": "stream",
     "text": [
      "Driving: Engine started Wheels rotating Gear shifted\n",
      "Parking: Engine stopped Wheels rotating\n"
     ]
    }
   ],
   "source": [
    "\n",
    "# Creating components\n",
    "car_engine = Engine()\n",
    "car_wheels = Wheels()\n",
    "car_transmission = Transmission()\n",
    "\n",
    "# Creating a car using composition\n",
    "my_car = Car(engine=car_engine, wheels=car_wheels, transmission=car_transmission)\n",
    "\n",
    "# Using the car\n",
    "print(my_car.drive())\n",
    "print(my_car.park())\n"
   ]
  },
  {
   "cell_type": "raw",
   "id": "7e4c1ba3-67ab-4d6e-930b-1115e27d5e7f",
   "metadata": {},
   "source": [
    "#11) How can you encapsulate and hide the details of composed objects in Python classes to maintain abstraction ?"
   ]
  },
  {
   "cell_type": "raw",
   "id": "f3a80dea-00a1-45cc-92ff-8ddcef43f47c",
   "metadata": {},
   "source": [
    "To encapsulate and hide the details of composed objects in Python classes, you can follow the principles of encapsulation and information hiding. Here are some techniques:\n",
    "\n",
    "Private Attributes:\n",
    "\n",
    "Use private attributes (prefixed with a double underscore __) for the composed objects to make them private to the class.\n",
    "This restricts direct access to these attributes from outside the class."
   ]
  },
  {
   "cell_type": "code",
   "execution_count": 14,
   "id": "3dc64403-2264-4391-ae79-26056f69a395",
   "metadata": {},
   "outputs": [],
   "source": [
    "class Car:\n",
    "    def __init__(self, engine, wheels, transmission):\n",
    "        self.__engine = engine\n",
    "        self.__wheels = wheels\n",
    "        self.__transmission = transmission\n",
    "\n",
    "    # ... other methods ...\n"
   ]
  },
  {
   "cell_type": "raw",
   "id": "8ab013eb-d120-465e-8001-54efe448d3c4",
   "metadata": {},
   "source": [
    "Getter Methods:\n",
    "\n",
    "Provide getter methods to access the details of composed objects selectively.\n",
    "These methods can enforce certain conditions or computations before returning the information."
   ]
  },
  {
   "cell_type": "code",
   "execution_count": 15,
   "id": "50e2eab9-f0aa-46e6-bd12-1a9e2020c68f",
   "metadata": {},
   "outputs": [],
   "source": [
    "class Car:\n",
    "    # ... (previous code) ...\n",
    "\n",
    "    def get_engine_details(self):\n",
    "        # Additional logic if needed\n",
    "        return self.__engine.get_details()\n",
    "\n",
    "    # ... other getter methods ...\n"
   ]
  },
  {
   "cell_type": "raw",
   "id": "e84ca114-e34d-4720-9049-12c7a3595344",
   "metadata": {},
   "source": [
    "Information Hiding:\n",
    "\n",
    "Hide unnecessary details and expose only essential functionalities through public methods.\n",
    "Keep the internal workings of the composed objects private to the class."
   ]
  },
  {
   "cell_type": "code",
   "execution_count": 16,
   "id": "9ec2f30c-b45d-43e5-9c86-a233d6d9880d",
   "metadata": {},
   "outputs": [],
   "source": [
    "class Engine:\n",
    "    def get_details(self):\n",
    "        # Details of the engine\n",
    "        return \"Engine details\"\n"
   ]
  },
  {
   "cell_type": "raw",
   "id": "ca946594-276c-475c-ab77-3c6386c7ad91",
   "metadata": {},
   "source": [
    "Consistent Naming Conventions:\n",
    "\n",
    "Adhere to naming conventions that indicate the privacy level of attributes.\n",
    "Although a convention and not enforced, it signals to other developers that certain attributes are considered private."
   ]
  },
  {
   "cell_type": "code",
   "execution_count": 17,
   "id": "51a24c24-b5dc-49d4-8928-726402129397",
   "metadata": {},
   "outputs": [],
   "source": [
    "class Car:\n",
    "    def __init__(self, engine, wheels, transmission):\n",
    "        self._engine = engine  # Protected attribute\n",
    "        self.__transmission = transmission  # Private attribute\n"
   ]
  },
  {
   "cell_type": "raw",
   "id": "b853abfd-df8c-4ef2-9a00-8cffc1da6b0e",
   "metadata": {},
   "source": [
    "#12) Create a Python class for a university course, using composition to represent students, instructors and course materials."
   ]
  },
  {
   "cell_type": "code",
   "execution_count": 18,
   "id": "c4b56f5d-d64f-4a8e-a8eb-0e7713156ca2",
   "metadata": {},
   "outputs": [],
   "source": [
    "class Student:\n",
    "    def __init__(self, student_id, name):\n",
    "        self.student_id = student_id\n",
    "        self.name = name\n",
    "\n",
    "    def enroll(self, course):\n",
    "        return f\"{self.name} enrolled in {course}\"\n",
    "\n",
    "class Instructor:\n",
    "    def __init__(self, instructor_id, name):\n",
    "        self.instructor_id = instructor_id\n",
    "        self.name = name\n",
    "\n",
    "    def teach(self, course):\n",
    "        return f\"{self.name} is teaching {course}\"\n",
    "\n",
    "class CourseMaterial:\n",
    "    def __init__(self, material_name):\n",
    "        self.material_name = material_name\n",
    "\n",
    "class UniversityCourse:\n",
    "    def __init__(self, course_code, course_name, instructor, students=None, materials=None):\n",
    "        self.course_code = course_code\n",
    "        self.course_name = course_name\n",
    "        self.instructor = instructor\n",
    "        self.students = students or []\n",
    "        self.materials = materials or []\n",
    "\n",
    "    def add_student(self, student):\n",
    "        self.students.append(student)\n",
    "        return f\"{student.name} added to {self.course_name}\"\n",
    "\n",
    "    def add_material(self, material):\n",
    "        self.materials.append(material)\n",
    "        return f\"{material.material_name} added to {self.course_name}\"\n",
    "\n",
    "    def get_course_info(self):\n",
    "        info = f\"Course: {self.course_code} - {self.course_name}\\n\"\n",
    "        info += f\"Instructor: {self.instructor.name}\\n\"\n",
    "        info += \"Students:\\n\"\n",
    "        for student in self.students:\n",
    "            info += f\"- {student.name}\\n\"\n",
    "        info += \"Materials:\\n\"\n",
    "        for material in self.materials:\n",
    "            info += f\"- {material.material_name}\\n\"\n",
    "        return info\n",
    "\n"
   ]
  },
  {
   "cell_type": "code",
   "execution_count": 19,
   "id": "a5e724b5-8256-4fe6-bfb4-061fee8f63fc",
   "metadata": {},
   "outputs": [],
   "source": [
    "#Creating objects\n",
    "student1 = Student(student_id=1, name=\"Alice\")\n",
    "student2 = Student(student_id=2, name=\"Bob\")\n",
    "\n",
    "instructor = Instructor(instructor_id=101, name=\"Dr. Smith\")\n",
    "\n",
    "material1 = CourseMaterial(material_name=\"Textbook\")\n",
    "material2 = CourseMaterial(material_name=\"Lecture Slides\")\n",
    "\n",
    "# Creating a university course using composition\n",
    "python_course = UniversityCourse(\n",
    "    course_code=\"CS101\",\n",
    "    course_name=\"Introduction to Python\",\n",
    "    instructor=instructor,\n",
    "    students=[student1, student2],\n",
    "    materials=[material1, material2]\n",
    ")\n"
   ]
  },
  {
   "cell_type": "code",
   "execution_count": 20,
   "id": "e15ebe78-514d-46af-8871-a855f686745b",
   "metadata": {},
   "outputs": [
    {
     "name": "stdout",
     "output_type": "stream",
     "text": [
      "Course: CS101 - Introduction to Python\n",
      "Instructor: Dr. Smith\n",
      "Students:\n",
      "- Alice\n",
      "- Bob\n",
      "- Charlie\n",
      "Materials:\n",
      "- Textbook\n",
      "- Lecture Slides\n",
      "- Lab Assignments\n",
      "\n"
     ]
    }
   ],
   "source": [
    "# Modifying the course by adding another student and material\n",
    "student3 = Student(student_id=3, name=\"Charlie\")\n",
    "material3 = CourseMaterial(material_name=\"Lab Assignments\")\n",
    "\n",
    "python_course.add_student(student3)\n",
    "python_course.add_material(material3)\n",
    "\n",
    "# Displaying course information\n",
    "print(python_course.get_course_info())"
   ]
  },
  {
   "cell_type": "raw",
   "id": "17629029-b845-4c73-be0e-4046eeb795b5",
   "metadata": {},
   "source": [
    "#13) Discuss the challenges and drawbacks of composition to represent students, instructors and course materials.\n",
    "\n",
    "Ans. While composition is a powerful concept in object-oriented programming, it comes with its challenges and potential drawbacks. Here are some considerations:\n",
    "\n",
    "Complexity and Boilerplate Code:\n",
    "\n",
    "As the number of classes and their interactions increases, managing the relationships between them can lead to complex and verbose code.\n",
    "Handling various components and their interactions may result in boilerplate code that makes the system harder to understand and maintain.\n",
    "\n",
    "\n",
    "Tight Coupling:\n",
    "\n",
    "Composition can lead to tight coupling between classes, especially if one class relies heavily on the implementation details of another.\n",
    "Changes to one class may have a ripple effect on other classes, increasing the risk of unintended consequences.\n",
    "\n",
    "\n",
    "Potential for Redundancy:\n",
    "\n",
    "In some cases, there might be a need to duplicate similar functionality across multiple classes, leading to redundancy and making the codebase less maintainable.\n",
    "For example, if multiple classes have similar methods, it may be challenging to ensure consistency.\n",
    "\n",
    "\n",
    "Runtime Performance Overhead:\n",
    "\n",
    "Depending on the implementation, using composition may introduce runtime performance overhead, especially if there are deep hierarchies of composed objects.\n",
    "Each level of composition may involve additional method calls and memory allocations.\n",
    "\n",
    "\n",
    "Limited Code Reusability:\n",
    "\n",
    "While composition promotes code reuse, it may not be as effective as inheritance in some scenarios.\n",
    "Reusing behavior often requires creating wrapper methods or forwarding calls, which can be cumbersome.\n"
   ]
  },
  {
   "cell_type": "raw",
   "id": "0cca36c5-6730-409f-bad8-95b6810b6cd0",
   "metadata": {},
   "source": [
    "#14) Create a Python class hierarchy for a restaurant system using composition to represent students, instructors and course materials."
   ]
  },
  {
   "cell_type": "code",
   "execution_count": 21,
   "id": "169b66aa-f059-46f0-9fc8-6868ca5438f7",
   "metadata": {},
   "outputs": [],
   "source": [
    "class Chef:\n",
    "    def __init__(self, chef_id, name):\n",
    "        self.chef_id = chef_id\n",
    "        self.name = name\n",
    "\n",
    "    def cook(self, dish):\n",
    "        return f\"{self.name} is cooking {dish}\"\n",
    "\n",
    "class Waiter:\n",
    "    def __init__(self, waiter_id, name):\n",
    "        self.waiter_id = waiter_id\n",
    "        self.name = name\n",
    "\n",
    "    def serve(self, dish):\n",
    "        return f\"{self.name} is serving {dish}\"\n",
    "\n",
    "class Dish:\n",
    "    def __init__(self, dish_name, price):\n",
    "        self.dish_name = dish_name\n",
    "        self.price = price\n",
    "\n",
    "class Restaurant:\n",
    "    def __init__(self, chef, waiters=None, menu=None):\n",
    "        self.chef = chef\n",
    "        self.waiters = waiters or []\n",
    "        self.menu = menu or []\n",
    "\n",
    "    def hire_waiter(self, waiter):\n",
    "        self.waiters.append(waiter)\n",
    "        return f\"{waiter.name} hired for the restaurant\"\n",
    "\n",
    "    def add_dish_to_menu(self, dish):\n",
    "        self.menu.append(dish)\n",
    "        return f\"{dish.dish_name} added to the menu\"\n",
    "\n",
    "    def get_menu(self):\n",
    "        menu_list = [f\"{dish.dish_name} - ${dish.price}\" for dish in self.menu]\n",
    "        return \"\\n\".join(menu_list)\n",
    "\n"
   ]
  },
  {
   "cell_type": "code",
   "execution_count": 22,
   "id": "f80f705f-cd7a-49ab-8af4-a49cdf84e28c",
   "metadata": {},
   "outputs": [],
   "source": [
    "# Creating objects\n",
    "chef = Chef(chef_id=1, name=\"Chef Gordon\")\n",
    "waiter1 = Waiter(waiter_id=101, name=\"Alice\")\n",
    "waiter2 = Waiter(waiter_id=102, name=\"Bob\")\n",
    "\n",
    "dish1 = Dish(dish_name=\"Spaghetti Bolognese\", price=15.99)\n",
    "dish2 = Dish(dish_name=\"Margherita Pizza\", price=12.99)\n",
    "dish3 = Dish(dish_name=\"Chocolate Cake\", price=7.99)\n"
   ]
  },
  {
   "cell_type": "code",
   "execution_count": 23,
   "id": "c2baada9-c853-4cfc-888e-69f0e2e259b2",
   "metadata": {},
   "outputs": [
    {
     "name": "stdout",
     "output_type": "stream",
     "text": [
      "Menu:\n",
      "Spaghetti Bolognese - $15.99\n",
      "Margherita Pizza - $12.99\n",
      "Chocolate Cake - $7.99\n",
      "Caesar Salad - $9.99\n",
      "Chef Gordon is cooking Spaghetti Bolognese\n",
      "Alice is serving Spaghetti Bolognese\n"
     ]
    }
   ],
   "source": [
    "# Creating a restaurant using composition\n",
    "restaurant = Restaurant(chef=chef, waiters=[waiter1, waiter2], menu=[dish1, dish2, dish3])\n",
    "\n",
    "# Modifying the restaurant by hiring another waiter and adding a new dish to the menu\n",
    "waiter3 = Waiter(waiter_id=103, name=\"Charlie\")\n",
    "dish4 = Dish(dish_name=\"Caesar Salad\", price=9.99)\n",
    "\n",
    "restaurant.hire_waiter(waiter3)\n",
    "restaurant.add_dish_to_menu(dish4)\n",
    "\n",
    "# Displaying the menu\n",
    "print(\"Menu:\")\n",
    "print(restaurant.get_menu())\n",
    "\n",
    "# Performing actions in the restaurant\n",
    "print(chef.cook(dish1.dish_name))\n",
    "print(waiter1.serve(dish1.dish_name))\n"
   ]
  },
  {
   "cell_type": "raw",
   "id": "e38edc2e-501b-4212-bb14-1c023e7299f1",
   "metadata": {},
   "source": [
    "#15) Explain how composition enhances code maintainability and modularity in Python programs.\n",
    "\n",
    "Ans. Composition enhances code maintainability and modularity in Python programs by promoting a design approach where complex systems are built as combinations of smaller, independent, and reusable components. Here's how composition contributes to these aspects:\n",
    "\n",
    "Separation of Concerns:\n",
    "\n",
    "Composition allows you to separate different concerns into distinct classes. Each class is responsible for a specific aspect of functionality, making the codebase more organized and modular.\n",
    "\n",
    "Code Reusability:\n",
    "\n",
    "With composition, you can reuse existing classes in various contexts. Components can be developed independently, and their reuse in different parts of the application reduces redundancy and promotes a DRY (Don't Repeat Yourself) codebase.\n",
    "\n",
    "Flexibility and Adaptability:\n",
    "\n",
    "Composition provides flexibility in modifying and extending the functionality of a system. New features can be added by introducing new components or modifying existing ones without affecting the entire codebase.\n",
    "\n",
    "Ease of Maintenance:\n",
    "\n",
    "When a change is required, you can focus on the specific component that needs modification, rather than navigating through a monolithic codebase. This simplifies debugging, testing, and overall maintenance efforts.\n",
    "\n",
    "Encapsulation of Complexity:\n",
    "\n",
    "Each component encapsulates its own complexity, and the details of its implementation are hidden from the rest of the system. This encapsulation makes it easier to reason about the behavior of individual components."
   ]
  },
  {
   "cell_type": "raw",
   "id": "15cbc98a-fc6c-4e96-8ebf-8e85eb42e1f8",
   "metadata": {},
   "source": [
    "#16) Create a Python class for a restaurant system, using composition to represent menus, dishes and ingredient."
   ]
  },
  {
   "cell_type": "code",
   "execution_count": 24,
   "id": "11ccc348-dd1d-44b1-895a-cc56abc7c25b",
   "metadata": {},
   "outputs": [],
   "source": [
    "class Ingredient:\n",
    "    def __init__(self, name):\n",
    "        self.name = name\n",
    "\n",
    "class Dish:\n",
    "    def __init__(self, name, ingredients, price):\n",
    "        self.name = name\n",
    "        self.ingredients = ingredients\n",
    "        self.price = price\n",
    "\n",
    "    def display(self):\n",
    "        ingredient_list = ', '.join(ingredient.name for ingredient in self.ingredients)\n",
    "        return f\"{self.name} - Ingredients: {ingredient_list} - Price: ${self.price:.2f}\"\n",
    "\n",
    "class Menu:\n",
    "    def __init__(self, name, dishes):\n",
    "        self.name = name\n",
    "        self.dishes = dishes\n",
    "\n",
    "    def add_dish(self, dish):\n",
    "        self.dishes.append(dish)\n",
    "\n",
    "    def display_menu(self):\n",
    "        return [dish.display() for dish in self.dishes]\n",
    "\n",
    "class Restaurant:\n",
    "    def __init__(self, name, menus):\n",
    "        self.name = name\n",
    "        self.menus = menus\n",
    "\n",
    "    def add_menu(self, menu):\n",
    "        self.menus.append(menu)\n",
    "\n",
    "    def display_restaurant_menu(self):\n",
    "        restaurant_menu = []\n",
    "        for menu in self.menus:\n",
    "            menu_header = f\"Menu: {menu.name}\"\n",
    "            menu_dishes = menu.display_menu()\n",
    "            restaurant_menu.extend([menu_header] + menu_dishes + [''])\n",
    "        return '\\n'.join(restaurant_menu)\n",
    "\n"
   ]
  },
  {
   "cell_type": "code",
   "execution_count": 25,
   "id": "4f6dc821-409c-4945-b75f-18e03f07e4e8",
   "metadata": {},
   "outputs": [
    {
     "name": "stdout",
     "output_type": "stream",
     "text": [
      "Menu: Lunch Menu\n",
      "Spaghetti Bolognese - Ingredients: Pasta, Tomato, Cheese - Price: $15.99\n",
      "Caesar Salad - Ingredients: Lettuce, Chicken, Cheese - Price: $12.99\n",
      "\n",
      "Menu: Dinner Menu\n",
      "Spaghetti Bolognese - Ingredients: Pasta, Tomato, Cheese - Price: $15.99\n",
      "Caesar Salad - Ingredients: Lettuce, Chicken, Cheese - Price: $12.99\n",
      "Margherita Pizza - Ingredients: Tomato, Cheese - Price: $10.99\n",
      "\n"
     ]
    }
   ],
   "source": [
    "# Creating ingredients\n",
    "tomato = Ingredient(\"Tomato\")\n",
    "cheese = Ingredient(\"Cheese\")\n",
    "pasta = Ingredient(\"Pasta\")\n",
    "lettuce = Ingredient(\"Lettuce\")\n",
    "chicken = Ingredient(\"Chicken\")\n",
    "\n",
    "# Creating dishes\n",
    "spaghetti = Dish(\"Spaghetti Bolognese\", [pasta, tomato, cheese], 15.99)\n",
    "caesar_salad = Dish(\"Caesar Salad\", [lettuce, chicken, cheese], 12.99)\n",
    "margherita_pizza = Dish(\"Margherita Pizza\", [tomato, cheese], 10.99)\n",
    "\n",
    "# Creating menus\n",
    "lunch_menu = Menu(\"Lunch Menu\", [spaghetti, caesar_salad])\n",
    "dinner_menu = Menu(\"Dinner Menu\", [spaghetti, caesar_salad, margherita_pizza])\n",
    "\n",
    "# Creating a restaurant using composition\n",
    "my_restaurant = Restaurant(\"Delicious Bites\", [lunch_menu, dinner_menu])\n",
    "\n",
    "# Displaying the restaurant menu\n",
    "print(my_restaurant.display_restaurant_menu())\n"
   ]
  },
  {
   "cell_type": "raw",
   "id": "307c7910-0f3e-48cd-8e0e-ab2101948601",
   "metadata": {},
   "source": [
    "#15) Explain how composition enhances code maintainability and modularity in Python program.\n",
    "\n",
    "Ans. Composition enhances code maintainability and modularity in Python programs through the following mechanisms:\n",
    "\n",
    "Separation of Concerns:\n",
    "\n",
    "Composition encourages breaking down complex systems into smaller, independent, and logically separated components. Each component is responsible for a specific aspect of functionality, leading to a more modular and organized codebase.\n",
    "Code Reusability:\n",
    "\n",
    "Components created through composition can be reused in different parts of the application. This promotes a DRY (Don't Repeat Yourself) approach, reduc"
   ]
  },
  {
   "cell_type": "raw",
   "id": "b3b9c12a-6b12-4b78-875e-c6816dc140e7",
   "metadata": {},
   "source": [
    "#16) Create a Python class for a computer game character, using composition to represent attributes like weapons, armor and inventory."
   ]
  },
  {
   "cell_type": "code",
   "execution_count": 41,
   "id": "a1200186-26be-42db-8f63-e60f683e364a",
   "metadata": {},
   "outputs": [],
   "source": [
    "class Weapon:\n",
    "    \n",
    "    def __init__(self,weapon_name,damage):\n",
    "        self.weapon_name = weapon_name\n",
    "        self.damage = damage\n",
    "        \n",
    "    def display_weapon(self):\n",
    "        return f\"Weapon: {self.weapon_name}, Damage effect: {self.damage}%\"\n",
    "        \n",
    "class Armor:\n",
    "    \n",
    "    def __init__(self,armor_name,defense):\n",
    "        self.armor_name = armor_name\n",
    "        self.defense = defense\n",
    "        \n",
    "    def display_armor(self):\n",
    "        return f\"Armor: {self.armor_name}, Defense effect: {self.defense}%\"\n",
    "    \n",
    "class Inventory:\n",
    "    \n",
    "    def __init__(self):\n",
    "        self.items = []\n",
    "\n",
    "    def add_item(self, item):\n",
    "        self.items.append(item)\n",
    "\n",
    "    def display_inventory(self):\n",
    "        items = [item for item in self.items]\n",
    "        return f\"items_added: {', '.join(i for i in items)}\"\n",
    "\n",
    "class Game_char:\n",
    "    \n",
    "    def __init__(self,name,weapon_name,armor_name,inventory_items):\n",
    "        self.name = name\n",
    "        self.weapon_name = weapon_name\n",
    "        self.armor_name = armor_name\n",
    "        self.inventory_items = inventory_items\n",
    "        \n",
    "    def char_display(self):\n",
    "        return f\"Slasher_name: {self.name}, {self.weapon_name.display_weapon()}, {self.armor_name.display_armor()}, {self.inventory_items.display_inventory()}\"\n",
    "        \n",
    "\n"
   ]
  },
  {
   "cell_type": "code",
   "execution_count": 42,
   "id": "85070d56-92ca-4251-9191-f47e278da8b8",
   "metadata": {},
   "outputs": [],
   "source": [
    "weapon = Weapon(\"Slither-slash\",90)\n",
    "armor = Armor(\"Hard-scale\",94)\n",
    "inventory = Inventory()\n",
    "inventory.add_item(\"Sleep-charm\")\n",
    "inventory.add_item(\"Feisty-cardigan\")\n",
    "inventory.add_item(\"Smelly-hat\")"
   ]
  },
  {
   "cell_type": "code",
   "execution_count": 43,
   "id": "42284153-a947-4464-b450-6208acaa9240",
   "metadata": {},
   "outputs": [],
   "source": [
    "char = Game_char(\"Swift-n-Slimy\",weapon,armor,inventory)"
   ]
  },
  {
   "cell_type": "code",
   "execution_count": 44,
   "id": "b700175b-0fb0-4c3d-bd1f-8c4117ec8021",
   "metadata": {},
   "outputs": [
    {
     "data": {
      "text/plain": [
       "'Slasher_name: Swift-n-Slimy, Weapon: Slither-slash, Damage effect: 90%, Armor: Hard-scale, Defense effect: 94%, items_added: Sleep-charm, Feisty-cardigan, Smelly-hat'"
      ]
     },
     "execution_count": 44,
     "metadata": {},
     "output_type": "execute_result"
    }
   ],
   "source": [
    "char.char_display()"
   ]
  },
  {
   "cell_type": "raw",
   "id": "da694e67-ad34-45b8-aaa1-ea22ae07aee8",
   "metadata": {},
   "source": [
    "#17) Describe the concept of \"aggregation\" in composition and how to differs from simple composition. \n",
    "\n",
    "Ans. In object-oriented programming, aggregation is a form of composition where one class, often referred to as the \"whole\" or \"container,\" contains references to instances of another class, known as the \"part\" or \"component.\" Aggregation represents a \"has-a\" relationship, indicating that the container class has access to the components, but the components can exist independently of the container.\n",
    "\n",
    "Key Characteristics of Aggregation:\n",
    "\n",
    "Independent Existence:\n",
    "\n",
    "The components in aggregation have an independent existence, meaning they can exist outside the scope of the container class. They are not exclusively owned by the container.\n",
    "\n",
    "Multiplicity:\n",
    "\n",
    "Aggregation allows for a multiplicity relationship, indicating that a container class can be associated with multiple instances of the component class. This reflects a one-to-many or many-to-many relationship.\n",
    "\n",
    "Flexibility:\n",
    "\n",
    "Aggregation provides flexibility, allowing components to be shared among multiple containers. This flexibility distinguishes it from a stricter form of composition, where components are owned exclusively by a single container.\n",
    "\n",
    "\n",
    "Difference from Simple Composition:\n",
    "\n",
    "The main difference lies in the ownership and independence of the components. Aggregation implies a weaker form of ownership, allowing components to exist independently and be shared among multiple containers. Simple composition, on the other hand, typically involves a stronger ownership, where components are exclusively owned by a single container."
   ]
  },
  {
   "cell_type": "raw",
   "id": "e4047e25-37ef-477d-8353-1b1b0b9019f6",
   "metadata": {},
   "source": [
    "#18) Create a Python class for a house using composition to represent room, furniture and appliances."
   ]
  },
  {
   "cell_type": "code",
   "execution_count": 45,
   "id": "a5c518e8-bd07-4a16-9546-917cd7ee96e9",
   "metadata": {},
   "outputs": [],
   "source": [
    "class Furniture:\n",
    "    def __init__(self, name):\n",
    "        self.name = name\n",
    "\n",
    "    def display(self):\n",
    "        return f\"Furniture: {self.name}\"\n",
    "\n",
    "class Appliance:\n",
    "    def __init__(self, name):\n",
    "        self.name = name\n",
    "\n",
    "    def display(self):\n",
    "        return f\"Appliance: {self.name}\"\n",
    "\n",
    "class Room:\n",
    "    def __init__(self, name):\n",
    "        self.name = name\n",
    "        self.furniture = []\n",
    "        self.appliances = []\n",
    "\n",
    "    def add_furniture(self, furniture):\n",
    "        self.furniture.append(furniture)\n",
    "\n",
    "    def add_appliance(self, appliance):\n",
    "        self.appliances.append(appliance)\n",
    "\n",
    "    def display_contents(self):\n",
    "        contents = [f\"Room: {self.name}\"]\n",
    "        contents.extend([furniture.display() for furniture in self.furniture])\n",
    "        contents.extend([appliance.display() for appliance in self.appliances])\n",
    "        return contents\n",
    "\n",
    "class House:\n",
    "    def __init__(self, name):\n",
    "        self.name = name\n",
    "        self.rooms = []\n",
    "\n",
    "    def add_room(self, room):\n",
    "        self.rooms.append(room)\n",
    "\n",
    "    def display_house_contents(self):\n",
    "        contents = [f\"House: {self.name}\"]\n",
    "        for room in self.rooms:\n",
    "            contents.extend(room.display_contents())\n",
    "        return contents\n",
    "\n"
   ]
  },
  {
   "cell_type": "code",
   "execution_count": 47,
   "id": "379f5c38-8d97-4d18-953c-fd10b182a7b6",
   "metadata": {},
   "outputs": [],
   "source": [
    "# Creating instances using composition\n",
    "living_room = Room(\"Living Room\")\n",
    "sofa = Furniture(\"Sofa\")\n",
    "tv = Appliance(\"TV\")\n",
    "living_room.add_furniture(sofa)\n",
    "living_room.add_appliance(tv)\n",
    "\n",
    "kitchen = Room(\"Kitchen\")\n",
    "table = Furniture(\"Dining Table\")\n",
    "oven = Appliance(\"Oven\")\n",
    "kitchen.add_furniture(table)\n",
    "kitchen.add_appliance(oven)\n",
    "\n",
    "my_house = House(\"My House\")\n",
    "my_house.add_room(living_room)\n",
    "my_house.add_room(kitchen)\n",
    "\n"
   ]
  },
  {
   "cell_type": "code",
   "execution_count": 48,
   "id": "6c1d5d41-bbf8-4e70-b45b-cc41af46f18b",
   "metadata": {},
   "outputs": [
    {
     "name": "stdout",
     "output_type": "stream",
     "text": [
      "House: My House\n",
      "Room: Living Room\n",
      "Furniture: Sofa\n",
      "Appliance: TV\n",
      "Room: Kitchen\n",
      "Furniture: Dining Table\n",
      "Appliance: Oven\n"
     ]
    }
   ],
   "source": [
    "# Displaying house contents\n",
    "house_contents = my_house.display_house_contents()\n",
    "for content in house_contents:\n",
    "    print(content)\n"
   ]
  },
  {
   "cell_type": "raw",
   "id": "7c6ecb32-5b60-430e-af9c-a0cc3cbc8721",
   "metadata": {},
   "source": [
    "#19) How can you achieve flexibility in composed objects by allowing them to be replaced and modified dynamically during runtime.\n",
    "\n",
    "Ans. Achieving flexibility in composed objects by allowing them to be replaced and modified dynamically during runtime can be accomplished through a combination of design patterns and programming techniques. Here are some approaches:\n",
    "\n",
    "Use of Interfaces/Abstract Classes:\n",
    "\n",
    "Define interfaces or abstract classes that represent the expected behavior of components.\n",
    "Allow dynamic substitution of components that adhere to these interfaces or extend these abstract classes.\n",
    "This enables replacing components with others that have the same interface or extend the same abstract class.\n",
    "\n",
    "Dependency Injection:\n",
    "\n",
    "Inject dependencies (components) into a class rather than hard-coding them.\n",
    "Use dependency injection frameworks or manually pass dependencies during object instantiation.\n",
    "This allows components to be easily replaced or modified without altering the class's code.\n",
    "\n",
    "Factory Method Pattern:\n",
    "\n",
    "Implement a factory method pattern to create instances of components dynamically.\n",
    "The factory method can determine which components to instantiate based on certain conditions.\n",
    "This enables the dynamic creation and replacement of components.\n",
    "\n",
    "Service Locator Pattern:\n",
    "\n",
    "Use a service locator pattern to centralize the creation and lookup of services (components).\n",
    "Components can be registered and replaced in the service locator at runtime.\n",
    "This provides a flexible way to manage and switch out components.\n",
    "\n",
    "Decorator Pattern:\n",
    "\n",
    "Apply the decorator pattern to dynamically extend or modify the behavior of objects.\n",
    "Decorators can be added or removed at runtime, allowing for dynamic composition of behaviors."
   ]
  },
  {
   "cell_type": "code",
   "execution_count": 49,
   "id": "d9327d09-199a-4ef7-ad54-4a66b8ff76dd",
   "metadata": {},
   "outputs": [],
   "source": [
    "#Example\n",
    "\n",
    "class Engine:\n",
    "    def start(self):\n",
    "        return \"Engine started\"\n",
    "\n",
    "class Car:\n",
    "    def __init__(self, engine):\n",
    "        self.engine = engine\n",
    "\n",
    "    def start(self):\n",
    "        return f\"Car started. {self.engine.start()}\"\n",
    "\n"
   ]
  },
  {
   "cell_type": "code",
   "execution_count": 50,
   "id": "cba39571-614d-4ce5-9721-4714af6ce5dd",
   "metadata": {},
   "outputs": [],
   "source": [
    "# Creating instances\n",
    "standard_engine = Engine()\n",
    "performance_engine = Engine()\n",
    "\n",
    "standard_car = Car(standard_engine)\n",
    "performance_car = Car(performance_engine)\n"
   ]
  },
  {
   "cell_type": "code",
   "execution_count": 51,
   "id": "16e901bf-67d1-42ba-bff3-129a97eae6b3",
   "metadata": {},
   "outputs": [
    {
     "name": "stdout",
     "output_type": "stream",
     "text": [
      "Car started. Engine started\n",
      "Car started. Engine started\n"
     ]
    }
   ],
   "source": [
    "# Dynamically switching engines\n",
    "result_standard = standard_car.start()\n",
    "result_performance = performance_car.start()\n",
    "\n",
    "print(result_standard)  # Output: Car started. Engine started\n",
    "print(result_performance)  # Output: Car started. Engine started"
   ]
  },
  {
   "cell_type": "raw",
   "id": "89ef5b7a-f585-4cbb-a2ba-457d55a26231",
   "metadata": {},
   "source": [
    "#20) Create a Python class for a social media application , using compositions to represent users, posts and comments.\n"
   ]
  },
  {
   "cell_type": "code",
   "execution_count": 52,
   "id": "25665b2b-9014-48c4-8c18-bfbf58c9ff3d",
   "metadata": {},
   "outputs": [],
   "source": [
    "class User:\n",
    "    def __init__(self, username, bio):\n",
    "        self.username = username\n",
    "        self.bio = bio\n",
    "        self.posts = []\n",
    "        self.friends = set()\n",
    "\n",
    "    def add_post(self, post):\n",
    "        self.posts.append(post)\n",
    "\n",
    "    def add_friend(self, friend):\n",
    "        self.friends.add(friend)\n",
    "\n",
    "    def display_user_info(self):\n",
    "        info = [f\"Username: {self.username}\", f\"Bio: {self.bio}\"]\n",
    "        if self.posts:\n",
    "            info.append(\"Posts:\")\n",
    "            info.extend([f\"  {post}\" for post in self.posts])\n",
    "        if self.friends:\n",
    "            info.append(\"Friends:\")\n",
    "            info.extend([f\"  {friend.username}\" for friend in self.friends])\n",
    "        return \"\\n\".join(info)\n",
    "\n",
    "class Post:\n",
    "    def __init__(self, content, likes=0):\n",
    "        self.content = content\n",
    "        self.likes = likes\n",
    "        self.comments = []\n",
    "\n",
    "    def add_comment(self, comment):\n",
    "        self.comments.append(comment)\n",
    "\n",
    "    def __str__(self):\n",
    "        return f\"Content: {self.content}\\nLikes: {self.likes}\\nComments: {len(self.comments)}\"\n",
    "\n",
    "class Comment:\n",
    "    def __init__(self, text):\n",
    "        self.text = text\n",
    "\n",
    "    def __str__(self):\n",
    "        return f\"Comment: {self.text}\"\n",
    "\n"
   ]
  },
  {
   "cell_type": "code",
   "execution_count": 53,
   "id": "83e8d178-ce3a-49ff-b80d-61156278759c",
   "metadata": {},
   "outputs": [],
   "source": [
    "# Creating instances using composition\n",
    "user1 = User(\"Alice\", \"Coder and explorer\")\n",
    "user2 = User(\"Bob\", \"Photographer and traveler\")\n",
    "\n",
    "post1 = Post(\"Enjoying the coding journey!\")\n",
    "comment1 = Comment(\"Great post!\")\n",
    "post1.add_comment(comment1)\n",
    "\n",
    "post2 = Post(\"Exploring new places!\")\n",
    "comment2 = Comment(\"Amazing photo!\")\n",
    "post2.add_comment(comment2)\n",
    "\n"
   ]
  },
  {
   "cell_type": "code",
   "execution_count": 54,
   "id": "a89b899f-d1b3-4404-a74b-d03e7291ca8a",
   "metadata": {},
   "outputs": [
    {
     "name": "stdout",
     "output_type": "stream",
     "text": [
      "Username: Alice\n",
      "Bio: Coder and explorer\n",
      "Posts:\n",
      "  Content: Enjoying the coding journey!\n",
      "Likes: 0\n",
      "Comments: 1\n",
      "Friends:\n",
      "  Bob\n",
      "\n",
      "==============================\n",
      "\n",
      "Username: Bob\n",
      "Bio: Photographer and traveler\n",
      "Posts:\n",
      "  Content: Exploring new places!\n",
      "Likes: 0\n",
      "Comments: 1\n"
     ]
    }
   ],
   "source": [
    "\n",
    "user1.add_post(post1)\n",
    "user1.add_friend(user2)\n",
    "user2.add_post(post2)\n",
    "\n",
    "# Displaying user information\n",
    "print(user1.display_user_info())\n",
    "print(\"\\n\" + \"=\"*30 + \"\\n\")\n",
    "print(user2.display_user_info())"
   ]
  },
  {
   "cell_type": "code",
   "execution_count": null,
   "id": "72c72781-26e7-4a70-843a-f6f9b324e8c8",
   "metadata": {},
   "outputs": [],
   "source": []
  }
 ],
 "metadata": {
  "kernelspec": {
   "display_name": "Python 3 (ipykernel)",
   "language": "python",
   "name": "python3"
  },
  "language_info": {
   "codemirror_mode": {
    "name": "ipython",
    "version": 3
   },
   "file_extension": ".py",
   "mimetype": "text/x-python",
   "name": "python",
   "nbconvert_exporter": "python",
   "pygments_lexer": "ipython3",
   "version": "3.10.8"
  }
 },
 "nbformat": 4,
 "nbformat_minor": 5
}
